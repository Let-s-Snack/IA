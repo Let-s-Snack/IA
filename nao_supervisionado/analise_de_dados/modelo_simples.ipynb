{
 "cells": [
  {
   "cell_type": "markdown",
   "metadata": {},
   "source": [
    "# Importações"
   ]
  },
  {
   "cell_type": "code",
   "execution_count": 161,
   "metadata": {},
   "outputs": [],
   "source": [
    "import pandas as pd\n",
    "import numpy as np\n",
    "import matplotlib.pyplot as plt\n",
    "import seaborn as sns\n",
    "import plotly.graph_objects as go\n",
    "import plotly.express as px\n",
    "from plotly.subplots import make_subplots\n",
    "from sklearn.compose import ColumnTransformer, make_column_selector\n",
    "from sklearn.preprocessing import OrdinalEncoder, LabelEncoder\n",
    "from sklearn.preprocessing import StandardScaler\n",
    "from yellowbrick.cluster import KElbowVisualizer\n",
    "from sklearn.decomposition import PCA\n",
    "from sklearn.pipeline import Pipeline\n",
    "from sklearn.model_selection import GridSearchCV\n",
    "import optuna\n",
    "from sklearn.neighbors import NearestNeighbors\n",
    "from functools import partial\n"
   ]
  },
  {
   "cell_type": "markdown",
   "metadata": {},
   "source": [
    "Métodos de Clusterização"
   ]
  },
  {
   "cell_type": "code",
   "execution_count": 162,
   "metadata": {},
   "outputs": [],
   "source": [
    "from sklearn.cluster import DBSCAN, KMeans, AgglomerativeClustering, MeanShift"
   ]
  },
  {
   "cell_type": "markdown",
   "metadata": {},
   "source": [
    "# Funções"
   ]
  },
  {
   "cell_type": "code",
   "execution_count": 163,
   "metadata": {},
   "outputs": [],
   "source": [
    "def funcDataFrame(info, df_clusters):\n",
    "    nova_linha_df = pd.DataFrame([info], columns=df_clusters.columns)\n",
    "\n",
    "    df_clusters = pd.concat([df_clusters, nova_linha_df], ignore_index=True)\n",
    "    \n",
    "    return df_clusters"
   ]
  },
  {
   "cell_type": "markdown",
   "metadata": {},
   "source": [
    "# DataFrame"
   ]
  },
  {
   "cell_type": "code",
   "execution_count": 164,
   "metadata": {},
   "outputs": [
    {
     "data": {
      "text/html": [
       "<div>\n",
       "<style scoped>\n",
       "    .dataframe tbody tr th:only-of-type {\n",
       "        vertical-align: middle;\n",
       "    }\n",
       "\n",
       "    .dataframe tbody tr th {\n",
       "        vertical-align: top;\n",
       "    }\n",
       "\n",
       "    .dataframe thead th {\n",
       "        text-align: right;\n",
       "    }\n",
       "</style>\n",
       "<table border=\"1\" class=\"dataframe\">\n",
       "  <thead>\n",
       "    <tr style=\"text-align: right;\">\n",
       "      <th></th>\n",
       "      <th>euexfreq</th>\n",
       "      <th>eugenhth</th>\n",
       "      <th>eufastfdfrq</th>\n",
       "      <th>eudietsoda</th>\n",
       "      <th>euwgt</th>\n",
       "      <th>euhgt</th>\n",
       "    </tr>\n",
       "  </thead>\n",
       "  <tbody>\n",
       "    <tr>\n",
       "      <th>0</th>\n",
       "      <td>0</td>\n",
       "      <td>1</td>\n",
       "      <td>0</td>\n",
       "      <td>0</td>\n",
       "      <td>77.11</td>\n",
       "      <td>1.52</td>\n",
       "    </tr>\n",
       "    <tr>\n",
       "      <th>1</th>\n",
       "      <td>0</td>\n",
       "      <td>2</td>\n",
       "      <td>1</td>\n",
       "      <td>0</td>\n",
       "      <td>58.06</td>\n",
       "      <td>1.60</td>\n",
       "    </tr>\n",
       "    <tr>\n",
       "      <th>2</th>\n",
       "      <td>0</td>\n",
       "      <td>5</td>\n",
       "      <td>0</td>\n",
       "      <td>0</td>\n",
       "      <td>122.47</td>\n",
       "      <td>1.57</td>\n",
       "    </tr>\n",
       "    <tr>\n",
       "      <th>3</th>\n",
       "      <td>5</td>\n",
       "      <td>4</td>\n",
       "      <td>0</td>\n",
       "      <td>0</td>\n",
       "      <td>95.25</td>\n",
       "      <td>1.75</td>\n",
       "    </tr>\n",
       "    <tr>\n",
       "      <th>4</th>\n",
       "      <td>2</td>\n",
       "      <td>3</td>\n",
       "      <td>3</td>\n",
       "      <td>1</td>\n",
       "      <td>99.79</td>\n",
       "      <td>1.80</td>\n",
       "    </tr>\n",
       "    <tr>\n",
       "      <th>...</th>\n",
       "      <td>...</td>\n",
       "      <td>...</td>\n",
       "      <td>...</td>\n",
       "      <td>...</td>\n",
       "      <td>...</td>\n",
       "      <td>...</td>\n",
       "    </tr>\n",
       "    <tr>\n",
       "      <th>10552</th>\n",
       "      <td>5</td>\n",
       "      <td>3</td>\n",
       "      <td>0</td>\n",
       "      <td>0</td>\n",
       "      <td>67.59</td>\n",
       "      <td>1.57</td>\n",
       "    </tr>\n",
       "    <tr>\n",
       "      <th>10553</th>\n",
       "      <td>2</td>\n",
       "      <td>2</td>\n",
       "      <td>3</td>\n",
       "      <td>2</td>\n",
       "      <td>81.65</td>\n",
       "      <td>1.73</td>\n",
       "    </tr>\n",
       "    <tr>\n",
       "      <th>10554</th>\n",
       "      <td>2</td>\n",
       "      <td>1</td>\n",
       "      <td>4</td>\n",
       "      <td>0</td>\n",
       "      <td>64.41</td>\n",
       "      <td>1.70</td>\n",
       "    </tr>\n",
       "    <tr>\n",
       "      <th>10555</th>\n",
       "      <td>1</td>\n",
       "      <td>1</td>\n",
       "      <td>3</td>\n",
       "      <td>1</td>\n",
       "      <td>76.20</td>\n",
       "      <td>1.80</td>\n",
       "    </tr>\n",
       "    <tr>\n",
       "      <th>10556</th>\n",
       "      <td>3</td>\n",
       "      <td>1</td>\n",
       "      <td>0</td>\n",
       "      <td>0</td>\n",
       "      <td>63.50</td>\n",
       "      <td>1.68</td>\n",
       "    </tr>\n",
       "  </tbody>\n",
       "</table>\n",
       "<p>10557 rows × 6 columns</p>\n",
       "</div>"
      ],
      "text/plain": [
       "       euexfreq  eugenhth  eufastfdfrq  eudietsoda   euwgt  euhgt\n",
       "0             0         1            0           0   77.11   1.52\n",
       "1             0         2            1           0   58.06   1.60\n",
       "2             0         5            0           0  122.47   1.57\n",
       "3             5         4            0           0   95.25   1.75\n",
       "4             2         3            3           1   99.79   1.80\n",
       "...         ...       ...          ...         ...     ...    ...\n",
       "10552         5         3            0           0   67.59   1.57\n",
       "10553         2         2            3           2   81.65   1.73\n",
       "10554         2         1            4           0   64.41   1.70\n",
       "10555         1         1            3           1   76.20   1.80\n",
       "10556         3         1            0           0   63.50   1.68\n",
       "\n",
       "[10557 rows x 6 columns]"
      ]
     },
     "execution_count": 164,
     "metadata": {},
     "output_type": "execute_result"
    }
   ],
   "source": [
    "df_original = pd.read_excel('../dados/df.xlsx',)\n",
    "df = df_original.copy()\n",
    "df"
   ]
  },
  {
   "cell_type": "markdown",
   "metadata": {},
   "source": [
    "## Métrica"
   ]
  },
  {
   "cell_type": "code",
   "execution_count": 165,
   "metadata": {},
   "outputs": [],
   "source": [
    "from sklearn.metrics import make_scorer, silhouette_score,calinski_harabasz_score,davies_bouldin_score\n"
   ]
  },
  {
   "cell_type": "code",
   "execution_count": 166,
   "metadata": {},
   "outputs": [],
   "source": [
    "def score_composto(X, labels):\n",
    "    # Coeficiente de Silhueta normalizado\n",
    "    sil_score = silhouette_score(X, labels)\n",
    "    sil_score_norm = (sil_score + 1) / 2\n",
    "\n",
    "    # Índice de Davies-Bouldin normalizado (inverso)\n",
    "    db_score = davies_bouldin_score(X, labels)\n",
    "    db_score_norm = 1 / (1 + db_score)\n",
    "\n",
    "    # Índice de Calinski-Harabasz normalizado (log transformado)\n",
    "    ch_score = calinski_harabasz_score(X, labels)\n",
    "    ch_score_log = np.log(1 + ch_score)\n",
    "    ch_score_norm = ch_score_log / (1 + ch_score_log)\n",
    "\n",
    "    # Cálculo do score composto\n",
    "    score_composto = (sil_score_norm + db_score_norm + ch_score_norm) / 3\n",
    "\n",
    "    return score_composto\n"
   ]
  },
  {
   "cell_type": "markdown",
   "metadata": {},
   "source": [
    "## Clusterizações"
   ]
  },
  {
   "cell_type": "markdown",
   "metadata": {},
   "source": [
    "### Variações dos Hiperparâmetros"
   ]
  },
  {
   "cell_type": "markdown",
   "metadata": {},
   "source": [
    "#### Número de Clusters (AgglomerativeClustering e KMeans)"
   ]
  },
  {
   "cell_type": "code",
   "execution_count": 167,
   "metadata": {},
   "outputs": [
    {
     "data": {
      "image/png": "[encoded data removed]",
      "text/plain": [
       "<Figure size 800x550 with 2 Axes>"
      ]
     },
     "metadata": {},
     "output_type": "display_data"
    },
    {
     "data": {
      "text/plain": [
       "<Axes: title={'center': 'Distortion Score Elbow for AgglomerativeClustering Clustering'}, xlabel='k', ylabel='distortion score'>"
      ]
     },
     "execution_count": 167,
     "metadata": {},
     "output_type": "execute_result"
    }
   ],
   "source": [
    "#distorção: média das distâncias quadradas dos centros dos clusters dos respectivos clusters\n",
    "grafico = KElbowVisualizer(AgglomerativeClustering(), k=(1,15))\n",
    "\n",
    "grafico.fit(df)        \n",
    "grafico.show()"
   ]
  },
  {
   "cell_type": "code",
   "execution_count": 168,
   "metadata": {},
   "outputs": [
    {
     "name": "stderr",
     "output_type": "stream",
     "text": [
      "c:\\Users\\arthurdomingos-ieg\\AppData\\Local\\Programs\\Python\\Python311\\Lib\\site-packages\\sklearn\\cluster\\_kmeans.py:1412: FutureWarning:\n",
      "\n",
      "The default value of `n_init` will change from 10 to 'auto' in 1.4. Set the value of `n_init` explicitly to suppress the warning\n",
      "\n",
      "c:\\Users\\arthurdomingos-ieg\\AppData\\Local\\Programs\\Python\\Python311\\Lib\\site-packages\\sklearn\\cluster\\_kmeans.py:1412: FutureWarning:\n",
      "\n",
      "The default value of `n_init` will change from 10 to 'auto' in 1.4. Set the value of `n_init` explicitly to suppress the warning\n",
      "\n",
      "c:\\Users\\arthurdomingos-ieg\\AppData\\Local\\Programs\\Python\\Python311\\Lib\\site-packages\\sklearn\\cluster\\_kmeans.py:1412: FutureWarning:\n",
      "\n",
      "The default value of `n_init` will change from 10 to 'auto' in 1.4. Set the value of `n_init` explicitly to suppress the warning\n",
      "\n",
      "c:\\Users\\arthurdomingos-ieg\\AppData\\Local\\Programs\\Python\\Python311\\Lib\\site-packages\\sklearn\\cluster\\_kmeans.py:1412: FutureWarning:\n",
      "\n",
      "The default value of `n_init` will change from 10 to 'auto' in 1.4. Set the value of `n_init` explicitly to suppress the warning\n",
      "\n",
      "c:\\Users\\arthurdomingos-ieg\\AppData\\Local\\Programs\\Python\\Python311\\Lib\\site-packages\\sklearn\\cluster\\_kmeans.py:1412: FutureWarning:\n",
      "\n",
      "The default value of `n_init` will change from 10 to 'auto' in 1.4. Set the value of `n_init` explicitly to suppress the warning\n",
      "\n",
      "c:\\Users\\arthurdomingos-ieg\\AppData\\Local\\Programs\\Python\\Python311\\Lib\\site-packages\\sklearn\\cluster\\_kmeans.py:1412: FutureWarning:\n",
      "\n",
      "The default value of `n_init` will change from 10 to 'auto' in 1.4. Set the value of `n_init` explicitly to suppress the warning\n",
      "\n",
      "c:\\Users\\arthurdomingos-ieg\\AppData\\Local\\Programs\\Python\\Python311\\Lib\\site-packages\\sklearn\\cluster\\_kmeans.py:1412: FutureWarning:\n",
      "\n",
      "The default value of `n_init` will change from 10 to 'auto' in 1.4. Set the value of `n_init` explicitly to suppress the warning\n",
      "\n",
      "c:\\Users\\arthurdomingos-ieg\\AppData\\Local\\Programs\\Python\\Python311\\Lib\\site-packages\\sklearn\\cluster\\_kmeans.py:1412: FutureWarning:\n",
      "\n",
      "The default value of `n_init` will change from 10 to 'auto' in 1.4. Set the value of `n_init` explicitly to suppress the warning\n",
      "\n",
      "c:\\Users\\arthurdomingos-ieg\\AppData\\Local\\Programs\\Python\\Python311\\Lib\\site-packages\\sklearn\\cluster\\_kmeans.py:1412: FutureWarning:\n",
      "\n",
      "The default value of `n_init` will change from 10 to 'auto' in 1.4. Set the value of `n_init` explicitly to suppress the warning\n",
      "\n",
      "c:\\Users\\arthurdomingos-ieg\\AppData\\Local\\Programs\\Python\\Python311\\Lib\\site-packages\\sklearn\\cluster\\_kmeans.py:1412: FutureWarning:\n",
      "\n",
      "The default value of `n_init` will change from 10 to 'auto' in 1.4. Set the value of `n_init` explicitly to suppress the warning\n",
      "\n",
      "c:\\Users\\arthurdomingos-ieg\\AppData\\Local\\Programs\\Python\\Python311\\Lib\\site-packages\\sklearn\\cluster\\_kmeans.py:1412: FutureWarning:\n",
      "\n",
      "The default value of `n_init` will change from 10 to 'auto' in 1.4. Set the value of `n_init` explicitly to suppress the warning\n",
      "\n",
      "c:\\Users\\arthurdomingos-ieg\\AppData\\Local\\Programs\\Python\\Python311\\Lib\\site-packages\\sklearn\\cluster\\_kmeans.py:1412: FutureWarning:\n",
      "\n",
      "The default value of `n_init` will change from 10 to 'auto' in 1.4. Set the value of `n_init` explicitly to suppress the warning\n",
      "\n",
      "c:\\Users\\arthurdomingos-ieg\\AppData\\Local\\Programs\\Python\\Python311\\Lib\\site-packages\\sklearn\\cluster\\_kmeans.py:1412: FutureWarning:\n",
      "\n",
      "The default value of `n_init` will change from 10 to 'auto' in 1.4. Set the value of `n_init` explicitly to suppress the warning\n",
      "\n",
      "c:\\Users\\arthurdomingos-ieg\\AppData\\Local\\Programs\\Python\\Python311\\Lib\\site-packages\\sklearn\\cluster\\_kmeans.py:1412: FutureWarning:\n",
      "\n",
      "The default value of `n_init` will change from 10 to 'auto' in 1.4. Set the value of `n_init` explicitly to suppress the warning\n",
      "\n"
     ]
    },
    {
     "data": {
      "image/png": "[encoded data removed]",
      "text/plain": [
       "<Figure size 800x550 with 2 Axes>"
      ]
     },
     "metadata": {},
     "output_type": "display_data"
    },
    {
     "data": {
      "text/plain": [
       "<Axes: title={'center': 'Distortion Score Elbow for KMeans Clustering'}, xlabel='k', ylabel='distortion score'>"
      ]
     },
     "execution_count": 168,
     "metadata": {},
     "output_type": "execute_result"
    }
   ],
   "source": [
    "#distorção: média das distâncias quadradas dos centros dos clusters dos respectivos clusters\n",
    "grafico = KElbowVisualizer(KMeans(), k=(1,15))\n",
    "\n",
    "grafico.fit(df)        \n",
    "grafico.show()  "
   ]
  },
  {
   "cell_type": "markdown",
   "metadata": {},
   "source": [
    "Vou considerar até 7 clusters nos dois algorítmos"
   ]
  },
  {
   "cell_type": "markdown",
   "metadata": {},
   "source": [
    "#### Escolha do eps (DBSCAN)"
   ]
  },
  {
   "cell_type": "code",
   "execution_count": 169,
   "metadata": {},
   "outputs": [
    {
     "data": {
      "image/png": "[encoded data removed]",
      "text/plain": [
       "<Figure size 800x500 with 1 Axes>"
      ]
     },
     "metadata": {},
     "output_type": "display_data"
    }
   ],
   "source": [
    "k = 3  # Escolha um valor de k, geralmente >= número de dimensões + 1\n",
    "\n",
    "# Calcular as k distâncias mais próximas\n",
    "neighbors = NearestNeighbors(n_neighbors=k)\n",
    "neighbors_fit = neighbors.fit(df)\n",
    "distances, indices = neighbors_fit.kneighbors(df)\n",
    "\n",
    "# Ordenar as distâncias para plotar o gráfico de k-distância\n",
    "distances = np.sort(distances[:, k - 1], axis=0)\n",
    "\n",
    "# Plotar o gráfico de k-distância\n",
    "plt.figure(figsize=(8, 5))\n",
    "plt.plot(distances)\n",
    "plt.xlabel(\"Pontos ordenados (ordenado pela distância)\")\n",
    "plt.ylabel(f\"{k}-distância\")\n",
    "plt.title(f\"Gráfico de {k}-distância para escolha do eps\")\n",
    "plt.grid(True)\n",
    "plt.show()"
   ]
  },
  {
   "cell_type": "markdown",
   "metadata": {},
   "source": [
    "Cerca de 2 a 5 para eps"
   ]
  },
  {
   "cell_type": "markdown",
   "metadata": {},
   "source": [
    "#### Encontrar Valores Próximos do bandwidth (mean-shift)"
   ]
  },
  {
   "cell_type": "code",
   "execution_count": 170,
   "metadata": {},
   "outputs": [
    {
     "data": {
      "image/png": "[encoded data removed]",
      "text/plain": [
       "<Figure size 800x500 with 1 Axes>"
      ]
     },
     "metadata": {},
     "output_type": "display_data"
    },
    {
     "data": {
      "image/png": "[encoded data removed]",
      "text/plain": [
       "<Figure size 800x500 with 1 Axes>"
      ]
     },
     "metadata": {},
     "output_type": "display_data"
    }
   ],
   "source": [
    "bandwidth_values = np.linspace(1, 30, 40)\n",
    "n_clusters_list = []\n",
    "silhouette_scores = []\n",
    "\n",
    "for bandwidth in bandwidth_values:\n",
    "    meanshift = MeanShift(bandwidth=bandwidth, bin_seeding=True)\n",
    "    labels = meanshift.fit_predict(df)\n",
    "    n_clusters = len(np.unique(labels))\n",
    "    n_clusters_list.append(n_clusters)\n",
    "    if n_clusters > 1:\n",
    "        score = silhouette_score(df, labels)\n",
    "        silhouette_scores.append(score)\n",
    "    else:\n",
    "        silhouette_scores.append(-1)\n",
    "\n",
    "plt.figure(figsize=(8, 5))\n",
    "plt.plot(bandwidth_values, n_clusters_list, marker='o')\n",
    "plt.xlabel('Bandwidth')\n",
    "plt.ylabel('Número de Clusters')\n",
    "plt.title('Efeito de Bandwidth no Número de Clusters (MeanShift)')\n",
    "plt.show()\n",
    "\n",
    "plt.figure(figsize=(8, 5))\n",
    "plt.plot(bandwidth_values, silhouette_scores, marker='o')\n",
    "plt.xlabel('Bandwidth')\n",
    "plt.ylabel('Silhouette Score')\n",
    "plt.title('Efeito de Bandwidth no Silhouette Score (MeanShift)')\n",
    "plt.show()"
   ]
  },
  {
   "cell_type": "markdown",
   "metadata": {},
   "source": [
    "Valores após 10 até 20"
   ]
  },
  {
   "cell_type": "code",
   "execution_count": 171,
   "metadata": {},
   "outputs": [],
   "source": [
    "def objective(trial, X, clustering_algorithm):\n",
    "\n",
    "    if clustering_algorithm == 'kmeans':\n",
    "        n_clusters = trial.suggest_int('n_clusters', 2, 7)\n",
    "        init = trial.suggest_categorical('init', ['k-means++', 'random'])\n",
    "        n_init = trial.suggest_int('n_init', 10, 300, step=10)\n",
    "        max_iter = trial.suggest_int('max_iter', 100, 1000, step=50)\n",
    "        tol = trial.suggest_float('tol', 1e-6, 1e-1, log=True)\n",
    "        algorithm = trial.suggest_categorical('algorithm', ['lloyd', 'elkan'])\n",
    "        model = KMeans(\n",
    "            n_clusters=n_clusters,\n",
    "            init=init,\n",
    "            n_init=n_init,\n",
    "            max_iter=max_iter,\n",
    "            tol=tol,\n",
    "            algorithm=algorithm,\n",
    "            random_state=42\n",
    "        )\n",
    "\n",
    "    elif clustering_algorithm == 'dbscan':\n",
    "        eps = trial.suggest_float('eps', 2.0, 5.0, step=0.5)\n",
    "        min_samples = trial.suggest_int('min_samples', 1500,3000 ,step=100)\n",
    "        metric = trial.suggest_categorical('metric', ['euclidean', 'manhattan', 'chebyshev', 'minkowski'])\n",
    "        algorithm = trial.suggest_categorical('algorithm', ['auto', 'ball_tree', 'kd_tree', 'brute'])\n",
    "        leaf_size = trial.suggest_int('leaf_size', 10, 100, step=10)\n",
    "        p = trial.suggest_float('p', 1.0, 5.0)\n",
    "        model = DBSCAN(\n",
    "            eps=eps,\n",
    "            min_samples=min_samples,\n",
    "            metric=metric,\n",
    "            algorithm=algorithm,\n",
    "            leaf_size=leaf_size,\n",
    "            p=p\n",
    "        )\n",
    "\n",
    "    elif clustering_algorithm == 'agglomerative':\n",
    "\n",
    "        n_clusters = trial.suggest_int('n_clusters', 2, 7)\n",
    "        compute_full_tree = trial.suggest_categorical('compute_full_tree', ['auto', True, False])\n",
    "\n",
    "        linkage = trial.suggest_categorical('linkage', ['ward', 'complete', 'average', 'single'])\n",
    "        if linkage == 'ward':\n",
    "            metric = 'euclidean'\n",
    "        else:\n",
    "            metric = trial.suggest_categorical('metric', ['euclidean', 'l1', 'l2', 'manhattan', 'cosine'])\n",
    "        \n",
    "        model = AgglomerativeClustering(\n",
    "            n_clusters=n_clusters,\n",
    "            linkage=linkage,\n",
    "            affinity=metric,\n",
    "            compute_full_tree=compute_full_tree,\n",
    "        )\n",
    "\n",
    "\n",
    "\n",
    "    elif clustering_algorithm == 'mean_shift':\n",
    "        bandwidth = trial.suggest_float('bandwidth', 10, 20.0, step=1.0)\n",
    "        bin_seeding = trial.suggest_categorical('bin_seeding', [True, False])\n",
    "        min_bin_freq = trial.suggest_int('min_bin_freq', 10, 150, step=10)\n",
    "        cluster_all = trial.suggest_categorical('cluster_all', [True, False])\n",
    "        model = MeanShift(\n",
    "            bandwidth=bandwidth,\n",
    "            bin_seeding=bin_seeding,\n",
    "            min_bin_freq=min_bin_freq,\n",
    "            cluster_all=cluster_all\n",
    "        )\n",
    "\n",
    "    else:\n",
    "        raise ValueError(\"Algoritmo de clusterização não suportado.\")\n",
    "\n",
    "\n",
    "    # Ajustar o modelo e prever as labels\n",
    "    labels = model.fit_predict(X)\n",
    "\n",
    "    # Verificar se todos os pontos foram classificados no mesmo cluster\n",
    "    if len(np.unique(labels)) <= 1:\n",
    "        return -np.inf  # Retorna um valor muito baixo se a clusterização não for válida\n",
    "\n",
    "    # Calcular o score composto\n",
    "    score = score_composto(X, labels)\n",
    "\n",
    "    return score\n"
   ]
  },
  {
   "cell_type": "code",
   "execution_count": 172,
   "metadata": {},
   "outputs": [],
   "source": [
    "def otimizar_clustering(X, clustering_algorithm, n_trials=50):\n",
    "    study = optuna.create_study(direction='maximize')\n",
    "\n",
    "    # Definir a função objetivo parcial com o algoritmo de clusterização fixado\n",
    "\n",
    "    objective_func = partial(objective, X=X, clustering_algorithm=clustering_algorithm)\n",
    "    \n",
    "    # Executar a otimização\n",
    "    study.optimize(objective_func, n_trials=n_trials)\n",
    "\n",
    "    # Melhor conjunto de hiperparâmetros\n",
    "    best_params = study.best_params\n",
    "    best_score = study.best_value\n",
    "\n",
    "    print(f\"\\nMelhores hiperparâmetros para {clustering_algorithm}:\")\n",
    "    print(best_params)\n",
    "    print(f\"Melhor score composto: {best_score}\")\n",
    "\n",
    "    return study"
   ]
  },
  {
   "cell_type": "code",
   "execution_count": 173,
   "metadata": {},
   "outputs": [
    {
     "name": "stderr",
     "output_type": "stream",
     "text": [
      "[I 2024-10-29 13:26:58,992] A new study created in memory with name: no-name-faa2d935-abbf-42fb-bdd0-ac6fa75b4a5f\n"
     ]
    },
    {
     "name": "stdout",
     "output_type": "stream",
     "text": [
      "Otimização do K-Means:\n"
     ]
    },
    {
     "name": "stderr",
     "output_type": "stream",
     "text": [
      "[I 2024-10-29 13:27:02,595] Trial 0 finished with value: 0.7226426990002129 and parameters: {'n_clusters': 7, 'init': 'random', 'n_init': 80, 'max_iter': 450, 'tol': 7.4229168116695395e-06, 'algorithm': 'lloyd'}. Best is trial 0 with value: 0.7226426990002129.\n",
      "[I 2024-10-29 13:27:08,950] Trial 1 finished with value: 0.7512537039433016 and parameters: {'n_clusters': 3, 'init': 'random', 'n_init': 270, 'max_iter': 650, 'tol': 4.357971748638071e-06, 'algorithm': 'elkan'}. Best is trial 1 with value: 0.7512537039433016.\n",
      "[I 2024-10-29 13:27:14,135] Trial 2 finished with value: 0.7363894117620369 and parameters: {'n_clusters': 5, 'init': 'k-means++', 'n_init': 170, 'max_iter': 250, 'tol': 0.0022787470137081134, 'algorithm': 'elkan'}. Best is trial 1 with value: 0.7512537039433016.\n",
      "[I 2024-10-29 13:27:17,800] Trial 3 finished with value: 0.7454851410954048 and parameters: {'n_clusters': 4, 'init': 'random', 'n_init': 40, 'max_iter': 550, 'tol': 1.4839811077611051e-06, 'algorithm': 'elkan'}. Best is trial 1 with value: 0.7512537039433016.\n",
      "[I 2024-10-29 13:27:21,865] Trial 4 finished with value: 0.7512537039433016 and parameters: {'n_clusters': 3, 'init': 'k-means++', 'n_init': 180, 'max_iter': 250, 'tol': 0.015431079114172422, 'algorithm': 'lloyd'}. Best is trial 1 with value: 0.7512537039433016.\n",
      "[I 2024-10-29 13:27:25,069] Trial 5 finished with value: 0.7454851410954048 and parameters: {'n_clusters': 4, 'init': 'k-means++', 'n_init': 90, 'max_iter': 350, 'tol': 0.0177932626141022, 'algorithm': 'lloyd'}. Best is trial 1 with value: 0.7512537039433016.\n",
      "[I 2024-10-29 13:27:30,411] Trial 6 finished with value: 0.7454851410954048 and parameters: {'n_clusters': 4, 'init': 'k-means++', 'n_init': 250, 'max_iter': 550, 'tol': 0.005455768881254883, 'algorithm': 'elkan'}. Best is trial 1 with value: 0.7512537039433016.\n",
      "[I 2024-10-29 13:27:38,068] Trial 7 finished with value: 0.7363894117620369 and parameters: {'n_clusters': 5, 'init': 'random', 'n_init': 230, 'max_iter': 950, 'tol': 1.8254025535329746e-05, 'algorithm': 'elkan'}. Best is trial 1 with value: 0.7512537039433016.\n",
      "[I 2024-10-29 13:27:42,219] Trial 8 finished with value: 0.7605901617573169 and parameters: {'n_clusters': 2, 'init': 'k-means++', 'n_init': 260, 'max_iter': 150, 'tol': 0.00038896623333968593, 'algorithm': 'lloyd'}. Best is trial 8 with value: 0.7605901617573169.\n",
      "[I 2024-10-29 13:27:45,206] Trial 9 finished with value: 0.7339256643860562 and parameters: {'n_clusters': 5, 'init': 'random', 'n_init': 50, 'max_iter': 850, 'tol': 3.2210984312523875e-05, 'algorithm': 'lloyd'}. Best is trial 8 with value: 0.7605901617573169.\n",
      "[I 2024-10-29 13:27:49,801] Trial 10 finished with value: 0.7605901617573169 and parameters: {'n_clusters': 2, 'init': 'k-means++', 'n_init': 300, 'max_iter': 150, 'tol': 0.0002857921474185492, 'algorithm': 'lloyd'}. Best is trial 8 with value: 0.7605901617573169.\n",
      "[I 2024-10-29 13:27:54,191] Trial 11 finished with value: 0.7605901617573169 and parameters: {'n_clusters': 2, 'init': 'k-means++', 'n_init': 300, 'max_iter': 100, 'tol': 0.0002177853844978085, 'algorithm': 'lloyd'}. Best is trial 8 with value: 0.7605901617573169.\n",
      "[I 2024-10-29 13:28:00,305] Trial 12 finished with value: 0.7605901617573169 and parameters: {'n_clusters': 2, 'init': 'k-means++', 'n_init': 300, 'max_iter': 100, 'tol': 0.0002582490229018826, 'algorithm': 'lloyd'}. Best is trial 8 with value: 0.7605901617573169.\n",
      "[I 2024-10-29 13:28:04,550] Trial 13 finished with value: 0.7605901617573169 and parameters: {'n_clusters': 2, 'init': 'k-means++', 'n_init': 200, 'max_iter': 250, 'tol': 0.0012433103812095909, 'algorithm': 'lloyd'}. Best is trial 8 with value: 0.7605901617573169.\n",
      "[I 2024-10-29 13:28:09,134] Trial 14 finished with value: 0.7512537039433016 and parameters: {'n_clusters': 3, 'init': 'k-means++', 'n_init': 220, 'max_iter': 100, 'tol': 9.631832958457722e-05, 'algorithm': 'lloyd'}. Best is trial 8 with value: 0.7605901617573169.\n",
      "[I 2024-10-29 13:28:13,690] Trial 15 finished with value: 0.7185561958940143 and parameters: {'n_clusters': 7, 'init': 'k-means++', 'n_init': 140, 'max_iter': 700, 'tol': 0.0009229331136518119, 'algorithm': 'lloyd'}. Best is trial 8 with value: 0.7605901617573169.\n",
      "[I 2024-10-29 13:28:17,875] Trial 16 finished with value: 0.7605901617573169 and parameters: {'n_clusters': 2, 'init': 'k-means++', 'n_init': 270, 'max_iter': 400, 'tol': 0.07121204362141796, 'algorithm': 'lloyd'}. Best is trial 8 with value: 0.7605901617573169.\n",
      "[I 2024-10-29 13:28:23,086] Trial 17 finished with value: 0.7280646766403535 and parameters: {'n_clusters': 6, 'init': 'k-means++', 'n_init': 130, 'max_iter': 200, 'tol': 7.512573600852967e-05, 'algorithm': 'lloyd'}. Best is trial 8 with value: 0.7605901617573169.\n",
      "[I 2024-10-29 13:28:28,846] Trial 18 finished with value: 0.7512537039433016 and parameters: {'n_clusters': 3, 'init': 'k-means++', 'n_init': 270, 'max_iter': 350, 'tol': 0.00048552536840548217, 'algorithm': 'lloyd'}. Best is trial 8 with value: 0.7605901617573169.\n",
      "[I 2024-10-29 13:28:34,815] Trial 19 finished with value: 0.7605901617573169 and parameters: {'n_clusters': 2, 'init': 'k-means++', 'n_init': 300, 'max_iter': 200, 'tol': 0.003078233501483149, 'algorithm': 'lloyd'}. Best is trial 8 with value: 0.7605901617573169.\n",
      "[I 2024-10-29 13:28:39,675] Trial 20 finished with value: 0.7512537039433016 and parameters: {'n_clusters': 3, 'init': 'k-means++', 'n_init': 240, 'max_iter': 450, 'tol': 0.00011246792152721595, 'algorithm': 'lloyd'}. Best is trial 8 with value: 0.7605901617573169.\n",
      "[I 2024-10-29 13:28:44,775] Trial 21 finished with value: 0.7605901617573169 and parameters: {'n_clusters': 2, 'init': 'k-means++', 'n_init': 300, 'max_iter': 100, 'tol': 0.00031854605116979747, 'algorithm': 'lloyd'}. Best is trial 8 with value: 0.7605901617573169.\n",
      "[I 2024-10-29 13:28:49,468] Trial 22 finished with value: 0.7605901617573169 and parameters: {'n_clusters': 2, 'init': 'k-means++', 'n_init': 270, 'max_iter': 150, 'tol': 0.00019840822761835783, 'algorithm': 'lloyd'}. Best is trial 8 with value: 0.7605901617573169.\n",
      "[I 2024-10-29 13:28:54,376] Trial 23 finished with value: 0.7512537039433016 and parameters: {'n_clusters': 3, 'init': 'k-means++', 'n_init': 210, 'max_iter': 300, 'tol': 3.766044415427761e-05, 'algorithm': 'lloyd'}. Best is trial 8 with value: 0.7605901617573169.\n",
      "[I 2024-10-29 13:28:58,606] Trial 24 finished with value: 0.7605901617573169 and parameters: {'n_clusters': 2, 'init': 'k-means++', 'n_init': 250, 'max_iter': 150, 'tol': 0.0008761285848050974, 'algorithm': 'lloyd'}. Best is trial 8 with value: 0.7605901617573169.\n",
      "[I 2024-10-29 13:29:03,388] Trial 25 finished with value: 0.7512537039433016 and parameters: {'n_clusters': 3, 'init': 'k-means++', 'n_init': 280, 'max_iter': 200, 'tol': 0.00037832934724246764, 'algorithm': 'lloyd'}. Best is trial 8 with value: 0.7605901617573169.\n",
      "[I 2024-10-29 13:29:08,187] Trial 26 finished with value: 0.7605901617573169 and parameters: {'n_clusters': 2, 'init': 'random', 'n_init': 290, 'max_iter': 300, 'tol': 0.006172932776663114, 'algorithm': 'elkan'}. Best is trial 8 with value: 0.7605901617573169.\n",
      "[I 2024-10-29 13:29:13,100] Trial 27 finished with value: 0.7454851410954048 and parameters: {'n_clusters': 4, 'init': 'k-means++', 'n_init': 250, 'max_iter': 100, 'tol': 1.340556224152271e-05, 'algorithm': 'lloyd'}. Best is trial 8 with value: 0.7605901617573169.\n",
      "[I 2024-10-29 13:29:16,910] Trial 28 finished with value: 0.7605901617573169 and parameters: {'n_clusters': 2, 'init': 'k-means++', 'n_init': 180, 'max_iter': 700, 'tol': 4.431446303271405e-05, 'algorithm': 'lloyd'}. Best is trial 8 with value: 0.7605901617573169.\n",
      "[I 2024-10-29 13:29:21,368] Trial 29 finished with value: 0.7280671777458312 and parameters: {'n_clusters': 6, 'init': 'random', 'n_init': 110, 'max_iter': 450, 'tol': 0.00013902462003526474, 'algorithm': 'lloyd'}. Best is trial 8 with value: 0.7605901617573169.\n",
      "[I 2024-10-29 13:29:28,278] Trial 30 finished with value: 0.7512537039433016 and parameters: {'n_clusters': 3, 'init': 'k-means++', 'n_init': 200, 'max_iter': 150, 'tol': 6.241107684476047e-06, 'algorithm': 'lloyd'}. Best is trial 8 with value: 0.7605901617573169.\n",
      "[I 2024-10-29 13:29:33,778] Trial 31 finished with value: 0.7605901617573169 and parameters: {'n_clusters': 2, 'init': 'k-means++', 'n_init': 300, 'max_iter': 100, 'tol': 0.0002315156104493273, 'algorithm': 'lloyd'}. Best is trial 8 with value: 0.7605901617573169.\n",
      "[I 2024-10-29 13:29:38,416] Trial 32 finished with value: 0.7605901617573169 and parameters: {'n_clusters': 2, 'init': 'k-means++', 'n_init': 280, 'max_iter': 200, 'tol': 0.000735517523213406, 'algorithm': 'lloyd'}. Best is trial 8 with value: 0.7605901617573169.\n",
      "[I 2024-10-29 13:29:43,195] Trial 33 finished with value: 0.7512537039433016 and parameters: {'n_clusters': 3, 'init': 'k-means++', 'n_init': 300, 'max_iter': 150, 'tol': 0.00160426621773951, 'algorithm': 'lloyd'}. Best is trial 8 with value: 0.7605901617573169.\n",
      "[I 2024-10-29 13:29:46,353] Trial 34 finished with value: 0.7605901617573169 and parameters: {'n_clusters': 2, 'init': 'random', 'n_init': 10, 'max_iter': 300, 'tol': 0.0004974876340379511, 'algorithm': 'elkan'}. Best is trial 8 with value: 0.7605901617573169.\n",
      "[I 2024-10-29 13:29:53,442] Trial 35 finished with value: 0.7512537039433016 and parameters: {'n_clusters': 3, 'init': 'k-means++', 'n_init': 260, 'max_iter': 250, 'tol': 2.0127523226878078e-06, 'algorithm': 'lloyd'}. Best is trial 8 with value: 0.7605901617573169.\n",
      "[I 2024-10-29 13:29:58,922] Trial 36 finished with value: 0.7605901617573169 and parameters: {'n_clusters': 2, 'init': 'k-means++', 'n_init': 280, 'max_iter': 100, 'tol': 6.352034229372627e-05, 'algorithm': 'elkan'}. Best is trial 8 with value: 0.7605901617573169.\n",
      "[I 2024-10-29 13:30:03,441] Trial 37 finished with value: 0.7454851410954048 and parameters: {'n_clusters': 4, 'init': 'k-means++', 'n_init': 230, 'max_iter': 500, 'tol': 0.00023347313028887874, 'algorithm': 'lloyd'}. Best is trial 8 with value: 0.7605901617573169.\n",
      "[I 2024-10-29 13:30:08,828] Trial 38 finished with value: 0.7512537039433016 and parameters: {'n_clusters': 3, 'init': 'random', 'n_init': 260, 'max_iter': 350, 'tol': 0.00240101607497981, 'algorithm': 'elkan'}. Best is trial 8 with value: 0.7605901617573169.\n",
      "[I 2024-10-29 13:30:13,098] Trial 39 finished with value: 0.7605901617573169 and parameters: {'n_clusters': 2, 'init': 'k-means++', 'n_init': 290, 'max_iter': 250, 'tol': 2.053204210513435e-05, 'algorithm': 'lloyd'}. Best is trial 8 with value: 0.7605901617573169.\n",
      "[I 2024-10-29 13:30:17,225] Trial 40 finished with value: 0.7512537039433016 and parameters: {'n_clusters': 3, 'init': 'k-means++', 'n_init': 240, 'max_iter': 600, 'tol': 0.0046120935716102785, 'algorithm': 'lloyd'}. Best is trial 8 with value: 0.7605901617573169.\n",
      "[I 2024-10-29 13:30:20,935] Trial 41 finished with value: 0.7605901617573169 and parameters: {'n_clusters': 2, 'init': 'k-means++', 'n_init': 190, 'max_iter': 150, 'tol': 0.001145208686317306, 'algorithm': 'lloyd'}. Best is trial 8 with value: 0.7605901617573169.\n",
      "[I 2024-10-29 13:30:24,682] Trial 42 finished with value: 0.7605901617573169 and parameters: {'n_clusters': 2, 'init': 'k-means++', 'n_init': 160, 'max_iter': 250, 'tol': 0.00015032634972808321, 'algorithm': 'lloyd'}. Best is trial 8 with value: 0.7605901617573169.\n",
      "[I 2024-10-29 13:30:28,935] Trial 43 finished with value: 0.7605901617573169 and parameters: {'n_clusters': 2, 'init': 'k-means++', 'n_init': 220, 'max_iter': 200, 'tol': 0.0005609796103985544, 'algorithm': 'lloyd'}. Best is trial 8 with value: 0.7605901617573169.\n",
      "[I 2024-10-29 13:30:33,294] Trial 44 finished with value: 0.7605901617573169 and parameters: {'n_clusters': 2, 'init': 'k-means++', 'n_init': 280, 'max_iter': 1000, 'tol': 0.0016343708733897718, 'algorithm': 'lloyd'}. Best is trial 8 with value: 0.7605901617573169.\n",
      "[I 2024-10-29 13:30:38,130] Trial 45 finished with value: 0.7454851410954048 and parameters: {'n_clusters': 4, 'init': 'k-means++', 'n_init': 260, 'max_iter': 100, 'tol': 0.009213619204990033, 'algorithm': 'lloyd'}. Best is trial 8 with value: 0.7605901617573169.\n",
      "[I 2024-10-29 13:30:48,745] Trial 46 finished with value: 0.7226426990002129 and parameters: {'n_clusters': 7, 'init': 'random', 'n_init': 290, 'max_iter': 150, 'tol': 0.00028508546985728933, 'algorithm': 'elkan'}. Best is trial 8 with value: 0.7605901617573169.\n",
      "[I 2024-10-29 13:30:52,031] Trial 47 finished with value: 0.7605901617573169 and parameters: {'n_clusters': 2, 'init': 'k-means++', 'n_init': 140, 'max_iter': 850, 'tol': 0.027494090297949258, 'algorithm': 'lloyd'}. Best is trial 8 with value: 0.7605901617573169.\n",
      "[I 2024-10-29 13:30:56,823] Trial 48 finished with value: 0.7275254365003557 and parameters: {'n_clusters': 6, 'init': 'k-means++', 'n_init': 230, 'max_iter': 200, 'tol': 0.0012345054468403205, 'algorithm': 'lloyd'}. Best is trial 8 with value: 0.7605901617573169.\n",
      "[I 2024-10-29 13:31:04,194] Trial 49 finished with value: 0.7512537039433016 and parameters: {'n_clusters': 3, 'init': 'k-means++', 'n_init': 300, 'max_iter': 350, 'tol': 7.36027613264012e-05, 'algorithm': 'lloyd'}. Best is trial 8 with value: 0.7605901617573169.\n",
      "[I 2024-10-29 13:31:09,214] Trial 50 finished with value: 0.7512537039433016 and parameters: {'n_clusters': 3, 'init': 'k-means++', 'n_init': 270, 'max_iter': 250, 'tol': 0.0005274496035714239, 'algorithm': 'lloyd'}. Best is trial 8 with value: 0.7605901617573169.\n",
      "[I 2024-10-29 13:31:13,527] Trial 51 finished with value: 0.7605901617573169 and parameters: {'n_clusters': 2, 'init': 'k-means++', 'n_init': 260, 'max_iter': 400, 'tol': 0.08888469504586327, 'algorithm': 'lloyd'}. Best is trial 8 with value: 0.7605901617573169.\n",
      "[I 2024-10-29 13:31:18,010] Trial 52 finished with value: 0.7605901617573169 and parameters: {'n_clusters': 2, 'init': 'k-means++', 'n_init': 270, 'max_iter': 400, 'tol': 0.030161883172982715, 'algorithm': 'lloyd'}. Best is trial 8 with value: 0.7605901617573169.\n",
      "[I 2024-10-29 13:31:23,186] Trial 53 finished with value: 0.7605901617573169 and parameters: {'n_clusters': 2, 'init': 'k-means++', 'n_init': 290, 'max_iter': 300, 'tol': 0.0001250232149101753, 'algorithm': 'lloyd'}. Best is trial 8 with value: 0.7605901617573169.\n",
      "[I 2024-10-29 13:31:28,569] Trial 54 finished with value: 0.7605901617573169 and parameters: {'n_clusters': 2, 'init': 'k-means++', 'n_init': 240, 'max_iter': 150, 'tol': 0.0003423783290289314, 'algorithm': 'lloyd'}. Best is trial 8 with value: 0.7605901617573169.\n",
      "[I 2024-10-29 13:31:33,309] Trial 55 finished with value: 0.7605901617573169 and parameters: {'n_clusters': 2, 'init': 'k-means++', 'n_init': 210, 'max_iter': 100, 'tol': 0.058671850098803185, 'algorithm': 'lloyd'}. Best is trial 8 with value: 0.7605901617573169.\n",
      "[I 2024-10-29 13:31:38,737] Trial 56 finished with value: 0.7363850734588416 and parameters: {'n_clusters': 5, 'init': 'k-means++', 'n_init': 290, 'max_iter': 400, 'tol': 0.011372766942895938, 'algorithm': 'lloyd'}. Best is trial 8 with value: 0.7605901617573169.\n",
      "[I 2024-10-29 13:31:42,295] Trial 57 finished with value: 0.7605901617573169 and parameters: {'n_clusters': 2, 'init': 'k-means++', 'n_init': 80, 'max_iter': 500, 'tol': 0.00016522344941659472, 'algorithm': 'lloyd'}. Best is trial 8 with value: 0.7605901617573169.\n",
      "[I 2024-10-29 13:31:48,072] Trial 58 finished with value: 0.7605901617573169 and parameters: {'n_clusters': 2, 'init': 'random', 'n_init': 250, 'max_iter': 200, 'tol': 0.0036296812939626403, 'algorithm': 'elkan'}. Best is trial 8 with value: 0.7605901617573169.\n",
      "[I 2024-10-29 13:31:53,360] Trial 59 finished with value: 0.7512537039433016 and parameters: {'n_clusters': 3, 'init': 'k-means++', 'n_init': 280, 'max_iter': 150, 'tol': 4.7762557683199704e-05, 'algorithm': 'lloyd'}. Best is trial 8 with value: 0.7605901617573169.\n",
      "[I 2024-10-29 13:31:58,542] Trial 60 finished with value: 0.7512537039433016 and parameters: {'n_clusters': 3, 'init': 'k-means++', 'n_init': 300, 'max_iter': 300, 'tol': 0.0007590621177919125, 'algorithm': 'lloyd'}. Best is trial 8 with value: 0.7605901617573169.\n",
      "[I 2024-10-29 13:32:02,745] Trial 61 finished with value: 0.7605901617573169 and parameters: {'n_clusters': 2, 'init': 'k-means++', 'n_init': 270, 'max_iter': 200, 'tol': 0.0028428042037643916, 'algorithm': 'lloyd'}. Best is trial 8 with value: 0.7605901617573169.\n",
      "[I 2024-10-29 13:32:07,051] Trial 62 finished with value: 0.7605901617573169 and parameters: {'n_clusters': 2, 'init': 'k-means++', 'n_init': 290, 'max_iter': 250, 'tol': 0.0004021131509526129, 'algorithm': 'lloyd'}. Best is trial 8 with value: 0.7605901617573169.\n",
      "[I 2024-10-29 13:32:11,263] Trial 63 finished with value: 0.7605901617573169 and parameters: {'n_clusters': 2, 'init': 'k-means++', 'n_init': 300, 'max_iter': 100, 'tol': 0.001644956457594166, 'algorithm': 'lloyd'}. Best is trial 8 with value: 0.7605901617573169.\n",
      "[I 2024-10-29 13:32:14,599] Trial 64 finished with value: 0.7605901617573169 and parameters: {'n_clusters': 2, 'init': 'k-means++', 'n_init': 110, 'max_iter': 200, 'tol': 8.708380168113695e-05, 'algorithm': 'lloyd'}. Best is trial 8 with value: 0.7605901617573169.\n",
      "[I 2024-10-29 13:32:18,962] Trial 65 finished with value: 0.7605901617573169 and parameters: {'n_clusters': 2, 'init': 'k-means++', 'n_init': 280, 'max_iter': 100, 'tol': 0.0006629081123220719, 'algorithm': 'lloyd'}. Best is trial 8 with value: 0.7605901617573169.\n",
      "[I 2024-10-29 13:32:24,211] Trial 66 finished with value: 0.7512537039433016 and parameters: {'n_clusters': 3, 'init': 'k-means++', 'n_init': 300, 'max_iter': 150, 'tol': 0.0002169008717091307, 'algorithm': 'lloyd'}. Best is trial 8 with value: 0.7605901617573169.\n",
      "[I 2024-10-29 13:32:28,967] Trial 67 finished with value: 0.7605901617573169 and parameters: {'n_clusters': 2, 'init': 'random', 'n_init': 170, 'max_iter': 250, 'tol': 0.00031068382265026607, 'algorithm': 'lloyd'}. Best is trial 8 with value: 0.7605901617573169.\n",
      "[I 2024-10-29 13:32:33,551] Trial 68 finished with value: 0.7605901617573169 and parameters: {'n_clusters': 2, 'init': 'k-means++', 'n_init': 270, 'max_iter': 150, 'tol': 0.0068128962459139, 'algorithm': 'lloyd'}. Best is trial 8 with value: 0.7605901617573169.\n",
      "[I 2024-10-29 13:32:39,358] Trial 69 finished with value: 0.7512537039433016 and parameters: {'n_clusters': 3, 'init': 'k-means++', 'n_init': 250, 'max_iter': 200, 'tol': 0.0011324198360047732, 'algorithm': 'elkan'}. Best is trial 8 with value: 0.7605901617573169.\n",
      "[I 2024-10-29 13:32:44,184] Trial 70 finished with value: 0.7512537039433016 and parameters: {'n_clusters': 3, 'init': 'k-means++', 'n_init': 290, 'max_iter': 350, 'tol': 0.02260216901322834, 'algorithm': 'lloyd'}. Best is trial 8 with value: 0.7605901617573169.\n",
      "[I 2024-10-29 13:32:49,159] Trial 71 finished with value: 0.7605901617573169 and parameters: {'n_clusters': 2, 'init': 'k-means++', 'n_init': 300, 'max_iter': 100, 'tol': 0.00042526487282588276, 'algorithm': 'lloyd'}. Best is trial 8 with value: 0.7605901617573169.\n",
      "[I 2024-10-29 13:32:56,184] Trial 72 finished with value: 0.7605901617573169 and parameters: {'n_clusters': 2, 'init': 'k-means++', 'n_init': 280, 'max_iter': 100, 'tol': 0.00010583675300992752, 'algorithm': 'lloyd'}. Best is trial 8 with value: 0.7605901617573169.\n",
      "[I 2024-10-29 13:33:00,478] Trial 73 finished with value: 0.7605901617573169 and parameters: {'n_clusters': 2, 'init': 'k-means++', 'n_init': 260, 'max_iter': 150, 'tol': 0.0002458618397248755, 'algorithm': 'lloyd'}. Best is trial 8 with value: 0.7605901617573169.\n",
      "[I 2024-10-29 13:33:04,817] Trial 74 finished with value: 0.7605901617573169 and parameters: {'n_clusters': 2, 'init': 'k-means++', 'n_init': 290, 'max_iter': 150, 'tol': 0.00018015465531549788, 'algorithm': 'lloyd'}. Best is trial 8 with value: 0.7605901617573169.\n",
      "[I 2024-10-29 13:33:09,250] Trial 75 finished with value: 0.7605901617573169 and parameters: {'n_clusters': 2, 'init': 'k-means++', 'n_init': 300, 'max_iter': 100, 'tol': 0.0009377239107549147, 'algorithm': 'lloyd'}. Best is trial 8 with value: 0.7605901617573169.\n",
      "[I 2024-10-29 13:33:13,113] Trial 76 finished with value: 0.7605901617573169 and parameters: {'n_clusters': 2, 'init': 'k-means++', 'n_init': 270, 'max_iter': 200, 'tol': 0.046054485774342485, 'algorithm': 'lloyd'}. Best is trial 8 with value: 0.7605901617573169.\n",
      "[I 2024-10-29 13:33:17,258] Trial 77 finished with value: 0.7605901617573169 and parameters: {'n_clusters': 2, 'init': 'k-means++', 'n_init': 280, 'max_iter': 300, 'tol': 0.0006157473612567627, 'algorithm': 'lloyd'}. Best is trial 8 with value: 0.7605901617573169.\n",
      "[I 2024-10-29 13:33:20,822] Trial 78 finished with value: 0.7605901617573169 and parameters: {'n_clusters': 2, 'init': 'random', 'n_init': 190, 'max_iter': 250, 'tol': 0.0002831281487454687, 'algorithm': 'lloyd'}. Best is trial 8 with value: 0.7605901617573169.\n",
      "[I 2024-10-29 13:33:25,779] Trial 79 finished with value: 0.7605901617573169 and parameters: {'n_clusters': 2, 'init': 'k-means++', 'n_init': 230, 'max_iter': 500, 'tol': 5.423721634757239e-05, 'algorithm': 'elkan'}. Best is trial 8 with value: 0.7605901617573169.\n",
      "[I 2024-10-29 13:33:30,031] Trial 80 finished with value: 0.7512537039433016 and parameters: {'n_clusters': 3, 'init': 'k-means++', 'n_init': 280, 'max_iter': 150, 'tol': 0.002150323850489582, 'algorithm': 'lloyd'}. Best is trial 8 with value: 0.7605901617573169.\n",
      "[I 2024-10-29 13:33:34,276] Trial 81 finished with value: 0.7605901617573169 and parameters: {'n_clusters': 2, 'init': 'k-means++', 'n_init': 260, 'max_iter': 100, 'tol': 0.00017125807371494821, 'algorithm': 'lloyd'}. Best is trial 8 with value: 0.7605901617573169.\n",
      "[I 2024-10-29 13:33:38,468] Trial 82 finished with value: 0.7605901617573169 and parameters: {'n_clusters': 2, 'init': 'k-means++', 'n_init': 290, 'max_iter': 200, 'tol': 0.00012244821852001154, 'algorithm': 'lloyd'}. Best is trial 8 with value: 0.7605901617573169.\n",
      "[I 2024-10-29 13:33:42,534] Trial 83 finished with value: 0.7605901617573169 and parameters: {'n_clusters': 2, 'init': 'k-means++', 'n_init': 240, 'max_iter': 150, 'tol': 3.112910868510338e-05, 'algorithm': 'lloyd'}. Best is trial 8 with value: 0.7605901617573169.\n",
      "[I 2024-10-29 13:33:46,704] Trial 84 finished with value: 0.7605901617573169 and parameters: {'n_clusters': 2, 'init': 'k-means++', 'n_init': 270, 'max_iter': 100, 'tol': 0.00042920962419894823, 'algorithm': 'lloyd'}. Best is trial 8 with value: 0.7605901617573169.\n",
      "[I 2024-10-29 13:33:52,163] Trial 85 finished with value: 0.7363850734588416 and parameters: {'n_clusters': 5, 'init': 'k-means++', 'n_init': 300, 'max_iter': 600, 'tol': 0.00019385717966904567, 'algorithm': 'lloyd'}. Best is trial 8 with value: 0.7605901617573169.\n",
      "[I 2024-10-29 13:33:55,454] Trial 86 finished with value: 0.7605901617573169 and parameters: {'n_clusters': 2, 'init': 'k-means++', 'n_init': 40, 'max_iter': 150, 'tol': 0.000957129341950112, 'algorithm': 'lloyd'}. Best is trial 8 with value: 0.7605901617573169.\n",
      "[I 2024-10-29 13:34:00,230] Trial 87 finished with value: 0.7605901617573169 and parameters: {'n_clusters': 2, 'init': 'k-means++', 'n_init': 210, 'max_iter': 200, 'tol': 8.420783399781264e-05, 'algorithm': 'lloyd'}. Best is trial 8 with value: 0.7605901617573169.\n",
      "[I 2024-10-29 13:34:07,186] Trial 88 finished with value: 0.7605901617573169 and parameters: {'n_clusters': 2, 'init': 'k-means++', 'n_init': 250, 'max_iter': 250, 'tol': 0.0003352823618493734, 'algorithm': 'lloyd'}. Best is trial 8 with value: 0.7605901617573169.\n",
      "[I 2024-10-29 13:34:11,964] Trial 89 finished with value: 0.7512537039433016 and parameters: {'n_clusters': 3, 'init': 'k-means++', 'n_init': 290, 'max_iter': 750, 'tol': 0.013576266796803092, 'algorithm': 'lloyd'}. Best is trial 8 with value: 0.7605901617573169.\n",
      "[I 2024-10-29 13:34:17,502] Trial 90 finished with value: 0.7605901617573169 and parameters: {'n_clusters': 2, 'init': 'random', 'n_init': 270, 'max_iter': 200, 'tol': 0.0004987411773510109, 'algorithm': 'elkan'}. Best is trial 8 with value: 0.7605901617573169.\n",
      "[I 2024-10-29 13:34:22,083] Trial 91 finished with value: 0.7605901617573169 and parameters: {'n_clusters': 2, 'init': 'k-means++', 'n_init': 250, 'max_iter': 100, 'tol': 0.0007523087393026898, 'algorithm': 'lloyd'}. Best is trial 8 with value: 0.7605901617573169.\n",
      "[I 2024-10-29 13:34:28,106] Trial 92 finished with value: 0.7605901617573169 and parameters: {'n_clusters': 2, 'init': 'k-means++', 'n_init': 300, 'max_iter': 150, 'tol': 0.0002672884652246277, 'algorithm': 'lloyd'}. Best is trial 8 with value: 0.7605901617573169.\n",
      "[I 2024-10-29 13:34:34,355] Trial 93 finished with value: 0.7605901617573169 and parameters: {'n_clusters': 2, 'init': 'k-means++', 'n_init': 290, 'max_iter': 150, 'tol': 0.0013800265677521499, 'algorithm': 'lloyd'}. Best is trial 8 with value: 0.7605901617573169.\n",
      "[I 2024-10-29 13:34:39,132] Trial 94 finished with value: 0.7605901617573169 and parameters: {'n_clusters': 2, 'init': 'k-means++', 'n_init': 280, 'max_iter': 100, 'tol': 0.0022040248840081676, 'algorithm': 'lloyd'}. Best is trial 8 with value: 0.7605901617573169.\n",
      "[I 2024-10-29 13:34:43,950] Trial 95 finished with value: 0.7605901617573169 and parameters: {'n_clusters': 2, 'init': 'k-means++', 'n_init': 260, 'max_iter': 200, 'tol': 0.00014042899680648726, 'algorithm': 'lloyd'}. Best is trial 8 with value: 0.7605901617573169.\n",
      "[I 2024-10-29 13:34:48,207] Trial 96 finished with value: 0.7605901617573169 and parameters: {'n_clusters': 2, 'init': 'k-means++', 'n_init': 200, 'max_iter': 100, 'tol': 0.0031123655482288063, 'algorithm': 'lloyd'}. Best is trial 8 with value: 0.7605901617573169.\n",
      "[I 2024-10-29 13:34:52,524] Trial 97 finished with value: 0.7605901617573169 and parameters: {'n_clusters': 2, 'init': 'k-means++', 'n_init': 240, 'max_iter': 150, 'tol': 0.0045242240429305665, 'algorithm': 'lloyd'}. Best is trial 8 with value: 0.7605901617573169.\n",
      "[I 2024-10-29 13:34:57,396] Trial 98 finished with value: 0.7512537039433016 and parameters: {'n_clusters': 3, 'init': 'k-means++', 'n_init': 220, 'max_iter': 250, 'tol': 0.0003754722269692066, 'algorithm': 'lloyd'}. Best is trial 8 with value: 0.7605901617573169.\n",
      "[I 2024-10-29 13:35:01,561] Trial 99 finished with value: 0.7605901617573169 and parameters: {'n_clusters': 2, 'init': 'k-means++', 'n_init': 150, 'max_iter': 450, 'tol': 0.0008100677079052058, 'algorithm': 'lloyd'}. Best is trial 8 with value: 0.7605901617573169.\n"
     ]
    },
    {
     "name": "stdout",
     "output_type": "stream",
     "text": [
      "\n",
      "Melhores hiperparâmetros para kmeans:\n",
      "{'n_clusters': 2, 'init': 'k-means++', 'n_init': 260, 'max_iter': 150, 'tol': 0.00038896623333968593, 'algorithm': 'lloyd'}\n",
      "Melhor score composto: 0.7605901617573169\n"
     ]
    }
   ],
   "source": [
    "print(\"Otimização do K-Means:\")\n",
    "study_kmeans = otimizar_clustering(df, 'kmeans', n_trials=100)\n"
   ]
  },
  {
   "cell_type": "code",
   "execution_count": 174,
   "metadata": {},
   "outputs": [
    {
     "name": "stderr",
     "output_type": "stream",
     "text": [
      "[I 2024-10-29 13:35:01,585] A new study created in memory with name: no-name-cfa853fa-648d-4c0a-9cc4-fb6ded2c8d87\n"
     ]
    },
    {
     "name": "stdout",
     "output_type": "stream",
     "text": [
      "\n",
      "Otimização do DBSCAN:\n"
     ]
    },
    {
     "name": "stderr",
     "output_type": "stream",
     "text": [
      "[I 2024-10-29 13:35:03,209] Trial 0 finished with value: -inf and parameters: {'eps': 3.0, 'min_samples': 2000, 'metric': 'chebyshev', 'algorithm': 'brute', 'leaf_size': 100, 'p': 3.040380576287224}. Best is trial 0 with value: -inf.\n",
      "[I 2024-10-29 13:35:04,103] Trial 1 finished with value: -inf and parameters: {'eps': 4.5, 'min_samples': 2200, 'metric': 'manhattan', 'algorithm': 'brute', 'leaf_size': 50, 'p': 1.1007569087351943}. Best is trial 0 with value: -inf.\n",
      "[I 2024-10-29 13:35:04,432] Trial 2 finished with value: -inf and parameters: {'eps': 3.0, 'min_samples': 1500, 'metric': 'euclidean', 'algorithm': 'brute', 'leaf_size': 90, 'p': 4.514447577604971}. Best is trial 0 with value: -inf.\n",
      "[I 2024-10-29 13:35:04,799] Trial 3 finished with value: -inf and parameters: {'eps': 3.0, 'min_samples': 1500, 'metric': 'manhattan', 'algorithm': 'auto', 'leaf_size': 80, 'p': 1.946157488393145}. Best is trial 0 with value: -inf.\n",
      "[I 2024-10-29 13:35:17,343] Trial 4 finished with value: 0.6306980037863917 and parameters: {'eps': 5.0, 'min_samples': 1900, 'metric': 'minkowski', 'algorithm': 'brute', 'leaf_size': 100, 'p': 4.25937395232982}. Best is trial 4 with value: 0.6306980037863917.\n",
      "[I 2024-10-29 13:35:20,729] Trial 5 finished with value: 0.5648405669880487 and parameters: {'eps': 4.5, 'min_samples': 1900, 'metric': 'chebyshev', 'algorithm': 'kd_tree', 'leaf_size': 70, 'p': 2.621366694005814}. Best is trial 4 with value: 0.6306980037863917.\n",
      "[I 2024-10-29 13:35:21,048] Trial 6 finished with value: -inf and parameters: {'eps': 3.0, 'min_samples': 1700, 'metric': 'euclidean', 'algorithm': 'ball_tree', 'leaf_size': 10, 'p': 2.2104545190347413}. Best is trial 4 with value: 0.6306980037863917.\n",
      "[I 2024-10-29 13:35:22,399] Trial 7 finished with value: -inf and parameters: {'eps': 3.5, 'min_samples': 3000, 'metric': 'euclidean', 'algorithm': 'auto', 'leaf_size': 10, 'p': 2.720291649095744}. Best is trial 4 with value: 0.6306980037863917.\n",
      "[I 2024-10-29 13:35:22,862] Trial 8 finished with value: -inf and parameters: {'eps': 2.0, 'min_samples': 1900, 'metric': 'euclidean', 'algorithm': 'ball_tree', 'leaf_size': 90, 'p': 2.960721259265387}. Best is trial 4 with value: 0.6306980037863917.\n",
      "[I 2024-10-29 13:35:26,435] Trial 9 finished with value: 0.5830034538457716 and parameters: {'eps': 5.0, 'min_samples': 2300, 'metric': 'chebyshev', 'algorithm': 'ball_tree', 'leaf_size': 30, 'p': 2.2525486361367686}. Best is trial 4 with value: 0.6306980037863917.\n",
      "[I 2024-10-29 13:35:33,056] Trial 10 finished with value: -inf and parameters: {'eps': 5.0, 'min_samples': 2700, 'metric': 'minkowski', 'algorithm': 'kd_tree', 'leaf_size': 60, 'p': 4.589277007352815}. Best is trial 4 with value: 0.6306980037863917.\n",
      "[I 2024-10-29 13:35:40,401] Trial 11 finished with value: -inf and parameters: {'eps': 5.0, 'min_samples': 2500, 'metric': 'minkowski', 'algorithm': 'ball_tree', 'leaf_size': 40, 'p': 3.8589907417663527}. Best is trial 4 with value: 0.6306980037863917.\n",
      "[I 2024-10-29 13:35:48,812] Trial 12 finished with value: -inf and parameters: {'eps': 4.5, 'min_samples': 2300, 'metric': 'minkowski', 'algorithm': 'ball_tree', 'leaf_size': 30, 'p': 3.700901709370818}. Best is trial 4 with value: 0.6306980037863917.\n",
      "[I 2024-10-29 13:35:50,422] Trial 13 finished with value: -inf and parameters: {'eps': 4.0, 'min_samples': 2200, 'metric': 'chebyshev', 'algorithm': 'brute', 'leaf_size': 30, 'p': 1.5438981725708227}. Best is trial 4 with value: 0.6306980037863917.\n",
      "[I 2024-10-29 13:35:56,650] Trial 14 finished with value: 0.475435974868932 and parameters: {'eps': 5.0, 'min_samples': 2500, 'metric': 'chebyshev', 'algorithm': 'brute', 'leaf_size': 30, 'p': 3.5707514145920403}. Best is trial 4 with value: 0.6306980037863917.\n",
      "[I 2024-10-29 13:36:04,237] Trial 15 finished with value: -inf and parameters: {'eps': 4.0, 'min_samples': 2000, 'metric': 'minkowski', 'algorithm': 'ball_tree', 'leaf_size': 60, 'p': 4.8752237623860495}. Best is trial 4 with value: 0.6306980037863917.\n",
      "[I 2024-10-29 13:36:07,856] Trial 16 finished with value: 0.6101579131607452 and parameters: {'eps': 4.0, 'min_samples': 1700, 'metric': 'chebyshev', 'algorithm': 'kd_tree', 'leaf_size': 20, 'p': 4.102382048804713}. Best is trial 4 with value: 0.6306980037863917.\n",
      "[I 2024-10-29 13:36:11,470] Trial 17 finished with value: -inf and parameters: {'eps': 4.0, 'min_samples': 1700, 'metric': 'minkowski', 'algorithm': 'kd_tree', 'leaf_size': 70, 'p': 4.214943951226722}. Best is trial 4 with value: 0.6306980037863917.\n",
      "[I 2024-10-29 13:36:11,706] Trial 18 finished with value: -inf and parameters: {'eps': 2.0, 'min_samples': 1700, 'metric': 'manhattan', 'algorithm': 'kd_tree', 'leaf_size': 100, 'p': 4.138372815398342}. Best is trial 4 with value: 0.6306980037863917.\n",
      "[I 2024-10-29 13:36:12,448] Trial 19 finished with value: -inf and parameters: {'eps': 3.5, 'min_samples': 1700, 'metric': 'chebyshev', 'algorithm': 'kd_tree', 'leaf_size': 20, 'p': 3.2635593290763136}. Best is trial 4 with value: 0.6306980037863917.\n",
      "[I 2024-10-29 13:36:16,241] Trial 20 finished with value: -inf and parameters: {'eps': 4.5, 'min_samples': 1900, 'metric': 'minkowski', 'algorithm': 'auto', 'leaf_size': 50, 'p': 4.124883694528263}. Best is trial 4 with value: 0.6306980037863917.\n",
      "[I 2024-10-29 13:36:19,840] Trial 21 finished with value: 0.5952159928412505 and parameters: {'eps': 5.0, 'min_samples': 2400, 'metric': 'chebyshev', 'algorithm': 'ball_tree', 'leaf_size': 20, 'p': 2.2115347781388275}. Best is trial 4 with value: 0.6306980037863917.\n",
      "[I 2024-10-29 13:36:23,279] Trial 22 finished with value: 0.475435974868932 and parameters: {'eps': 5.0, 'min_samples': 2500, 'metric': 'chebyshev', 'algorithm': 'kd_tree', 'leaf_size': 20, 'p': 4.9244075672850025}. Best is trial 4 with value: 0.6306980037863917.\n",
      "[I 2024-10-29 13:36:25,038] Trial 23 finished with value: -inf and parameters: {'eps': 4.5, 'min_samples': 2100, 'metric': 'chebyshev', 'algorithm': 'brute', 'leaf_size': 40, 'p': 3.5437013096299355}. Best is trial 4 with value: 0.6306980037863917.\n",
      "[I 2024-10-29 13:36:25,639] Trial 24 finished with value: -inf and parameters: {'eps': 3.5, 'min_samples': 2700, 'metric': 'chebyshev', 'algorithm': 'kd_tree', 'leaf_size': 20, 'p': 1.5622260789570661}. Best is trial 4 with value: 0.6306980037863917.\n",
      "[I 2024-10-29 13:36:29,877] Trial 25 finished with value: 0.5541968094337572 and parameters: {'eps': 4.0, 'min_samples': 1800, 'metric': 'chebyshev', 'algorithm': 'brute', 'leaf_size': 40, 'p': 3.228815924937315}. Best is trial 4 with value: 0.6306980037863917.\n",
      "[I 2024-10-29 13:36:33,282] Trial 26 finished with value: -inf and parameters: {'eps': 2.5, 'min_samples': 2400, 'metric': 'minkowski', 'algorithm': 'ball_tree', 'leaf_size': 10, 'p': 4.5557794015162445}. Best is trial 4 with value: 0.6306980037863917.\n",
      "[I 2024-10-29 13:36:33,792] Trial 27 finished with value: -inf and parameters: {'eps': 4.5, 'min_samples': 2100, 'metric': 'manhattan', 'algorithm': 'auto', 'leaf_size': 20, 'p': 2.5809016982123754}. Best is trial 4 with value: 0.6306980037863917.\n",
      "[I 2024-10-29 13:36:38,641] Trial 28 finished with value: 0.6836310066666548 and parameters: {'eps': 5.0, 'min_samples': 1600, 'metric': 'chebyshev', 'algorithm': 'brute', 'leaf_size': 70, 'p': 3.8647341371866153}. Best is trial 28 with value: 0.6836310066666548.\n",
      "[I 2024-10-29 13:36:42,783] Trial 29 finished with value: 0.6330039314696427 and parameters: {'eps': 4.0, 'min_samples': 1600, 'metric': 'chebyshev', 'algorithm': 'brute', 'leaf_size': 100, 'p': 3.9110990373291523}. Best is trial 28 with value: 0.6836310066666548.\n",
      "[I 2024-10-29 13:36:52,482] Trial 30 finished with value: -inf and parameters: {'eps': 2.5, 'min_samples': 1500, 'metric': 'minkowski', 'algorithm': 'brute', 'leaf_size': 100, 'p': 3.8133675691422146}. Best is trial 28 with value: 0.6836310066666548.\n",
      "[I 2024-10-29 13:36:56,709] Trial 31 finished with value: 0.6330039314696427 and parameters: {'eps': 4.0, 'min_samples': 1600, 'metric': 'chebyshev', 'algorithm': 'brute', 'leaf_size': 90, 'p': 4.007546272034102}. Best is trial 28 with value: 0.6836310066666548.\n",
      "[I 2024-10-29 13:36:58,209] Trial 32 finished with value: -inf and parameters: {'eps': 3.5, 'min_samples': 1600, 'metric': 'chebyshev', 'algorithm': 'brute', 'leaf_size': 90, 'p': 4.434943909942997}. Best is trial 28 with value: 0.6836310066666548.\n",
      "[I 2024-10-29 13:37:03,501] Trial 33 finished with value: 0.641330343103177 and parameters: {'eps': 4.5, 'min_samples': 1600, 'metric': 'chebyshev', 'algorithm': 'brute', 'leaf_size': 80, 'p': 3.3652054938763887}. Best is trial 28 with value: 0.6836310066666548.\n",
      "[I 2024-10-29 13:37:09,385] Trial 34 finished with value: 0.6330039314696427 and parameters: {'eps': 4.0, 'min_samples': 1600, 'metric': 'chebyshev', 'algorithm': 'brute', 'leaf_size': 80, 'p': 3.3181110671150966}. Best is trial 28 with value: 0.6836310066666548.\n",
      "[I 2024-10-29 13:37:14,203] Trial 35 finished with value: 0.6625355573073094 and parameters: {'eps': 4.5, 'min_samples': 1500, 'metric': 'chebyshev', 'algorithm': 'brute', 'leaf_size': 80, 'p': 3.9213865086181414}. Best is trial 28 with value: 0.6836310066666548.\n",
      "[I 2024-10-29 13:37:19,064] Trial 36 finished with value: 0.6625355573073094 and parameters: {'eps': 4.5, 'min_samples': 1500, 'metric': 'chebyshev', 'algorithm': 'brute', 'leaf_size': 80, 'p': 3.4979117810205116}. Best is trial 28 with value: 0.6836310066666548.\n",
      "[I 2024-10-29 13:37:19,881] Trial 37 finished with value: -inf and parameters: {'eps': 4.5, 'min_samples': 1500, 'metric': 'manhattan', 'algorithm': 'brute', 'leaf_size': 80, 'p': 3.450458355233163}. Best is trial 28 with value: 0.6836310066666548.\n",
      "[I 2024-10-29 13:37:24,426] Trial 38 finished with value: 0.6625355573073094 and parameters: {'eps': 4.5, 'min_samples': 1500, 'metric': 'chebyshev', 'algorithm': 'brute', 'leaf_size': 70, 'p': 2.9674431505550505}. Best is trial 28 with value: 0.6836310066666548.\n",
      "[I 2024-10-29 13:37:24,954] Trial 39 finished with value: -inf and parameters: {'eps': 4.5, 'min_samples': 1500, 'metric': 'euclidean', 'algorithm': 'brute', 'leaf_size': 70, 'p': 2.9987267397302864}. Best is trial 28 with value: 0.6836310066666548.\n",
      "[I 2024-10-29 13:37:31,114] Trial 40 finished with value: 0.6873803630427098 and parameters: {'eps': 5.0, 'min_samples': 1800, 'metric': 'chebyshev', 'algorithm': 'brute', 'leaf_size': 70, 'p': 2.858413771810197}. Best is trial 40 with value: 0.6873803630427098.\n",
      "[I 2024-10-29 13:37:37,546] Trial 41 finished with value: 0.6873803630427098 and parameters: {'eps': 5.0, 'min_samples': 1800, 'metric': 'chebyshev', 'algorithm': 'brute', 'leaf_size': 70, 'p': 2.8568662001280387}. Best is trial 40 with value: 0.6873803630427098.\n",
      "[I 2024-10-29 13:37:42,656] Trial 42 finished with value: 0.6873803630427098 and parameters: {'eps': 5.0, 'min_samples': 1800, 'metric': 'chebyshev', 'algorithm': 'brute', 'leaf_size': 60, 'p': 2.7885531721648893}. Best is trial 40 with value: 0.6873803630427098.\n",
      "[I 2024-10-29 13:37:47,944] Trial 43 finished with value: 0.6873803630427098 and parameters: {'eps': 5.0, 'min_samples': 1800, 'metric': 'chebyshev', 'algorithm': 'brute', 'leaf_size': 60, 'p': 2.512642778889118}. Best is trial 40 with value: 0.6873803630427098.\n",
      "[I 2024-10-29 13:37:53,143] Trial 44 finished with value: 0.6873803630427098 and parameters: {'eps': 5.0, 'min_samples': 1800, 'metric': 'chebyshev', 'algorithm': 'brute', 'leaf_size': 60, 'p': 2.7393381959464445}. Best is trial 40 with value: 0.6873803630427098.\n",
      "[I 2024-10-29 13:37:53,716] Trial 45 finished with value: -inf and parameters: {'eps': 5.0, 'min_samples': 1800, 'metric': 'euclidean', 'algorithm': 'brute', 'leaf_size': 60, 'p': 2.469423679083325}. Best is trial 40 with value: 0.6873803630427098.\n",
      "[I 2024-10-29 13:37:58,958] Trial 46 finished with value: 0.6873803630427098 and parameters: {'eps': 5.0, 'min_samples': 1800, 'metric': 'chebyshev', 'algorithm': 'brute', 'leaf_size': 50, 'p': 2.8050718632871914}. Best is trial 40 with value: 0.6873803630427098.\n",
      "[I 2024-10-29 13:38:02,990] Trial 47 finished with value: 0.6244005297045466 and parameters: {'eps': 5.0, 'min_samples': 2000, 'metric': 'chebyshev', 'algorithm': 'auto', 'leaf_size': 60, 'p': 1.9510370955483811}. Best is trial 40 with value: 0.6873803630427098.\n",
      "[I 2024-10-29 13:38:07,900] Trial 48 finished with value: 0.6540568417461831 and parameters: {'eps': 5.0, 'min_samples': 1900, 'metric': 'chebyshev', 'algorithm': 'brute', 'leaf_size': 60, 'p': 2.4034671081444423}. Best is trial 40 with value: 0.6873803630427098.\n",
      "[I 2024-10-29 13:38:08,634] Trial 49 finished with value: -inf and parameters: {'eps': 5.0, 'min_samples': 1800, 'metric': 'manhattan', 'algorithm': 'brute', 'leaf_size': 50, 'p': 1.9742868878013713}. Best is trial 40 with value: 0.6873803630427098.\n",
      "[I 2024-10-29 13:38:09,185] Trial 50 finished with value: -inf and parameters: {'eps': 5.0, 'min_samples': 2100, 'metric': 'euclidean', 'algorithm': 'brute', 'leaf_size': 70, 'p': 2.769886317464123}. Best is trial 40 with value: 0.6873803630427098.\n",
      "[I 2024-10-29 13:38:14,025] Trial 51 finished with value: 0.6873803630427098 and parameters: {'eps': 5.0, 'min_samples': 1800, 'metric': 'chebyshev', 'algorithm': 'brute', 'leaf_size': 50, 'p': 2.7269998531454407}. Best is trial 40 with value: 0.6873803630427098.\n",
      "[I 2024-10-29 13:38:19,003] Trial 52 finished with value: 0.6540568417461831 and parameters: {'eps': 5.0, 'min_samples': 1900, 'metric': 'chebyshev', 'algorithm': 'brute', 'leaf_size': 60, 'p': 3.0647269942282196}. Best is trial 40 with value: 0.6873803630427098.\n",
      "[I 2024-10-29 13:38:23,775] Trial 53 finished with value: 0.6244005297045466 and parameters: {'eps': 5.0, 'min_samples': 2000, 'metric': 'chebyshev', 'algorithm': 'brute', 'leaf_size': 50, 'p': 2.366381209195668}. Best is trial 40 with value: 0.6873803630427098.\n",
      "[I 2024-10-29 13:38:28,639] Trial 54 finished with value: 0.6873803630427098 and parameters: {'eps': 5.0, 'min_samples': 1800, 'metric': 'chebyshev', 'algorithm': 'brute', 'leaf_size': 60, 'p': 2.894651217238928}. Best is trial 40 with value: 0.6873803630427098.\n",
      "[I 2024-10-29 13:38:34,776] Trial 55 finished with value: 0.6244005297045466 and parameters: {'eps': 5.0, 'min_samples': 2000, 'metric': 'chebyshev', 'algorithm': 'brute', 'leaf_size': 50, 'p': 2.585016587387626}. Best is trial 40 with value: 0.6873803630427098.\n",
      "[I 2024-10-29 13:38:39,171] Trial 56 finished with value: 0.6540568417461831 and parameters: {'eps': 5.0, 'min_samples': 1900, 'metric': 'chebyshev', 'algorithm': 'auto', 'leaf_size': 70, 'p': 3.1484724879182813}. Best is trial 40 with value: 0.6873803630427098.\n",
      "[I 2024-10-29 13:38:43,770] Trial 57 finished with value: 0.6076518920518104 and parameters: {'eps': 4.5, 'min_samples': 1700, 'metric': 'chebyshev', 'algorithm': 'brute', 'leaf_size': 60, 'p': 2.8362616988430758}. Best is trial 40 with value: 0.6873803630427098.\n",
      "[I 2024-10-29 13:38:48,989] Trial 58 finished with value: 0.6873803630427098 and parameters: {'eps': 5.0, 'min_samples': 1800, 'metric': 'chebyshev', 'algorithm': 'brute', 'leaf_size': 40, 'p': 2.1565849228940177}. Best is trial 40 with value: 0.6873803630427098.\n",
      "[I 2024-10-29 13:38:50,856] Trial 59 finished with value: -inf and parameters: {'eps': 4.5, 'min_samples': 2200, 'metric': 'chebyshev', 'algorithm': 'brute', 'leaf_size': 50, 'p': 2.6774479975859258}. Best is trial 40 with value: 0.6873803630427098.\n",
      "[I 2024-10-29 13:38:51,655] Trial 60 finished with value: -inf and parameters: {'eps': 5.0, 'min_samples': 1700, 'metric': 'manhattan', 'algorithm': 'brute', 'leaf_size': 70, 'p': 2.32503295718968}. Best is trial 40 with value: 0.6873803630427098.\n",
      "[I 2024-10-29 13:38:56,834] Trial 61 finished with value: 0.6873803630427098 and parameters: {'eps': 5.0, 'min_samples': 1800, 'metric': 'chebyshev', 'algorithm': 'brute', 'leaf_size': 50, 'p': 2.7473126867676854}. Best is trial 40 with value: 0.6873803630427098.\n",
      "[I 2024-10-29 13:39:04,098] Trial 62 finished with value: 0.6873803630427098 and parameters: {'eps': 5.0, 'min_samples': 1800, 'metric': 'chebyshev', 'algorithm': 'brute', 'leaf_size': 60, 'p': 2.513226642551294}. Best is trial 40 with value: 0.6873803630427098.\n",
      "[I 2024-10-29 13:39:09,025] Trial 63 finished with value: 0.6540568417461831 and parameters: {'eps': 5.0, 'min_samples': 1900, 'metric': 'chebyshev', 'algorithm': 'brute', 'leaf_size': 50, 'p': 3.1058581782468533}. Best is trial 40 with value: 0.6873803630427098.\n",
      "[I 2024-10-29 13:39:13,365] Trial 64 finished with value: 0.6873803630427098 and parameters: {'eps': 5.0, 'min_samples': 1700, 'metric': 'chebyshev', 'algorithm': 'ball_tree', 'leaf_size': 40, 'p': 2.8642578471010607}. Best is trial 40 with value: 0.6873803630427098.\n",
      "[I 2024-10-29 13:39:18,135] Trial 65 finished with value: 0.6244005297045466 and parameters: {'eps': 5.0, 'min_samples': 2000, 'metric': 'chebyshev', 'algorithm': 'brute', 'leaf_size': 70, 'p': 2.067675605815617}. Best is trial 40 with value: 0.6873803630427098.\n",
      "[I 2024-10-29 13:39:22,643] Trial 66 finished with value: 0.5648405669880487 and parameters: {'eps': 4.5, 'min_samples': 1900, 'metric': 'chebyshev', 'algorithm': 'brute', 'leaf_size': 60, 'p': 2.6641939721400685}. Best is trial 40 with value: 0.6873803630427098.\n",
      "[I 2024-10-29 13:39:23,799] Trial 67 finished with value: -inf and parameters: {'eps': 5.0, 'min_samples': 1800, 'metric': 'euclidean', 'algorithm': 'auto', 'leaf_size': 40, 'p': 2.5173065821367486}. Best is trial 40 with value: 0.6873803630427098.\n",
      "[I 2024-10-29 13:39:24,474] Trial 68 finished with value: -inf and parameters: {'eps': 3.0, 'min_samples': 2800, 'metric': 'chebyshev', 'algorithm': 'kd_tree', 'leaf_size': 50, 'p': 2.764420105172498}. Best is trial 40 with value: 0.6873803630427098.\n",
      "[I 2024-10-29 13:39:29,078] Trial 69 finished with value: 0.6076518920518104 and parameters: {'eps': 4.5, 'min_samples': 1700, 'metric': 'chebyshev', 'algorithm': 'brute', 'leaf_size': 60, 'p': 1.6578684761420888}. Best is trial 40 with value: 0.6873803630427098.\n",
      "[I 2024-10-29 13:39:33,854] Trial 70 finished with value: 0.6407614181144634 and parameters: {'eps': 5.0, 'min_samples': 2100, 'metric': 'chebyshev', 'algorithm': 'brute', 'leaf_size': 60, 'p': 3.171449504135826}. Best is trial 40 with value: 0.6873803630427098.\n",
      "[I 2024-10-29 13:39:38,708] Trial 71 finished with value: 0.6873803630427098 and parameters: {'eps': 5.0, 'min_samples': 1800, 'metric': 'chebyshev', 'algorithm': 'brute', 'leaf_size': 70, 'p': 2.976139379703668}. Best is trial 40 with value: 0.6873803630427098.\n",
      "[I 2024-10-29 13:39:43,576] Trial 72 finished with value: 0.6540568417461831 and parameters: {'eps': 5.0, 'min_samples': 1900, 'metric': 'chebyshev', 'algorithm': 'brute', 'leaf_size': 50, 'p': 2.8289650634914363}. Best is trial 40 with value: 0.6873803630427098.\n",
      "[I 2024-10-29 13:39:48,301] Trial 73 finished with value: 0.6873803630427098 and parameters: {'eps': 5.0, 'min_samples': 1700, 'metric': 'chebyshev', 'algorithm': 'brute', 'leaf_size': 60, 'p': 1.0891207507647733}. Best is trial 40 with value: 0.6873803630427098.\n",
      "[I 2024-10-29 13:39:53,098] Trial 74 finished with value: 0.6873803630427098 and parameters: {'eps': 5.0, 'min_samples': 1800, 'metric': 'chebyshev', 'algorithm': 'brute', 'leaf_size': 60, 'p': 2.890877450557292}. Best is trial 40 with value: 0.6873803630427098.\n",
      "[I 2024-10-29 13:39:56,820] Trial 75 finished with value: 0.6076518920518104 and parameters: {'eps': 4.5, 'min_samples': 1700, 'metric': 'chebyshev', 'algorithm': 'ball_tree', 'leaf_size': 70, 'p': 2.5993258150920515}. Best is trial 40 with value: 0.6873803630427098.\n",
      "[I 2024-10-29 13:40:11,471] Trial 76 finished with value: 0.5797825408142631 and parameters: {'eps': 5.0, 'min_samples': 1900, 'metric': 'minkowski', 'algorithm': 'brute', 'leaf_size': 50, 'p': 2.9375247544579497}. Best is trial 40 with value: 0.6873803630427098.\n",
      "[I 2024-10-29 13:40:16,061] Trial 77 finished with value: 0.6139929455061156 and parameters: {'eps': 4.5, 'min_samples': 1800, 'metric': 'chebyshev', 'algorithm': 'brute', 'leaf_size': 60, 'p': 2.2589368895761326}. Best is trial 40 with value: 0.6873803630427098.\n",
      "[I 2024-10-29 13:40:21,175] Trial 78 finished with value: 0.6836310066666548 and parameters: {'eps': 5.0, 'min_samples': 1600, 'metric': 'chebyshev', 'algorithm': 'brute', 'leaf_size': 70, 'p': 3.2984712891116312}. Best is trial 40 with value: 0.6873803630427098.\n",
      "[I 2024-10-29 13:40:21,455] Trial 79 finished with value: -inf and parameters: {'eps': 2.5, 'min_samples': 1700, 'metric': 'manhattan', 'algorithm': 'kd_tree', 'leaf_size': 80, 'p': 3.6622220518175483}. Best is trial 40 with value: 0.6873803630427098.\n",
      "[I 2024-10-29 13:40:26,574] Trial 80 finished with value: 0.6244005297045466 and parameters: {'eps': 5.0, 'min_samples': 2000, 'metric': 'chebyshev', 'algorithm': 'brute', 'leaf_size': 50, 'p': 3.0452051800761355}. Best is trial 40 with value: 0.6873803630427098.\n",
      "[I 2024-10-29 13:40:32,833] Trial 81 finished with value: 0.6873803630427098 and parameters: {'eps': 5.0, 'min_samples': 1800, 'metric': 'chebyshev', 'algorithm': 'brute', 'leaf_size': 40, 'p': 1.7557286278015476}. Best is trial 40 with value: 0.6873803630427098.\n",
      "[I 2024-10-29 13:40:39,237] Trial 82 finished with value: 0.6873803630427098 and parameters: {'eps': 5.0, 'min_samples': 1800, 'metric': 'chebyshev', 'algorithm': 'brute', 'leaf_size': 30, 'p': 2.6833116791762954}. Best is trial 40 with value: 0.6873803630427098.\n",
      "[I 2024-10-29 13:40:44,401] Trial 83 finished with value: 0.6540568417461831 and parameters: {'eps': 5.0, 'min_samples': 1900, 'metric': 'chebyshev', 'algorithm': 'brute', 'leaf_size': 40, 'p': 2.460186171040956}. Best is trial 40 with value: 0.6873803630427098.\n",
      "[I 2024-10-29 13:40:49,680] Trial 84 finished with value: 0.6873803630427098 and parameters: {'eps': 5.0, 'min_samples': 1800, 'metric': 'chebyshev', 'algorithm': 'brute', 'leaf_size': 30, 'p': 2.130138185226637}. Best is trial 40 with value: 0.6873803630427098.\n",
      "[I 2024-10-29 13:40:54,858] Trial 85 finished with value: 0.6873803630427098 and parameters: {'eps': 5.0, 'min_samples': 1700, 'metric': 'chebyshev', 'algorithm': 'brute', 'leaf_size': 60, 'p': 2.2943124980487895}. Best is trial 40 with value: 0.6873803630427098.\n",
      "[I 2024-10-29 13:40:55,379] Trial 86 finished with value: -inf and parameters: {'eps': 4.5, 'min_samples': 1900, 'metric': 'euclidean', 'algorithm': 'brute', 'leaf_size': 40, 'p': 2.5997400088353264}. Best is trial 40 with value: 0.6873803630427098.\n",
      "[I 2024-10-29 13:41:04,263] Trial 87 finished with value: 0.6182381284158797 and parameters: {'eps': 5.0, 'min_samples': 1600, 'metric': 'minkowski', 'algorithm': 'auto', 'leaf_size': 70, 'p': 2.4431356077156963}. Best is trial 40 with value: 0.6873803630427098.\n",
      "[I 2024-10-29 13:41:09,113] Trial 88 finished with value: 0.6873803630427098 and parameters: {'eps': 5.0, 'min_samples': 1800, 'metric': 'chebyshev', 'algorithm': 'brute', 'leaf_size': 50, 'p': 2.107523156914379}. Best is trial 40 with value: 0.6873803630427098.\n",
      "[I 2024-10-29 13:41:10,695] Trial 89 finished with value: -inf and parameters: {'eps': 4.5, 'min_samples': 2000, 'metric': 'chebyshev', 'algorithm': 'brute', 'leaf_size': 60, 'p': 3.208703781663615}. Best is trial 40 with value: 0.6873803630427098.\n",
      "[I 2024-10-29 13:41:14,654] Trial 90 finished with value: 0.6540568417461831 and parameters: {'eps': 5.0, 'min_samples': 1900, 'metric': 'chebyshev', 'algorithm': 'ball_tree', 'leaf_size': 70, 'p': 1.322287788778762}. Best is trial 40 with value: 0.6873803630427098.\n",
      "[I 2024-10-29 13:41:19,360] Trial 91 finished with value: 0.6873803630427098 and parameters: {'eps': 5.0, 'min_samples': 1800, 'metric': 'chebyshev', 'algorithm': 'brute', 'leaf_size': 50, 'p': 2.864229539507701}. Best is trial 40 with value: 0.6873803630427098.\n",
      "[I 2024-10-29 13:41:24,096] Trial 92 finished with value: 0.6873803630427098 and parameters: {'eps': 5.0, 'min_samples': 1700, 'metric': 'chebyshev', 'algorithm': 'brute', 'leaf_size': 40, 'p': 2.737614731006242}. Best is trial 40 with value: 0.6873803630427098.\n",
      "[I 2024-10-29 13:41:28,841] Trial 93 finished with value: 0.6873803630427098 and parameters: {'eps': 5.0, 'min_samples': 1800, 'metric': 'chebyshev', 'algorithm': 'brute', 'leaf_size': 50, 'p': 2.759047764673982}. Best is trial 40 with value: 0.6873803630427098.\n",
      "[I 2024-10-29 13:41:33,833] Trial 94 finished with value: 0.6873803630427098 and parameters: {'eps': 5.0, 'min_samples': 1800, 'metric': 'chebyshev', 'algorithm': 'brute', 'leaf_size': 50, 'p': 3.027135634815376}. Best is trial 40 with value: 0.6873803630427098.\n",
      "[I 2024-10-29 13:41:40,315] Trial 95 finished with value: 0.6540568417461831 and parameters: {'eps': 5.0, 'min_samples': 1900, 'metric': 'chebyshev', 'algorithm': 'brute', 'leaf_size': 60, 'p': 2.5375800914682833}. Best is trial 40 with value: 0.6873803630427098.\n",
      "[I 2024-10-29 13:41:45,531] Trial 96 finished with value: 0.6873803630427098 and parameters: {'eps': 5.0, 'min_samples': 1700, 'metric': 'chebyshev', 'algorithm': 'brute', 'leaf_size': 60, 'p': 2.375840837837298}. Best is trial 40 with value: 0.6873803630427098.\n",
      "[I 2024-10-29 13:41:50,920] Trial 97 finished with value: 0.6540568417461831 and parameters: {'eps': 5.0, 'min_samples': 1900, 'metric': 'chebyshev', 'algorithm': 'brute', 'leaf_size': 50, 'p': 2.7962349302149536}. Best is trial 40 with value: 0.6873803630427098.\n",
      "[I 2024-10-29 13:41:51,748] Trial 98 finished with value: -inf and parameters: {'eps': 3.5, 'min_samples': 1800, 'metric': 'manhattan', 'algorithm': 'brute', 'leaf_size': 80, 'p': 2.9269020166206623}. Best is trial 40 with value: 0.6873803630427098.\n",
      "[I 2024-10-29 13:41:55,376] Trial 99 finished with value: 0.641330343103177 and parameters: {'eps': 4.5, 'min_samples': 1600, 'metric': 'chebyshev', 'algorithm': 'kd_tree', 'leaf_size': 60, 'p': 3.421672486708503}. Best is trial 40 with value: 0.6873803630427098.\n"
     ]
    },
    {
     "name": "stdout",
     "output_type": "stream",
     "text": [
      "\n",
      "Melhores hiperparâmetros para dbscan:\n",
      "{'eps': 5.0, 'min_samples': 1800, 'metric': 'chebyshev', 'algorithm': 'brute', 'leaf_size': 70, 'p': 2.858413771810197}\n",
      "Melhor score composto: 0.6873803630427098\n"
     ]
    }
   ],
   "source": [
    "print(\"\\nOtimização do DBSCAN:\")\n",
    "study_dbscan = otimizar_clustering(df, 'dbscan', n_trials=100)\n"
   ]
  },
  {
   "cell_type": "code",
   "execution_count": 175,
   "metadata": {},
   "outputs": [
    {
     "name": "stderr",
     "output_type": "stream",
     "text": [
      "[I 2024-10-29 13:41:55,402] A new study created in memory with name: no-name-4e93d426-7f79-4c9b-aa41-5e0059e86def\n",
      "c:\\Users\\arthurdomingos-ieg\\AppData\\Local\\Programs\\Python\\Python311\\Lib\\site-packages\\sklearn\\cluster\\_agglomerative.py:1005: FutureWarning:\n",
      "\n",
      "Attribute `affinity` was deprecated in version 1.2 and will be removed in 1.4. Use `metric` instead\n",
      "\n"
     ]
    },
    {
     "name": "stdout",
     "output_type": "stream",
     "text": [
      "\n",
      "Otimização do Agglomerative Clustering:\n"
     ]
    },
    {
     "name": "stderr",
     "output_type": "stream",
     "text": [
      "[I 2024-10-29 13:42:06,063] Trial 0 finished with value: 0.709556971388603 and parameters: {'n_clusters': 6, 'compute_full_tree': True, 'linkage': 'ward'}. Best is trial 0 with value: 0.709556971388603.\n",
      "c:\\Users\\arthurdomingos-ieg\\AppData\\Local\\Programs\\Python\\Python311\\Lib\\site-packages\\sklearn\\cluster\\_agglomerative.py:1005: FutureWarning:\n",
      "\n",
      "Attribute `affinity` was deprecated in version 1.2 and will be removed in 1.4. Use `metric` instead\n",
      "\n",
      "[I 2024-10-29 13:42:15,559] Trial 1 finished with value: 0.5276973991090959 and parameters: {'n_clusters': 7, 'compute_full_tree': False, 'linkage': 'average', 'metric': 'cosine'}. Best is trial 0 with value: 0.709556971388603.\n",
      "c:\\Users\\arthurdomingos-ieg\\AppData\\Local\\Programs\\Python\\Python311\\Lib\\site-packages\\sklearn\\cluster\\_agglomerative.py:1005: FutureWarning:\n",
      "\n",
      "Attribute `affinity` was deprecated in version 1.2 and will be removed in 1.4. Use `metric` instead\n",
      "\n",
      "[I 2024-10-29 13:42:24,908] Trial 2 finished with value: 0.5908363119493621 and parameters: {'n_clusters': 3, 'compute_full_tree': 'auto', 'linkage': 'average', 'metric': 'cosine'}. Best is trial 0 with value: 0.709556971388603.\n",
      "c:\\Users\\arthurdomingos-ieg\\AppData\\Local\\Programs\\Python\\Python311\\Lib\\site-packages\\sklearn\\cluster\\_agglomerative.py:1005: FutureWarning:\n",
      "\n",
      "Attribute `affinity` was deprecated in version 1.2 and will be removed in 1.4. Use `metric` instead\n",
      "\n",
      "[I 2024-10-29 13:42:33,791] Trial 3 finished with value: 0.5908363119493621 and parameters: {'n_clusters': 3, 'compute_full_tree': True, 'linkage': 'average', 'metric': 'cosine'}. Best is trial 0 with value: 0.709556971388603.\n",
      "c:\\Users\\arthurdomingos-ieg\\AppData\\Local\\Programs\\Python\\Python311\\Lib\\site-packages\\sklearn\\cluster\\_agglomerative.py:1005: FutureWarning:\n",
      "\n",
      "Attribute `affinity` was deprecated in version 1.2 and will be removed in 1.4. Use `metric` instead\n",
      "\n",
      "[I 2024-10-29 13:42:37,718] Trial 4 finished with value: 0.7831926916181345 and parameters: {'n_clusters': 2, 'compute_full_tree': True, 'linkage': 'single', 'metric': 'manhattan'}. Best is trial 4 with value: 0.7831926916181345.\n",
      "c:\\Users\\arthurdomingos-ieg\\AppData\\Local\\Programs\\Python\\Python311\\Lib\\site-packages\\sklearn\\cluster\\_agglomerative.py:1005: FutureWarning:\n",
      "\n",
      "Attribute `affinity` was deprecated in version 1.2 and will be removed in 1.4. Use `metric` instead\n",
      "\n",
      "[I 2024-10-29 13:42:46,317] Trial 5 finished with value: 0.6954029412296819 and parameters: {'n_clusters': 7, 'compute_full_tree': 'auto', 'linkage': 'complete', 'metric': 'l1'}. Best is trial 4 with value: 0.7831926916181345.\n",
      "c:\\Users\\arthurdomingos-ieg\\AppData\\Local\\Programs\\Python\\Python311\\Lib\\site-packages\\sklearn\\cluster\\_agglomerative.py:1005: FutureWarning:\n",
      "\n",
      "Attribute `affinity` was deprecated in version 1.2 and will be removed in 1.4. Use `metric` instead\n",
      "\n",
      "[I 2024-10-29 13:42:50,262] Trial 6 finished with value: 0.6260733930416466 and parameters: {'n_clusters': 7, 'compute_full_tree': True, 'linkage': 'single', 'metric': 'manhattan'}. Best is trial 4 with value: 0.7831926916181345.\n",
      "c:\\Users\\arthurdomingos-ieg\\AppData\\Local\\Programs\\Python\\Python311\\Lib\\site-packages\\sklearn\\cluster\\_agglomerative.py:1005: FutureWarning:\n",
      "\n",
      "Attribute `affinity` was deprecated in version 1.2 and will be removed in 1.4. Use `metric` instead\n",
      "\n",
      "[I 2024-10-29 13:42:58,334] Trial 7 finished with value: 0.7499844444401701 and parameters: {'n_clusters': 2, 'compute_full_tree': False, 'linkage': 'ward'}. Best is trial 4 with value: 0.7831926916181345.\n",
      "c:\\Users\\arthurdomingos-ieg\\AppData\\Local\\Programs\\Python\\Python311\\Lib\\site-packages\\sklearn\\cluster\\_agglomerative.py:1005: FutureWarning:\n",
      "\n",
      "Attribute `affinity` was deprecated in version 1.2 and will be removed in 1.4. Use `metric` instead\n",
      "\n",
      "[I 2024-10-29 13:43:07,838] Trial 8 finished with value: 0.7322637691203263 and parameters: {'n_clusters': 5, 'compute_full_tree': 'auto', 'linkage': 'ward'}. Best is trial 4 with value: 0.7831926916181345.\n",
      "c:\\Users\\arthurdomingos-ieg\\AppData\\Local\\Programs\\Python\\Python311\\Lib\\site-packages\\sklearn\\cluster\\_agglomerative.py:1005: FutureWarning:\n",
      "\n",
      "Attribute `affinity` was deprecated in version 1.2 and will be removed in 1.4. Use `metric` instead\n",
      "\n",
      "[I 2024-10-29 13:43:17,857] Trial 9 finished with value: 0.7376755756706729 and parameters: {'n_clusters': 5, 'compute_full_tree': 'auto', 'linkage': 'complete', 'metric': 'euclidean'}. Best is trial 4 with value: 0.7831926916181345.\n",
      "c:\\Users\\arthurdomingos-ieg\\AppData\\Local\\Programs\\Python\\Python311\\Lib\\site-packages\\sklearn\\cluster\\_agglomerative.py:1005: FutureWarning:\n",
      "\n",
      "Attribute `affinity` was deprecated in version 1.2 and will be removed in 1.4. Use `metric` instead\n",
      "\n",
      "[I 2024-10-29 13:43:22,524] Trial 10 finished with value: 0.7831926916181345 and parameters: {'n_clusters': 2, 'compute_full_tree': True, 'linkage': 'single', 'metric': 'manhattan'}. Best is trial 4 with value: 0.7831926916181345.\n",
      "c:\\Users\\arthurdomingos-ieg\\AppData\\Local\\Programs\\Python\\Python311\\Lib\\site-packages\\sklearn\\cluster\\_agglomerative.py:1005: FutureWarning:\n",
      "\n",
      "Attribute `affinity` was deprecated in version 1.2 and will be removed in 1.4. Use `metric` instead\n",
      "\n",
      "[I 2024-10-29 13:43:27,033] Trial 11 finished with value: 0.7831926916181345 and parameters: {'n_clusters': 2, 'compute_full_tree': True, 'linkage': 'single', 'metric': 'manhattan'}. Best is trial 4 with value: 0.7831926916181345.\n",
      "c:\\Users\\arthurdomingos-ieg\\AppData\\Local\\Programs\\Python\\Python311\\Lib\\site-packages\\sklearn\\cluster\\_agglomerative.py:1005: FutureWarning:\n",
      "\n",
      "Attribute `affinity` was deprecated in version 1.2 and will be removed in 1.4. Use `metric` instead\n",
      "\n",
      "[I 2024-10-29 13:43:32,754] Trial 12 finished with value: 0.7344264576312831 and parameters: {'n_clusters': 3, 'compute_full_tree': True, 'linkage': 'single', 'metric': 'l2'}. Best is trial 4 with value: 0.7831926916181345.\n",
      "c:\\Users\\arthurdomingos-ieg\\AppData\\Local\\Programs\\Python\\Python311\\Lib\\site-packages\\sklearn\\cluster\\_agglomerative.py:1005: FutureWarning:\n",
      "\n",
      "Attribute `affinity` was deprecated in version 1.2 and will be removed in 1.4. Use `metric` instead\n",
      "\n",
      "[I 2024-10-29 13:43:38,401] Trial 13 finished with value: 0.6862244215181689 and parameters: {'n_clusters': 4, 'compute_full_tree': True, 'linkage': 'single', 'metric': 'manhattan'}. Best is trial 4 with value: 0.7831926916181345.\n",
      "c:\\Users\\arthurdomingos-ieg\\AppData\\Local\\Programs\\Python\\Python311\\Lib\\site-packages\\sklearn\\cluster\\_agglomerative.py:1005: FutureWarning:\n",
      "\n",
      "Attribute `affinity` was deprecated in version 1.2 and will be removed in 1.4. Use `metric` instead\n",
      "\n",
      "[I 2024-10-29 13:43:43,063] Trial 14 finished with value: 0.7831926916181345 and parameters: {'n_clusters': 2, 'compute_full_tree': True, 'linkage': 'single', 'metric': 'manhattan'}. Best is trial 4 with value: 0.7831926916181345.\n",
      "c:\\Users\\arthurdomingos-ieg\\AppData\\Local\\Programs\\Python\\Python311\\Lib\\site-packages\\sklearn\\cluster\\_agglomerative.py:1005: FutureWarning:\n",
      "\n",
      "Attribute `affinity` was deprecated in version 1.2 and will be removed in 1.4. Use `metric` instead\n",
      "\n",
      "[I 2024-10-29 13:43:47,647] Trial 15 finished with value: 0.6862244215181689 and parameters: {'n_clusters': 4, 'compute_full_tree': True, 'linkage': 'single', 'metric': 'manhattan'}. Best is trial 4 with value: 0.7831926916181345.\n",
      "c:\\Users\\arthurdomingos-ieg\\AppData\\Local\\Programs\\Python\\Python311\\Lib\\site-packages\\sklearn\\cluster\\_agglomerative.py:1005: FutureWarning:\n",
      "\n",
      "Attribute `affinity` was deprecated in version 1.2 and will be removed in 1.4. Use `metric` instead\n",
      "\n",
      "[I 2024-10-29 13:43:52,723] Trial 16 finished with value: 0.7344264576312831 and parameters: {'n_clusters': 3, 'compute_full_tree': False, 'linkage': 'single', 'metric': 'euclidean'}. Best is trial 4 with value: 0.7831926916181345.\n",
      "c:\\Users\\arthurdomingos-ieg\\AppData\\Local\\Programs\\Python\\Python311\\Lib\\site-packages\\sklearn\\cluster\\_agglomerative.py:1005: FutureWarning:\n",
      "\n",
      "Attribute `affinity` was deprecated in version 1.2 and will be removed in 1.4. Use `metric` instead\n",
      "\n",
      "[I 2024-10-29 13:43:57,298] Trial 17 finished with value: 0.7831926916181345 and parameters: {'n_clusters': 2, 'compute_full_tree': True, 'linkage': 'single', 'metric': 'l1'}. Best is trial 4 with value: 0.7831926916181345.\n",
      "c:\\Users\\arthurdomingos-ieg\\AppData\\Local\\Programs\\Python\\Python311\\Lib\\site-packages\\sklearn\\cluster\\_agglomerative.py:1005: FutureWarning:\n",
      "\n",
      "Attribute `affinity` was deprecated in version 1.2 and will be removed in 1.4. Use `metric` instead\n",
      "\n",
      "[I 2024-10-29 13:44:06,779] Trial 18 finished with value: 0.734124404053533 and parameters: {'n_clusters': 4, 'compute_full_tree': True, 'linkage': 'complete', 'metric': 'l2'}. Best is trial 4 with value: 0.7831926916181345.\n",
      "c:\\Users\\arthurdomingos-ieg\\AppData\\Local\\Programs\\Python\\Python311\\Lib\\site-packages\\sklearn\\cluster\\_agglomerative.py:1005: FutureWarning:\n",
      "\n",
      "Attribute `affinity` was deprecated in version 1.2 and will be removed in 1.4. Use `metric` instead\n",
      "\n",
      "[I 2024-10-29 13:44:10,906] Trial 19 finished with value: 0.7831926916181345 and parameters: {'n_clusters': 2, 'compute_full_tree': False, 'linkage': 'single', 'metric': 'manhattan'}. Best is trial 4 with value: 0.7831926916181345.\n",
      "c:\\Users\\arthurdomingos-ieg\\AppData\\Local\\Programs\\Python\\Python311\\Lib\\site-packages\\sklearn\\cluster\\_agglomerative.py:1005: FutureWarning:\n",
      "\n",
      "Attribute `affinity` was deprecated in version 1.2 and will be removed in 1.4. Use `metric` instead\n",
      "\n",
      "[I 2024-10-29 13:44:14,769] Trial 20 finished with value: 0.7344264576312831 and parameters: {'n_clusters': 3, 'compute_full_tree': True, 'linkage': 'single', 'metric': 'manhattan'}. Best is trial 4 with value: 0.7831926916181345.\n",
      "c:\\Users\\arthurdomingos-ieg\\AppData\\Local\\Programs\\Python\\Python311\\Lib\\site-packages\\sklearn\\cluster\\_agglomerative.py:1005: FutureWarning:\n",
      "\n",
      "Attribute `affinity` was deprecated in version 1.2 and will be removed in 1.4. Use `metric` instead\n",
      "\n",
      "[I 2024-10-29 13:44:18,757] Trial 21 finished with value: 0.7831926916181345 and parameters: {'n_clusters': 2, 'compute_full_tree': True, 'linkage': 'single', 'metric': 'manhattan'}. Best is trial 4 with value: 0.7831926916181345.\n",
      "c:\\Users\\arthurdomingos-ieg\\AppData\\Local\\Programs\\Python\\Python311\\Lib\\site-packages\\sklearn\\cluster\\_agglomerative.py:1005: FutureWarning:\n",
      "\n",
      "Attribute `affinity` was deprecated in version 1.2 and will be removed in 1.4. Use `metric` instead\n",
      "\n",
      "[I 2024-10-29 13:44:22,834] Trial 22 finished with value: 0.7831926916181345 and parameters: {'n_clusters': 2, 'compute_full_tree': True, 'linkage': 'single', 'metric': 'manhattan'}. Best is trial 4 with value: 0.7831926916181345.\n",
      "c:\\Users\\arthurdomingos-ieg\\AppData\\Local\\Programs\\Python\\Python311\\Lib\\site-packages\\sklearn\\cluster\\_agglomerative.py:1005: FutureWarning:\n",
      "\n",
      "Attribute `affinity` was deprecated in version 1.2 and will be removed in 1.4. Use `metric` instead\n",
      "\n",
      "[I 2024-10-29 13:44:26,740] Trial 23 finished with value: 0.7344264576312831 and parameters: {'n_clusters': 3, 'compute_full_tree': True, 'linkage': 'single', 'metric': 'manhattan'}. Best is trial 4 with value: 0.7831926916181345.\n",
      "c:\\Users\\arthurdomingos-ieg\\AppData\\Local\\Programs\\Python\\Python311\\Lib\\site-packages\\sklearn\\cluster\\_agglomerative.py:1005: FutureWarning:\n",
      "\n",
      "Attribute `affinity` was deprecated in version 1.2 and will be removed in 1.4. Use `metric` instead\n",
      "\n",
      "[I 2024-10-29 13:44:30,743] Trial 24 finished with value: 0.7831926916181345 and parameters: {'n_clusters': 2, 'compute_full_tree': True, 'linkage': 'single', 'metric': 'manhattan'}. Best is trial 4 with value: 0.7831926916181345.\n",
      "c:\\Users\\arthurdomingos-ieg\\AppData\\Local\\Programs\\Python\\Python311\\Lib\\site-packages\\sklearn\\cluster\\_agglomerative.py:1005: FutureWarning:\n",
      "\n",
      "Attribute `affinity` was deprecated in version 1.2 and will be removed in 1.4. Use `metric` instead\n",
      "\n",
      "[I 2024-10-29 13:44:34,843] Trial 25 finished with value: 0.7344264576312831 and parameters: {'n_clusters': 3, 'compute_full_tree': True, 'linkage': 'single', 'metric': 'manhattan'}. Best is trial 4 with value: 0.7831926916181345.\n",
      "c:\\Users\\arthurdomingos-ieg\\AppData\\Local\\Programs\\Python\\Python311\\Lib\\site-packages\\sklearn\\cluster\\_agglomerative.py:1005: FutureWarning:\n",
      "\n",
      "Attribute `affinity` was deprecated in version 1.2 and will be removed in 1.4. Use `metric` instead\n",
      "\n",
      "[I 2024-10-29 13:44:45,890] Trial 26 finished with value: 0.7775923995398956 and parameters: {'n_clusters': 2, 'compute_full_tree': True, 'linkage': 'average', 'metric': 'l2'}. Best is trial 4 with value: 0.7831926916181345.\n",
      "c:\\Users\\arthurdomingos-ieg\\AppData\\Local\\Programs\\Python\\Python311\\Lib\\site-packages\\sklearn\\cluster\\_agglomerative.py:1005: FutureWarning:\n",
      "\n",
      "Attribute `affinity` was deprecated in version 1.2 and will be removed in 1.4. Use `metric` instead\n",
      "\n",
      "[I 2024-10-29 13:44:55,483] Trial 27 finished with value: 0.7407247741841596 and parameters: {'n_clusters': 4, 'compute_full_tree': True, 'linkage': 'ward'}. Best is trial 4 with value: 0.7831926916181345.\n",
      "c:\\Users\\arthurdomingos-ieg\\AppData\\Local\\Programs\\Python\\Python311\\Lib\\site-packages\\sklearn\\cluster\\_agglomerative.py:1005: FutureWarning:\n",
      "\n",
      "Attribute `affinity` was deprecated in version 1.2 and will be removed in 1.4. Use `metric` instead\n",
      "\n",
      "[I 2024-10-29 13:45:05,402] Trial 28 finished with value: 0.7383737431630678 and parameters: {'n_clusters': 6, 'compute_full_tree': 'auto', 'linkage': 'complete', 'metric': 'euclidean'}. Best is trial 4 with value: 0.7831926916181345.\n",
      "c:\\Users\\arthurdomingos-ieg\\AppData\\Local\\Programs\\Python\\Python311\\Lib\\site-packages\\sklearn\\cluster\\_agglomerative.py:1005: FutureWarning:\n",
      "\n",
      "Attribute `affinity` was deprecated in version 1.2 and will be removed in 1.4. Use `metric` instead\n",
      "\n",
      "[I 2024-10-29 13:45:15,229] Trial 29 finished with value: 0.709556971388603 and parameters: {'n_clusters': 6, 'compute_full_tree': False, 'linkage': 'ward'}. Best is trial 4 with value: 0.7831926916181345.\n",
      "c:\\Users\\arthurdomingos-ieg\\AppData\\Local\\Programs\\Python\\Python311\\Lib\\site-packages\\sklearn\\cluster\\_agglomerative.py:1005: FutureWarning:\n",
      "\n",
      "Attribute `affinity` was deprecated in version 1.2 and will be removed in 1.4. Use `metric` instead\n",
      "\n",
      "[I 2024-10-29 13:45:19,453] Trial 30 finished with value: 0.7831926916181345 and parameters: {'n_clusters': 2, 'compute_full_tree': True, 'linkage': 'single', 'metric': 'l1'}. Best is trial 4 with value: 0.7831926916181345.\n",
      "c:\\Users\\arthurdomingos-ieg\\AppData\\Local\\Programs\\Python\\Python311\\Lib\\site-packages\\sklearn\\cluster\\_agglomerative.py:1005: FutureWarning:\n",
      "\n",
      "Attribute `affinity` was deprecated in version 1.2 and will be removed in 1.4. Use `metric` instead\n",
      "\n",
      "[I 2024-10-29 13:45:23,548] Trial 31 finished with value: 0.7831926916181345 and parameters: {'n_clusters': 2, 'compute_full_tree': True, 'linkage': 'single', 'metric': 'manhattan'}. Best is trial 4 with value: 0.7831926916181345.\n",
      "c:\\Users\\arthurdomingos-ieg\\AppData\\Local\\Programs\\Python\\Python311\\Lib\\site-packages\\sklearn\\cluster\\_agglomerative.py:1005: FutureWarning:\n",
      "\n",
      "Attribute `affinity` was deprecated in version 1.2 and will be removed in 1.4. Use `metric` instead\n",
      "\n",
      "[I 2024-10-29 13:45:27,594] Trial 32 finished with value: 0.7831926916181345 and parameters: {'n_clusters': 2, 'compute_full_tree': True, 'linkage': 'single', 'metric': 'manhattan'}. Best is trial 4 with value: 0.7831926916181345.\n",
      "c:\\Users\\arthurdomingos-ieg\\AppData\\Local\\Programs\\Python\\Python311\\Lib\\site-packages\\sklearn\\cluster\\_agglomerative.py:1005: FutureWarning:\n",
      "\n",
      "Attribute `affinity` was deprecated in version 1.2 and will be removed in 1.4. Use `metric` instead\n",
      "\n",
      "[I 2024-10-29 13:45:31,736] Trial 33 finished with value: 0.7344264576312831 and parameters: {'n_clusters': 3, 'compute_full_tree': True, 'linkage': 'single', 'metric': 'manhattan'}. Best is trial 4 with value: 0.7831926916181345.\n",
      "c:\\Users\\arthurdomingos-ieg\\AppData\\Local\\Programs\\Python\\Python311\\Lib\\site-packages\\sklearn\\cluster\\_agglomerative.py:1005: FutureWarning:\n",
      "\n",
      "Attribute `affinity` was deprecated in version 1.2 and will be removed in 1.4. Use `metric` instead\n",
      "\n",
      "[I 2024-10-29 13:45:42,092] Trial 34 finished with value: 0.7841728549555228 and parameters: {'n_clusters': 3, 'compute_full_tree': True, 'linkage': 'average', 'metric': 'manhattan'}. Best is trial 34 with value: 0.7841728549555228.\n",
      "c:\\Users\\arthurdomingos-ieg\\AppData\\Local\\Programs\\Python\\Python311\\Lib\\site-packages\\sklearn\\cluster\\_agglomerative.py:1005: FutureWarning:\n",
      "\n",
      "Attribute `affinity` was deprecated in version 1.2 and will be removed in 1.4. Use `metric` instead\n",
      "\n",
      "[I 2024-10-29 13:45:52,145] Trial 35 finished with value: 0.5908363119493621 and parameters: {'n_clusters': 3, 'compute_full_tree': True, 'linkage': 'average', 'metric': 'cosine'}. Best is trial 34 with value: 0.7841728549555228.\n",
      "c:\\Users\\arthurdomingos-ieg\\AppData\\Local\\Programs\\Python\\Python311\\Lib\\site-packages\\sklearn\\cluster\\_agglomerative.py:1005: FutureWarning:\n",
      "\n",
      "Attribute `affinity` was deprecated in version 1.2 and will be removed in 1.4. Use `metric` instead\n",
      "\n",
      "[I 2024-10-29 13:46:02,107] Trial 36 finished with value: 0.7841728549555228 and parameters: {'n_clusters': 3, 'compute_full_tree': 'auto', 'linkage': 'average', 'metric': 'manhattan'}. Best is trial 34 with value: 0.7841728549555228.\n",
      "c:\\Users\\arthurdomingos-ieg\\AppData\\Local\\Programs\\Python\\Python311\\Lib\\site-packages\\sklearn\\cluster\\_agglomerative.py:1005: FutureWarning:\n",
      "\n",
      "Attribute `affinity` was deprecated in version 1.2 and will be removed in 1.4. Use `metric` instead\n",
      "\n",
      "[I 2024-10-29 13:46:12,812] Trial 37 finished with value: 0.5896452577636889 and parameters: {'n_clusters': 4, 'compute_full_tree': 'auto', 'linkage': 'average', 'metric': 'cosine'}. Best is trial 34 with value: 0.7841728549555228.\n",
      "c:\\Users\\arthurdomingos-ieg\\AppData\\Local\\Programs\\Python\\Python311\\Lib\\site-packages\\sklearn\\cluster\\_agglomerative.py:1005: FutureWarning:\n",
      "\n",
      "Attribute `affinity` was deprecated in version 1.2 and will be removed in 1.4. Use `metric` instead\n",
      "\n",
      "[I 2024-10-29 13:46:23,234] Trial 38 finished with value: 0.7841728549555228 and parameters: {'n_clusters': 3, 'compute_full_tree': 'auto', 'linkage': 'average', 'metric': 'manhattan'}. Best is trial 34 with value: 0.7841728549555228.\n",
      "c:\\Users\\arthurdomingos-ieg\\AppData\\Local\\Programs\\Python\\Python311\\Lib\\site-packages\\sklearn\\cluster\\_agglomerative.py:1005: FutureWarning:\n",
      "\n",
      "Attribute `affinity` was deprecated in version 1.2 and will be removed in 1.4. Use `metric` instead\n",
      "\n",
      "[I 2024-10-29 13:46:34,042] Trial 39 finished with value: 0.7841728549555228 and parameters: {'n_clusters': 3, 'compute_full_tree': 'auto', 'linkage': 'average', 'metric': 'l1'}. Best is trial 34 with value: 0.7841728549555228.\n",
      "c:\\Users\\arthurdomingos-ieg\\AppData\\Local\\Programs\\Python\\Python311\\Lib\\site-packages\\sklearn\\cluster\\_agglomerative.py:1005: FutureWarning:\n",
      "\n",
      "Attribute `affinity` was deprecated in version 1.2 and will be removed in 1.4. Use `metric` instead\n",
      "\n",
      "[I 2024-10-29 13:46:45,233] Trial 40 finished with value: 0.7211788446923862 and parameters: {'n_clusters': 5, 'compute_full_tree': 'auto', 'linkage': 'average', 'metric': 'l1'}. Best is trial 34 with value: 0.7841728549555228.\n",
      "c:\\Users\\arthurdomingos-ieg\\AppData\\Local\\Programs\\Python\\Python311\\Lib\\site-packages\\sklearn\\cluster\\_agglomerative.py:1005: FutureWarning:\n",
      "\n",
      "Attribute `affinity` was deprecated in version 1.2 and will be removed in 1.4. Use `metric` instead\n",
      "\n",
      "[I 2024-10-29 13:46:56,340] Trial 41 finished with value: 0.7841728549555228 and parameters: {'n_clusters': 3, 'compute_full_tree': 'auto', 'linkage': 'average', 'metric': 'l1'}. Best is trial 34 with value: 0.7841728549555228.\n",
      "c:\\Users\\arthurdomingos-ieg\\AppData\\Local\\Programs\\Python\\Python311\\Lib\\site-packages\\sklearn\\cluster\\_agglomerative.py:1005: FutureWarning:\n",
      "\n",
      "Attribute `affinity` was deprecated in version 1.2 and will be removed in 1.4. Use `metric` instead\n",
      "\n",
      "[I 2024-10-29 13:47:06,844] Trial 42 finished with value: 0.7841728549555228 and parameters: {'n_clusters': 3, 'compute_full_tree': 'auto', 'linkage': 'average', 'metric': 'l1'}. Best is trial 34 with value: 0.7841728549555228.\n",
      "c:\\Users\\arthurdomingos-ieg\\AppData\\Local\\Programs\\Python\\Python311\\Lib\\site-packages\\sklearn\\cluster\\_agglomerative.py:1005: FutureWarning:\n",
      "\n",
      "Attribute `affinity` was deprecated in version 1.2 and will be removed in 1.4. Use `metric` instead\n",
      "\n",
      "[I 2024-10-29 13:47:16,035] Trial 43 finished with value: 0.7841728549555228 and parameters: {'n_clusters': 3, 'compute_full_tree': 'auto', 'linkage': 'average', 'metric': 'l1'}. Best is trial 34 with value: 0.7841728549555228.\n",
      "c:\\Users\\arthurdomingos-ieg\\AppData\\Local\\Programs\\Python\\Python311\\Lib\\site-packages\\sklearn\\cluster\\_agglomerative.py:1005: FutureWarning:\n",
      "\n",
      "Attribute `affinity` was deprecated in version 1.2 and will be removed in 1.4. Use `metric` instead\n",
      "\n",
      "[I 2024-10-29 13:47:25,333] Trial 44 finished with value: 0.7428546065515418 and parameters: {'n_clusters': 4, 'compute_full_tree': 'auto', 'linkage': 'average', 'metric': 'l1'}. Best is trial 34 with value: 0.7841728549555228.\n",
      "c:\\Users\\arthurdomingos-ieg\\AppData\\Local\\Programs\\Python\\Python311\\Lib\\site-packages\\sklearn\\cluster\\_agglomerative.py:1005: FutureWarning:\n",
      "\n",
      "Attribute `affinity` was deprecated in version 1.2 and will be removed in 1.4. Use `metric` instead\n",
      "\n",
      "[I 2024-10-29 13:47:34,426] Trial 45 finished with value: 0.7841728549555228 and parameters: {'n_clusters': 3, 'compute_full_tree': 'auto', 'linkage': 'average', 'metric': 'l1'}. Best is trial 34 with value: 0.7841728549555228.\n",
      "c:\\Users\\arthurdomingos-ieg\\AppData\\Local\\Programs\\Python\\Python311\\Lib\\site-packages\\sklearn\\cluster\\_agglomerative.py:1005: FutureWarning:\n",
      "\n",
      "Attribute `affinity` was deprecated in version 1.2 and will be removed in 1.4. Use `metric` instead\n",
      "\n",
      "[I 2024-10-29 13:47:44,185] Trial 46 finished with value: 0.7428546065515418 and parameters: {'n_clusters': 4, 'compute_full_tree': 'auto', 'linkage': 'average', 'metric': 'l1'}. Best is trial 34 with value: 0.7841728549555228.\n",
      "c:\\Users\\arthurdomingos-ieg\\AppData\\Local\\Programs\\Python\\Python311\\Lib\\site-packages\\sklearn\\cluster\\_agglomerative.py:1005: FutureWarning:\n",
      "\n",
      "Attribute `affinity` was deprecated in version 1.2 and will be removed in 1.4. Use `metric` instead\n",
      "\n",
      "[I 2024-10-29 13:47:55,170] Trial 47 finished with value: 0.5908363119493621 and parameters: {'n_clusters': 3, 'compute_full_tree': 'auto', 'linkage': 'average', 'metric': 'cosine'}. Best is trial 34 with value: 0.7841728549555228.\n",
      "c:\\Users\\arthurdomingos-ieg\\AppData\\Local\\Programs\\Python\\Python311\\Lib\\site-packages\\sklearn\\cluster\\_agglomerative.py:1005: FutureWarning:\n",
      "\n",
      "Attribute `affinity` was deprecated in version 1.2 and will be removed in 1.4. Use `metric` instead\n",
      "\n",
      "[I 2024-10-29 13:48:05,830] Trial 48 finished with value: 0.7841728549555228 and parameters: {'n_clusters': 3, 'compute_full_tree': 'auto', 'linkage': 'average', 'metric': 'l1'}. Best is trial 34 with value: 0.7841728549555228.\n",
      "c:\\Users\\arthurdomingos-ieg\\AppData\\Local\\Programs\\Python\\Python311\\Lib\\site-packages\\sklearn\\cluster\\_agglomerative.py:1005: FutureWarning:\n",
      "\n",
      "Attribute `affinity` was deprecated in version 1.2 and will be removed in 1.4. Use `metric` instead\n",
      "\n",
      "[I 2024-10-29 13:48:17,631] Trial 49 finished with value: 0.7242392447652056 and parameters: {'n_clusters': 4, 'compute_full_tree': 'auto', 'linkage': 'average', 'metric': 'euclidean'}. Best is trial 34 with value: 0.7841728549555228.\n",
      "c:\\Users\\arthurdomingos-ieg\\AppData\\Local\\Programs\\Python\\Python311\\Lib\\site-packages\\sklearn\\cluster\\_agglomerative.py:1005: FutureWarning:\n",
      "\n",
      "Attribute `affinity` was deprecated in version 1.2 and will be removed in 1.4. Use `metric` instead\n",
      "\n",
      "[I 2024-10-29 13:48:27,147] Trial 50 finished with value: 0.703870481170782 and parameters: {'n_clusters': 5, 'compute_full_tree': 'auto', 'linkage': 'average', 'metric': 'l2'}. Best is trial 34 with value: 0.7841728549555228.\n",
      "c:\\Users\\arthurdomingos-ieg\\AppData\\Local\\Programs\\Python\\Python311\\Lib\\site-packages\\sklearn\\cluster\\_agglomerative.py:1005: FutureWarning:\n",
      "\n",
      "Attribute `affinity` was deprecated in version 1.2 and will be removed in 1.4. Use `metric` instead\n",
      "\n",
      "[I 2024-10-29 13:48:36,205] Trial 51 finished with value: 0.7841728549555228 and parameters: {'n_clusters': 3, 'compute_full_tree': 'auto', 'linkage': 'average', 'metric': 'l1'}. Best is trial 34 with value: 0.7841728549555228.\n",
      "c:\\Users\\arthurdomingos-ieg\\AppData\\Local\\Programs\\Python\\Python311\\Lib\\site-packages\\sklearn\\cluster\\_agglomerative.py:1005: FutureWarning:\n",
      "\n",
      "Attribute `affinity` was deprecated in version 1.2 and will be removed in 1.4. Use `metric` instead\n",
      "\n",
      "[I 2024-10-29 13:48:45,224] Trial 52 finished with value: 0.7841728549555228 and parameters: {'n_clusters': 3, 'compute_full_tree': 'auto', 'linkage': 'average', 'metric': 'l1'}. Best is trial 34 with value: 0.7841728549555228.\n",
      "c:\\Users\\arthurdomingos-ieg\\AppData\\Local\\Programs\\Python\\Python311\\Lib\\site-packages\\sklearn\\cluster\\_agglomerative.py:1005: FutureWarning:\n",
      "\n",
      "Attribute `affinity` was deprecated in version 1.2 and will be removed in 1.4. Use `metric` instead\n",
      "\n",
      "[I 2024-10-29 13:48:55,065] Trial 53 finished with value: 0.7841728549555228 and parameters: {'n_clusters': 3, 'compute_full_tree': 'auto', 'linkage': 'average', 'metric': 'l1'}. Best is trial 34 with value: 0.7841728549555228.\n",
      "c:\\Users\\arthurdomingos-ieg\\AppData\\Local\\Programs\\Python\\Python311\\Lib\\site-packages\\sklearn\\cluster\\_agglomerative.py:1005: FutureWarning:\n",
      "\n",
      "Attribute `affinity` was deprecated in version 1.2 and will be removed in 1.4. Use `metric` instead\n",
      "\n",
      "[I 2024-10-29 13:49:04,224] Trial 54 finished with value: 0.7841728549555228 and parameters: {'n_clusters': 3, 'compute_full_tree': 'auto', 'linkage': 'average', 'metric': 'l1'}. Best is trial 34 with value: 0.7841728549555228.\n",
      "c:\\Users\\arthurdomingos-ieg\\AppData\\Local\\Programs\\Python\\Python311\\Lib\\site-packages\\sklearn\\cluster\\_agglomerative.py:1005: FutureWarning:\n",
      "\n",
      "Attribute `affinity` was deprecated in version 1.2 and will be removed in 1.4. Use `metric` instead\n",
      "\n",
      "[I 2024-10-29 13:49:15,542] Trial 55 finished with value: 0.7428546065515418 and parameters: {'n_clusters': 4, 'compute_full_tree': 'auto', 'linkage': 'average', 'metric': 'l1'}. Best is trial 34 with value: 0.7841728549555228.\n",
      "c:\\Users\\arthurdomingos-ieg\\AppData\\Local\\Programs\\Python\\Python311\\Lib\\site-packages\\sklearn\\cluster\\_agglomerative.py:1005: FutureWarning:\n",
      "\n",
      "Attribute `affinity` was deprecated in version 1.2 and will be removed in 1.4. Use `metric` instead\n",
      "\n",
      "[I 2024-10-29 13:49:26,288] Trial 56 finished with value: 0.7841728549555228 and parameters: {'n_clusters': 3, 'compute_full_tree': 'auto', 'linkage': 'average', 'metric': 'manhattan'}. Best is trial 34 with value: 0.7841728549555228.\n",
      "c:\\Users\\arthurdomingos-ieg\\AppData\\Local\\Programs\\Python\\Python311\\Lib\\site-packages\\sklearn\\cluster\\_agglomerative.py:1005: FutureWarning:\n",
      "\n",
      "Attribute `affinity` was deprecated in version 1.2 and will be removed in 1.4. Use `metric` instead\n",
      "\n",
      "[I 2024-10-29 13:49:39,825] Trial 57 finished with value: 0.734124404053533 and parameters: {'n_clusters': 4, 'compute_full_tree': False, 'linkage': 'complete', 'metric': 'euclidean'}. Best is trial 34 with value: 0.7841728549555228.\n",
      "c:\\Users\\arthurdomingos-ieg\\AppData\\Local\\Programs\\Python\\Python311\\Lib\\site-packages\\sklearn\\cluster\\_agglomerative.py:1005: FutureWarning:\n",
      "\n",
      "Attribute `affinity` was deprecated in version 1.2 and will be removed in 1.4. Use `metric` instead\n",
      "\n",
      "[I 2024-10-29 13:49:50,451] Trial 58 finished with value: 0.7841728549555228 and parameters: {'n_clusters': 3, 'compute_full_tree': 'auto', 'linkage': 'average', 'metric': 'l1'}. Best is trial 34 with value: 0.7841728549555228.\n",
      "c:\\Users\\arthurdomingos-ieg\\AppData\\Local\\Programs\\Python\\Python311\\Lib\\site-packages\\sklearn\\cluster\\_agglomerative.py:1005: FutureWarning:\n",
      "\n",
      "Attribute `affinity` was deprecated in version 1.2 and will be removed in 1.4. Use `metric` instead\n",
      "\n",
      "[I 2024-10-29 13:50:02,013] Trial 59 finished with value: 0.7841728549555228 and parameters: {'n_clusters': 3, 'compute_full_tree': 'auto', 'linkage': 'average', 'metric': 'manhattan'}. Best is trial 34 with value: 0.7841728549555228.\n",
      "c:\\Users\\arthurdomingos-ieg\\AppData\\Local\\Programs\\Python\\Python311\\Lib\\site-packages\\sklearn\\cluster\\_agglomerative.py:1005: FutureWarning:\n",
      "\n",
      "Attribute `affinity` was deprecated in version 1.2 and will be removed in 1.4. Use `metric` instead\n",
      "\n",
      "[I 2024-10-29 13:50:11,893] Trial 60 finished with value: 0.7033833352759951 and parameters: {'n_clusters': 7, 'compute_full_tree': 'auto', 'linkage': 'ward'}. Best is trial 34 with value: 0.7841728549555228.\n",
      "c:\\Users\\arthurdomingos-ieg\\AppData\\Local\\Programs\\Python\\Python311\\Lib\\site-packages\\sklearn\\cluster\\_agglomerative.py:1005: FutureWarning:\n",
      "\n",
      "Attribute `affinity` was deprecated in version 1.2 and will be removed in 1.4. Use `metric` instead\n",
      "\n",
      "[I 2024-10-29 13:50:22,804] Trial 61 finished with value: 0.7841728549555228 and parameters: {'n_clusters': 3, 'compute_full_tree': 'auto', 'linkage': 'average', 'metric': 'l1'}. Best is trial 34 with value: 0.7841728549555228.\n",
      "c:\\Users\\arthurdomingos-ieg\\AppData\\Local\\Programs\\Python\\Python311\\Lib\\site-packages\\sklearn\\cluster\\_agglomerative.py:1005: FutureWarning:\n",
      "\n",
      "Attribute `affinity` was deprecated in version 1.2 and will be removed in 1.4. Use `metric` instead\n",
      "\n",
      "[I 2024-10-29 13:50:33,273] Trial 62 finished with value: 0.7841728549555228 and parameters: {'n_clusters': 3, 'compute_full_tree': 'auto', 'linkage': 'average', 'metric': 'l1'}. Best is trial 34 with value: 0.7841728549555228.\n",
      "c:\\Users\\arthurdomingos-ieg\\AppData\\Local\\Programs\\Python\\Python311\\Lib\\site-packages\\sklearn\\cluster\\_agglomerative.py:1005: FutureWarning:\n",
      "\n",
      "Attribute `affinity` was deprecated in version 1.2 and will be removed in 1.4. Use `metric` instead\n",
      "\n",
      "[I 2024-10-29 13:50:44,486] Trial 63 finished with value: 0.7841728549555228 and parameters: {'n_clusters': 3, 'compute_full_tree': 'auto', 'linkage': 'average', 'metric': 'l1'}. Best is trial 34 with value: 0.7841728549555228.\n",
      "c:\\Users\\arthurdomingos-ieg\\AppData\\Local\\Programs\\Python\\Python311\\Lib\\site-packages\\sklearn\\cluster\\_agglomerative.py:1005: FutureWarning:\n",
      "\n",
      "Attribute `affinity` was deprecated in version 1.2 and will be removed in 1.4. Use `metric` instead\n",
      "\n",
      "[I 2024-10-29 13:50:57,029] Trial 64 finished with value: 0.7841728549555228 and parameters: {'n_clusters': 3, 'compute_full_tree': 'auto', 'linkage': 'average', 'metric': 'l1'}. Best is trial 34 with value: 0.7841728549555228.\n",
      "c:\\Users\\arthurdomingos-ieg\\AppData\\Local\\Programs\\Python\\Python311\\Lib\\site-packages\\sklearn\\cluster\\_agglomerative.py:1005: FutureWarning:\n",
      "\n",
      "Attribute `affinity` was deprecated in version 1.2 and will be removed in 1.4. Use `metric` instead\n",
      "\n",
      "[I 2024-10-29 13:51:07,807] Trial 65 finished with value: 0.7242392447652056 and parameters: {'n_clusters': 4, 'compute_full_tree': False, 'linkage': 'average', 'metric': 'l2'}. Best is trial 34 with value: 0.7841728549555228.\n",
      "c:\\Users\\arthurdomingos-ieg\\AppData\\Local\\Programs\\Python\\Python311\\Lib\\site-packages\\sklearn\\cluster\\_agglomerative.py:1005: FutureWarning:\n",
      "\n",
      "Attribute `affinity` was deprecated in version 1.2 and will be removed in 1.4. Use `metric` instead\n",
      "\n",
      "[I 2024-10-29 13:51:20,265] Trial 66 finished with value: 0.7841728549555228 and parameters: {'n_clusters': 3, 'compute_full_tree': 'auto', 'linkage': 'average', 'metric': 'manhattan'}. Best is trial 34 with value: 0.7841728549555228.\n",
      "c:\\Users\\arthurdomingos-ieg\\AppData\\Local\\Programs\\Python\\Python311\\Lib\\site-packages\\sklearn\\cluster\\_agglomerative.py:1005: FutureWarning:\n",
      "\n",
      "Attribute `affinity` was deprecated in version 1.2 and will be removed in 1.4. Use `metric` instead\n",
      "\n",
      "[I 2024-10-29 13:51:31,202] Trial 67 finished with value: 0.7831926916181345 and parameters: {'n_clusters': 2, 'compute_full_tree': 'auto', 'linkage': 'average', 'metric': 'manhattan'}. Best is trial 34 with value: 0.7841728549555228.\n",
      "c:\\Users\\arthurdomingos-ieg\\AppData\\Local\\Programs\\Python\\Python311\\Lib\\site-packages\\sklearn\\cluster\\_agglomerative.py:1005: FutureWarning:\n",
      "\n",
      "Attribute `affinity` was deprecated in version 1.2 and will be removed in 1.4. Use `metric` instead\n",
      "\n",
      "[I 2024-10-29 13:51:41,225] Trial 68 finished with value: 0.7416380111084565 and parameters: {'n_clusters': 3, 'compute_full_tree': 'auto', 'linkage': 'complete', 'metric': 'l1'}. Best is trial 34 with value: 0.7841728549555228.\n",
      "c:\\Users\\arthurdomingos-ieg\\AppData\\Local\\Programs\\Python\\Python311\\Lib\\site-packages\\sklearn\\cluster\\_agglomerative.py:1005: FutureWarning:\n",
      "\n",
      "Attribute `affinity` was deprecated in version 1.2 and will be removed in 1.4. Use `metric` instead\n",
      "\n",
      "[I 2024-10-29 13:51:50,510] Trial 69 finished with value: 0.7499844444401701 and parameters: {'n_clusters': 2, 'compute_full_tree': 'auto', 'linkage': 'ward'}. Best is trial 34 with value: 0.7841728549555228.\n",
      "c:\\Users\\arthurdomingos-ieg\\AppData\\Local\\Programs\\Python\\Python311\\Lib\\site-packages\\sklearn\\cluster\\_agglomerative.py:1005: FutureWarning:\n",
      "\n",
      "Attribute `affinity` was deprecated in version 1.2 and will be removed in 1.4. Use `metric` instead\n",
      "\n",
      "[I 2024-10-29 13:52:01,753] Trial 70 finished with value: 0.7841728549555228 and parameters: {'n_clusters': 3, 'compute_full_tree': False, 'linkage': 'average', 'metric': 'manhattan'}. Best is trial 34 with value: 0.7841728549555228.\n",
      "c:\\Users\\arthurdomingos-ieg\\AppData\\Local\\Programs\\Python\\Python311\\Lib\\site-packages\\sklearn\\cluster\\_agglomerative.py:1005: FutureWarning:\n",
      "\n",
      "Attribute `affinity` was deprecated in version 1.2 and will be removed in 1.4. Use `metric` instead\n",
      "\n",
      "[I 2024-10-29 13:52:14,315] Trial 71 finished with value: 0.7841728549555228 and parameters: {'n_clusters': 3, 'compute_full_tree': 'auto', 'linkage': 'average', 'metric': 'l1'}. Best is trial 34 with value: 0.7841728549555228.\n",
      "c:\\Users\\arthurdomingos-ieg\\AppData\\Local\\Programs\\Python\\Python311\\Lib\\site-packages\\sklearn\\cluster\\_agglomerative.py:1005: FutureWarning:\n",
      "\n",
      "Attribute `affinity` was deprecated in version 1.2 and will be removed in 1.4. Use `metric` instead\n",
      "\n",
      "[I 2024-10-29 13:52:25,620] Trial 72 finished with value: 0.7841728549555228 and parameters: {'n_clusters': 3, 'compute_full_tree': 'auto', 'linkage': 'average', 'metric': 'l1'}. Best is trial 34 with value: 0.7841728549555228.\n",
      "c:\\Users\\arthurdomingos-ieg\\AppData\\Local\\Programs\\Python\\Python311\\Lib\\site-packages\\sklearn\\cluster\\_agglomerative.py:1005: FutureWarning:\n",
      "\n",
      "Attribute `affinity` was deprecated in version 1.2 and will be removed in 1.4. Use `metric` instead\n",
      "\n",
      "[I 2024-10-29 13:52:38,366] Trial 73 finished with value: 0.7841728549555228 and parameters: {'n_clusters': 3, 'compute_full_tree': 'auto', 'linkage': 'average', 'metric': 'l1'}. Best is trial 34 with value: 0.7841728549555228.\n",
      "c:\\Users\\arthurdomingos-ieg\\AppData\\Local\\Programs\\Python\\Python311\\Lib\\site-packages\\sklearn\\cluster\\_agglomerative.py:1005: FutureWarning:\n",
      "\n",
      "Attribute `affinity` was deprecated in version 1.2 and will be removed in 1.4. Use `metric` instead\n",
      "\n",
      "[I 2024-10-29 13:52:49,154] Trial 74 finished with value: 0.7428546065515418 and parameters: {'n_clusters': 4, 'compute_full_tree': 'auto', 'linkage': 'average', 'metric': 'l1'}. Best is trial 34 with value: 0.7841728549555228.\n",
      "c:\\Users\\arthurdomingos-ieg\\AppData\\Local\\Programs\\Python\\Python311\\Lib\\site-packages\\sklearn\\cluster\\_agglomerative.py:1005: FutureWarning:\n",
      "\n",
      "Attribute `affinity` was deprecated in version 1.2 and will be removed in 1.4. Use `metric` instead\n",
      "\n",
      "[I 2024-10-29 13:52:59,167] Trial 75 finished with value: 0.5908363119493621 and parameters: {'n_clusters': 3, 'compute_full_tree': 'auto', 'linkage': 'average', 'metric': 'cosine'}. Best is trial 34 with value: 0.7841728549555228.\n",
      "c:\\Users\\arthurdomingos-ieg\\AppData\\Local\\Programs\\Python\\Python311\\Lib\\site-packages\\sklearn\\cluster\\_agglomerative.py:1005: FutureWarning:\n",
      "\n",
      "Attribute `affinity` was deprecated in version 1.2 and will be removed in 1.4. Use `metric` instead\n",
      "\n",
      "[I 2024-10-29 13:53:10,356] Trial 76 finished with value: 0.7831926916181345 and parameters: {'n_clusters': 2, 'compute_full_tree': 'auto', 'linkage': 'average', 'metric': 'manhattan'}. Best is trial 34 with value: 0.7841728549555228.\n",
      "c:\\Users\\arthurdomingos-ieg\\AppData\\Local\\Programs\\Python\\Python311\\Lib\\site-packages\\sklearn\\cluster\\_agglomerative.py:1005: FutureWarning:\n",
      "\n",
      "Attribute `affinity` was deprecated in version 1.2 and will be removed in 1.4. Use `metric` instead\n",
      "\n",
      "[I 2024-10-29 13:53:20,829] Trial 77 finished with value: 0.7841728549555228 and parameters: {'n_clusters': 3, 'compute_full_tree': 'auto', 'linkage': 'average', 'metric': 'l1'}. Best is trial 34 with value: 0.7841728549555228.\n",
      "c:\\Users\\arthurdomingos-ieg\\AppData\\Local\\Programs\\Python\\Python311\\Lib\\site-packages\\sklearn\\cluster\\_agglomerative.py:1005: FutureWarning:\n",
      "\n",
      "Attribute `affinity` was deprecated in version 1.2 and will be removed in 1.4. Use `metric` instead\n",
      "\n",
      "[I 2024-10-29 13:53:31,032] Trial 78 finished with value: 0.734124404053533 and parameters: {'n_clusters': 4, 'compute_full_tree': 'auto', 'linkage': 'complete', 'metric': 'euclidean'}. Best is trial 34 with value: 0.7841728549555228.\n",
      "c:\\Users\\arthurdomingos-ieg\\AppData\\Local\\Programs\\Python\\Python311\\Lib\\site-packages\\sklearn\\cluster\\_agglomerative.py:1005: FutureWarning:\n",
      "\n",
      "Attribute `affinity` was deprecated in version 1.2 and will be removed in 1.4. Use `metric` instead\n",
      "\n",
      "[I 2024-10-29 13:53:41,858] Trial 79 finished with value: 0.7841728549555228 and parameters: {'n_clusters': 3, 'compute_full_tree': 'auto', 'linkage': 'average', 'metric': 'manhattan'}. Best is trial 34 with value: 0.7841728549555228.\n",
      "c:\\Users\\arthurdomingos-ieg\\AppData\\Local\\Programs\\Python\\Python311\\Lib\\site-packages\\sklearn\\cluster\\_agglomerative.py:1005: FutureWarning:\n",
      "\n",
      "Attribute `affinity` was deprecated in version 1.2 and will be removed in 1.4. Use `metric` instead\n",
      "\n",
      "[I 2024-10-29 13:53:53,791] Trial 80 finished with value: 0.7455016458138733 and parameters: {'n_clusters': 3, 'compute_full_tree': 'auto', 'linkage': 'average', 'metric': 'l2'}. Best is trial 34 with value: 0.7841728549555228.\n",
      "c:\\Users\\arthurdomingos-ieg\\AppData\\Local\\Programs\\Python\\Python311\\Lib\\site-packages\\sklearn\\cluster\\_agglomerative.py:1005: FutureWarning:\n",
      "\n",
      "Attribute `affinity` was deprecated in version 1.2 and will be removed in 1.4. Use `metric` instead\n",
      "\n",
      "[I 2024-10-29 13:54:04,574] Trial 81 finished with value: 0.7841728549555228 and parameters: {'n_clusters': 3, 'compute_full_tree': 'auto', 'linkage': 'average', 'metric': 'l1'}. Best is trial 34 with value: 0.7841728549555228.\n",
      "c:\\Users\\arthurdomingos-ieg\\AppData\\Local\\Programs\\Python\\Python311\\Lib\\site-packages\\sklearn\\cluster\\_agglomerative.py:1005: FutureWarning:\n",
      "\n",
      "Attribute `affinity` was deprecated in version 1.2 and will be removed in 1.4. Use `metric` instead\n",
      "\n",
      "[I 2024-10-29 13:54:15,690] Trial 82 finished with value: 0.7841728549555228 and parameters: {'n_clusters': 3, 'compute_full_tree': 'auto', 'linkage': 'average', 'metric': 'l1'}. Best is trial 34 with value: 0.7841728549555228.\n",
      "c:\\Users\\arthurdomingos-ieg\\AppData\\Local\\Programs\\Python\\Python311\\Lib\\site-packages\\sklearn\\cluster\\_agglomerative.py:1005: FutureWarning:\n",
      "\n",
      "Attribute `affinity` was deprecated in version 1.2 and will be removed in 1.4. Use `metric` instead\n",
      "\n",
      "[I 2024-10-29 13:54:27,149] Trial 83 finished with value: 0.7841728549555228 and parameters: {'n_clusters': 3, 'compute_full_tree': 'auto', 'linkage': 'average', 'metric': 'l1'}. Best is trial 34 with value: 0.7841728549555228.\n",
      "c:\\Users\\arthurdomingos-ieg\\AppData\\Local\\Programs\\Python\\Python311\\Lib\\site-packages\\sklearn\\cluster\\_agglomerative.py:1005: FutureWarning:\n",
      "\n",
      "Attribute `affinity` was deprecated in version 1.2 and will be removed in 1.4. Use `metric` instead\n",
      "\n",
      "[I 2024-10-29 13:54:37,266] Trial 84 finished with value: 0.7841728549555228 and parameters: {'n_clusters': 3, 'compute_full_tree': 'auto', 'linkage': 'average', 'metric': 'l1'}. Best is trial 34 with value: 0.7841728549555228.\n",
      "c:\\Users\\arthurdomingos-ieg\\AppData\\Local\\Programs\\Python\\Python311\\Lib\\site-packages\\sklearn\\cluster\\_agglomerative.py:1005: FutureWarning:\n",
      "\n",
      "Attribute `affinity` was deprecated in version 1.2 and will be removed in 1.4. Use `metric` instead\n",
      "\n",
      "[I 2024-10-29 13:54:47,955] Trial 85 finished with value: 0.7831926916181345 and parameters: {'n_clusters': 2, 'compute_full_tree': 'auto', 'linkage': 'average', 'metric': 'l1'}. Best is trial 34 with value: 0.7841728549555228.\n",
      "c:\\Users\\arthurdomingos-ieg\\AppData\\Local\\Programs\\Python\\Python311\\Lib\\site-packages\\sklearn\\cluster\\_agglomerative.py:1005: FutureWarning:\n",
      "\n",
      "Attribute `affinity` was deprecated in version 1.2 and will be removed in 1.4. Use `metric` instead\n",
      "\n",
      "[I 2024-10-29 13:54:57,452] Trial 86 finished with value: 0.7321940627091988 and parameters: {'n_clusters': 3, 'compute_full_tree': False, 'linkage': 'ward'}. Best is trial 34 with value: 0.7841728549555228.\n",
      "c:\\Users\\arthurdomingos-ieg\\AppData\\Local\\Programs\\Python\\Python311\\Lib\\site-packages\\sklearn\\cluster\\_agglomerative.py:1005: FutureWarning:\n",
      "\n",
      "Attribute `affinity` was deprecated in version 1.2 and will be removed in 1.4. Use `metric` instead\n",
      "\n",
      "[I 2024-10-29 13:55:08,358] Trial 87 finished with value: 0.7428546065515418 and parameters: {'n_clusters': 4, 'compute_full_tree': 'auto', 'linkage': 'average', 'metric': 'manhattan'}. Best is trial 34 with value: 0.7841728549555228.\n",
      "c:\\Users\\arthurdomingos-ieg\\AppData\\Local\\Programs\\Python\\Python311\\Lib\\site-packages\\sklearn\\cluster\\_agglomerative.py:1005: FutureWarning:\n",
      "\n",
      "Attribute `affinity` was deprecated in version 1.2 and will be removed in 1.4. Use `metric` instead\n",
      "\n",
      "[I 2024-10-29 13:55:21,403] Trial 88 finished with value: 0.7831926916181345 and parameters: {'n_clusters': 2, 'compute_full_tree': 'auto', 'linkage': 'average', 'metric': 'l1'}. Best is trial 34 with value: 0.7841728549555228.\n",
      "c:\\Users\\arthurdomingos-ieg\\AppData\\Local\\Programs\\Python\\Python311\\Lib\\site-packages\\sklearn\\cluster\\_agglomerative.py:1005: FutureWarning:\n",
      "\n",
      "Attribute `affinity` was deprecated in version 1.2 and will be removed in 1.4. Use `metric` instead\n",
      "\n",
      "[I 2024-10-29 13:55:32,541] Trial 89 finished with value: 0.5908363119493621 and parameters: {'n_clusters': 3, 'compute_full_tree': 'auto', 'linkage': 'average', 'metric': 'cosine'}. Best is trial 34 with value: 0.7841728549555228.\n",
      "c:\\Users\\arthurdomingos-ieg\\AppData\\Local\\Programs\\Python\\Python311\\Lib\\site-packages\\sklearn\\cluster\\_agglomerative.py:1005: FutureWarning:\n",
      "\n",
      "Attribute `affinity` was deprecated in version 1.2 and will be removed in 1.4. Use `metric` instead\n",
      "\n",
      "[I 2024-10-29 13:55:45,159] Trial 90 finished with value: 0.7841728549555228 and parameters: {'n_clusters': 3, 'compute_full_tree': True, 'linkage': 'average', 'metric': 'l1'}. Best is trial 34 with value: 0.7841728549555228.\n",
      "c:\\Users\\arthurdomingos-ieg\\AppData\\Local\\Programs\\Python\\Python311\\Lib\\site-packages\\sklearn\\cluster\\_agglomerative.py:1005: FutureWarning:\n",
      "\n",
      "Attribute `affinity` was deprecated in version 1.2 and will be removed in 1.4. Use `metric` instead\n",
      "\n",
      "[I 2024-10-29 13:55:57,181] Trial 91 finished with value: 0.7841728549555228 and parameters: {'n_clusters': 3, 'compute_full_tree': 'auto', 'linkage': 'average', 'metric': 'l1'}. Best is trial 34 with value: 0.7841728549555228.\n",
      "c:\\Users\\arthurdomingos-ieg\\AppData\\Local\\Programs\\Python\\Python311\\Lib\\site-packages\\sklearn\\cluster\\_agglomerative.py:1005: FutureWarning:\n",
      "\n",
      "Attribute `affinity` was deprecated in version 1.2 and will be removed in 1.4. Use `metric` instead\n",
      "\n",
      "[I 2024-10-29 13:56:10,264] Trial 92 finished with value: 0.7841728549555228 and parameters: {'n_clusters': 3, 'compute_full_tree': 'auto', 'linkage': 'average', 'metric': 'l1'}. Best is trial 34 with value: 0.7841728549555228.\n",
      "c:\\Users\\arthurdomingos-ieg\\AppData\\Local\\Programs\\Python\\Python311\\Lib\\site-packages\\sklearn\\cluster\\_agglomerative.py:1005: FutureWarning:\n",
      "\n",
      "Attribute `affinity` was deprecated in version 1.2 and will be removed in 1.4. Use `metric` instead\n",
      "\n",
      "[I 2024-10-29 13:56:21,854] Trial 93 finished with value: 0.7841728549555228 and parameters: {'n_clusters': 3, 'compute_full_tree': 'auto', 'linkage': 'average', 'metric': 'l1'}. Best is trial 34 with value: 0.7841728549555228.\n",
      "c:\\Users\\arthurdomingos-ieg\\AppData\\Local\\Programs\\Python\\Python311\\Lib\\site-packages\\sklearn\\cluster\\_agglomerative.py:1005: FutureWarning:\n",
      "\n",
      "Attribute `affinity` was deprecated in version 1.2 and will be removed in 1.4. Use `metric` instead\n",
      "\n",
      "[I 2024-10-29 13:56:33,378] Trial 94 finished with value: 0.7841728549555228 and parameters: {'n_clusters': 3, 'compute_full_tree': 'auto', 'linkage': 'average', 'metric': 'l1'}. Best is trial 34 with value: 0.7841728549555228.\n",
      "c:\\Users\\arthurdomingos-ieg\\AppData\\Local\\Programs\\Python\\Python311\\Lib\\site-packages\\sklearn\\cluster\\_agglomerative.py:1005: FutureWarning:\n",
      "\n",
      "Attribute `affinity` was deprecated in version 1.2 and will be removed in 1.4. Use `metric` instead\n",
      "\n",
      "[I 2024-10-29 13:56:44,999] Trial 95 finished with value: 0.7841728549555228 and parameters: {'n_clusters': 3, 'compute_full_tree': 'auto', 'linkage': 'average', 'metric': 'manhattan'}. Best is trial 34 with value: 0.7841728549555228.\n",
      "c:\\Users\\arthurdomingos-ieg\\AppData\\Local\\Programs\\Python\\Python311\\Lib\\site-packages\\sklearn\\cluster\\_agglomerative.py:1005: FutureWarning:\n",
      "\n",
      "Attribute `affinity` was deprecated in version 1.2 and will be removed in 1.4. Use `metric` instead\n",
      "\n",
      "[I 2024-10-29 13:56:56,743] Trial 96 finished with value: 0.7428546065515418 and parameters: {'n_clusters': 4, 'compute_full_tree': 'auto', 'linkage': 'average', 'metric': 'l1'}. Best is trial 34 with value: 0.7841728549555228.\n",
      "c:\\Users\\arthurdomingos-ieg\\AppData\\Local\\Programs\\Python\\Python311\\Lib\\site-packages\\sklearn\\cluster\\_agglomerative.py:1005: FutureWarning:\n",
      "\n",
      "Attribute `affinity` was deprecated in version 1.2 and will be removed in 1.4. Use `metric` instead\n",
      "\n",
      "[I 2024-10-29 13:57:08,839] Trial 97 finished with value: 0.7455016458138733 and parameters: {'n_clusters': 3, 'compute_full_tree': 'auto', 'linkage': 'average', 'metric': 'euclidean'}. Best is trial 34 with value: 0.7841728549555228.\n",
      "c:\\Users\\arthurdomingos-ieg\\AppData\\Local\\Programs\\Python\\Python311\\Lib\\site-packages\\sklearn\\cluster\\_agglomerative.py:1005: FutureWarning:\n",
      "\n",
      "Attribute `affinity` was deprecated in version 1.2 and will be removed in 1.4. Use `metric` instead\n",
      "\n",
      "[I 2024-10-29 13:57:19,339] Trial 98 finished with value: 0.7416380111084565 and parameters: {'n_clusters': 3, 'compute_full_tree': True, 'linkage': 'complete', 'metric': 'manhattan'}. Best is trial 34 with value: 0.7841728549555228.\n",
      "c:\\Users\\arthurdomingos-ieg\\AppData\\Local\\Programs\\Python\\Python311\\Lib\\site-packages\\sklearn\\cluster\\_agglomerative.py:1005: FutureWarning:\n",
      "\n",
      "Attribute `affinity` was deprecated in version 1.2 and will be removed in 1.4. Use `metric` instead\n",
      "\n",
      "[I 2024-10-29 13:57:30,733] Trial 99 finished with value: 0.7119794682091839 and parameters: {'n_clusters': 6, 'compute_full_tree': 'auto', 'linkage': 'average', 'metric': 'l1'}. Best is trial 34 with value: 0.7841728549555228.\n"
     ]
    },
    {
     "name": "stdout",
     "output_type": "stream",
     "text": [
      "\n",
      "Melhores hiperparâmetros para agglomerative:\n",
      "{'n_clusters': 3, 'compute_full_tree': True, 'linkage': 'average', 'metric': 'manhattan'}\n",
      "Melhor score composto: 0.7841728549555228\n"
     ]
    }
   ],
   "source": [
    "print(\"\\nOtimização do Agglomerative Clustering:\")\n",
    "study_agglomerative = otimizar_clustering(df, 'agglomerative', n_trials=100)\n"
   ]
  },
  {
   "cell_type": "code",
   "execution_count": 177,
   "metadata": {},
   "outputs": [
    {
     "name": "stderr",
     "output_type": "stream",
     "text": [
      "[I 2024-10-29 14:27:06,403] A new study created in memory with name: no-name-07efcb9e-1067-47c3-8743-b9b310349d16\n"
     ]
    },
    {
     "name": "stdout",
     "output_type": "stream",
     "text": [
      "\n",
      "Otimização do Mean-Shift:\n"
     ]
    },
    {
     "name": "stderr",
     "output_type": "stream",
     "text": [
      "[I 2024-10-29 14:28:54,802] Trial 0 finished with value: 0.6840113812045326 and parameters: {'bandwidth': 16.0, 'bin_seeding': False, 'min_bin_freq': 100, 'cluster_all': False}. Best is trial 0 with value: 0.6840113812045326.\n",
      "[I 2024-10-29 14:30:24,070] Trial 1 finished with value: 0.6299361493769005 and parameters: {'bandwidth': 12.0, 'bin_seeding': False, 'min_bin_freq': 40, 'cluster_all': False}. Best is trial 0 with value: 0.6840113812045326.\n",
      "[I 2024-10-29 14:30:26,056] Trial 2 finished with value: 0.5609212185920923 and parameters: {'bandwidth': 11.0, 'bin_seeding': True, 'min_bin_freq': 100, 'cluster_all': False}. Best is trial 0 with value: 0.6840113812045326.\n",
      "[I 2024-10-29 14:31:26,586] Trial 3 finished with value: 0.7885092500475094 and parameters: {'bandwidth': 19.0, 'bin_seeding': False, 'min_bin_freq': 120, 'cluster_all': True}. Best is trial 3 with value: 0.7885092500475094.\n",
      "[I 2024-10-29 14:31:26,685] Trial 4 finished with value: -inf and parameters: {'bandwidth': 18.0, 'bin_seeding': True, 'min_bin_freq': 110, 'cluster_all': True}. Best is trial 3 with value: 0.7885092500475094.\n",
      "[I 2024-10-29 14:31:28,814] Trial 5 finished with value: 0.7795916754637263 and parameters: {'bandwidth': 13.0, 'bin_seeding': True, 'min_bin_freq': 20, 'cluster_all': True}. Best is trial 3 with value: 0.7885092500475094.\n",
      "[I 2024-10-29 14:33:07,723] Trial 6 finished with value: 0.6340413015108063 and parameters: {'bandwidth': 11.0, 'bin_seeding': False, 'min_bin_freq': 30, 'cluster_all': False}. Best is trial 3 with value: 0.7885092500475094.\n",
      "[I 2024-10-29 14:33:10,427] Trial 7 finished with value: 0.6675397979412031 and parameters: {'bandwidth': 17.0, 'bin_seeding': True, 'min_bin_freq': 130, 'cluster_all': False}. Best is trial 3 with value: 0.7885092500475094.\n",
      "[I 2024-10-29 14:34:39,291] Trial 8 finished with value: 0.787797988401072 and parameters: {'bandwidth': 17.0, 'bin_seeding': False, 'min_bin_freq': 30, 'cluster_all': True}. Best is trial 3 with value: 0.7885092500475094.\n",
      "[I 2024-10-29 14:34:39,429] Trial 9 finished with value: -inf and parameters: {'bandwidth': 15.0, 'bin_seeding': True, 'min_bin_freq': 80, 'cluster_all': True}. Best is trial 3 with value: 0.7885092500475094.\n",
      "[I 2024-10-29 14:35:50,747] Trial 10 finished with value: 0.7881973784582591 and parameters: {'bandwidth': 20.0, 'bin_seeding': False, 'min_bin_freq': 150, 'cluster_all': True}. Best is trial 3 with value: 0.7885092500475094.\n",
      "[I 2024-10-29 14:37:37,608] Trial 11 finished with value: 0.7881973784582591 and parameters: {'bandwidth': 20.0, 'bin_seeding': False, 'min_bin_freq': 150, 'cluster_all': True}. Best is trial 3 with value: 0.7885092500475094.\n",
      "[I 2024-10-29 14:40:05,373] Trial 12 finished with value: 0.7881973784582591 and parameters: {'bandwidth': 20.0, 'bin_seeding': False, 'min_bin_freq': 150, 'cluster_all': True}. Best is trial 3 with value: 0.7885092500475094.\n",
      "[I 2024-10-29 14:41:45,961] Trial 13 finished with value: 0.7885092500475094 and parameters: {'bandwidth': 19.0, 'bin_seeding': False, 'min_bin_freq': 130, 'cluster_all': True}. Best is trial 3 with value: 0.7885092500475094.\n",
      "[I 2024-10-29 14:43:50,226] Trial 14 finished with value: 0.7886922301105387 and parameters: {'bandwidth': 18.0, 'bin_seeding': False, 'min_bin_freq': 70, 'cluster_all': True}. Best is trial 14 with value: 0.7886922301105387.\n",
      "[I 2024-10-29 14:45:43,679] Trial 15 finished with value: 0.7684383378061606 and parameters: {'bandwidth': 15.0, 'bin_seeding': False, 'min_bin_freq': 60, 'cluster_all': True}. Best is trial 14 with value: 0.7886922301105387.\n",
      "[I 2024-10-29 14:47:51,127] Trial 16 finished with value: 0.7886922301105387 and parameters: {'bandwidth': 18.0, 'bin_seeding': False, 'min_bin_freq': 70, 'cluster_all': True}. Best is trial 14 with value: 0.7886922301105387.\n",
      "[I 2024-10-29 14:50:40,975] Trial 17 finished with value: 0.7382399329147299 and parameters: {'bandwidth': 14.0, 'bin_seeding': False, 'min_bin_freq': 70, 'cluster_all': True}. Best is trial 14 with value: 0.7886922301105387.\n",
      "[I 2024-10-29 14:53:35,456] Trial 18 finished with value: 0.787797988401072 and parameters: {'bandwidth': 17.0, 'bin_seeding': False, 'min_bin_freq': 50, 'cluster_all': True}. Best is trial 14 with value: 0.7886922301105387.\n",
      "[I 2024-10-29 14:55:17,957] Trial 19 finished with value: 0.7886922301105387 and parameters: {'bandwidth': 18.0, 'bin_seeding': False, 'min_bin_freq': 80, 'cluster_all': True}. Best is trial 14 with value: 0.7886922301105387.\n"
     ]
    },
    {
     "name": "stdout",
     "output_type": "stream",
     "text": [
      "\n",
      "Melhores hiperparâmetros para mean_shift:\n",
      "{'bandwidth': 18.0, 'bin_seeding': False, 'min_bin_freq': 70, 'cluster_all': True}\n",
      "Melhor score composto: 0.7886922301105387\n"
     ]
    }
   ],
   "source": [
    "print(\"\\nOtimização do Mean-Shift:\")\n",
    "study_meanshift = otimizar_clustering(df, 'mean_shift', n_trials=20)\n"
   ]
  },
  {
   "cell_type": "markdown",
   "metadata": {},
   "source": [
    "## Classificação"
   ]
  },
  {
   "cell_type": "markdown",
   "metadata": {},
   "source": [
    "### K-Means"
   ]
  },
  {
   "cell_type": "code",
   "execution_count": 178,
   "metadata": {},
   "outputs": [
    {
     "data": {
      "text/plain": [
       "array([1, 1, 0, ..., 1, 1, 1])"
      ]
     },
     "execution_count": 178,
     "metadata": {},
     "output_type": "execute_result"
    }
   ],
   "source": [
    "kmeans = KMeans(**study_kmeans.best_params).fit(df)\n",
    "labels = kmeans.labels_\n",
    "labels"
   ]
  },
  {
   "cell_type": "code",
   "execution_count": 179,
   "metadata": {},
   "outputs": [
    {
     "data": {
      "text/html": [
       "<div>\n",
       "<style scoped>\n",
       "    .dataframe tbody tr th:only-of-type {\n",
       "        vertical-align: middle;\n",
       "    }\n",
       "\n",
       "    .dataframe tbody tr th {\n",
       "        vertical-align: top;\n",
       "    }\n",
       "\n",
       "    .dataframe thead th {\n",
       "        text-align: right;\n",
       "    }\n",
       "</style>\n",
       "<table border=\"1\" class=\"dataframe\">\n",
       "  <thead>\n",
       "    <tr style=\"text-align: right;\">\n",
       "      <th></th>\n",
       "      <th>euexfreq</th>\n",
       "      <th>eugenhth</th>\n",
       "      <th>eufastfdfrq</th>\n",
       "      <th>eudietsoda</th>\n",
       "      <th>euwgt</th>\n",
       "      <th>euhgt</th>\n",
       "      <th>Clusters</th>\n",
       "    </tr>\n",
       "  </thead>\n",
       "  <tbody>\n",
       "    <tr>\n",
       "      <th>0</th>\n",
       "      <td>0</td>\n",
       "      <td>1</td>\n",
       "      <td>0</td>\n",
       "      <td>0</td>\n",
       "      <td>77.11</td>\n",
       "      <td>1.52</td>\n",
       "      <td>1</td>\n",
       "    </tr>\n",
       "    <tr>\n",
       "      <th>1</th>\n",
       "      <td>0</td>\n",
       "      <td>2</td>\n",
       "      <td>1</td>\n",
       "      <td>0</td>\n",
       "      <td>58.06</td>\n",
       "      <td>1.60</td>\n",
       "      <td>1</td>\n",
       "    </tr>\n",
       "    <tr>\n",
       "      <th>2</th>\n",
       "      <td>0</td>\n",
       "      <td>5</td>\n",
       "      <td>0</td>\n",
       "      <td>0</td>\n",
       "      <td>122.47</td>\n",
       "      <td>1.57</td>\n",
       "      <td>0</td>\n",
       "    </tr>\n",
       "    <tr>\n",
       "      <th>3</th>\n",
       "      <td>5</td>\n",
       "      <td>4</td>\n",
       "      <td>0</td>\n",
       "      <td>0</td>\n",
       "      <td>95.25</td>\n",
       "      <td>1.75</td>\n",
       "      <td>0</td>\n",
       "    </tr>\n",
       "    <tr>\n",
       "      <th>4</th>\n",
       "      <td>2</td>\n",
       "      <td>3</td>\n",
       "      <td>3</td>\n",
       "      <td>1</td>\n",
       "      <td>99.79</td>\n",
       "      <td>1.80</td>\n",
       "      <td>0</td>\n",
       "    </tr>\n",
       "    <tr>\n",
       "      <th>...</th>\n",
       "      <td>...</td>\n",
       "      <td>...</td>\n",
       "      <td>...</td>\n",
       "      <td>...</td>\n",
       "      <td>...</td>\n",
       "      <td>...</td>\n",
       "      <td>...</td>\n",
       "    </tr>\n",
       "    <tr>\n",
       "      <th>10552</th>\n",
       "      <td>5</td>\n",
       "      <td>3</td>\n",
       "      <td>0</td>\n",
       "      <td>0</td>\n",
       "      <td>67.59</td>\n",
       "      <td>1.57</td>\n",
       "      <td>1</td>\n",
       "    </tr>\n",
       "    <tr>\n",
       "      <th>10553</th>\n",
       "      <td>2</td>\n",
       "      <td>2</td>\n",
       "      <td>3</td>\n",
       "      <td>2</td>\n",
       "      <td>81.65</td>\n",
       "      <td>1.73</td>\n",
       "      <td>1</td>\n",
       "    </tr>\n",
       "    <tr>\n",
       "      <th>10554</th>\n",
       "      <td>2</td>\n",
       "      <td>1</td>\n",
       "      <td>4</td>\n",
       "      <td>0</td>\n",
       "      <td>64.41</td>\n",
       "      <td>1.70</td>\n",
       "      <td>1</td>\n",
       "    </tr>\n",
       "    <tr>\n",
       "      <th>10555</th>\n",
       "      <td>1</td>\n",
       "      <td>1</td>\n",
       "      <td>3</td>\n",
       "      <td>1</td>\n",
       "      <td>76.20</td>\n",
       "      <td>1.80</td>\n",
       "      <td>1</td>\n",
       "    </tr>\n",
       "    <tr>\n",
       "      <th>10556</th>\n",
       "      <td>3</td>\n",
       "      <td>1</td>\n",
       "      <td>0</td>\n",
       "      <td>0</td>\n",
       "      <td>63.50</td>\n",
       "      <td>1.68</td>\n",
       "      <td>1</td>\n",
       "    </tr>\n",
       "  </tbody>\n",
       "</table>\n",
       "<p>10557 rows × 7 columns</p>\n",
       "</div>"
      ],
      "text/plain": [
       "       euexfreq  eugenhth  eufastfdfrq  eudietsoda   euwgt  euhgt  Clusters\n",
       "0             0         1            0           0   77.11   1.52         1\n",
       "1             0         2            1           0   58.06   1.60         1\n",
       "2             0         5            0           0  122.47   1.57         0\n",
       "3             5         4            0           0   95.25   1.75         0\n",
       "4             2         3            3           1   99.79   1.80         0\n",
       "...         ...       ...          ...         ...     ...    ...       ...\n",
       "10552         5         3            0           0   67.59   1.57         1\n",
       "10553         2         2            3           2   81.65   1.73         1\n",
       "10554         2         1            4           0   64.41   1.70         1\n",
       "10555         1         1            3           1   76.20   1.80         1\n",
       "10556         3         1            0           0   63.50   1.68         1\n",
       "\n",
       "[10557 rows x 7 columns]"
      ]
     },
     "execution_count": 179,
     "metadata": {},
     "output_type": "execute_result"
    }
   ],
   "source": [
    "df_kmeans = df.copy()\n",
    "df_kmeans['Clusters'] = labels\n",
    "df_kmeans"
   ]
  },
  {
   "cell_type": "code",
   "execution_count": 180,
   "metadata": {},
   "outputs": [
    {
     "data": {
      "application/vnd.plotly.v1+json": {
       "config": {
        "plotlyServerURL": "https://plot.ly"
       },
       "data": [
        {
         "mode": "markers",
         "name": "Objective Value",
         "type": "scatter",
         "x": [
          0,
          1,
          2,
          3,
          4,
          5,
          6,
          7,
          8,
          9,
          10,
          11,
          12,
          13,
          14,
          15,
          16,
          17,
          18,
          19,
          20,
          21,
          22,
          23,
          24,
          25,
          26,
          27,
          28,
          29,
          30,
          31,
          32,
          33,
          34,
          35,
          36,
          37,
          38,
          39,
          40,
          41,
          42,
          43,
          44,
          45,
          46,
          47,
          48,
          49,
          50,
          51,
          52,
          53,
          54,
          55,
          56,
          57,
          58,
          59,
          60,
          61,
          62,
          63,
          64,
          65,
          66,
          67,
          68,
          69,
          70,
          71,
          72,
          73,
          74,
          75,
          76,
          77,
          78,
          79,
          80,
          81,
          82,
          83,
          84,
          85,
          86,
          87,
          88,
          89,
          90,
          91,
          92,
          93,
          94,
          95,
          96,
          97,
          98,
          99
         ],
         "y": [
          0.7226426990002129,
          0.7512537039433016,
          0.7363894117620369,
          0.7454851410954048,
          0.7512537039433016,
          0.7454851410954048,
          0.7454851410954048,
          0.7363894117620369,
          0.7605901617573169,
          0.7339256643860562,
          0.7605901617573169,
          0.7605901617573169,
          0.7605901617573169,
          0.7605901617573169,
          0.7512537039433016,
          0.7185561958940143,
          0.7605901617573169,
          0.7280646766403535,
          0.7512537039433016,
          0.7605901617573169,
          0.7512537039433016,
          0.7605901617573169,
          0.7605901617573169,
          0.7512537039433016,
          0.7605901617573169,
          0.7512537039433016,
          0.7605901617573169,
          0.7454851410954048,
          0.7605901617573169,
          0.7280671777458312,
          0.7512537039433016,
          0.7605901617573169,
          0.7605901617573169,
          0.7512537039433016,
          0.7605901617573169,
          0.7512537039433016,
          0.7605901617573169,
          0.7454851410954048,
          0.7512537039433016,
          0.7605901617573169,
          0.7512537039433016,
          0.7605901617573169,
          0.7605901617573169,
          0.7605901617573169,
          0.7605901617573169,
          0.7454851410954048,
          0.7226426990002129,
          0.7605901617573169,
          0.7275254365003557,
          0.7512537039433016,
          0.7512537039433016,
          0.7605901617573169,
          0.7605901617573169,
          0.7605901617573169,
          0.7605901617573169,
          0.7605901617573169,
          0.7363850734588416,
          0.7605901617573169,
          0.7605901617573169,
          0.7512537039433016,
          0.7512537039433016,
          0.7605901617573169,
          0.7605901617573169,
          0.7605901617573169,
          0.7605901617573169,
          0.7605901617573169,
          0.7512537039433016,
          0.7605901617573169,
          0.7605901617573169,
          0.7512537039433016,
          0.7512537039433016,
          0.7605901617573169,
          0.7605901617573169,
          0.7605901617573169,
          0.7605901617573169,
          0.7605901617573169,
          0.7605901617573169,
          0.7605901617573169,
          0.7605901617573169,
          0.7605901617573169,
          0.7512537039433016,
          0.7605901617573169,
          0.7605901617573169,
          0.7605901617573169,
          0.7605901617573169,
          0.7363850734588416,
          0.7605901617573169,
          0.7605901617573169,
          0.7605901617573169,
          0.7512537039433016,
          0.7605901617573169,
          0.7605901617573169,
          0.7605901617573169,
          0.7605901617573169,
          0.7605901617573169,
          0.7605901617573169,
          0.7605901617573169,
          0.7605901617573169,
          0.7512537039433016,
          0.7605901617573169
         ]
        },
        {
         "mode": "lines",
         "name": "Best Value",
         "type": "scatter",
         "x": [
          0,
          1,
          2,
          3,
          4,
          5,
          6,
          7,
          8,
          9,
          10,
          11,
          12,
          13,
          14,
          15,
          16,
          17,
          18,
          19,
          20,
          21,
          22,
          23,
          24,
          25,
          26,
          27,
          28,
          29,
          30,
          31,
          32,
          33,
          34,
          35,
          36,
          37,
          38,
          39,
          40,
          41,
          42,
          43,
          44,
          45,
          46,
          47,
          48,
          49,
          50,
          51,
          52,
          53,
          54,
          55,
          56,
          57,
          58,
          59,
          60,
          61,
          62,
          63,
          64,
          65,
          66,
          67,
          68,
          69,
          70,
          71,
          72,
          73,
          74,
          75,
          76,
          77,
          78,
          79,
          80,
          81,
          82,
          83,
          84,
          85,
          86,
          87,
          88,
          89,
          90,
          91,
          92,
          93,
          94,
          95,
          96,
          97,
          98,
          99
         ],
         "y": [
          0.7226426990002129,
          0.7512537039433016,
          0.7512537039433016,
          0.7512537039433016,
          0.7512537039433016,
          0.7512537039433016,
          0.7512537039433016,
          0.7512537039433016,
          0.7605901617573169,
          0.7605901617573169,
          0.7605901617573169,
          0.7605901617573169,
          0.7605901617573169,
          0.7605901617573169,
          0.7605901617573169,
          0.7605901617573169,
          0.7605901617573169,
          0.7605901617573169,
          0.7605901617573169,
          0.7605901617573169,
          0.7605901617573169,
          0.7605901617573169,
          0.7605901617573169,
          0.7605901617573169,
          0.7605901617573169,
          0.7605901617573169,
          0.7605901617573169,
          0.7605901617573169,
          0.7605901617573169,
          0.7605901617573169,
          0.7605901617573169,
          0.7605901617573169,
          0.7605901617573169,
          0.7605901617573169,
          0.7605901617573169,
          0.7605901617573169,
          0.7605901617573169,
          0.7605901617573169,
          0.7605901617573169,
          0.7605901617573169,
          0.7605901617573169,
          0.7605901617573169,
          0.7605901617573169,
          0.7605901617573169,
          0.7605901617573169,
          0.7605901617573169,
          0.7605901617573169,
          0.7605901617573169,
          0.7605901617573169,
          0.7605901617573169,
          0.7605901617573169,
          0.7605901617573169,
          0.7605901617573169,
          0.7605901617573169,
          0.7605901617573169,
          0.7605901617573169,
          0.7605901617573169,
          0.7605901617573169,
          0.7605901617573169,
          0.7605901617573169,
          0.7605901617573169,
          0.7605901617573169,
          0.7605901617573169,
          0.7605901617573169,
          0.7605901617573169,
          0.7605901617573169,
          0.7605901617573169,
          0.7605901617573169,
          0.7605901617573169,
          0.7605901617573169,
          0.7605901617573169,
          0.7605901617573169,
          0.7605901617573169,
          0.7605901617573169,
          0.7605901617573169,
          0.7605901617573169,
          0.7605901617573169,
          0.7605901617573169,
          0.7605901617573169,
          0.7605901617573169,
          0.7605901617573169,
          0.7605901617573169,
          0.7605901617573169,
          0.7605901617573169,
          0.7605901617573169,
          0.7605901617573169,
          0.7605901617573169,
          0.7605901617573169,
          0.7605901617573169,
          0.7605901617573169,
          0.7605901617573169,
          0.7605901617573169,
          0.7605901617573169,
          0.7605901617573169,
          0.7605901617573169,
          0.7605901617573169,
          0.7605901617573169,
          0.7605901617573169,
          0.7605901617573169,
          0.7605901617573169
         ]
        },
        {
         "marker": {
          "color": "#cccccc"
         },
         "mode": "markers",
         "name": "Infeasible Trial",
         "showlegend": false,
         "type": "scatter",
         "x": [],
         "y": []
        }
       ],
       "layout": {
        "template": {
         "data": {
          "bar": [
           {
            "error_x": {
             "color": "#2a3f5f"
            },
            "error_y": {
             "color": "#2a3f5f"
            },
            "marker": {
             "line": {
              "color": "#E5ECF6",
              "width": 0.5
             },
             "pattern": {
              "fillmode": "overlay",
              "size": 10,
              "solidity": 0.2
             }
            },
            "type": "bar"
           }
          ],
          "barpolar": [
           {
            "marker": {
             "line": {
              "color": "#E5ECF6",
              "width": 0.5
             },
             "pattern": {
              "fillmode": "overlay",
              "size": 10,
              "solidity": 0.2
             }
            },
            "type": "barpolar"
           }
          ],
          "carpet": [
           {
            "aaxis": {
             "endlinecolor": "#2a3f5f",
             "gridcolor": "white",
             "linecolor": "white",
             "minorgridcolor": "white",
             "startlinecolor": "#2a3f5f"
            },
            "baxis": {
             "endlinecolor": "#2a3f5f",
             "gridcolor": "white",
             "linecolor": "white",
             "minorgridcolor": "white",
             "startlinecolor": "#2a3f5f"
            },
            "type": "carpet"
           }
          ],
          "choropleth": [
           {
            "colorbar": {
             "outlinewidth": 0,
             "ticks": ""
            },
            "type": "choropleth"
           }
          ],
          "contour": [
           {
            "colorbar": {
             "outlinewidth": 0,
             "ticks": ""
            },
            "colorscale": [
             [
              0,
              "#0d0887"
             ],
             [
              0.1111111111111111,
              "#46039f"
             ],
             [
              0.2222222222222222,
              "#7201a8"
             ],
             [
              0.3333333333333333,
              "#9c179e"
             ],
             [
              0.4444444444444444,
              "#bd3786"
             ],
             [
              0.5555555555555556,
              "#d8576b"
             ],
             [
              0.6666666666666666,
              "#ed7953"
             ],
             [
              0.7777777777777778,
              "#fb9f3a"
             ],
             [
              0.8888888888888888,
              "#fdca26"
             ],
             [
              1,
              "#f0f921"
             ]
            ],
            "type": "contour"
           }
          ],
          "contourcarpet": [
           {
            "colorbar": {
             "outlinewidth": 0,
             "ticks": ""
            },
            "type": "contourcarpet"
           }
          ],
          "heatmap": [
           {
            "colorbar": {
             "outlinewidth": 0,
             "ticks": ""
            },
            "colorscale": [
             [
              0,
              "#0d0887"
             ],
             [
              0.1111111111111111,
              "#46039f"
             ],
             [
              0.2222222222222222,
              "#7201a8"
             ],
             [
              0.3333333333333333,
              "#9c179e"
             ],
             [
              0.4444444444444444,
              "#bd3786"
             ],
             [
              0.5555555555555556,
              "#d8576b"
             ],
             [
              0.6666666666666666,
              "#ed7953"
             ],
             [
              0.7777777777777778,
              "#fb9f3a"
             ],
             [
              0.8888888888888888,
              "#fdca26"
             ],
             [
              1,
              "#f0f921"
             ]
            ],
            "type": "heatmap"
           }
          ],
          "heatmapgl": [
           {
            "colorbar": {
             "outlinewidth": 0,
             "ticks": ""
            },
            "colorscale": [
             [
              0,
              "#0d0887"
             ],
             [
              0.1111111111111111,
              "#46039f"
             ],
             [
              0.2222222222222222,
              "#7201a8"
             ],
             [
              0.3333333333333333,
              "#9c179e"
             ],
             [
              0.4444444444444444,
              "#bd3786"
             ],
             [
              0.5555555555555556,
              "#d8576b"
             ],
             [
              0.6666666666666666,
              "#ed7953"
             ],
             [
              0.7777777777777778,
              "#fb9f3a"
             ],
             [
              0.8888888888888888,
              "#fdca26"
             ],
             [
              1,
              "#f0f921"
             ]
            ],
            "type": "heatmapgl"
           }
          ],
          "histogram": [
           {
            "marker": {
             "pattern": {
              "fillmode": "overlay",
              "size": 10,
              "solidity": 0.2
             }
            },
            "type": "histogram"
           }
          ],
          "histogram2d": [
           {
            "colorbar": {
             "outlinewidth": 0,
             "ticks": ""
            },
            "colorscale": [
             [
              0,
              "#0d0887"
             ],
             [
              0.1111111111111111,
              "#46039f"
             ],
             [
              0.2222222222222222,
              "#7201a8"
             ],
             [
              0.3333333333333333,
              "#9c179e"
             ],
             [
              0.4444444444444444,
              "#bd3786"
             ],
             [
              0.5555555555555556,
              "#d8576b"
             ],
             [
              0.6666666666666666,
              "#ed7953"
             ],
             [
              0.7777777777777778,
              "#fb9f3a"
             ],
             [
              0.8888888888888888,
              "#fdca26"
             ],
             [
              1,
              "#f0f921"
             ]
            ],
            "type": "histogram2d"
           }
          ],
          "histogram2dcontour": [
           {
            "colorbar": {
             "outlinewidth": 0,
             "ticks": ""
            },
            "colorscale": [
             [
              0,
              "#0d0887"
             ],
             [
              0.1111111111111111,
              "#46039f"
             ],
             [
              0.2222222222222222,
              "#7201a8"
             ],
             [
              0.3333333333333333,
              "#9c179e"
             ],
             [
              0.4444444444444444,
              "#bd3786"
             ],
             [
              0.5555555555555556,
              "#d8576b"
             ],
             [
              0.6666666666666666,
              "#ed7953"
             ],
             [
              0.7777777777777778,
              "#fb9f3a"
             ],
             [
              0.8888888888888888,
              "#fdca26"
             ],
             [
              1,
              "#f0f921"
             ]
            ],
            "type": "histogram2dcontour"
           }
          ],
          "mesh3d": [
           {
            "colorbar": {
             "outlinewidth": 0,
             "ticks": ""
            },
            "type": "mesh3d"
           }
          ],
          "parcoords": [
           {
            "line": {
             "colorbar": {
              "outlinewidth": 0,
              "ticks": ""
             }
            },
            "type": "parcoords"
           }
          ],
          "pie": [
           {
            "automargin": true,
            "type": "pie"
           }
          ],
          "scatter": [
           {
            "fillpattern": {
             "fillmode": "overlay",
             "size": 10,
             "solidity": 0.2
            },
            "type": "scatter"
           }
          ],
          "scatter3d": [
           {
            "line": {
             "colorbar": {
              "outlinewidth": 0,
              "ticks": ""
             }
            },
            "marker": {
             "colorbar": {
              "outlinewidth": 0,
              "ticks": ""
             }
            },
            "type": "scatter3d"
           }
          ],
          "scattercarpet": [
           {
            "marker": {
             "colorbar": {
              "outlinewidth": 0,
              "ticks": ""
             }
            },
            "type": "scattercarpet"
           }
          ],
          "scattergeo": [
           {
            "marker": {
             "colorbar": {
              "outlinewidth": 0,
              "ticks": ""
             }
            },
            "type": "scattergeo"
           }
          ],
          "scattergl": [
           {
            "marker": {
             "colorbar": {
              "outlinewidth": 0,
              "ticks": ""
             }
            },
            "type": "scattergl"
           }
          ],
          "scattermapbox": [
           {
            "marker": {
             "colorbar": {
              "outlinewidth": 0,
              "ticks": ""
             }
            },
            "type": "scattermapbox"
           }
          ],
          "scatterpolar": [
           {
            "marker": {
             "colorbar": {
              "outlinewidth": 0,
              "ticks": ""
             }
            },
            "type": "scatterpolar"
           }
          ],
          "scatterpolargl": [
           {
            "marker": {
             "colorbar": {
              "outlinewidth": 0,
              "ticks": ""
             }
            },
            "type": "scatterpolargl"
           }
          ],
          "scatterternary": [
           {
            "marker": {
             "colorbar": {
              "outlinewidth": 0,
              "ticks": ""
             }
            },
            "type": "scatterternary"
           }
          ],
          "surface": [
           {
            "colorbar": {
             "outlinewidth": 0,
             "ticks": ""
            },
            "colorscale": [
             [
              0,
              "#0d0887"
             ],
             [
              0.1111111111111111,
              "#46039f"
             ],
             [
              0.2222222222222222,
              "#7201a8"
             ],
             [
              0.3333333333333333,
              "#9c179e"
             ],
             [
              0.4444444444444444,
              "#bd3786"
             ],
             [
              0.5555555555555556,
              "#d8576b"
             ],
             [
              0.6666666666666666,
              "#ed7953"
             ],
             [
              0.7777777777777778,
              "#fb9f3a"
             ],
             [
              0.8888888888888888,
              "#fdca26"
             ],
             [
              1,
              "#f0f921"
             ]
            ],
            "type": "surface"
           }
          ],
          "table": [
           {
            "cells": {
             "fill": {
              "color": "#EBF0F8"
             },
             "line": {
              "color": "white"
             }
            },
            "header": {
             "fill": {
              "color": "#C8D4E3"
             },
             "line": {
              "color": "white"
             }
            },
            "type": "table"
           }
          ]
         },
         "layout": {
          "annotationdefaults": {
           "arrowcolor": "#2a3f5f",
           "arrowhead": 0,
           "arrowwidth": 1
          },
          "autotypenumbers": "strict",
          "coloraxis": {
           "colorbar": {
            "outlinewidth": 0,
            "ticks": ""
           }
          },
          "colorscale": {
           "diverging": [
            [
             0,
             "#8e0152"
            ],
            [
             0.1,
             "#c51b7d"
            ],
            [
             0.2,
             "#de77ae"
            ],
            [
             0.3,
             "#f1b6da"
            ],
            [
             0.4,
             "#fde0ef"
            ],
            [
             0.5,
             "#f7f7f7"
            ],
            [
             0.6,
             "#e6f5d0"
            ],
            [
             0.7,
             "#b8e186"
            ],
            [
             0.8,
             "#7fbc41"
            ],
            [
             0.9,
             "#4d9221"
            ],
            [
             1,
             "#276419"
            ]
           ],
           "sequential": [
            [
             0,
             "#0d0887"
            ],
            [
             0.1111111111111111,
             "#46039f"
            ],
            [
             0.2222222222222222,
             "#7201a8"
            ],
            [
             0.3333333333333333,
             "#9c179e"
            ],
            [
             0.4444444444444444,
             "#bd3786"
            ],
            [
             0.5555555555555556,
             "#d8576b"
            ],
            [
             0.6666666666666666,
             "#ed7953"
            ],
            [
             0.7777777777777778,
             "#fb9f3a"
            ],
            [
             0.8888888888888888,
             "#fdca26"
            ],
            [
             1,
             "#f0f921"
            ]
           ],
           "sequentialminus": [
            [
             0,
             "#0d0887"
            ],
            [
             0.1111111111111111,
             "#46039f"
            ],
            [
             0.2222222222222222,
             "#7201a8"
            ],
            [
             0.3333333333333333,
             "#9c179e"
            ],
            [
             0.4444444444444444,
             "#bd3786"
            ],
            [
             0.5555555555555556,
             "#d8576b"
            ],
            [
             0.6666666666666666,
             "#ed7953"
            ],
            [
             0.7777777777777778,
             "#fb9f3a"
            ],
            [
             0.8888888888888888,
             "#fdca26"
            ],
            [
             1,
             "#f0f921"
            ]
           ]
          },
          "colorway": [
           "#636efa",
           "#EF553B",
           "#00cc96",
           "#ab63fa",
           "#FFA15A",
           "#19d3f3",
           "#FF6692",
           "#B6E880",
           "#FF97FF",
           "#FECB52"
          ],
          "font": {
           "color": "#2a3f5f"
          },
          "geo": {
           "bgcolor": "white",
           "lakecolor": "white",
           "landcolor": "#E5ECF6",
           "showlakes": true,
           "showland": true,
           "subunitcolor": "white"
          },
          "hoverlabel": {
           "align": "left"
          },
          "hovermode": "closest",
          "mapbox": {
           "style": "light"
          },
          "paper_bgcolor": "white",
          "plot_bgcolor": "#E5ECF6",
          "polar": {
           "angularaxis": {
            "gridcolor": "white",
            "linecolor": "white",
            "ticks": ""
           },
           "bgcolor": "#E5ECF6",
           "radialaxis": {
            "gridcolor": "white",
            "linecolor": "white",
            "ticks": ""
           }
          },
          "scene": {
           "xaxis": {
            "backgroundcolor": "#E5ECF6",
            "gridcolor": "white",
            "gridwidth": 2,
            "linecolor": "white",
            "showbackground": true,
            "ticks": "",
            "zerolinecolor": "white"
           },
           "yaxis": {
            "backgroundcolor": "#E5ECF6",
            "gridcolor": "white",
            "gridwidth": 2,
            "linecolor": "white",
            "showbackground": true,
            "ticks": "",
            "zerolinecolor": "white"
           },
           "zaxis": {
            "backgroundcolor": "#E5ECF6",
            "gridcolor": "white",
            "gridwidth": 2,
            "linecolor": "white",
            "showbackground": true,
            "ticks": "",
            "zerolinecolor": "white"
           }
          },
          "shapedefaults": {
           "line": {
            "color": "#2a3f5f"
           }
          },
          "ternary": {
           "aaxis": {
            "gridcolor": "white",
            "linecolor": "white",
            "ticks": ""
           },
           "baxis": {
            "gridcolor": "white",
            "linecolor": "white",
            "ticks": ""
           },
           "bgcolor": "#E5ECF6",
           "caxis": {
            "gridcolor": "white",
            "linecolor": "white",
            "ticks": ""
           }
          },
          "title": {
           "x": 0.05
          },
          "xaxis": {
           "automargin": true,
           "gridcolor": "white",
           "linecolor": "white",
           "ticks": "",
           "title": {
            "standoff": 15
           },
           "zerolinecolor": "white",
           "zerolinewidth": 2
          },
          "yaxis": {
           "automargin": true,
           "gridcolor": "white",
           "linecolor": "white",
           "ticks": "",
           "title": {
            "standoff": 15
           },
           "zerolinecolor": "white",
           "zerolinewidth": 2
          }
         }
        },
        "title": {
         "text": "Optimization History Plot"
        },
        "xaxis": {
         "title": {
          "text": "Trial"
         }
        },
        "yaxis": {
         "title": {
          "text": "Objective Value"
         }
        }
       }
      }
     },
     "metadata": {},
     "output_type": "display_data"
    }
   ],
   "source": [
    "optuna.visualization.plot_optimization_history(study_kmeans)"
   ]
  },
  {
   "cell_type": "markdown",
   "metadata": {},
   "source": [
    "### DBSCAN"
   ]
  },
  {
   "cell_type": "code",
   "execution_count": 181,
   "metadata": {},
   "outputs": [
    {
     "data": {
      "text/plain": [
       "array([ 0,  0, -1, ...,  0,  0,  0], dtype=int64)"
      ]
     },
     "execution_count": 181,
     "metadata": {},
     "output_type": "execute_result"
    }
   ],
   "source": [
    "dbscan = DBSCAN(**study_dbscan.best_params).fit(df)\n",
    "labels = dbscan.labels_\n",
    "labels"
   ]
  },
  {
   "cell_type": "code",
   "execution_count": 182,
   "metadata": {},
   "outputs": [
    {
     "data": {
      "text/html": [
       "<div>\n",
       "<style scoped>\n",
       "    .dataframe tbody tr th:only-of-type {\n",
       "        vertical-align: middle;\n",
       "    }\n",
       "\n",
       "    .dataframe tbody tr th {\n",
       "        vertical-align: top;\n",
       "    }\n",
       "\n",
       "    .dataframe thead th {\n",
       "        text-align: right;\n",
       "    }\n",
       "</style>\n",
       "<table border=\"1\" class=\"dataframe\">\n",
       "  <thead>\n",
       "    <tr style=\"text-align: right;\">\n",
       "      <th></th>\n",
       "      <th>euexfreq</th>\n",
       "      <th>eugenhth</th>\n",
       "      <th>eufastfdfrq</th>\n",
       "      <th>eudietsoda</th>\n",
       "      <th>euwgt</th>\n",
       "      <th>euhgt</th>\n",
       "      <th>Clusters</th>\n",
       "    </tr>\n",
       "  </thead>\n",
       "  <tbody>\n",
       "    <tr>\n",
       "      <th>0</th>\n",
       "      <td>0</td>\n",
       "      <td>1</td>\n",
       "      <td>0</td>\n",
       "      <td>0</td>\n",
       "      <td>77.11</td>\n",
       "      <td>1.52</td>\n",
       "      <td>0</td>\n",
       "    </tr>\n",
       "    <tr>\n",
       "      <th>1</th>\n",
       "      <td>0</td>\n",
       "      <td>2</td>\n",
       "      <td>1</td>\n",
       "      <td>0</td>\n",
       "      <td>58.06</td>\n",
       "      <td>1.60</td>\n",
       "      <td>0</td>\n",
       "    </tr>\n",
       "    <tr>\n",
       "      <th>2</th>\n",
       "      <td>0</td>\n",
       "      <td>5</td>\n",
       "      <td>0</td>\n",
       "      <td>0</td>\n",
       "      <td>122.47</td>\n",
       "      <td>1.57</td>\n",
       "      <td>-1</td>\n",
       "    </tr>\n",
       "    <tr>\n",
       "      <th>3</th>\n",
       "      <td>5</td>\n",
       "      <td>4</td>\n",
       "      <td>0</td>\n",
       "      <td>0</td>\n",
       "      <td>95.25</td>\n",
       "      <td>1.75</td>\n",
       "      <td>-1</td>\n",
       "    </tr>\n",
       "    <tr>\n",
       "      <th>4</th>\n",
       "      <td>2</td>\n",
       "      <td>3</td>\n",
       "      <td>3</td>\n",
       "      <td>1</td>\n",
       "      <td>99.79</td>\n",
       "      <td>1.80</td>\n",
       "      <td>-1</td>\n",
       "    </tr>\n",
       "    <tr>\n",
       "      <th>...</th>\n",
       "      <td>...</td>\n",
       "      <td>...</td>\n",
       "      <td>...</td>\n",
       "      <td>...</td>\n",
       "      <td>...</td>\n",
       "      <td>...</td>\n",
       "      <td>...</td>\n",
       "    </tr>\n",
       "    <tr>\n",
       "      <th>10552</th>\n",
       "      <td>5</td>\n",
       "      <td>3</td>\n",
       "      <td>0</td>\n",
       "      <td>0</td>\n",
       "      <td>67.59</td>\n",
       "      <td>1.57</td>\n",
       "      <td>0</td>\n",
       "    </tr>\n",
       "    <tr>\n",
       "      <th>10553</th>\n",
       "      <td>2</td>\n",
       "      <td>2</td>\n",
       "      <td>3</td>\n",
       "      <td>2</td>\n",
       "      <td>81.65</td>\n",
       "      <td>1.73</td>\n",
       "      <td>0</td>\n",
       "    </tr>\n",
       "    <tr>\n",
       "      <th>10554</th>\n",
       "      <td>2</td>\n",
       "      <td>1</td>\n",
       "      <td>4</td>\n",
       "      <td>0</td>\n",
       "      <td>64.41</td>\n",
       "      <td>1.70</td>\n",
       "      <td>0</td>\n",
       "    </tr>\n",
       "    <tr>\n",
       "      <th>10555</th>\n",
       "      <td>1</td>\n",
       "      <td>1</td>\n",
       "      <td>3</td>\n",
       "      <td>1</td>\n",
       "      <td>76.20</td>\n",
       "      <td>1.80</td>\n",
       "      <td>0</td>\n",
       "    </tr>\n",
       "    <tr>\n",
       "      <th>10556</th>\n",
       "      <td>3</td>\n",
       "      <td>1</td>\n",
       "      <td>0</td>\n",
       "      <td>0</td>\n",
       "      <td>63.50</td>\n",
       "      <td>1.68</td>\n",
       "      <td>0</td>\n",
       "    </tr>\n",
       "  </tbody>\n",
       "</table>\n",
       "<p>10557 rows × 7 columns</p>\n",
       "</div>"
      ],
      "text/plain": [
       "       euexfreq  eugenhth  eufastfdfrq  eudietsoda   euwgt  euhgt  Clusters\n",
       "0             0         1            0           0   77.11   1.52         0\n",
       "1             0         2            1           0   58.06   1.60         0\n",
       "2             0         5            0           0  122.47   1.57        -1\n",
       "3             5         4            0           0   95.25   1.75        -1\n",
       "4             2         3            3           1   99.79   1.80        -1\n",
       "...         ...       ...          ...         ...     ...    ...       ...\n",
       "10552         5         3            0           0   67.59   1.57         0\n",
       "10553         2         2            3           2   81.65   1.73         0\n",
       "10554         2         1            4           0   64.41   1.70         0\n",
       "10555         1         1            3           1   76.20   1.80         0\n",
       "10556         3         1            0           0   63.50   1.68         0\n",
       "\n",
       "[10557 rows x 7 columns]"
      ]
     },
     "execution_count": 182,
     "metadata": {},
     "output_type": "execute_result"
    }
   ],
   "source": [
    "df_dbscan = df.copy()\n",
    "df_dbscan['Clusters'] = labels\n",
    "df_dbscan"
   ]
  },
  {
   "cell_type": "code",
   "execution_count": 183,
   "metadata": {},
   "outputs": [
    {
     "data": {
      "text/plain": [
       " 0    7447\n",
       "-1    3110\n",
       "Name: Clusters, dtype: int64"
      ]
     },
     "execution_count": 183,
     "metadata": {},
     "output_type": "execute_result"
    }
   ],
   "source": [
    "df_dbscan['Clusters'].value_counts()"
   ]
  },
  {
   "cell_type": "code",
   "execution_count": 184,
   "metadata": {},
   "outputs": [
    {
     "data": {
      "application/vnd.plotly.v1+json": {
       "config": {
        "plotlyServerURL": "https://plot.ly"
       },
       "data": [
        {
         "mode": "markers",
         "name": "Objective Value",
         "type": "scatter",
         "x": [
          0,
          1,
          2,
          3,
          4,
          5,
          6,
          7,
          8,
          9,
          10,
          11,
          12,
          13,
          14,
          15,
          16,
          17,
          18,
          19,
          20,
          21,
          22,
          23,
          24,
          25,
          26,
          27,
          28,
          29,
          30,
          31,
          32,
          33,
          34,
          35,
          36,
          37,
          38,
          39,
          40,
          41,
          42,
          43,
          44,
          45,
          46,
          47,
          48,
          49,
          50,
          51,
          52,
          53,
          54,
          55,
          56,
          57,
          58,
          59,
          60,
          61,
          62,
          63,
          64,
          65,
          66,
          67,
          68,
          69,
          70,
          71,
          72,
          73,
          74,
          75,
          76,
          77,
          78,
          79,
          80,
          81,
          82,
          83,
          84,
          85,
          86,
          87,
          88,
          89,
          90,
          91,
          92,
          93,
          94,
          95,
          96,
          97,
          98,
          99
         ],
         "y": [
          null,
          null,
          null,
          null,
          0.6306980037863917,
          0.5648405669880487,
          null,
          null,
          null,
          0.5830034538457716,
          null,
          null,
          null,
          null,
          0.475435974868932,
          null,
          0.6101579131607452,
          null,
          null,
          null,
          null,
          0.5952159928412505,
          0.475435974868932,
          null,
          null,
          0.5541968094337572,
          null,
          null,
          0.6836310066666548,
          0.6330039314696427,
          null,
          0.6330039314696427,
          null,
          0.641330343103177,
          0.6330039314696427,
          0.6625355573073094,
          0.6625355573073094,
          null,
          0.6625355573073094,
          null,
          0.6873803630427098,
          0.6873803630427098,
          0.6873803630427098,
          0.6873803630427098,
          0.6873803630427098,
          null,
          0.6873803630427098,
          0.6244005297045466,
          0.6540568417461831,
          null,
          null,
          0.6873803630427098,
          0.6540568417461831,
          0.6244005297045466,
          0.6873803630427098,
          0.6244005297045466,
          0.6540568417461831,
          0.6076518920518104,
          0.6873803630427098,
          null,
          null,
          0.6873803630427098,
          0.6873803630427098,
          0.6540568417461831,
          0.6873803630427098,
          0.6244005297045466,
          0.5648405669880487,
          null,
          null,
          0.6076518920518104,
          0.6407614181144634,
          0.6873803630427098,
          0.6540568417461831,
          0.6873803630427098,
          0.6873803630427098,
          0.6076518920518104,
          0.5797825408142631,
          0.6139929455061156,
          0.6836310066666548,
          null,
          0.6244005297045466,
          0.6873803630427098,
          0.6873803630427098,
          0.6540568417461831,
          0.6873803630427098,
          0.6873803630427098,
          null,
          0.6182381284158797,
          0.6873803630427098,
          null,
          0.6540568417461831,
          0.6873803630427098,
          0.6873803630427098,
          0.6873803630427098,
          0.6873803630427098,
          0.6540568417461831,
          0.6873803630427098,
          0.6540568417461831,
          null,
          0.641330343103177
         ]
        },
        {
         "mode": "lines",
         "name": "Best Value",
         "type": "scatter",
         "x": [
          0,
          1,
          2,
          3,
          4,
          5,
          6,
          7,
          8,
          9,
          10,
          11,
          12,
          13,
          14,
          15,
          16,
          17,
          18,
          19,
          20,
          21,
          22,
          23,
          24,
          25,
          26,
          27,
          28,
          29,
          30,
          31,
          32,
          33,
          34,
          35,
          36,
          37,
          38,
          39,
          40,
          41,
          42,
          43,
          44,
          45,
          46,
          47,
          48,
          49,
          50,
          51,
          52,
          53,
          54,
          55,
          56,
          57,
          58,
          59,
          60,
          61,
          62,
          63,
          64,
          65,
          66,
          67,
          68,
          69,
          70,
          71,
          72,
          73,
          74,
          75,
          76,
          77,
          78,
          79,
          80,
          81,
          82,
          83,
          84,
          85,
          86,
          87,
          88,
          89,
          90,
          91,
          92,
          93,
          94,
          95,
          96,
          97,
          98,
          99
         ],
         "y": [
          null,
          null,
          null,
          null,
          0.6306980037863917,
          0.6306980037863917,
          0.6306980037863917,
          0.6306980037863917,
          0.6306980037863917,
          0.6306980037863917,
          0.6306980037863917,
          0.6306980037863917,
          0.6306980037863917,
          0.6306980037863917,
          0.6306980037863917,
          0.6306980037863917,
          0.6306980037863917,
          0.6306980037863917,
          0.6306980037863917,
          0.6306980037863917,
          0.6306980037863917,
          0.6306980037863917,
          0.6306980037863917,
          0.6306980037863917,
          0.6306980037863917,
          0.6306980037863917,
          0.6306980037863917,
          0.6306980037863917,
          0.6836310066666548,
          0.6836310066666548,
          0.6836310066666548,
          0.6836310066666548,
          0.6836310066666548,
          0.6836310066666548,
          0.6836310066666548,
          0.6836310066666548,
          0.6836310066666548,
          0.6836310066666548,
          0.6836310066666548,
          0.6836310066666548,
          0.6873803630427098,
          0.6873803630427098,
          0.6873803630427098,
          0.6873803630427098,
          0.6873803630427098,
          0.6873803630427098,
          0.6873803630427098,
          0.6873803630427098,
          0.6873803630427098,
          0.6873803630427098,
          0.6873803630427098,
          0.6873803630427098,
          0.6873803630427098,
          0.6873803630427098,
          0.6873803630427098,
          0.6873803630427098,
          0.6873803630427098,
          0.6873803630427098,
          0.6873803630427098,
          0.6873803630427098,
          0.6873803630427098,
          0.6873803630427098,
          0.6873803630427098,
          0.6873803630427098,
          0.6873803630427098,
          0.6873803630427098,
          0.6873803630427098,
          0.6873803630427098,
          0.6873803630427098,
          0.6873803630427098,
          0.6873803630427098,
          0.6873803630427098,
          0.6873803630427098,
          0.6873803630427098,
          0.6873803630427098,
          0.6873803630427098,
          0.6873803630427098,
          0.6873803630427098,
          0.6873803630427098,
          0.6873803630427098,
          0.6873803630427098,
          0.6873803630427098,
          0.6873803630427098,
          0.6873803630427098,
          0.6873803630427098,
          0.6873803630427098,
          0.6873803630427098,
          0.6873803630427098,
          0.6873803630427098,
          0.6873803630427098,
          0.6873803630427098,
          0.6873803630427098,
          0.6873803630427098,
          0.6873803630427098,
          0.6873803630427098,
          0.6873803630427098,
          0.6873803630427098,
          0.6873803630427098,
          0.6873803630427098,
          0.6873803630427098
         ]
        },
        {
         "marker": {
          "color": "#cccccc"
         },
         "mode": "markers",
         "name": "Infeasible Trial",
         "showlegend": false,
         "type": "scatter",
         "x": [],
         "y": []
        }
       ],
       "layout": {
        "template": {
         "data": {
          "bar": [
           {
            "error_x": {
             "color": "#2a3f5f"
            },
            "error_y": {
             "color": "#2a3f5f"
            },
            "marker": {
             "line": {
              "color": "#E5ECF6",
              "width": 0.5
             },
             "pattern": {
              "fillmode": "overlay",
              "size": 10,
              "solidity": 0.2
             }
            },
            "type": "bar"
           }
          ],
          "barpolar": [
           {
            "marker": {
             "line": {
              "color": "#E5ECF6",
              "width": 0.5
             },
             "pattern": {
              "fillmode": "overlay",
              "size": 10,
              "solidity": 0.2
             }
            },
            "type": "barpolar"
           }
          ],
          "carpet": [
           {
            "aaxis": {
             "endlinecolor": "#2a3f5f",
             "gridcolor": "white",
             "linecolor": "white",
             "minorgridcolor": "white",
             "startlinecolor": "#2a3f5f"
            },
            "baxis": {
             "endlinecolor": "#2a3f5f",
             "gridcolor": "white",
             "linecolor": "white",
             "minorgridcolor": "white",
             "startlinecolor": "#2a3f5f"
            },
            "type": "carpet"
           }
          ],
          "choropleth": [
           {
            "colorbar": {
             "outlinewidth": 0,
             "ticks": ""
            },
            "type": "choropleth"
           }
          ],
          "contour": [
           {
            "colorbar": {
             "outlinewidth": 0,
             "ticks": ""
            },
            "colorscale": [
             [
              0,
              "#0d0887"
             ],
             [
              0.1111111111111111,
              "#46039f"
             ],
             [
              0.2222222222222222,
              "#7201a8"
             ],
             [
              0.3333333333333333,
              "#9c179e"
             ],
             [
              0.4444444444444444,
              "#bd3786"
             ],
             [
              0.5555555555555556,
              "#d8576b"
             ],
             [
              0.6666666666666666,
              "#ed7953"
             ],
             [
              0.7777777777777778,
              "#fb9f3a"
             ],
             [
              0.8888888888888888,
              "#fdca26"
             ],
             [
              1,
              "#f0f921"
             ]
            ],
            "type": "contour"
           }
          ],
          "contourcarpet": [
           {
            "colorbar": {
             "outlinewidth": 0,
             "ticks": ""
            },
            "type": "contourcarpet"
           }
          ],
          "heatmap": [
           {
            "colorbar": {
             "outlinewidth": 0,
             "ticks": ""
            },
            "colorscale": [
             [
              0,
              "#0d0887"
             ],
             [
              0.1111111111111111,
              "#46039f"
             ],
             [
              0.2222222222222222,
              "#7201a8"
             ],
             [
              0.3333333333333333,
              "#9c179e"
             ],
             [
              0.4444444444444444,
              "#bd3786"
             ],
             [
              0.5555555555555556,
              "#d8576b"
             ],
             [
              0.6666666666666666,
              "#ed7953"
             ],
             [
              0.7777777777777778,
              "#fb9f3a"
             ],
             [
              0.8888888888888888,
              "#fdca26"
             ],
             [
              1,
              "#f0f921"
             ]
            ],
            "type": "heatmap"
           }
          ],
          "heatmapgl": [
           {
            "colorbar": {
             "outlinewidth": 0,
             "ticks": ""
            },
            "colorscale": [
             [
              0,
              "#0d0887"
             ],
             [
              0.1111111111111111,
              "#46039f"
             ],
             [
              0.2222222222222222,
              "#7201a8"
             ],
             [
              0.3333333333333333,
              "#9c179e"
             ],
             [
              0.4444444444444444,
              "#bd3786"
             ],
             [
              0.5555555555555556,
              "#d8576b"
             ],
             [
              0.6666666666666666,
              "#ed7953"
             ],
             [
              0.7777777777777778,
              "#fb9f3a"
             ],
             [
              0.8888888888888888,
              "#fdca26"
             ],
             [
              1,
              "#f0f921"
             ]
            ],
            "type": "heatmapgl"
           }
          ],
          "histogram": [
           {
            "marker": {
             "pattern": {
              "fillmode": "overlay",
              "size": 10,
              "solidity": 0.2
             }
            },
            "type": "histogram"
           }
          ],
          "histogram2d": [
           {
            "colorbar": {
             "outlinewidth": 0,
             "ticks": ""
            },
            "colorscale": [
             [
              0,
              "#0d0887"
             ],
             [
              0.1111111111111111,
              "#46039f"
             ],
             [
              0.2222222222222222,
              "#7201a8"
             ],
             [
              0.3333333333333333,
              "#9c179e"
             ],
             [
              0.4444444444444444,
              "#bd3786"
             ],
             [
              0.5555555555555556,
              "#d8576b"
             ],
             [
              0.6666666666666666,
              "#ed7953"
             ],
             [
              0.7777777777777778,
              "#fb9f3a"
             ],
             [
              0.8888888888888888,
              "#fdca26"
             ],
             [
              1,
              "#f0f921"
             ]
            ],
            "type": "histogram2d"
           }
          ],
          "histogram2dcontour": [
           {
            "colorbar": {
             "outlinewidth": 0,
             "ticks": ""
            },
            "colorscale": [
             [
              0,
              "#0d0887"
             ],
             [
              0.1111111111111111,
              "#46039f"
             ],
             [
              0.2222222222222222,
              "#7201a8"
             ],
             [
              0.3333333333333333,
              "#9c179e"
             ],
             [
              0.4444444444444444,
              "#bd3786"
             ],
             [
              0.5555555555555556,
              "#d8576b"
             ],
             [
              0.6666666666666666,
              "#ed7953"
             ],
             [
              0.7777777777777778,
              "#fb9f3a"
             ],
             [
              0.8888888888888888,
              "#fdca26"
             ],
             [
              1,
              "#f0f921"
             ]
            ],
            "type": "histogram2dcontour"
           }
          ],
          "mesh3d": [
           {
            "colorbar": {
             "outlinewidth": 0,
             "ticks": ""
            },
            "type": "mesh3d"
           }
          ],
          "parcoords": [
           {
            "line": {
             "colorbar": {
              "outlinewidth": 0,
              "ticks": ""
             }
            },
            "type": "parcoords"
           }
          ],
          "pie": [
           {
            "automargin": true,
            "type": "pie"
           }
          ],
          "scatter": [
           {
            "fillpattern": {
             "fillmode": "overlay",
             "size": 10,
             "solidity": 0.2
            },
            "type": "scatter"
           }
          ],
          "scatter3d": [
           {
            "line": {
             "colorbar": {
              "outlinewidth": 0,
              "ticks": ""
             }
            },
            "marker": {
             "colorbar": {
              "outlinewidth": 0,
              "ticks": ""
             }
            },
            "type": "scatter3d"
           }
          ],
          "scattercarpet": [
           {
            "marker": {
             "colorbar": {
              "outlinewidth": 0,
              "ticks": ""
             }
            },
            "type": "scattercarpet"
           }
          ],
          "scattergeo": [
           {
            "marker": {
             "colorbar": {
              "outlinewidth": 0,
              "ticks": ""
             }
            },
            "type": "scattergeo"
           }
          ],
          "scattergl": [
           {
            "marker": {
             "colorbar": {
              "outlinewidth": 0,
              "ticks": ""
             }
            },
            "type": "scattergl"
           }
          ],
          "scattermapbox": [
           {
            "marker": {
             "colorbar": {
              "outlinewidth": 0,
              "ticks": ""
             }
            },
            "type": "scattermapbox"
           }
          ],
          "scatterpolar": [
           {
            "marker": {
             "colorbar": {
              "outlinewidth": 0,
              "ticks": ""
             }
            },
            "type": "scatterpolar"
           }
          ],
          "scatterpolargl": [
           {
            "marker": {
             "colorbar": {
              "outlinewidth": 0,
              "ticks": ""
             }
            },
            "type": "scatterpolargl"
           }
          ],
          "scatterternary": [
           {
            "marker": {
             "colorbar": {
              "outlinewidth": 0,
              "ticks": ""
             }
            },
            "type": "scatterternary"
           }
          ],
          "surface": [
           {
            "colorbar": {
             "outlinewidth": 0,
             "ticks": ""
            },
            "colorscale": [
             [
              0,
              "#0d0887"
             ],
             [
              0.1111111111111111,
              "#46039f"
             ],
             [
              0.2222222222222222,
              "#7201a8"
             ],
             [
              0.3333333333333333,
              "#9c179e"
             ],
             [
              0.4444444444444444,
              "#bd3786"
             ],
             [
              0.5555555555555556,
              "#d8576b"
             ],
             [
              0.6666666666666666,
              "#ed7953"
             ],
             [
              0.7777777777777778,
              "#fb9f3a"
             ],
             [
              0.8888888888888888,
              "#fdca26"
             ],
             [
              1,
              "#f0f921"
             ]
            ],
            "type": "surface"
           }
          ],
          "table": [
           {
            "cells": {
             "fill": {
              "color": "#EBF0F8"
             },
             "line": {
              "color": "white"
             }
            },
            "header": {
             "fill": {
              "color": "#C8D4E3"
             },
             "line": {
              "color": "white"
             }
            },
            "type": "table"
           }
          ]
         },
         "layout": {
          "annotationdefaults": {
           "arrowcolor": "#2a3f5f",
           "arrowhead": 0,
           "arrowwidth": 1
          },
          "autotypenumbers": "strict",
          "coloraxis": {
           "colorbar": {
            "outlinewidth": 0,
            "ticks": ""
           }
          },
          "colorscale": {
           "diverging": [
            [
             0,
             "#8e0152"
            ],
            [
             0.1,
             "#c51b7d"
            ],
            [
             0.2,
             "#de77ae"
            ],
            [
             0.3,
             "#f1b6da"
            ],
            [
             0.4,
             "#fde0ef"
            ],
            [
             0.5,
             "#f7f7f7"
            ],
            [
             0.6,
             "#e6f5d0"
            ],
            [
             0.7,
             "#b8e186"
            ],
            [
             0.8,
             "#7fbc41"
            ],
            [
             0.9,
             "#4d9221"
            ],
            [
             1,
             "#276419"
            ]
           ],
           "sequential": [
            [
             0,
             "#0d0887"
            ],
            [
             0.1111111111111111,
             "#46039f"
            ],
            [
             0.2222222222222222,
             "#7201a8"
            ],
            [
             0.3333333333333333,
             "#9c179e"
            ],
            [
             0.4444444444444444,
             "#bd3786"
            ],
            [
             0.5555555555555556,
             "#d8576b"
            ],
            [
             0.6666666666666666,
             "#ed7953"
            ],
            [
             0.7777777777777778,
             "#fb9f3a"
            ],
            [
             0.8888888888888888,
             "#fdca26"
            ],
            [
             1,
             "#f0f921"
            ]
           ],
           "sequentialminus": [
            [
             0,
             "#0d0887"
            ],
            [
             0.1111111111111111,
             "#46039f"
            ],
            [
             0.2222222222222222,
             "#7201a8"
            ],
            [
             0.3333333333333333,
             "#9c179e"
            ],
            [
             0.4444444444444444,
             "#bd3786"
            ],
            [
             0.5555555555555556,
             "#d8576b"
            ],
            [
             0.6666666666666666,
             "#ed7953"
            ],
            [
             0.7777777777777778,
             "#fb9f3a"
            ],
            [
             0.8888888888888888,
             "#fdca26"
            ],
            [
             1,
             "#f0f921"
            ]
           ]
          },
          "colorway": [
           "#636efa",
           "#EF553B",
           "#00cc96",
           "#ab63fa",
           "#FFA15A",
           "#19d3f3",
           "#FF6692",
           "#B6E880",
           "#FF97FF",
           "#FECB52"
          ],
          "font": {
           "color": "#2a3f5f"
          },
          "geo": {
           "bgcolor": "white",
           "lakecolor": "white",
           "landcolor": "#E5ECF6",
           "showlakes": true,
           "showland": true,
           "subunitcolor": "white"
          },
          "hoverlabel": {
           "align": "left"
          },
          "hovermode": "closest",
          "mapbox": {
           "style": "light"
          },
          "paper_bgcolor": "white",
          "plot_bgcolor": "#E5ECF6",
          "polar": {
           "angularaxis": {
            "gridcolor": "white",
            "linecolor": "white",
            "ticks": ""
           },
           "bgcolor": "#E5ECF6",
           "radialaxis": {
            "gridcolor": "white",
            "linecolor": "white",
            "ticks": ""
           }
          },
          "scene": {
           "xaxis": {
            "backgroundcolor": "#E5ECF6",
            "gridcolor": "white",
            "gridwidth": 2,
            "linecolor": "white",
            "showbackground": true,
            "ticks": "",
            "zerolinecolor": "white"
           },
           "yaxis": {
            "backgroundcolor": "#E5ECF6",
            "gridcolor": "white",
            "gridwidth": 2,
            "linecolor": "white",
            "showbackground": true,
            "ticks": "",
            "zerolinecolor": "white"
           },
           "zaxis": {
            "backgroundcolor": "#E5ECF6",
            "gridcolor": "white",
            "gridwidth": 2,
            "linecolor": "white",
            "showbackground": true,
            "ticks": "",
            "zerolinecolor": "white"
           }
          },
          "shapedefaults": {
           "line": {
            "color": "#2a3f5f"
           }
          },
          "ternary": {
           "aaxis": {
            "gridcolor": "white",
            "linecolor": "white",
            "ticks": ""
           },
           "baxis": {
            "gridcolor": "white",
            "linecolor": "white",
            "ticks": ""
           },
           "bgcolor": "#E5ECF6",
           "caxis": {
            "gridcolor": "white",
            "linecolor": "white",
            "ticks": ""
           }
          },
          "title": {
           "x": 0.05
          },
          "xaxis": {
           "automargin": true,
           "gridcolor": "white",
           "linecolor": "white",
           "ticks": "",
           "title": {
            "standoff": 15
           },
           "zerolinecolor": "white",
           "zerolinewidth": 2
          },
          "yaxis": {
           "automargin": true,
           "gridcolor": "white",
           "linecolor": "white",
           "ticks": "",
           "title": {
            "standoff": 15
           },
           "zerolinecolor": "white",
           "zerolinewidth": 2
          }
         }
        },
        "title": {
         "text": "Optimization History Plot"
        },
        "xaxis": {
         "title": {
          "text": "Trial"
         }
        },
        "yaxis": {
         "title": {
          "text": "Objective Value"
         }
        }
       }
      }
     },
     "metadata": {},
     "output_type": "display_data"
    }
   ],
   "source": [
    "optuna.visualization.plot_optimization_history(study_dbscan)"
   ]
  },
  {
   "cell_type": "code",
   "execution_count": 185,
   "metadata": {},
   "outputs": [
    {
     "name": "stderr",
     "output_type": "stream",
     "text": [
      "[W 2024-10-29 15:05:55,648] Trial 0 is omitted in visualization because its objective value is inf or nan.\n",
      "[W 2024-10-29 15:05:55,649] Trial 1 is omitted in visualization because its objective value is inf or nan.\n",
      "[W 2024-10-29 15:05:55,650] Trial 2 is omitted in visualization because its objective value is inf or nan.\n",
      "[W 2024-10-29 15:05:55,651] Trial 3 is omitted in visualization because its objective value is inf or nan.\n",
      "[W 2024-10-29 15:05:55,651] Trial 6 is omitted in visualization because its objective value is inf or nan.\n",
      "[W 2024-10-29 15:05:55,652] Trial 7 is omitted in visualization because its objective value is inf or nan.\n",
      "[W 2024-10-29 15:05:55,652] Trial 8 is omitted in visualization because its objective value is inf or nan.\n",
      "[W 2024-10-29 15:05:55,653] Trial 10 is omitted in visualization because its objective value is inf or nan.\n",
      "[W 2024-10-29 15:05:55,653] Trial 11 is omitted in visualization because its objective value is inf or nan.\n",
      "[W 2024-10-29 15:05:55,654] Trial 12 is omitted in visualization because its objective value is inf or nan.\n",
      "[W 2024-10-29 15:05:55,654] Trial 13 is omitted in visualization because its objective value is inf or nan.\n",
      "[W 2024-10-29 15:05:55,654] Trial 15 is omitted in visualization because its objective value is inf or nan.\n",
      "[W 2024-10-29 15:05:55,655] Trial 17 is omitted in visualization because its objective value is inf or nan.\n",
      "[W 2024-10-29 15:05:55,655] Trial 18 is omitted in visualization because its objective value is inf or nan.\n",
      "[W 2024-10-29 15:05:55,656] Trial 19 is omitted in visualization because its objective value is inf or nan.\n",
      "[W 2024-10-29 15:05:55,656] Trial 20 is omitted in visualization because its objective value is inf or nan.\n",
      "[W 2024-10-29 15:05:55,658] Trial 23 is omitted in visualization because its objective value is inf or nan.\n",
      "[W 2024-10-29 15:05:55,658] Trial 24 is omitted in visualization because its objective value is inf or nan.\n",
      "[W 2024-10-29 15:05:55,659] Trial 26 is omitted in visualization because its objective value is inf or nan.\n",
      "[W 2024-10-29 15:05:55,659] Trial 27 is omitted in visualization because its objective value is inf or nan.\n",
      "[W 2024-10-29 15:05:55,660] Trial 30 is omitted in visualization because its objective value is inf or nan.\n",
      "[W 2024-10-29 15:05:55,660] Trial 32 is omitted in visualization because its objective value is inf or nan.\n",
      "[W 2024-10-29 15:05:55,661] Trial 37 is omitted in visualization because its objective value is inf or nan.\n",
      "[W 2024-10-29 15:05:55,661] Trial 39 is omitted in visualization because its objective value is inf or nan.\n",
      "[W 2024-10-29 15:05:55,662] Trial 45 is omitted in visualization because its objective value is inf or nan.\n",
      "[W 2024-10-29 15:05:55,666] Trial 49 is omitted in visualization because its objective value is inf or nan.\n",
      "[W 2024-10-29 15:05:55,667] Trial 50 is omitted in visualization because its objective value is inf or nan.\n",
      "[W 2024-10-29 15:05:55,668] Trial 59 is omitted in visualization because its objective value is inf or nan.\n",
      "[W 2024-10-29 15:05:55,668] Trial 60 is omitted in visualization because its objective value is inf or nan.\n",
      "[W 2024-10-29 15:05:55,669] Trial 67 is omitted in visualization because its objective value is inf or nan.\n",
      "[W 2024-10-29 15:05:55,670] Trial 68 is omitted in visualization because its objective value is inf or nan.\n",
      "[W 2024-10-29 15:05:55,670] Trial 79 is omitted in visualization because its objective value is inf or nan.\n",
      "[W 2024-10-29 15:05:55,671] Trial 86 is omitted in visualization because its objective value is inf or nan.\n",
      "[W 2024-10-29 15:05:55,671] Trial 89 is omitted in visualization because its objective value is inf or nan.\n",
      "[W 2024-10-29 15:05:55,672] Trial 98 is omitted in visualization because its objective value is inf or nan.\n"
     ]
    },
    {
     "data": {
      "application/vnd.plotly.v1+json": {
       "config": {
        "plotlyServerURL": "https://plot.ly"
       },
       "data": [
        {
         "cliponaxis": false,
         "hovertemplate": [
          "metric (CategoricalDistribution): 0.0008166835077453478<extra></extra>",
          "algorithm (CategoricalDistribution): 0.024559402706103534<extra></extra>",
          "leaf_size (IntDistribution): 0.025915770331293404<extra></extra>",
          "eps (FloatDistribution): 0.02936172988204762<extra></extra>",
          "p (FloatDistribution): 0.052140973011253026<extra></extra>",
          "min_samples (IntDistribution): 0.8672054405615571<extra></extra>"
         ],
         "name": "Objective Value",
         "orientation": "h",
         "text": [
          "<0.01",
          "0.02",
          "0.03",
          "0.03",
          "0.05",
          "0.87"
         ],
         "textposition": "outside",
         "type": "bar",
         "x": [
          0.0008166835077453478,
          0.024559402706103534,
          0.025915770331293404,
          0.02936172988204762,
          0.052140973011253026,
          0.8672054405615571
         ],
         "y": [
          "metric",
          "algorithm",
          "leaf_size",
          "eps",
          "p",
          "min_samples"
         ]
        }
       ],
       "layout": {
        "template": {
         "data": {
          "bar": [
           {
            "error_x": {
             "color": "#2a3f5f"
            },
            "error_y": {
             "color": "#2a3f5f"
            },
            "marker": {
             "line": {
              "color": "#E5ECF6",
              "width": 0.5
             },
             "pattern": {
              "fillmode": "overlay",
              "size": 10,
              "solidity": 0.2
             }
            },
            "type": "bar"
           }
          ],
          "barpolar": [
           {
            "marker": {
             "line": {
              "color": "#E5ECF6",
              "width": 0.5
             },
             "pattern": {
              "fillmode": "overlay",
              "size": 10,
              "solidity": 0.2
             }
            },
            "type": "barpolar"
           }
          ],
          "carpet": [
           {
            "aaxis": {
             "endlinecolor": "#2a3f5f",
             "gridcolor": "white",
             "linecolor": "white",
             "minorgridcolor": "white",
             "startlinecolor": "#2a3f5f"
            },
            "baxis": {
             "endlinecolor": "#2a3f5f",
             "gridcolor": "white",
             "linecolor": "white",
             "minorgridcolor": "white",
             "startlinecolor": "#2a3f5f"
            },
            "type": "carpet"
           }
          ],
          "choropleth": [
           {
            "colorbar": {
             "outlinewidth": 0,
             "ticks": ""
            },
            "type": "choropleth"
           }
          ],
          "contour": [
           {
            "colorbar": {
             "outlinewidth": 0,
             "ticks": ""
            },
            "colorscale": [
             [
              0,
              "#0d0887"
             ],
             [
              0.1111111111111111,
              "#46039f"
             ],
             [
              0.2222222222222222,
              "#7201a8"
             ],
             [
              0.3333333333333333,
              "#9c179e"
             ],
             [
              0.4444444444444444,
              "#bd3786"
             ],
             [
              0.5555555555555556,
              "#d8576b"
             ],
             [
              0.6666666666666666,
              "#ed7953"
             ],
             [
              0.7777777777777778,
              "#fb9f3a"
             ],
             [
              0.8888888888888888,
              "#fdca26"
             ],
             [
              1,
              "#f0f921"
             ]
            ],
            "type": "contour"
           }
          ],
          "contourcarpet": [
           {
            "colorbar": {
             "outlinewidth": 0,
             "ticks": ""
            },
            "type": "contourcarpet"
           }
          ],
          "heatmap": [
           {
            "colorbar": {
             "outlinewidth": 0,
             "ticks": ""
            },
            "colorscale": [
             [
              0,
              "#0d0887"
             ],
             [
              0.1111111111111111,
              "#46039f"
             ],
             [
              0.2222222222222222,
              "#7201a8"
             ],
             [
              0.3333333333333333,
              "#9c179e"
             ],
             [
              0.4444444444444444,
              "#bd3786"
             ],
             [
              0.5555555555555556,
              "#d8576b"
             ],
             [
              0.6666666666666666,
              "#ed7953"
             ],
             [
              0.7777777777777778,
              "#fb9f3a"
             ],
             [
              0.8888888888888888,
              "#fdca26"
             ],
             [
              1,
              "#f0f921"
             ]
            ],
            "type": "heatmap"
           }
          ],
          "heatmapgl": [
           {
            "colorbar": {
             "outlinewidth": 0,
             "ticks": ""
            },
            "colorscale": [
             [
              0,
              "#0d0887"
             ],
             [
              0.1111111111111111,
              "#46039f"
             ],
             [
              0.2222222222222222,
              "#7201a8"
             ],
             [
              0.3333333333333333,
              "#9c179e"
             ],
             [
              0.4444444444444444,
              "#bd3786"
             ],
             [
              0.5555555555555556,
              "#d8576b"
             ],
             [
              0.6666666666666666,
              "#ed7953"
             ],
             [
              0.7777777777777778,
              "#fb9f3a"
             ],
             [
              0.8888888888888888,
              "#fdca26"
             ],
             [
              1,
              "#f0f921"
             ]
            ],
            "type": "heatmapgl"
           }
          ],
          "histogram": [
           {
            "marker": {
             "pattern": {
              "fillmode": "overlay",
              "size": 10,
              "solidity": 0.2
             }
            },
            "type": "histogram"
           }
          ],
          "histogram2d": [
           {
            "colorbar": {
             "outlinewidth": 0,
             "ticks": ""
            },
            "colorscale": [
             [
              0,
              "#0d0887"
             ],
             [
              0.1111111111111111,
              "#46039f"
             ],
             [
              0.2222222222222222,
              "#7201a8"
             ],
             [
              0.3333333333333333,
              "#9c179e"
             ],
             [
              0.4444444444444444,
              "#bd3786"
             ],
             [
              0.5555555555555556,
              "#d8576b"
             ],
             [
              0.6666666666666666,
              "#ed7953"
             ],
             [
              0.7777777777777778,
              "#fb9f3a"
             ],
             [
              0.8888888888888888,
              "#fdca26"
             ],
             [
              1,
              "#f0f921"
             ]
            ],
            "type": "histogram2d"
           }
          ],
          "histogram2dcontour": [
           {
            "colorbar": {
             "outlinewidth": 0,
             "ticks": ""
            },
            "colorscale": [
             [
              0,
              "#0d0887"
             ],
             [
              0.1111111111111111,
              "#46039f"
             ],
             [
              0.2222222222222222,
              "#7201a8"
             ],
             [
              0.3333333333333333,
              "#9c179e"
             ],
             [
              0.4444444444444444,
              "#bd3786"
             ],
             [
              0.5555555555555556,
              "#d8576b"
             ],
             [
              0.6666666666666666,
              "#ed7953"
             ],
             [
              0.7777777777777778,
              "#fb9f3a"
             ],
             [
              0.8888888888888888,
              "#fdca26"
             ],
             [
              1,
              "#f0f921"
             ]
            ],
            "type": "histogram2dcontour"
           }
          ],
          "mesh3d": [
           {
            "colorbar": {
             "outlinewidth": 0,
             "ticks": ""
            },
            "type": "mesh3d"
           }
          ],
          "parcoords": [
           {
            "line": {
             "colorbar": {
              "outlinewidth": 0,
              "ticks": ""
             }
            },
            "type": "parcoords"
           }
          ],
          "pie": [
           {
            "automargin": true,
            "type": "pie"
           }
          ],
          "scatter": [
           {
            "fillpattern": {
             "fillmode": "overlay",
             "size": 10,
             "solidity": 0.2
            },
            "type": "scatter"
           }
          ],
          "scatter3d": [
           {
            "line": {
             "colorbar": {
              "outlinewidth": 0,
              "ticks": ""
             }
            },
            "marker": {
             "colorbar": {
              "outlinewidth": 0,
              "ticks": ""
             }
            },
            "type": "scatter3d"
           }
          ],
          "scattercarpet": [
           {
            "marker": {
             "colorbar": {
              "outlinewidth": 0,
              "ticks": ""
             }
            },
            "type": "scattercarpet"
           }
          ],
          "scattergeo": [
           {
            "marker": {
             "colorbar": {
              "outlinewidth": 0,
              "ticks": ""
             }
            },
            "type": "scattergeo"
           }
          ],
          "scattergl": [
           {
            "marker": {
             "colorbar": {
              "outlinewidth": 0,
              "ticks": ""
             }
            },
            "type": "scattergl"
           }
          ],
          "scattermapbox": [
           {
            "marker": {
             "colorbar": {
              "outlinewidth": 0,
              "ticks": ""
             }
            },
            "type": "scattermapbox"
           }
          ],
          "scatterpolar": [
           {
            "marker": {
             "colorbar": {
              "outlinewidth": 0,
              "ticks": ""
             }
            },
            "type": "scatterpolar"
           }
          ],
          "scatterpolargl": [
           {
            "marker": {
             "colorbar": {
              "outlinewidth": 0,
              "ticks": ""
             }
            },
            "type": "scatterpolargl"
           }
          ],
          "scatterternary": [
           {
            "marker": {
             "colorbar": {
              "outlinewidth": 0,
              "ticks": ""
             }
            },
            "type": "scatterternary"
           }
          ],
          "surface": [
           {
            "colorbar": {
             "outlinewidth": 0,
             "ticks": ""
            },
            "colorscale": [
             [
              0,
              "#0d0887"
             ],
             [
              0.1111111111111111,
              "#46039f"
             ],
             [
              0.2222222222222222,
              "#7201a8"
             ],
             [
              0.3333333333333333,
              "#9c179e"
             ],
             [
              0.4444444444444444,
              "#bd3786"
             ],
             [
              0.5555555555555556,
              "#d8576b"
             ],
             [
              0.6666666666666666,
              "#ed7953"
             ],
             [
              0.7777777777777778,
              "#fb9f3a"
             ],
             [
              0.8888888888888888,
              "#fdca26"
             ],
             [
              1,
              "#f0f921"
             ]
            ],
            "type": "surface"
           }
          ],
          "table": [
           {
            "cells": {
             "fill": {
              "color": "#EBF0F8"
             },
             "line": {
              "color": "white"
             }
            },
            "header": {
             "fill": {
              "color": "#C8D4E3"
             },
             "line": {
              "color": "white"
             }
            },
            "type": "table"
           }
          ]
         },
         "layout": {
          "annotationdefaults": {
           "arrowcolor": "#2a3f5f",
           "arrowhead": 0,
           "arrowwidth": 1
          },
          "autotypenumbers": "strict",
          "coloraxis": {
           "colorbar": {
            "outlinewidth": 0,
            "ticks": ""
           }
          },
          "colorscale": {
           "diverging": [
            [
             0,
             "#8e0152"
            ],
            [
             0.1,
             "#c51b7d"
            ],
            [
             0.2,
             "#de77ae"
            ],
            [
             0.3,
             "#f1b6da"
            ],
            [
             0.4,
             "#fde0ef"
            ],
            [
             0.5,
             "#f7f7f7"
            ],
            [
             0.6,
             "#e6f5d0"
            ],
            [
             0.7,
             "#b8e186"
            ],
            [
             0.8,
             "#7fbc41"
            ],
            [
             0.9,
             "#4d9221"
            ],
            [
             1,
             "#276419"
            ]
           ],
           "sequential": [
            [
             0,
             "#0d0887"
            ],
            [
             0.1111111111111111,
             "#46039f"
            ],
            [
             0.2222222222222222,
             "#7201a8"
            ],
            [
             0.3333333333333333,
             "#9c179e"
            ],
            [
             0.4444444444444444,
             "#bd3786"
            ],
            [
             0.5555555555555556,
             "#d8576b"
            ],
            [
             0.6666666666666666,
             "#ed7953"
            ],
            [
             0.7777777777777778,
             "#fb9f3a"
            ],
            [
             0.8888888888888888,
             "#fdca26"
            ],
            [
             1,
             "#f0f921"
            ]
           ],
           "sequentialminus": [
            [
             0,
             "#0d0887"
            ],
            [
             0.1111111111111111,
             "#46039f"
            ],
            [
             0.2222222222222222,
             "#7201a8"
            ],
            [
             0.3333333333333333,
             "#9c179e"
            ],
            [
             0.4444444444444444,
             "#bd3786"
            ],
            [
             0.5555555555555556,
             "#d8576b"
            ],
            [
             0.6666666666666666,
             "#ed7953"
            ],
            [
             0.7777777777777778,
             "#fb9f3a"
            ],
            [
             0.8888888888888888,
             "#fdca26"
            ],
            [
             1,
             "#f0f921"
            ]
           ]
          },
          "colorway": [
           "#636efa",
           "#EF553B",
           "#00cc96",
           "#ab63fa",
           "#FFA15A",
           "#19d3f3",
           "#FF6692",
           "#B6E880",
           "#FF97FF",
           "#FECB52"
          ],
          "font": {
           "color": "#2a3f5f"
          },
          "geo": {
           "bgcolor": "white",
           "lakecolor": "white",
           "landcolor": "#E5ECF6",
           "showlakes": true,
           "showland": true,
           "subunitcolor": "white"
          },
          "hoverlabel": {
           "align": "left"
          },
          "hovermode": "closest",
          "mapbox": {
           "style": "light"
          },
          "paper_bgcolor": "white",
          "plot_bgcolor": "#E5ECF6",
          "polar": {
           "angularaxis": {
            "gridcolor": "white",
            "linecolor": "white",
            "ticks": ""
           },
           "bgcolor": "#E5ECF6",
           "radialaxis": {
            "gridcolor": "white",
            "linecolor": "white",
            "ticks": ""
           }
          },
          "scene": {
           "xaxis": {
            "backgroundcolor": "#E5ECF6",
            "gridcolor": "white",
            "gridwidth": 2,
            "linecolor": "white",
            "showbackground": true,
            "ticks": "",
            "zerolinecolor": "white"
           },
           "yaxis": {
            "backgroundcolor": "#E5ECF6",
            "gridcolor": "white",
            "gridwidth": 2,
            "linecolor": "white",
            "showbackground": true,
            "ticks": "",
            "zerolinecolor": "white"
           },
           "zaxis": {
            "backgroundcolor": "#E5ECF6",
            "gridcolor": "white",
            "gridwidth": 2,
            "linecolor": "white",
            "showbackground": true,
            "ticks": "",
            "zerolinecolor": "white"
           }
          },
          "shapedefaults": {
           "line": {
            "color": "#2a3f5f"
           }
          },
          "ternary": {
           "aaxis": {
            "gridcolor": "white",
            "linecolor": "white",
            "ticks": ""
           },
           "baxis": {
            "gridcolor": "white",
            "linecolor": "white",
            "ticks": ""
           },
           "bgcolor": "#E5ECF6",
           "caxis": {
            "gridcolor": "white",
            "linecolor": "white",
            "ticks": ""
           }
          },
          "title": {
           "x": 0.05
          },
          "xaxis": {
           "automargin": true,
           "gridcolor": "white",
           "linecolor": "white",
           "ticks": "",
           "title": {
            "standoff": 15
           },
           "zerolinecolor": "white",
           "zerolinewidth": 2
          },
          "yaxis": {
           "automargin": true,
           "gridcolor": "white",
           "linecolor": "white",
           "ticks": "",
           "title": {
            "standoff": 15
           },
           "zerolinecolor": "white",
           "zerolinewidth": 2
          }
         }
        },
        "title": {
         "text": "Hyperparameter Importances"
        },
        "xaxis": {
         "title": {
          "text": "Hyperparameter Importance"
         }
        },
        "yaxis": {
         "title": {
          "text": "Hyperparameter"
         }
        }
       }
      }
     },
     "metadata": {},
     "output_type": "display_data"
    }
   ],
   "source": [
    "optuna.visualization.plot_param_importances(study_dbscan)"
   ]
  },
  {
   "cell_type": "code",
   "execution_count": 186,
   "metadata": {},
   "outputs": [
    {
     "name": "stderr",
     "output_type": "stream",
     "text": [
      "[W 2024-10-29 15:05:56,166] Trial 0 is omitted in visualization because its objective value is inf or nan.\n",
      "[W 2024-10-29 15:05:56,167] Trial 1 is omitted in visualization because its objective value is inf or nan.\n",
      "[W 2024-10-29 15:05:56,168] Trial 2 is omitted in visualization because its objective value is inf or nan.\n",
      "[W 2024-10-29 15:05:56,168] Trial 3 is omitted in visualization because its objective value is inf or nan.\n",
      "[W 2024-10-29 15:05:56,169] Trial 6 is omitted in visualization because its objective value is inf or nan.\n",
      "[W 2024-10-29 15:05:56,169] Trial 7 is omitted in visualization because its objective value is inf or nan.\n",
      "[W 2024-10-29 15:05:56,170] Trial 8 is omitted in visualization because its objective value is inf or nan.\n",
      "[W 2024-10-29 15:05:56,170] Trial 10 is omitted in visualization because its objective value is inf or nan.\n",
      "[W 2024-10-29 15:05:56,170] Trial 11 is omitted in visualization because its objective value is inf or nan.\n",
      "[W 2024-10-29 15:05:56,171] Trial 12 is omitted in visualization because its objective value is inf or nan.\n",
      "[W 2024-10-29 15:05:56,172] Trial 13 is omitted in visualization because its objective value is inf or nan.\n",
      "[W 2024-10-29 15:05:56,173] Trial 15 is omitted in visualization because its objective value is inf or nan.\n",
      "[W 2024-10-29 15:05:56,173] Trial 17 is omitted in visualization because its objective value is inf or nan.\n",
      "[W 2024-10-29 15:05:56,173] Trial 18 is omitted in visualization because its objective value is inf or nan.\n",
      "[W 2024-10-29 15:05:56,174] Trial 19 is omitted in visualization because its objective value is inf or nan.\n",
      "[W 2024-10-29 15:05:56,174] Trial 20 is omitted in visualization because its objective value is inf or nan.\n",
      "[W 2024-10-29 15:05:56,175] Trial 23 is omitted in visualization because its objective value is inf or nan.\n",
      "[W 2024-10-29 15:05:56,175] Trial 24 is omitted in visualization because its objective value is inf or nan.\n",
      "[W 2024-10-29 15:05:56,176] Trial 26 is omitted in visualization because its objective value is inf or nan.\n",
      "[W 2024-10-29 15:05:56,176] Trial 27 is omitted in visualization because its objective value is inf or nan.\n",
      "[W 2024-10-29 15:05:56,176] Trial 30 is omitted in visualization because its objective value is inf or nan.\n",
      "[W 2024-10-29 15:05:56,177] Trial 32 is omitted in visualization because its objective value is inf or nan.\n",
      "[W 2024-10-29 15:05:56,177] Trial 37 is omitted in visualization because its objective value is inf or nan.\n",
      "[W 2024-10-29 15:05:56,178] Trial 39 is omitted in visualization because its objective value is inf or nan.\n",
      "[W 2024-10-29 15:05:56,178] Trial 45 is omitted in visualization because its objective value is inf or nan.\n",
      "[W 2024-10-29 15:05:56,179] Trial 49 is omitted in visualization because its objective value is inf or nan.\n",
      "[W 2024-10-29 15:05:56,180] Trial 50 is omitted in visualization because its objective value is inf or nan.\n",
      "[W 2024-10-29 15:05:56,180] Trial 59 is omitted in visualization because its objective value is inf or nan.\n",
      "[W 2024-10-29 15:05:56,181] Trial 60 is omitted in visualization because its objective value is inf or nan.\n",
      "[W 2024-10-29 15:05:56,181] Trial 67 is omitted in visualization because its objective value is inf or nan.\n",
      "[W 2024-10-29 15:05:56,182] Trial 68 is omitted in visualization because its objective value is inf or nan.\n",
      "[W 2024-10-29 15:05:56,182] Trial 79 is omitted in visualization because its objective value is inf or nan.\n",
      "[W 2024-10-29 15:05:56,183] Trial 86 is omitted in visualization because its objective value is inf or nan.\n",
      "[W 2024-10-29 15:05:56,183] Trial 89 is omitted in visualization because its objective value is inf or nan.\n",
      "[W 2024-10-29 15:05:56,183] Trial 98 is omitted in visualization because its objective value is inf or nan.\n"
     ]
    },
    {
     "data": {
      "application/vnd.plotly.v1+json": {
       "config": {
        "plotlyServerURL": "https://plot.ly"
       },
       "data": [
        {
         "marker": {
          "color": [
           4,
           5,
           9,
           14,
           16,
           21,
           22,
           25,
           28,
           29,
           31,
           33,
           34,
           35,
           36,
           38,
           40,
           41,
           42,
           43,
           44,
           46,
           47,
           48,
           51,
           52,
           53,
           54,
           55,
           56,
           57,
           58,
           61,
           62,
           63,
           64,
           65,
           66,
           69,
           70,
           71,
           72,
           73,
           74,
           75,
           76,
           77,
           78,
           80,
           81,
           82,
           83,
           84,
           85,
           87,
           88,
           90,
           91,
           92,
           93,
           94,
           95,
           96,
           97,
           99
          ],
          "colorbar": {
           "title": {
            "text": "Trial"
           },
           "x": 1,
           "xpad": 40
          },
          "colorscale": [
           [
            0,
            "rgb(247,251,255)"
           ],
           [
            0.125,
            "rgb(222,235,247)"
           ],
           [
            0.25,
            "rgb(198,219,239)"
           ],
           [
            0.375,
            "rgb(158,202,225)"
           ],
           [
            0.5,
            "rgb(107,174,214)"
           ],
           [
            0.625,
            "rgb(66,146,198)"
           ],
           [
            0.75,
            "rgb(33,113,181)"
           ],
           [
            0.875,
            "rgb(8,81,156)"
           ],
           [
            1,
            "rgb(8,48,107)"
           ]
          ],
          "line": {
           "color": "Grey",
           "width": 0.5
          },
          "showscale": true
         },
         "mode": "markers",
         "name": "Feasible Trial",
         "showlegend": false,
         "type": "scatter",
         "x": [
          "brute",
          "kd_tree",
          "ball_tree",
          "brute",
          "kd_tree",
          "ball_tree",
          "kd_tree",
          "brute",
          "brute",
          "brute",
          "brute",
          "brute",
          "brute",
          "brute",
          "brute",
          "brute",
          "brute",
          "brute",
          "brute",
          "brute",
          "brute",
          "brute",
          "auto",
          "brute",
          "brute",
          "brute",
          "brute",
          "brute",
          "brute",
          "auto",
          "brute",
          "brute",
          "brute",
          "brute",
          "brute",
          "ball_tree",
          "brute",
          "brute",
          "brute",
          "brute",
          "brute",
          "brute",
          "brute",
          "brute",
          "ball_tree",
          "brute",
          "brute",
          "brute",
          "brute",
          "brute",
          "brute",
          "brute",
          "brute",
          "brute",
          "auto",
          "brute",
          "ball_tree",
          "brute",
          "brute",
          "brute",
          "brute",
          "brute",
          "brute",
          "brute",
          "kd_tree"
         ],
         "xaxis": "x",
         "y": [
          0.6306980037863917,
          0.5648405669880487,
          0.5830034538457716,
          0.475435974868932,
          0.6101579131607452,
          0.5952159928412505,
          0.475435974868932,
          0.5541968094337572,
          0.6836310066666548,
          0.6330039314696427,
          0.6330039314696427,
          0.641330343103177,
          0.6330039314696427,
          0.6625355573073094,
          0.6625355573073094,
          0.6625355573073094,
          0.6873803630427098,
          0.6873803630427098,
          0.6873803630427098,
          0.6873803630427098,
          0.6873803630427098,
          0.6873803630427098,
          0.6244005297045466,
          0.6540568417461831,
          0.6873803630427098,
          0.6540568417461831,
          0.6244005297045466,
          0.6873803630427098,
          0.6244005297045466,
          0.6540568417461831,
          0.6076518920518104,
          0.6873803630427098,
          0.6873803630427098,
          0.6873803630427098,
          0.6540568417461831,
          0.6873803630427098,
          0.6244005297045466,
          0.5648405669880487,
          0.6076518920518104,
          0.6407614181144634,
          0.6873803630427098,
          0.6540568417461831,
          0.6873803630427098,
          0.6873803630427098,
          0.6076518920518104,
          0.5797825408142631,
          0.6139929455061156,
          0.6836310066666548,
          0.6244005297045466,
          0.6873803630427098,
          0.6873803630427098,
          0.6540568417461831,
          0.6873803630427098,
          0.6873803630427098,
          0.6182381284158797,
          0.6873803630427098,
          0.6540568417461831,
          0.6873803630427098,
          0.6873803630427098,
          0.6873803630427098,
          0.6873803630427098,
          0.6540568417461831,
          0.6873803630427098,
          0.6540568417461831,
          0.641330343103177
         ],
         "yaxis": "y"
        },
        {
         "marker": {
          "color": [
           4,
           5,
           9,
           14,
           16,
           21,
           22,
           25,
           28,
           29,
           31,
           33,
           34,
           35,
           36,
           38,
           40,
           41,
           42,
           43,
           44,
           46,
           47,
           48,
           51,
           52,
           53,
           54,
           55,
           56,
           57,
           58,
           61,
           62,
           63,
           64,
           65,
           66,
           69,
           70,
           71,
           72,
           73,
           74,
           75,
           76,
           77,
           78,
           80,
           81,
           82,
           83,
           84,
           85,
           87,
           88,
           90,
           91,
           92,
           93,
           94,
           95,
           96,
           97,
           99
          ],
          "colorbar": {
           "title": {
            "text": "Trial"
           },
           "x": 1,
           "xpad": 40
          },
          "colorscale": [
           [
            0,
            "rgb(247,251,255)"
           ],
           [
            0.125,
            "rgb(222,235,247)"
           ],
           [
            0.25,
            "rgb(198,219,239)"
           ],
           [
            0.375,
            "rgb(158,202,225)"
           ],
           [
            0.5,
            "rgb(107,174,214)"
           ],
           [
            0.625,
            "rgb(66,146,198)"
           ],
           [
            0.75,
            "rgb(33,113,181)"
           ],
           [
            0.875,
            "rgb(8,81,156)"
           ],
           [
            1,
            "rgb(8,48,107)"
           ]
          ],
          "line": {
           "color": "Grey",
           "width": 0.5
          },
          "showscale": false
         },
         "mode": "markers",
         "name": "Feasible Trial",
         "showlegend": false,
         "type": "scatter",
         "x": [
          5,
          4.5,
          5,
          5,
          4,
          5,
          5,
          4,
          5,
          4,
          4,
          4.5,
          4,
          4.5,
          4.5,
          4.5,
          5,
          5,
          5,
          5,
          5,
          5,
          5,
          5,
          5,
          5,
          5,
          5,
          5,
          5,
          4.5,
          5,
          5,
          5,
          5,
          5,
          5,
          4.5,
          4.5,
          5,
          5,
          5,
          5,
          5,
          4.5,
          5,
          4.5,
          5,
          5,
          5,
          5,
          5,
          5,
          5,
          5,
          5,
          5,
          5,
          5,
          5,
          5,
          5,
          5,
          5,
          4.5
         ],
         "xaxis": "x2",
         "y": [
          0.6306980037863917,
          0.5648405669880487,
          0.5830034538457716,
          0.475435974868932,
          0.6101579131607452,
          0.5952159928412505,
          0.475435974868932,
          0.5541968094337572,
          0.6836310066666548,
          0.6330039314696427,
          0.6330039314696427,
          0.641330343103177,
          0.6330039314696427,
          0.6625355573073094,
          0.6625355573073094,
          0.6625355573073094,
          0.6873803630427098,
          0.6873803630427098,
          0.6873803630427098,
          0.6873803630427098,
          0.6873803630427098,
          0.6873803630427098,
          0.6244005297045466,
          0.6540568417461831,
          0.6873803630427098,
          0.6540568417461831,
          0.6244005297045466,
          0.6873803630427098,
          0.6244005297045466,
          0.6540568417461831,
          0.6076518920518104,
          0.6873803630427098,
          0.6873803630427098,
          0.6873803630427098,
          0.6540568417461831,
          0.6873803630427098,
          0.6244005297045466,
          0.5648405669880487,
          0.6076518920518104,
          0.6407614181144634,
          0.6873803630427098,
          0.6540568417461831,
          0.6873803630427098,
          0.6873803630427098,
          0.6076518920518104,
          0.5797825408142631,
          0.6139929455061156,
          0.6836310066666548,
          0.6244005297045466,
          0.6873803630427098,
          0.6873803630427098,
          0.6540568417461831,
          0.6873803630427098,
          0.6873803630427098,
          0.6182381284158797,
          0.6873803630427098,
          0.6540568417461831,
          0.6873803630427098,
          0.6873803630427098,
          0.6873803630427098,
          0.6873803630427098,
          0.6540568417461831,
          0.6873803630427098,
          0.6540568417461831,
          0.641330343103177
         ],
         "yaxis": "y2"
        },
        {
         "marker": {
          "color": [
           4,
           5,
           9,
           14,
           16,
           21,
           22,
           25,
           28,
           29,
           31,
           33,
           34,
           35,
           36,
           38,
           40,
           41,
           42,
           43,
           44,
           46,
           47,
           48,
           51,
           52,
           53,
           54,
           55,
           56,
           57,
           58,
           61,
           62,
           63,
           64,
           65,
           66,
           69,
           70,
           71,
           72,
           73,
           74,
           75,
           76,
           77,
           78,
           80,
           81,
           82,
           83,
           84,
           85,
           87,
           88,
           90,
           91,
           92,
           93,
           94,
           95,
           96,
           97,
           99
          ],
          "colorbar": {
           "title": {
            "text": "Trial"
           },
           "x": 1,
           "xpad": 40
          },
          "colorscale": [
           [
            0,
            "rgb(247,251,255)"
           ],
           [
            0.125,
            "rgb(222,235,247)"
           ],
           [
            0.25,
            "rgb(198,219,239)"
           ],
           [
            0.375,
            "rgb(158,202,225)"
           ],
           [
            0.5,
            "rgb(107,174,214)"
           ],
           [
            0.625,
            "rgb(66,146,198)"
           ],
           [
            0.75,
            "rgb(33,113,181)"
           ],
           [
            0.875,
            "rgb(8,81,156)"
           ],
           [
            1,
            "rgb(8,48,107)"
           ]
          ],
          "line": {
           "color": "Grey",
           "width": 0.5
          },
          "showscale": false
         },
         "mode": "markers",
         "name": "Feasible Trial",
         "showlegend": false,
         "type": "scatter",
         "x": [
          100,
          70,
          30,
          30,
          20,
          20,
          20,
          40,
          70,
          100,
          90,
          80,
          80,
          80,
          80,
          70,
          70,
          70,
          60,
          60,
          60,
          50,
          60,
          60,
          50,
          60,
          50,
          60,
          50,
          70,
          60,
          40,
          50,
          60,
          50,
          40,
          70,
          60,
          60,
          60,
          70,
          50,
          60,
          60,
          70,
          50,
          60,
          70,
          50,
          40,
          30,
          40,
          30,
          60,
          70,
          50,
          70,
          50,
          40,
          50,
          50,
          60,
          60,
          50,
          60
         ],
         "xaxis": "x3",
         "y": [
          0.6306980037863917,
          0.5648405669880487,
          0.5830034538457716,
          0.475435974868932,
          0.6101579131607452,
          0.5952159928412505,
          0.475435974868932,
          0.5541968094337572,
          0.6836310066666548,
          0.6330039314696427,
          0.6330039314696427,
          0.641330343103177,
          0.6330039314696427,
          0.6625355573073094,
          0.6625355573073094,
          0.6625355573073094,
          0.6873803630427098,
          0.6873803630427098,
          0.6873803630427098,
          0.6873803630427098,
          0.6873803630427098,
          0.6873803630427098,
          0.6244005297045466,
          0.6540568417461831,
          0.6873803630427098,
          0.6540568417461831,
          0.6244005297045466,
          0.6873803630427098,
          0.6244005297045466,
          0.6540568417461831,
          0.6076518920518104,
          0.6873803630427098,
          0.6873803630427098,
          0.6873803630427098,
          0.6540568417461831,
          0.6873803630427098,
          0.6244005297045466,
          0.5648405669880487,
          0.6076518920518104,
          0.6407614181144634,
          0.6873803630427098,
          0.6540568417461831,
          0.6873803630427098,
          0.6873803630427098,
          0.6076518920518104,
          0.5797825408142631,
          0.6139929455061156,
          0.6836310066666548,
          0.6244005297045466,
          0.6873803630427098,
          0.6873803630427098,
          0.6540568417461831,
          0.6873803630427098,
          0.6873803630427098,
          0.6182381284158797,
          0.6873803630427098,
          0.6540568417461831,
          0.6873803630427098,
          0.6873803630427098,
          0.6873803630427098,
          0.6873803630427098,
          0.6540568417461831,
          0.6873803630427098,
          0.6540568417461831,
          0.641330343103177
         ],
         "yaxis": "y3"
        },
        {
         "marker": {
          "color": [
           4,
           5,
           9,
           14,
           16,
           21,
           22,
           25,
           28,
           29,
           31,
           33,
           34,
           35,
           36,
           38,
           40,
           41,
           42,
           43,
           44,
           46,
           47,
           48,
           51,
           52,
           53,
           54,
           55,
           56,
           57,
           58,
           61,
           62,
           63,
           64,
           65,
           66,
           69,
           70,
           71,
           72,
           73,
           74,
           75,
           76,
           77,
           78,
           80,
           81,
           82,
           83,
           84,
           85,
           87,
           88,
           90,
           91,
           92,
           93,
           94,
           95,
           96,
           97,
           99
          ],
          "colorbar": {
           "title": {
            "text": "Trial"
           },
           "x": 1,
           "xpad": 40
          },
          "colorscale": [
           [
            0,
            "rgb(247,251,255)"
           ],
           [
            0.125,
            "rgb(222,235,247)"
           ],
           [
            0.25,
            "rgb(198,219,239)"
           ],
           [
            0.375,
            "rgb(158,202,225)"
           ],
           [
            0.5,
            "rgb(107,174,214)"
           ],
           [
            0.625,
            "rgb(66,146,198)"
           ],
           [
            0.75,
            "rgb(33,113,181)"
           ],
           [
            0.875,
            "rgb(8,81,156)"
           ],
           [
            1,
            "rgb(8,48,107)"
           ]
          ],
          "line": {
           "color": "Grey",
           "width": 0.5
          },
          "showscale": false
         },
         "mode": "markers",
         "name": "Feasible Trial",
         "showlegend": false,
         "type": "scatter",
         "x": [
          "minkowski",
          "chebyshev",
          "chebyshev",
          "chebyshev",
          "chebyshev",
          "chebyshev",
          "chebyshev",
          "chebyshev",
          "chebyshev",
          "chebyshev",
          "chebyshev",
          "chebyshev",
          "chebyshev",
          "chebyshev",
          "chebyshev",
          "chebyshev",
          "chebyshev",
          "chebyshev",
          "chebyshev",
          "chebyshev",
          "chebyshev",
          "chebyshev",
          "chebyshev",
          "chebyshev",
          "chebyshev",
          "chebyshev",
          "chebyshev",
          "chebyshev",
          "chebyshev",
          "chebyshev",
          "chebyshev",
          "chebyshev",
          "chebyshev",
          "chebyshev",
          "chebyshev",
          "chebyshev",
          "chebyshev",
          "chebyshev",
          "chebyshev",
          "chebyshev",
          "chebyshev",
          "chebyshev",
          "chebyshev",
          "chebyshev",
          "chebyshev",
          "minkowski",
          "chebyshev",
          "chebyshev",
          "chebyshev",
          "chebyshev",
          "chebyshev",
          "chebyshev",
          "chebyshev",
          "chebyshev",
          "minkowski",
          "chebyshev",
          "chebyshev",
          "chebyshev",
          "chebyshev",
          "chebyshev",
          "chebyshev",
          "chebyshev",
          "chebyshev",
          "chebyshev",
          "chebyshev"
         ],
         "xaxis": "x4",
         "y": [
          0.6306980037863917,
          0.5648405669880487,
          0.5830034538457716,
          0.475435974868932,
          0.6101579131607452,
          0.5952159928412505,
          0.475435974868932,
          0.5541968094337572,
          0.6836310066666548,
          0.6330039314696427,
          0.6330039314696427,
          0.641330343103177,
          0.6330039314696427,
          0.6625355573073094,
          0.6625355573073094,
          0.6625355573073094,
          0.6873803630427098,
          0.6873803630427098,
          0.6873803630427098,
          0.6873803630427098,
          0.6873803630427098,
          0.6873803630427098,
          0.6244005297045466,
          0.6540568417461831,
          0.6873803630427098,
          0.6540568417461831,
          0.6244005297045466,
          0.6873803630427098,
          0.6244005297045466,
          0.6540568417461831,
          0.6076518920518104,
          0.6873803630427098,
          0.6873803630427098,
          0.6873803630427098,
          0.6540568417461831,
          0.6873803630427098,
          0.6244005297045466,
          0.5648405669880487,
          0.6076518920518104,
          0.6407614181144634,
          0.6873803630427098,
          0.6540568417461831,
          0.6873803630427098,
          0.6873803630427098,
          0.6076518920518104,
          0.5797825408142631,
          0.6139929455061156,
          0.6836310066666548,
          0.6244005297045466,
          0.6873803630427098,
          0.6873803630427098,
          0.6540568417461831,
          0.6873803630427098,
          0.6873803630427098,
          0.6182381284158797,
          0.6873803630427098,
          0.6540568417461831,
          0.6873803630427098,
          0.6873803630427098,
          0.6873803630427098,
          0.6873803630427098,
          0.6540568417461831,
          0.6873803630427098,
          0.6540568417461831,
          0.641330343103177
         ],
         "yaxis": "y4"
        },
        {
         "marker": {
          "color": [
           4,
           5,
           9,
           14,
           16,
           21,
           22,
           25,
           28,
           29,
           31,
           33,
           34,
           35,
           36,
           38,
           40,
           41,
           42,
           43,
           44,
           46,
           47,
           48,
           51,
           52,
           53,
           54,
           55,
           56,
           57,
           58,
           61,
           62,
           63,
           64,
           65,
           66,
           69,
           70,
           71,
           72,
           73,
           74,
           75,
           76,
           77,
           78,
           80,
           81,
           82,
           83,
           84,
           85,
           87,
           88,
           90,
           91,
           92,
           93,
           94,
           95,
           96,
           97,
           99
          ],
          "colorbar": {
           "title": {
            "text": "Trial"
           },
           "x": 1,
           "xpad": 40
          },
          "colorscale": [
           [
            0,
            "rgb(247,251,255)"
           ],
           [
            0.125,
            "rgb(222,235,247)"
           ],
           [
            0.25,
            "rgb(198,219,239)"
           ],
           [
            0.375,
            "rgb(158,202,225)"
           ],
           [
            0.5,
            "rgb(107,174,214)"
           ],
           [
            0.625,
            "rgb(66,146,198)"
           ],
           [
            0.75,
            "rgb(33,113,181)"
           ],
           [
            0.875,
            "rgb(8,81,156)"
           ],
           [
            1,
            "rgb(8,48,107)"
           ]
          ],
          "line": {
           "color": "Grey",
           "width": 0.5
          },
          "showscale": false
         },
         "mode": "markers",
         "name": "Feasible Trial",
         "showlegend": false,
         "type": "scatter",
         "x": [
          1900,
          1900,
          2300,
          2500,
          1700,
          2400,
          2500,
          1800,
          1600,
          1600,
          1600,
          1600,
          1600,
          1500,
          1500,
          1500,
          1800,
          1800,
          1800,
          1800,
          1800,
          1800,
          2000,
          1900,
          1800,
          1900,
          2000,
          1800,
          2000,
          1900,
          1700,
          1800,
          1800,
          1800,
          1900,
          1700,
          2000,
          1900,
          1700,
          2100,
          1800,
          1900,
          1700,
          1800,
          1700,
          1900,
          1800,
          1600,
          2000,
          1800,
          1800,
          1900,
          1800,
          1700,
          1600,
          1800,
          1900,
          1800,
          1700,
          1800,
          1800,
          1900,
          1700,
          1900,
          1600
         ],
         "xaxis": "x5",
         "y": [
          0.6306980037863917,
          0.5648405669880487,
          0.5830034538457716,
          0.475435974868932,
          0.6101579131607452,
          0.5952159928412505,
          0.475435974868932,
          0.5541968094337572,
          0.6836310066666548,
          0.6330039314696427,
          0.6330039314696427,
          0.641330343103177,
          0.6330039314696427,
          0.6625355573073094,
          0.6625355573073094,
          0.6625355573073094,
          0.6873803630427098,
          0.6873803630427098,
          0.6873803630427098,
          0.6873803630427098,
          0.6873803630427098,
          0.6873803630427098,
          0.6244005297045466,
          0.6540568417461831,
          0.6873803630427098,
          0.6540568417461831,
          0.6244005297045466,
          0.6873803630427098,
          0.6244005297045466,
          0.6540568417461831,
          0.6076518920518104,
          0.6873803630427098,
          0.6873803630427098,
          0.6873803630427098,
          0.6540568417461831,
          0.6873803630427098,
          0.6244005297045466,
          0.5648405669880487,
          0.6076518920518104,
          0.6407614181144634,
          0.6873803630427098,
          0.6540568417461831,
          0.6873803630427098,
          0.6873803630427098,
          0.6076518920518104,
          0.5797825408142631,
          0.6139929455061156,
          0.6836310066666548,
          0.6244005297045466,
          0.6873803630427098,
          0.6873803630427098,
          0.6540568417461831,
          0.6873803630427098,
          0.6873803630427098,
          0.6182381284158797,
          0.6873803630427098,
          0.6540568417461831,
          0.6873803630427098,
          0.6873803630427098,
          0.6873803630427098,
          0.6873803630427098,
          0.6540568417461831,
          0.6873803630427098,
          0.6540568417461831,
          0.641330343103177
         ],
         "yaxis": "y5"
        },
        {
         "marker": {
          "color": [
           4,
           5,
           9,
           14,
           16,
           21,
           22,
           25,
           28,
           29,
           31,
           33,
           34,
           35,
           36,
           38,
           40,
           41,
           42,
           43,
           44,
           46,
           47,
           48,
           51,
           52,
           53,
           54,
           55,
           56,
           57,
           58,
           61,
           62,
           63,
           64,
           65,
           66,
           69,
           70,
           71,
           72,
           73,
           74,
           75,
           76,
           77,
           78,
           80,
           81,
           82,
           83,
           84,
           85,
           87,
           88,
           90,
           91,
           92,
           93,
           94,
           95,
           96,
           97,
           99
          ],
          "colorbar": {
           "title": {
            "text": "Trial"
           },
           "x": 1,
           "xpad": 40
          },
          "colorscale": [
           [
            0,
            "rgb(247,251,255)"
           ],
           [
            0.125,
            "rgb(222,235,247)"
           ],
           [
            0.25,
            "rgb(198,219,239)"
           ],
           [
            0.375,
            "rgb(158,202,225)"
           ],
           [
            0.5,
            "rgb(107,174,214)"
           ],
           [
            0.625,
            "rgb(66,146,198)"
           ],
           [
            0.75,
            "rgb(33,113,181)"
           ],
           [
            0.875,
            "rgb(8,81,156)"
           ],
           [
            1,
            "rgb(8,48,107)"
           ]
          ],
          "line": {
           "color": "Grey",
           "width": 0.5
          },
          "showscale": false
         },
         "mode": "markers",
         "name": "Feasible Trial",
         "showlegend": false,
         "type": "scatter",
         "x": [
          4.25937395232982,
          2.621366694005814,
          2.2525486361367686,
          3.5707514145920403,
          4.102382048804713,
          2.2115347781388275,
          4.9244075672850025,
          3.228815924937315,
          3.8647341371866153,
          3.9110990373291523,
          4.007546272034102,
          3.3652054938763887,
          3.3181110671150966,
          3.9213865086181414,
          3.4979117810205116,
          2.9674431505550505,
          2.858413771810197,
          2.8568662001280387,
          2.7885531721648893,
          2.512642778889118,
          2.7393381959464445,
          2.8050718632871914,
          1.9510370955483811,
          2.4034671081444423,
          2.7269998531454407,
          3.0647269942282196,
          2.366381209195668,
          2.894651217238928,
          2.585016587387626,
          3.1484724879182813,
          2.8362616988430758,
          2.1565849228940177,
          2.7473126867676854,
          2.513226642551294,
          3.1058581782468533,
          2.8642578471010607,
          2.067675605815617,
          2.6641939721400685,
          1.6578684761420888,
          3.171449504135826,
          2.976139379703668,
          2.8289650634914363,
          1.0891207507647733,
          2.890877450557292,
          2.5993258150920515,
          2.9375247544579497,
          2.2589368895761326,
          3.2984712891116312,
          3.0452051800761355,
          1.7557286278015476,
          2.6833116791762954,
          2.460186171040956,
          2.130138185226637,
          2.2943124980487895,
          2.4431356077156963,
          2.107523156914379,
          1.322287788778762,
          2.864229539507701,
          2.737614731006242,
          2.759047764673982,
          3.027135634815376,
          2.5375800914682833,
          2.375840837837298,
          2.7962349302149536,
          3.421672486708503
         ],
         "xaxis": "x6",
         "y": [
          0.6306980037863917,
          0.5648405669880487,
          0.5830034538457716,
          0.475435974868932,
          0.6101579131607452,
          0.5952159928412505,
          0.475435974868932,
          0.5541968094337572,
          0.6836310066666548,
          0.6330039314696427,
          0.6330039314696427,
          0.641330343103177,
          0.6330039314696427,
          0.6625355573073094,
          0.6625355573073094,
          0.6625355573073094,
          0.6873803630427098,
          0.6873803630427098,
          0.6873803630427098,
          0.6873803630427098,
          0.6873803630427098,
          0.6873803630427098,
          0.6244005297045466,
          0.6540568417461831,
          0.6873803630427098,
          0.6540568417461831,
          0.6244005297045466,
          0.6873803630427098,
          0.6244005297045466,
          0.6540568417461831,
          0.6076518920518104,
          0.6873803630427098,
          0.6873803630427098,
          0.6873803630427098,
          0.6540568417461831,
          0.6873803630427098,
          0.6244005297045466,
          0.5648405669880487,
          0.6076518920518104,
          0.6407614181144634,
          0.6873803630427098,
          0.6540568417461831,
          0.6873803630427098,
          0.6873803630427098,
          0.6076518920518104,
          0.5797825408142631,
          0.6139929455061156,
          0.6836310066666548,
          0.6244005297045466,
          0.6873803630427098,
          0.6873803630427098,
          0.6540568417461831,
          0.6873803630427098,
          0.6873803630427098,
          0.6182381284158797,
          0.6873803630427098,
          0.6540568417461831,
          0.6873803630427098,
          0.6873803630427098,
          0.6873803630427098,
          0.6873803630427098,
          0.6540568417461831,
          0.6873803630427098,
          0.6540568417461831,
          0.641330343103177
         ],
         "yaxis": "y6"
        }
       ],
       "layout": {
        "template": {
         "data": {
          "bar": [
           {
            "error_x": {
             "color": "#2a3f5f"
            },
            "error_y": {
             "color": "#2a3f5f"
            },
            "marker": {
             "line": {
              "color": "#E5ECF6",
              "width": 0.5
             },
             "pattern": {
              "fillmode": "overlay",
              "size": 10,
              "solidity": 0.2
             }
            },
            "type": "bar"
           }
          ],
          "barpolar": [
           {
            "marker": {
             "line": {
              "color": "#E5ECF6",
              "width": 0.5
             },
             "pattern": {
              "fillmode": "overlay",
              "size": 10,
              "solidity": 0.2
             }
            },
            "type": "barpolar"
           }
          ],
          "carpet": [
           {
            "aaxis": {
             "endlinecolor": "#2a3f5f",
             "gridcolor": "white",
             "linecolor": "white",
             "minorgridcolor": "white",
             "startlinecolor": "#2a3f5f"
            },
            "baxis": {
             "endlinecolor": "#2a3f5f",
             "gridcolor": "white",
             "linecolor": "white",
             "minorgridcolor": "white",
             "startlinecolor": "#2a3f5f"
            },
            "type": "carpet"
           }
          ],
          "choropleth": [
           {
            "colorbar": {
             "outlinewidth": 0,
             "ticks": ""
            },
            "type": "choropleth"
           }
          ],
          "contour": [
           {
            "colorbar": {
             "outlinewidth": 0,
             "ticks": ""
            },
            "colorscale": [
             [
              0,
              "#0d0887"
             ],
             [
              0.1111111111111111,
              "#46039f"
             ],
             [
              0.2222222222222222,
              "#7201a8"
             ],
             [
              0.3333333333333333,
              "#9c179e"
             ],
             [
              0.4444444444444444,
              "#bd3786"
             ],
             [
              0.5555555555555556,
              "#d8576b"
             ],
             [
              0.6666666666666666,
              "#ed7953"
             ],
             [
              0.7777777777777778,
              "#fb9f3a"
             ],
             [
              0.8888888888888888,
              "#fdca26"
             ],
             [
              1,
              "#f0f921"
             ]
            ],
            "type": "contour"
           }
          ],
          "contourcarpet": [
           {
            "colorbar": {
             "outlinewidth": 0,
             "ticks": ""
            },
            "type": "contourcarpet"
           }
          ],
          "heatmap": [
           {
            "colorbar": {
             "outlinewidth": 0,
             "ticks": ""
            },
            "colorscale": [
             [
              0,
              "#0d0887"
             ],
             [
              0.1111111111111111,
              "#46039f"
             ],
             [
              0.2222222222222222,
              "#7201a8"
             ],
             [
              0.3333333333333333,
              "#9c179e"
             ],
             [
              0.4444444444444444,
              "#bd3786"
             ],
             [
              0.5555555555555556,
              "#d8576b"
             ],
             [
              0.6666666666666666,
              "#ed7953"
             ],
             [
              0.7777777777777778,
              "#fb9f3a"
             ],
             [
              0.8888888888888888,
              "#fdca26"
             ],
             [
              1,
              "#f0f921"
             ]
            ],
            "type": "heatmap"
           }
          ],
          "heatmapgl": [
           {
            "colorbar": {
             "outlinewidth": 0,
             "ticks": ""
            },
            "colorscale": [
             [
              0,
              "#0d0887"
             ],
             [
              0.1111111111111111,
              "#46039f"
             ],
             [
              0.2222222222222222,
              "#7201a8"
             ],
             [
              0.3333333333333333,
              "#9c179e"
             ],
             [
              0.4444444444444444,
              "#bd3786"
             ],
             [
              0.5555555555555556,
              "#d8576b"
             ],
             [
              0.6666666666666666,
              "#ed7953"
             ],
             [
              0.7777777777777778,
              "#fb9f3a"
             ],
             [
              0.8888888888888888,
              "#fdca26"
             ],
             [
              1,
              "#f0f921"
             ]
            ],
            "type": "heatmapgl"
           }
          ],
          "histogram": [
           {
            "marker": {
             "pattern": {
              "fillmode": "overlay",
              "size": 10,
              "solidity": 0.2
             }
            },
            "type": "histogram"
           }
          ],
          "histogram2d": [
           {
            "colorbar": {
             "outlinewidth": 0,
             "ticks": ""
            },
            "colorscale": [
             [
              0,
              "#0d0887"
             ],
             [
              0.1111111111111111,
              "#46039f"
             ],
             [
              0.2222222222222222,
              "#7201a8"
             ],
             [
              0.3333333333333333,
              "#9c179e"
             ],
             [
              0.4444444444444444,
              "#bd3786"
             ],
             [
              0.5555555555555556,
              "#d8576b"
             ],
             [
              0.6666666666666666,
              "#ed7953"
             ],
             [
              0.7777777777777778,
              "#fb9f3a"
             ],
             [
              0.8888888888888888,
              "#fdca26"
             ],
             [
              1,
              "#f0f921"
             ]
            ],
            "type": "histogram2d"
           }
          ],
          "histogram2dcontour": [
           {
            "colorbar": {
             "outlinewidth": 0,
             "ticks": ""
            },
            "colorscale": [
             [
              0,
              "#0d0887"
             ],
             [
              0.1111111111111111,
              "#46039f"
             ],
             [
              0.2222222222222222,
              "#7201a8"
             ],
             [
              0.3333333333333333,
              "#9c179e"
             ],
             [
              0.4444444444444444,
              "#bd3786"
             ],
             [
              0.5555555555555556,
              "#d8576b"
             ],
             [
              0.6666666666666666,
              "#ed7953"
             ],
             [
              0.7777777777777778,
              "#fb9f3a"
             ],
             [
              0.8888888888888888,
              "#fdca26"
             ],
             [
              1,
              "#f0f921"
             ]
            ],
            "type": "histogram2dcontour"
           }
          ],
          "mesh3d": [
           {
            "colorbar": {
             "outlinewidth": 0,
             "ticks": ""
            },
            "type": "mesh3d"
           }
          ],
          "parcoords": [
           {
            "line": {
             "colorbar": {
              "outlinewidth": 0,
              "ticks": ""
             }
            },
            "type": "parcoords"
           }
          ],
          "pie": [
           {
            "automargin": true,
            "type": "pie"
           }
          ],
          "scatter": [
           {
            "fillpattern": {
             "fillmode": "overlay",
             "size": 10,
             "solidity": 0.2
            },
            "type": "scatter"
           }
          ],
          "scatter3d": [
           {
            "line": {
             "colorbar": {
              "outlinewidth": 0,
              "ticks": ""
             }
            },
            "marker": {
             "colorbar": {
              "outlinewidth": 0,
              "ticks": ""
             }
            },
            "type": "scatter3d"
           }
          ],
          "scattercarpet": [
           {
            "marker": {
             "colorbar": {
              "outlinewidth": 0,
              "ticks": ""
             }
            },
            "type": "scattercarpet"
           }
          ],
          "scattergeo": [
           {
            "marker": {
             "colorbar": {
              "outlinewidth": 0,
              "ticks": ""
             }
            },
            "type": "scattergeo"
           }
          ],
          "scattergl": [
           {
            "marker": {
             "colorbar": {
              "outlinewidth": 0,
              "ticks": ""
             }
            },
            "type": "scattergl"
           }
          ],
          "scattermapbox": [
           {
            "marker": {
             "colorbar": {
              "outlinewidth": 0,
              "ticks": ""
             }
            },
            "type": "scattermapbox"
           }
          ],
          "scatterpolar": [
           {
            "marker": {
             "colorbar": {
              "outlinewidth": 0,
              "ticks": ""
             }
            },
            "type": "scatterpolar"
           }
          ],
          "scatterpolargl": [
           {
            "marker": {
             "colorbar": {
              "outlinewidth": 0,
              "ticks": ""
             }
            },
            "type": "scatterpolargl"
           }
          ],
          "scatterternary": [
           {
            "marker": {
             "colorbar": {
              "outlinewidth": 0,
              "ticks": ""
             }
            },
            "type": "scatterternary"
           }
          ],
          "surface": [
           {
            "colorbar": {
             "outlinewidth": 0,
             "ticks": ""
            },
            "colorscale": [
             [
              0,
              "#0d0887"
             ],
             [
              0.1111111111111111,
              "#46039f"
             ],
             [
              0.2222222222222222,
              "#7201a8"
             ],
             [
              0.3333333333333333,
              "#9c179e"
             ],
             [
              0.4444444444444444,
              "#bd3786"
             ],
             [
              0.5555555555555556,
              "#d8576b"
             ],
             [
              0.6666666666666666,
              "#ed7953"
             ],
             [
              0.7777777777777778,
              "#fb9f3a"
             ],
             [
              0.8888888888888888,
              "#fdca26"
             ],
             [
              1,
              "#f0f921"
             ]
            ],
            "type": "surface"
           }
          ],
          "table": [
           {
            "cells": {
             "fill": {
              "color": "#EBF0F8"
             },
             "line": {
              "color": "white"
             }
            },
            "header": {
             "fill": {
              "color": "#C8D4E3"
             },
             "line": {
              "color": "white"
             }
            },
            "type": "table"
           }
          ]
         },
         "layout": {
          "annotationdefaults": {
           "arrowcolor": "#2a3f5f",
           "arrowhead": 0,
           "arrowwidth": 1
          },
          "autotypenumbers": "strict",
          "coloraxis": {
           "colorbar": {
            "outlinewidth": 0,
            "ticks": ""
           }
          },
          "colorscale": {
           "diverging": [
            [
             0,
             "#8e0152"
            ],
            [
             0.1,
             "#c51b7d"
            ],
            [
             0.2,
             "#de77ae"
            ],
            [
             0.3,
             "#f1b6da"
            ],
            [
             0.4,
             "#fde0ef"
            ],
            [
             0.5,
             "#f7f7f7"
            ],
            [
             0.6,
             "#e6f5d0"
            ],
            [
             0.7,
             "#b8e186"
            ],
            [
             0.8,
             "#7fbc41"
            ],
            [
             0.9,
             "#4d9221"
            ],
            [
             1,
             "#276419"
            ]
           ],
           "sequential": [
            [
             0,
             "#0d0887"
            ],
            [
             0.1111111111111111,
             "#46039f"
            ],
            [
             0.2222222222222222,
             "#7201a8"
            ],
            [
             0.3333333333333333,
             "#9c179e"
            ],
            [
             0.4444444444444444,
             "#bd3786"
            ],
            [
             0.5555555555555556,
             "#d8576b"
            ],
            [
             0.6666666666666666,
             "#ed7953"
            ],
            [
             0.7777777777777778,
             "#fb9f3a"
            ],
            [
             0.8888888888888888,
             "#fdca26"
            ],
            [
             1,
             "#f0f921"
            ]
           ],
           "sequentialminus": [
            [
             0,
             "#0d0887"
            ],
            [
             0.1111111111111111,
             "#46039f"
            ],
            [
             0.2222222222222222,
             "#7201a8"
            ],
            [
             0.3333333333333333,
             "#9c179e"
            ],
            [
             0.4444444444444444,
             "#bd3786"
            ],
            [
             0.5555555555555556,
             "#d8576b"
            ],
            [
             0.6666666666666666,
             "#ed7953"
            ],
            [
             0.7777777777777778,
             "#fb9f3a"
            ],
            [
             0.8888888888888888,
             "#fdca26"
            ],
            [
             1,
             "#f0f921"
            ]
           ]
          },
          "colorway": [
           "#636efa",
           "#EF553B",
           "#00cc96",
           "#ab63fa",
           "#FFA15A",
           "#19d3f3",
           "#FF6692",
           "#B6E880",
           "#FF97FF",
           "#FECB52"
          ],
          "font": {
           "color": "#2a3f5f"
          },
          "geo": {
           "bgcolor": "white",
           "lakecolor": "white",
           "landcolor": "#E5ECF6",
           "showlakes": true,
           "showland": true,
           "subunitcolor": "white"
          },
          "hoverlabel": {
           "align": "left"
          },
          "hovermode": "closest",
          "mapbox": {
           "style": "light"
          },
          "paper_bgcolor": "white",
          "plot_bgcolor": "#E5ECF6",
          "polar": {
           "angularaxis": {
            "gridcolor": "white",
            "linecolor": "white",
            "ticks": ""
           },
           "bgcolor": "#E5ECF6",
           "radialaxis": {
            "gridcolor": "white",
            "linecolor": "white",
            "ticks": ""
           }
          },
          "scene": {
           "xaxis": {
            "backgroundcolor": "#E5ECF6",
            "gridcolor": "white",
            "gridwidth": 2,
            "linecolor": "white",
            "showbackground": true,
            "ticks": "",
            "zerolinecolor": "white"
           },
           "yaxis": {
            "backgroundcolor": "#E5ECF6",
            "gridcolor": "white",
            "gridwidth": 2,
            "linecolor": "white",
            "showbackground": true,
            "ticks": "",
            "zerolinecolor": "white"
           },
           "zaxis": {
            "backgroundcolor": "#E5ECF6",
            "gridcolor": "white",
            "gridwidth": 2,
            "linecolor": "white",
            "showbackground": true,
            "ticks": "",
            "zerolinecolor": "white"
           }
          },
          "shapedefaults": {
           "line": {
            "color": "#2a3f5f"
           }
          },
          "ternary": {
           "aaxis": {
            "gridcolor": "white",
            "linecolor": "white",
            "ticks": ""
           },
           "baxis": {
            "gridcolor": "white",
            "linecolor": "white",
            "ticks": ""
           },
           "bgcolor": "#E5ECF6",
           "caxis": {
            "gridcolor": "white",
            "linecolor": "white",
            "ticks": ""
           }
          },
          "title": {
           "x": 0.05
          },
          "xaxis": {
           "automargin": true,
           "gridcolor": "white",
           "linecolor": "white",
           "ticks": "",
           "title": {
            "standoff": 15
           },
           "zerolinecolor": "white",
           "zerolinewidth": 2
          },
          "yaxis": {
           "automargin": true,
           "gridcolor": "white",
           "linecolor": "white",
           "ticks": "",
           "title": {
            "standoff": 15
           },
           "zerolinecolor": "white",
           "zerolinewidth": 2
          }
         }
        },
        "title": {
         "text": "Slice Plot"
        },
        "width": 1800,
        "xaxis": {
         "anchor": "y",
         "categoryarray": [
          "auto",
          "ball_tree",
          "kd_tree",
          "brute"
         ],
         "categoryorder": "array",
         "domain": [
          0,
          0.1388888888888889
         ],
         "title": {
          "text": "algorithm"
         },
         "type": "category"
        },
        "xaxis2": {
         "anchor": "y2",
         "domain": [
          0.17222222222222222,
          0.3111111111111111
         ],
         "title": {
          "text": "eps"
         }
        },
        "xaxis3": {
         "anchor": "y3",
         "domain": [
          0.34444444444444444,
          0.48333333333333334
         ],
         "title": {
          "text": "leaf_size"
         }
        },
        "xaxis4": {
         "anchor": "y4",
         "categoryarray": [
          "euclidean",
          "manhattan",
          "chebyshev",
          "minkowski"
         ],
         "categoryorder": "array",
         "domain": [
          0.5166666666666667,
          0.6555555555555557
         ],
         "title": {
          "text": "metric"
         },
         "type": "category"
        },
        "xaxis5": {
         "anchor": "y5",
         "domain": [
          0.6888888888888889,
          0.8277777777777777
         ],
         "title": {
          "text": "min_samples"
         }
        },
        "xaxis6": {
         "anchor": "y6",
         "domain": [
          0.861111111111111,
          1
         ],
         "title": {
          "text": "p"
         }
        },
        "yaxis": {
         "anchor": "x",
         "domain": [
          0,
          1
         ],
         "title": {
          "text": "Objective Value"
         }
        },
        "yaxis2": {
         "anchor": "x2",
         "domain": [
          0,
          1
         ],
         "matches": "y",
         "showticklabels": false
        },
        "yaxis3": {
         "anchor": "x3",
         "domain": [
          0,
          1
         ],
         "matches": "y",
         "showticklabels": false
        },
        "yaxis4": {
         "anchor": "x4",
         "domain": [
          0,
          1
         ],
         "matches": "y",
         "showticklabels": false
        },
        "yaxis5": {
         "anchor": "x5",
         "domain": [
          0,
          1
         ],
         "matches": "y",
         "showticklabels": false
        },
        "yaxis6": {
         "anchor": "x6",
         "domain": [
          0,
          1
         ],
         "matches": "y",
         "showticklabels": false
        }
       }
      }
     },
     "metadata": {},
     "output_type": "display_data"
    }
   ],
   "source": [
    "optuna.visualization.plot_slice(study_dbscan)"
   ]
  },
  {
   "cell_type": "markdown",
   "metadata": {},
   "source": [
    "### Agglomerative Clustering"
   ]
  },
  {
   "cell_type": "code",
   "execution_count": 187,
   "metadata": {},
   "outputs": [
    {
     "data": {
      "text/plain": [
       "{'n_clusters': None,\n",
       " 'compute_full_tree': True,\n",
       " 'linkage': 'average',\n",
       " 'metric': 'manhattan'}"
      ]
     },
     "execution_count": 187,
     "metadata": {},
     "output_type": "execute_result"
    }
   ],
   "source": [
    "b = study_agglomerative.best_params\n",
    "b['n_clusters'] = None\n",
    "b"
   ]
  },
  {
   "cell_type": "code",
   "execution_count": 188,
   "metadata": {},
   "outputs": [
    {
     "data": {
      "text/plain": [
       "array([0, 0, 2, ..., 0, 0, 0], dtype=int64)"
      ]
     },
     "execution_count": 188,
     "metadata": {},
     "output_type": "execute_result"
    }
   ],
   "source": [
    "agglomerative = AgglomerativeClustering(**study_agglomerative.best_params).fit(df)\n",
    "labels = agglomerative.labels_\n",
    "labels"
   ]
  },
  {
   "cell_type": "code",
   "execution_count": 189,
   "metadata": {},
   "outputs": [
    {
     "data": {
      "text/html": [
       "<div>\n",
       "<style scoped>\n",
       "    .dataframe tbody tr th:only-of-type {\n",
       "        vertical-align: middle;\n",
       "    }\n",
       "\n",
       "    .dataframe tbody tr th {\n",
       "        vertical-align: top;\n",
       "    }\n",
       "\n",
       "    .dataframe thead th {\n",
       "        text-align: right;\n",
       "    }\n",
       "</style>\n",
       "<table border=\"1\" class=\"dataframe\">\n",
       "  <thead>\n",
       "    <tr style=\"text-align: right;\">\n",
       "      <th></th>\n",
       "      <th>euexfreq</th>\n",
       "      <th>eugenhth</th>\n",
       "      <th>eufastfdfrq</th>\n",
       "      <th>eudietsoda</th>\n",
       "      <th>euwgt</th>\n",
       "      <th>euhgt</th>\n",
       "      <th>Clusters</th>\n",
       "    </tr>\n",
       "  </thead>\n",
       "  <tbody>\n",
       "    <tr>\n",
       "      <th>0</th>\n",
       "      <td>0</td>\n",
       "      <td>1</td>\n",
       "      <td>0</td>\n",
       "      <td>0</td>\n",
       "      <td>77.11</td>\n",
       "      <td>1.52</td>\n",
       "      <td>0</td>\n",
       "    </tr>\n",
       "    <tr>\n",
       "      <th>1</th>\n",
       "      <td>0</td>\n",
       "      <td>2</td>\n",
       "      <td>1</td>\n",
       "      <td>0</td>\n",
       "      <td>58.06</td>\n",
       "      <td>1.60</td>\n",
       "      <td>0</td>\n",
       "    </tr>\n",
       "    <tr>\n",
       "      <th>2</th>\n",
       "      <td>0</td>\n",
       "      <td>5</td>\n",
       "      <td>0</td>\n",
       "      <td>0</td>\n",
       "      <td>122.47</td>\n",
       "      <td>1.57</td>\n",
       "      <td>2</td>\n",
       "    </tr>\n",
       "    <tr>\n",
       "      <th>3</th>\n",
       "      <td>5</td>\n",
       "      <td>4</td>\n",
       "      <td>0</td>\n",
       "      <td>0</td>\n",
       "      <td>95.25</td>\n",
       "      <td>1.75</td>\n",
       "      <td>0</td>\n",
       "    </tr>\n",
       "    <tr>\n",
       "      <th>4</th>\n",
       "      <td>2</td>\n",
       "      <td>3</td>\n",
       "      <td>3</td>\n",
       "      <td>1</td>\n",
       "      <td>99.79</td>\n",
       "      <td>1.80</td>\n",
       "      <td>0</td>\n",
       "    </tr>\n",
       "    <tr>\n",
       "      <th>...</th>\n",
       "      <td>...</td>\n",
       "      <td>...</td>\n",
       "      <td>...</td>\n",
       "      <td>...</td>\n",
       "      <td>...</td>\n",
       "      <td>...</td>\n",
       "      <td>...</td>\n",
       "    </tr>\n",
       "    <tr>\n",
       "      <th>10552</th>\n",
       "      <td>5</td>\n",
       "      <td>3</td>\n",
       "      <td>0</td>\n",
       "      <td>0</td>\n",
       "      <td>67.59</td>\n",
       "      <td>1.57</td>\n",
       "      <td>0</td>\n",
       "    </tr>\n",
       "    <tr>\n",
       "      <th>10553</th>\n",
       "      <td>2</td>\n",
       "      <td>2</td>\n",
       "      <td>3</td>\n",
       "      <td>2</td>\n",
       "      <td>81.65</td>\n",
       "      <td>1.73</td>\n",
       "      <td>0</td>\n",
       "    </tr>\n",
       "    <tr>\n",
       "      <th>10554</th>\n",
       "      <td>2</td>\n",
       "      <td>1</td>\n",
       "      <td>4</td>\n",
       "      <td>0</td>\n",
       "      <td>64.41</td>\n",
       "      <td>1.70</td>\n",
       "      <td>0</td>\n",
       "    </tr>\n",
       "    <tr>\n",
       "      <th>10555</th>\n",
       "      <td>1</td>\n",
       "      <td>1</td>\n",
       "      <td>3</td>\n",
       "      <td>1</td>\n",
       "      <td>76.20</td>\n",
       "      <td>1.80</td>\n",
       "      <td>0</td>\n",
       "    </tr>\n",
       "    <tr>\n",
       "      <th>10556</th>\n",
       "      <td>3</td>\n",
       "      <td>1</td>\n",
       "      <td>0</td>\n",
       "      <td>0</td>\n",
       "      <td>63.50</td>\n",
       "      <td>1.68</td>\n",
       "      <td>0</td>\n",
       "    </tr>\n",
       "  </tbody>\n",
       "</table>\n",
       "<p>10557 rows × 7 columns</p>\n",
       "</div>"
      ],
      "text/plain": [
       "       euexfreq  eugenhth  eufastfdfrq  eudietsoda   euwgt  euhgt  Clusters\n",
       "0             0         1            0           0   77.11   1.52         0\n",
       "1             0         2            1           0   58.06   1.60         0\n",
       "2             0         5            0           0  122.47   1.57         2\n",
       "3             5         4            0           0   95.25   1.75         0\n",
       "4             2         3            3           1   99.79   1.80         0\n",
       "...         ...       ...          ...         ...     ...    ...       ...\n",
       "10552         5         3            0           0   67.59   1.57         0\n",
       "10553         2         2            3           2   81.65   1.73         0\n",
       "10554         2         1            4           0   64.41   1.70         0\n",
       "10555         1         1            3           1   76.20   1.80         0\n",
       "10556         3         1            0           0   63.50   1.68         0\n",
       "\n",
       "[10557 rows x 7 columns]"
      ]
     },
     "execution_count": 189,
     "metadata": {},
     "output_type": "execute_result"
    }
   ],
   "source": [
    "df_agglomerative = df.copy()\n",
    "df_agglomerative['Clusters'] = labels\n",
    "df_agglomerative"
   ]
  },
  {
   "cell_type": "code",
   "execution_count": 190,
   "metadata": {},
   "outputs": [
    {
     "data": {
      "application/vnd.plotly.v1+json": {
       "config": {
        "plotlyServerURL": "https://plot.ly"
       },
       "data": [
        {
         "mode": "markers",
         "name": "Objective Value",
         "type": "scatter",
         "x": [
          0,
          1,
          2,
          3,
          4,
          5,
          6,
          7,
          8,
          9,
          10,
          11,
          12,
          13,
          14,
          15,
          16,
          17,
          18,
          19,
          20,
          21,
          22,
          23,
          24,
          25,
          26,
          27,
          28,
          29,
          30,
          31,
          32,
          33,
          34,
          35,
          36,
          37,
          38,
          39,
          40,
          41,
          42,
          43,
          44,
          45,
          46,
          47,
          48,
          49,
          50,
          51,
          52,
          53,
          54,
          55,
          56,
          57,
          58,
          59,
          60,
          61,
          62,
          63,
          64,
          65,
          66,
          67,
          68,
          69,
          70,
          71,
          72,
          73,
          74,
          75,
          76,
          77,
          78,
          79,
          80,
          81,
          82,
          83,
          84,
          85,
          86,
          87,
          88,
          89,
          90,
          91,
          92,
          93,
          94,
          95,
          96,
          97,
          98,
          99
         ],
         "y": [
          0.709556971388603,
          0.5276973991090959,
          0.5908363119493621,
          0.5908363119493621,
          0.7831926916181345,
          0.6954029412296819,
          0.6260733930416466,
          0.7499844444401701,
          0.7322637691203263,
          0.7376755756706729,
          0.7831926916181345,
          0.7831926916181345,
          0.7344264576312831,
          0.6862244215181689,
          0.7831926916181345,
          0.6862244215181689,
          0.7344264576312831,
          0.7831926916181345,
          0.734124404053533,
          0.7831926916181345,
          0.7344264576312831,
          0.7831926916181345,
          0.7831926916181345,
          0.7344264576312831,
          0.7831926916181345,
          0.7344264576312831,
          0.7775923995398956,
          0.7407247741841596,
          0.7383737431630678,
          0.709556971388603,
          0.7831926916181345,
          0.7831926916181345,
          0.7831926916181345,
          0.7344264576312831,
          0.7841728549555228,
          0.5908363119493621,
          0.7841728549555228,
          0.5896452577636889,
          0.7841728549555228,
          0.7841728549555228,
          0.7211788446923862,
          0.7841728549555228,
          0.7841728549555228,
          0.7841728549555228,
          0.7428546065515418,
          0.7841728549555228,
          0.7428546065515418,
          0.5908363119493621,
          0.7841728549555228,
          0.7242392447652056,
          0.703870481170782,
          0.7841728549555228,
          0.7841728549555228,
          0.7841728549555228,
          0.7841728549555228,
          0.7428546065515418,
          0.7841728549555228,
          0.734124404053533,
          0.7841728549555228,
          0.7841728549555228,
          0.7033833352759951,
          0.7841728549555228,
          0.7841728549555228,
          0.7841728549555228,
          0.7841728549555228,
          0.7242392447652056,
          0.7841728549555228,
          0.7831926916181345,
          0.7416380111084565,
          0.7499844444401701,
          0.7841728549555228,
          0.7841728549555228,
          0.7841728549555228,
          0.7841728549555228,
          0.7428546065515418,
          0.5908363119493621,
          0.7831926916181345,
          0.7841728549555228,
          0.734124404053533,
          0.7841728549555228,
          0.7455016458138733,
          0.7841728549555228,
          0.7841728549555228,
          0.7841728549555228,
          0.7841728549555228,
          0.7831926916181345,
          0.7321940627091988,
          0.7428546065515418,
          0.7831926916181345,
          0.5908363119493621,
          0.7841728549555228,
          0.7841728549555228,
          0.7841728549555228,
          0.7841728549555228,
          0.7841728549555228,
          0.7841728549555228,
          0.7428546065515418,
          0.7455016458138733,
          0.7416380111084565,
          0.7119794682091839
         ]
        },
        {
         "mode": "lines",
         "name": "Best Value",
         "type": "scatter",
         "x": [
          0,
          1,
          2,
          3,
          4,
          5,
          6,
          7,
          8,
          9,
          10,
          11,
          12,
          13,
          14,
          15,
          16,
          17,
          18,
          19,
          20,
          21,
          22,
          23,
          24,
          25,
          26,
          27,
          28,
          29,
          30,
          31,
          32,
          33,
          34,
          35,
          36,
          37,
          38,
          39,
          40,
          41,
          42,
          43,
          44,
          45,
          46,
          47,
          48,
          49,
          50,
          51,
          52,
          53,
          54,
          55,
          56,
          57,
          58,
          59,
          60,
          61,
          62,
          63,
          64,
          65,
          66,
          67,
          68,
          69,
          70,
          71,
          72,
          73,
          74,
          75,
          76,
          77,
          78,
          79,
          80,
          81,
          82,
          83,
          84,
          85,
          86,
          87,
          88,
          89,
          90,
          91,
          92,
          93,
          94,
          95,
          96,
          97,
          98,
          99
         ],
         "y": [
          0.709556971388603,
          0.709556971388603,
          0.709556971388603,
          0.709556971388603,
          0.7831926916181345,
          0.7831926916181345,
          0.7831926916181345,
          0.7831926916181345,
          0.7831926916181345,
          0.7831926916181345,
          0.7831926916181345,
          0.7831926916181345,
          0.7831926916181345,
          0.7831926916181345,
          0.7831926916181345,
          0.7831926916181345,
          0.7831926916181345,
          0.7831926916181345,
          0.7831926916181345,
          0.7831926916181345,
          0.7831926916181345,
          0.7831926916181345,
          0.7831926916181345,
          0.7831926916181345,
          0.7831926916181345,
          0.7831926916181345,
          0.7831926916181345,
          0.7831926916181345,
          0.7831926916181345,
          0.7831926916181345,
          0.7831926916181345,
          0.7831926916181345,
          0.7831926916181345,
          0.7831926916181345,
          0.7841728549555228,
          0.7841728549555228,
          0.7841728549555228,
          0.7841728549555228,
          0.7841728549555228,
          0.7841728549555228,
          0.7841728549555228,
          0.7841728549555228,
          0.7841728549555228,
          0.7841728549555228,
          0.7841728549555228,
          0.7841728549555228,
          0.7841728549555228,
          0.7841728549555228,
          0.7841728549555228,
          0.7841728549555228,
          0.7841728549555228,
          0.7841728549555228,
          0.7841728549555228,
          0.7841728549555228,
          0.7841728549555228,
          0.7841728549555228,
          0.7841728549555228,
          0.7841728549555228,
          0.7841728549555228,
          0.7841728549555228,
          0.7841728549555228,
          0.7841728549555228,
          0.7841728549555228,
          0.7841728549555228,
          0.7841728549555228,
          0.7841728549555228,
          0.7841728549555228,
          0.7841728549555228,
          0.7841728549555228,
          0.7841728549555228,
          0.7841728549555228,
          0.7841728549555228,
          0.7841728549555228,
          0.7841728549555228,
          0.7841728549555228,
          0.7841728549555228,
          0.7841728549555228,
          0.7841728549555228,
          0.7841728549555228,
          0.7841728549555228,
          0.7841728549555228,
          0.7841728549555228,
          0.7841728549555228,
          0.7841728549555228,
          0.7841728549555228,
          0.7841728549555228,
          0.7841728549555228,
          0.7841728549555228,
          0.7841728549555228,
          0.7841728549555228,
          0.7841728549555228,
          0.7841728549555228,
          0.7841728549555228,
          0.7841728549555228,
          0.7841728549555228,
          0.7841728549555228,
          0.7841728549555228,
          0.7841728549555228,
          0.7841728549555228,
          0.7841728549555228
         ]
        },
        {
         "marker": {
          "color": "#cccccc"
         },
         "mode": "markers",
         "name": "Infeasible Trial",
         "showlegend": false,
         "type": "scatter",
         "x": [],
         "y": []
        }
       ],
       "layout": {
        "template": {
         "data": {
          "bar": [
           {
            "error_x": {
             "color": "#2a3f5f"
            },
            "error_y": {
             "color": "#2a3f5f"
            },
            "marker": {
             "line": {
              "color": "#E5ECF6",
              "width": 0.5
             },
             "pattern": {
              "fillmode": "overlay",
              "size": 10,
              "solidity": 0.2
             }
            },
            "type": "bar"
           }
          ],
          "barpolar": [
           {
            "marker": {
             "line": {
              "color": "#E5ECF6",
              "width": 0.5
             },
             "pattern": {
              "fillmode": "overlay",
              "size": 10,
              "solidity": 0.2
             }
            },
            "type": "barpolar"
           }
          ],
          "carpet": [
           {
            "aaxis": {
             "endlinecolor": "#2a3f5f",
             "gridcolor": "white",
             "linecolor": "white",
             "minorgridcolor": "white",
             "startlinecolor": "#2a3f5f"
            },
            "baxis": {
             "endlinecolor": "#2a3f5f",
             "gridcolor": "white",
             "linecolor": "white",
             "minorgridcolor": "white",
             "startlinecolor": "#2a3f5f"
            },
            "type": "carpet"
           }
          ],
          "choropleth": [
           {
            "colorbar": {
             "outlinewidth": 0,
             "ticks": ""
            },
            "type": "choropleth"
           }
          ],
          "contour": [
           {
            "colorbar": {
             "outlinewidth": 0,
             "ticks": ""
            },
            "colorscale": [
             [
              0,
              "#0d0887"
             ],
             [
              0.1111111111111111,
              "#46039f"
             ],
             [
              0.2222222222222222,
              "#7201a8"
             ],
             [
              0.3333333333333333,
              "#9c179e"
             ],
             [
              0.4444444444444444,
              "#bd3786"
             ],
             [
              0.5555555555555556,
              "#d8576b"
             ],
             [
              0.6666666666666666,
              "#ed7953"
             ],
             [
              0.7777777777777778,
              "#fb9f3a"
             ],
             [
              0.8888888888888888,
              "#fdca26"
             ],
             [
              1,
              "#f0f921"
             ]
            ],
            "type": "contour"
           }
          ],
          "contourcarpet": [
           {
            "colorbar": {
             "outlinewidth": 0,
             "ticks": ""
            },
            "type": "contourcarpet"
           }
          ],
          "heatmap": [
           {
            "colorbar": {
             "outlinewidth": 0,
             "ticks": ""
            },
            "colorscale": [
             [
              0,
              "#0d0887"
             ],
             [
              0.1111111111111111,
              "#46039f"
             ],
             [
              0.2222222222222222,
              "#7201a8"
             ],
             [
              0.3333333333333333,
              "#9c179e"
             ],
             [
              0.4444444444444444,
              "#bd3786"
             ],
             [
              0.5555555555555556,
              "#d8576b"
             ],
             [
              0.6666666666666666,
              "#ed7953"
             ],
             [
              0.7777777777777778,
              "#fb9f3a"
             ],
             [
              0.8888888888888888,
              "#fdca26"
             ],
             [
              1,
              "#f0f921"
             ]
            ],
            "type": "heatmap"
           }
          ],
          "heatmapgl": [
           {
            "colorbar": {
             "outlinewidth": 0,
             "ticks": ""
            },
            "colorscale": [
             [
              0,
              "#0d0887"
             ],
             [
              0.1111111111111111,
              "#46039f"
             ],
             [
              0.2222222222222222,
              "#7201a8"
             ],
             [
              0.3333333333333333,
              "#9c179e"
             ],
             [
              0.4444444444444444,
              "#bd3786"
             ],
             [
              0.5555555555555556,
              "#d8576b"
             ],
             [
              0.6666666666666666,
              "#ed7953"
             ],
             [
              0.7777777777777778,
              "#fb9f3a"
             ],
             [
              0.8888888888888888,
              "#fdca26"
             ],
             [
              1,
              "#f0f921"
             ]
            ],
            "type": "heatmapgl"
           }
          ],
          "histogram": [
           {
            "marker": {
             "pattern": {
              "fillmode": "overlay",
              "size": 10,
              "solidity": 0.2
             }
            },
            "type": "histogram"
           }
          ],
          "histogram2d": [
           {
            "colorbar": {
             "outlinewidth": 0,
             "ticks": ""
            },
            "colorscale": [
             [
              0,
              "#0d0887"
             ],
             [
              0.1111111111111111,
              "#46039f"
             ],
             [
              0.2222222222222222,
              "#7201a8"
             ],
             [
              0.3333333333333333,
              "#9c179e"
             ],
             [
              0.4444444444444444,
              "#bd3786"
             ],
             [
              0.5555555555555556,
              "#d8576b"
             ],
             [
              0.6666666666666666,
              "#ed7953"
             ],
             [
              0.7777777777777778,
              "#fb9f3a"
             ],
             [
              0.8888888888888888,
              "#fdca26"
             ],
             [
              1,
              "#f0f921"
             ]
            ],
            "type": "histogram2d"
           }
          ],
          "histogram2dcontour": [
           {
            "colorbar": {
             "outlinewidth": 0,
             "ticks": ""
            },
            "colorscale": [
             [
              0,
              "#0d0887"
             ],
             [
              0.1111111111111111,
              "#46039f"
             ],
             [
              0.2222222222222222,
              "#7201a8"
             ],
             [
              0.3333333333333333,
              "#9c179e"
             ],
             [
              0.4444444444444444,
              "#bd3786"
             ],
             [
              0.5555555555555556,
              "#d8576b"
             ],
             [
              0.6666666666666666,
              "#ed7953"
             ],
             [
              0.7777777777777778,
              "#fb9f3a"
             ],
             [
              0.8888888888888888,
              "#fdca26"
             ],
             [
              1,
              "#f0f921"
             ]
            ],
            "type": "histogram2dcontour"
           }
          ],
          "mesh3d": [
           {
            "colorbar": {
             "outlinewidth": 0,
             "ticks": ""
            },
            "type": "mesh3d"
           }
          ],
          "parcoords": [
           {
            "line": {
             "colorbar": {
              "outlinewidth": 0,
              "ticks": ""
             }
            },
            "type": "parcoords"
           }
          ],
          "pie": [
           {
            "automargin": true,
            "type": "pie"
           }
          ],
          "scatter": [
           {
            "fillpattern": {
             "fillmode": "overlay",
             "size": 10,
             "solidity": 0.2
            },
            "type": "scatter"
           }
          ],
          "scatter3d": [
           {
            "line": {
             "colorbar": {
              "outlinewidth": 0,
              "ticks": ""
             }
            },
            "marker": {
             "colorbar": {
              "outlinewidth": 0,
              "ticks": ""
             }
            },
            "type": "scatter3d"
           }
          ],
          "scattercarpet": [
           {
            "marker": {
             "colorbar": {
              "outlinewidth": 0,
              "ticks": ""
             }
            },
            "type": "scattercarpet"
           }
          ],
          "scattergeo": [
           {
            "marker": {
             "colorbar": {
              "outlinewidth": 0,
              "ticks": ""
             }
            },
            "type": "scattergeo"
           }
          ],
          "scattergl": [
           {
            "marker": {
             "colorbar": {
              "outlinewidth": 0,
              "ticks": ""
             }
            },
            "type": "scattergl"
           }
          ],
          "scattermapbox": [
           {
            "marker": {
             "colorbar": {
              "outlinewidth": 0,
              "ticks": ""
             }
            },
            "type": "scattermapbox"
           }
          ],
          "scatterpolar": [
           {
            "marker": {
             "colorbar": {
              "outlinewidth": 0,
              "ticks": ""
             }
            },
            "type": "scatterpolar"
           }
          ],
          "scatterpolargl": [
           {
            "marker": {
             "colorbar": {
              "outlinewidth": 0,
              "ticks": ""
             }
            },
            "type": "scatterpolargl"
           }
          ],
          "scatterternary": [
           {
            "marker": {
             "colorbar": {
              "outlinewidth": 0,
              "ticks": ""
             }
            },
            "type": "scatterternary"
           }
          ],
          "surface": [
           {
            "colorbar": {
             "outlinewidth": 0,
             "ticks": ""
            },
            "colorscale": [
             [
              0,
              "#0d0887"
             ],
             [
              0.1111111111111111,
              "#46039f"
             ],
             [
              0.2222222222222222,
              "#7201a8"
             ],
             [
              0.3333333333333333,
              "#9c179e"
             ],
             [
              0.4444444444444444,
              "#bd3786"
             ],
             [
              0.5555555555555556,
              "#d8576b"
             ],
             [
              0.6666666666666666,
              "#ed7953"
             ],
             [
              0.7777777777777778,
              "#fb9f3a"
             ],
             [
              0.8888888888888888,
              "#fdca26"
             ],
             [
              1,
              "#f0f921"
             ]
            ],
            "type": "surface"
           }
          ],
          "table": [
           {
            "cells": {
             "fill": {
              "color": "#EBF0F8"
             },
             "line": {
              "color": "white"
             }
            },
            "header": {
             "fill": {
              "color": "#C8D4E3"
             },
             "line": {
              "color": "white"
             }
            },
            "type": "table"
           }
          ]
         },
         "layout": {
          "annotationdefaults": {
           "arrowcolor": "#2a3f5f",
           "arrowhead": 0,
           "arrowwidth": 1
          },
          "autotypenumbers": "strict",
          "coloraxis": {
           "colorbar": {
            "outlinewidth": 0,
            "ticks": ""
           }
          },
          "colorscale": {
           "diverging": [
            [
             0,
             "#8e0152"
            ],
            [
             0.1,
             "#c51b7d"
            ],
            [
             0.2,
             "#de77ae"
            ],
            [
             0.3,
             "#f1b6da"
            ],
            [
             0.4,
             "#fde0ef"
            ],
            [
             0.5,
             "#f7f7f7"
            ],
            [
             0.6,
             "#e6f5d0"
            ],
            [
             0.7,
             "#b8e186"
            ],
            [
             0.8,
             "#7fbc41"
            ],
            [
             0.9,
             "#4d9221"
            ],
            [
             1,
             "#276419"
            ]
           ],
           "sequential": [
            [
             0,
             "#0d0887"
            ],
            [
             0.1111111111111111,
             "#46039f"
            ],
            [
             0.2222222222222222,
             "#7201a8"
            ],
            [
             0.3333333333333333,
             "#9c179e"
            ],
            [
             0.4444444444444444,
             "#bd3786"
            ],
            [
             0.5555555555555556,
             "#d8576b"
            ],
            [
             0.6666666666666666,
             "#ed7953"
            ],
            [
             0.7777777777777778,
             "#fb9f3a"
            ],
            [
             0.8888888888888888,
             "#fdca26"
            ],
            [
             1,
             "#f0f921"
            ]
           ],
           "sequentialminus": [
            [
             0,
             "#0d0887"
            ],
            [
             0.1111111111111111,
             "#46039f"
            ],
            [
             0.2222222222222222,
             "#7201a8"
            ],
            [
             0.3333333333333333,
             "#9c179e"
            ],
            [
             0.4444444444444444,
             "#bd3786"
            ],
            [
             0.5555555555555556,
             "#d8576b"
            ],
            [
             0.6666666666666666,
             "#ed7953"
            ],
            [
             0.7777777777777778,
             "#fb9f3a"
            ],
            [
             0.8888888888888888,
             "#fdca26"
            ],
            [
             1,
             "#f0f921"
            ]
           ]
          },
          "colorway": [
           "#636efa",
           "#EF553B",
           "#00cc96",
           "#ab63fa",
           "#FFA15A",
           "#19d3f3",
           "#FF6692",
           "#B6E880",
           "#FF97FF",
           "#FECB52"
          ],
          "font": {
           "color": "#2a3f5f"
          },
          "geo": {
           "bgcolor": "white",
           "lakecolor": "white",
           "landcolor": "#E5ECF6",
           "showlakes": true,
           "showland": true,
           "subunitcolor": "white"
          },
          "hoverlabel": {
           "align": "left"
          },
          "hovermode": "closest",
          "mapbox": {
           "style": "light"
          },
          "paper_bgcolor": "white",
          "plot_bgcolor": "#E5ECF6",
          "polar": {
           "angularaxis": {
            "gridcolor": "white",
            "linecolor": "white",
            "ticks": ""
           },
           "bgcolor": "#E5ECF6",
           "radialaxis": {
            "gridcolor": "white",
            "linecolor": "white",
            "ticks": ""
           }
          },
          "scene": {
           "xaxis": {
            "backgroundcolor": "#E5ECF6",
            "gridcolor": "white",
            "gridwidth": 2,
            "linecolor": "white",
            "showbackground": true,
            "ticks": "",
            "zerolinecolor": "white"
           },
           "yaxis": {
            "backgroundcolor": "#E5ECF6",
            "gridcolor": "white",
            "gridwidth": 2,
            "linecolor": "white",
            "showbackground": true,
            "ticks": "",
            "zerolinecolor": "white"
           },
           "zaxis": {
            "backgroundcolor": "#E5ECF6",
            "gridcolor": "white",
            "gridwidth": 2,
            "linecolor": "white",
            "showbackground": true,
            "ticks": "",
            "zerolinecolor": "white"
           }
          },
          "shapedefaults": {
           "line": {
            "color": "#2a3f5f"
           }
          },
          "ternary": {
           "aaxis": {
            "gridcolor": "white",
            "linecolor": "white",
            "ticks": ""
           },
           "baxis": {
            "gridcolor": "white",
            "linecolor": "white",
            "ticks": ""
           },
           "bgcolor": "#E5ECF6",
           "caxis": {
            "gridcolor": "white",
            "linecolor": "white",
            "ticks": ""
           }
          },
          "title": {
           "x": 0.05
          },
          "xaxis": {
           "automargin": true,
           "gridcolor": "white",
           "linecolor": "white",
           "ticks": "",
           "title": {
            "standoff": 15
           },
           "zerolinecolor": "white",
           "zerolinewidth": 2
          },
          "yaxis": {
           "automargin": true,
           "gridcolor": "white",
           "linecolor": "white",
           "ticks": "",
           "title": {
            "standoff": 15
           },
           "zerolinecolor": "white",
           "zerolinewidth": 2
          }
         }
        },
        "title": {
         "text": "Optimization History Plot"
        },
        "xaxis": {
         "title": {
          "text": "Trial"
         }
        },
        "yaxis": {
         "title": {
          "text": "Objective Value"
         }
        }
       }
      }
     },
     "metadata": {},
     "output_type": "display_data"
    }
   ],
   "source": [
    "optuna.visualization.plot_optimization_history(study_agglomerative)"
   ]
  },
  {
   "cell_type": "code",
   "execution_count": 191,
   "metadata": {},
   "outputs": [
    {
     "data": {
      "application/vnd.plotly.v1+json": {
       "config": {
        "plotlyServerURL": "https://plot.ly"
       },
       "data": [
        {
         "cliponaxis": false,
         "hovertemplate": [
          "compute_full_tree (CategoricalDistribution): 0.05831057809004943<extra></extra>",
          "linkage (CategoricalDistribution): 0.15141259573318086<extra></extra>",
          "n_clusters (IntDistribution): 0.7902768261767696<extra></extra>"
         ],
         "name": "Objective Value",
         "orientation": "h",
         "text": [
          "0.06",
          "0.15",
          "0.79"
         ],
         "textposition": "outside",
         "type": "bar",
         "x": [
          0.05831057809004943,
          0.15141259573318086,
          0.7902768261767696
         ],
         "y": [
          "compute_full_tree",
          "linkage",
          "n_clusters"
         ]
        }
       ],
       "layout": {
        "template": {
         "data": {
          "bar": [
           {
            "error_x": {
             "color": "#2a3f5f"
            },
            "error_y": {
             "color": "#2a3f5f"
            },
            "marker": {
             "line": {
              "color": "#E5ECF6",
              "width": 0.5
             },
             "pattern": {
              "fillmode": "overlay",
              "size": 10,
              "solidity": 0.2
             }
            },
            "type": "bar"
           }
          ],
          "barpolar": [
           {
            "marker": {
             "line": {
              "color": "#E5ECF6",
              "width": 0.5
             },
             "pattern": {
              "fillmode": "overlay",
              "size": 10,
              "solidity": 0.2
             }
            },
            "type": "barpolar"
           }
          ],
          "carpet": [
           {
            "aaxis": {
             "endlinecolor": "#2a3f5f",
             "gridcolor": "white",
             "linecolor": "white",
             "minorgridcolor": "white",
             "startlinecolor": "#2a3f5f"
            },
            "baxis": {
             "endlinecolor": "#2a3f5f",
             "gridcolor": "white",
             "linecolor": "white",
             "minorgridcolor": "white",
             "startlinecolor": "#2a3f5f"
            },
            "type": "carpet"
           }
          ],
          "choropleth": [
           {
            "colorbar": {
             "outlinewidth": 0,
             "ticks": ""
            },
            "type": "choropleth"
           }
          ],
          "contour": [
           {
            "colorbar": {
             "outlinewidth": 0,
             "ticks": ""
            },
            "colorscale": [
             [
              0,
              "#0d0887"
             ],
             [
              0.1111111111111111,
              "#46039f"
             ],
             [
              0.2222222222222222,
              "#7201a8"
             ],
             [
              0.3333333333333333,
              "#9c179e"
             ],
             [
              0.4444444444444444,
              "#bd3786"
             ],
             [
              0.5555555555555556,
              "#d8576b"
             ],
             [
              0.6666666666666666,
              "#ed7953"
             ],
             [
              0.7777777777777778,
              "#fb9f3a"
             ],
             [
              0.8888888888888888,
              "#fdca26"
             ],
             [
              1,
              "#f0f921"
             ]
            ],
            "type": "contour"
           }
          ],
          "contourcarpet": [
           {
            "colorbar": {
             "outlinewidth": 0,
             "ticks": ""
            },
            "type": "contourcarpet"
           }
          ],
          "heatmap": [
           {
            "colorbar": {
             "outlinewidth": 0,
             "ticks": ""
            },
            "colorscale": [
             [
              0,
              "#0d0887"
             ],
             [
              0.1111111111111111,
              "#46039f"
             ],
             [
              0.2222222222222222,
              "#7201a8"
             ],
             [
              0.3333333333333333,
              "#9c179e"
             ],
             [
              0.4444444444444444,
              "#bd3786"
             ],
             [
              0.5555555555555556,
              "#d8576b"
             ],
             [
              0.6666666666666666,
              "#ed7953"
             ],
             [
              0.7777777777777778,
              "#fb9f3a"
             ],
             [
              0.8888888888888888,
              "#fdca26"
             ],
             [
              1,
              "#f0f921"
             ]
            ],
            "type": "heatmap"
           }
          ],
          "heatmapgl": [
           {
            "colorbar": {
             "outlinewidth": 0,
             "ticks": ""
            },
            "colorscale": [
             [
              0,
              "#0d0887"
             ],
             [
              0.1111111111111111,
              "#46039f"
             ],
             [
              0.2222222222222222,
              "#7201a8"
             ],
             [
              0.3333333333333333,
              "#9c179e"
             ],
             [
              0.4444444444444444,
              "#bd3786"
             ],
             [
              0.5555555555555556,
              "#d8576b"
             ],
             [
              0.6666666666666666,
              "#ed7953"
             ],
             [
              0.7777777777777778,
              "#fb9f3a"
             ],
             [
              0.8888888888888888,
              "#fdca26"
             ],
             [
              1,
              "#f0f921"
             ]
            ],
            "type": "heatmapgl"
           }
          ],
          "histogram": [
           {
            "marker": {
             "pattern": {
              "fillmode": "overlay",
              "size": 10,
              "solidity": 0.2
             }
            },
            "type": "histogram"
           }
          ],
          "histogram2d": [
           {
            "colorbar": {
             "outlinewidth": 0,
             "ticks": ""
            },
            "colorscale": [
             [
              0,
              "#0d0887"
             ],
             [
              0.1111111111111111,
              "#46039f"
             ],
             [
              0.2222222222222222,
              "#7201a8"
             ],
             [
              0.3333333333333333,
              "#9c179e"
             ],
             [
              0.4444444444444444,
              "#bd3786"
             ],
             [
              0.5555555555555556,
              "#d8576b"
             ],
             [
              0.6666666666666666,
              "#ed7953"
             ],
             [
              0.7777777777777778,
              "#fb9f3a"
             ],
             [
              0.8888888888888888,
              "#fdca26"
             ],
             [
              1,
              "#f0f921"
             ]
            ],
            "type": "histogram2d"
           }
          ],
          "histogram2dcontour": [
           {
            "colorbar": {
             "outlinewidth": 0,
             "ticks": ""
            },
            "colorscale": [
             [
              0,
              "#0d0887"
             ],
             [
              0.1111111111111111,
              "#46039f"
             ],
             [
              0.2222222222222222,
              "#7201a8"
             ],
             [
              0.3333333333333333,
              "#9c179e"
             ],
             [
              0.4444444444444444,
              "#bd3786"
             ],
             [
              0.5555555555555556,
              "#d8576b"
             ],
             [
              0.6666666666666666,
              "#ed7953"
             ],
             [
              0.7777777777777778,
              "#fb9f3a"
             ],
             [
              0.8888888888888888,
              "#fdca26"
             ],
             [
              1,
              "#f0f921"
             ]
            ],
            "type": "histogram2dcontour"
           }
          ],
          "mesh3d": [
           {
            "colorbar": {
             "outlinewidth": 0,
             "ticks": ""
            },
            "type": "mesh3d"
           }
          ],
          "parcoords": [
           {
            "line": {
             "colorbar": {
              "outlinewidth": 0,
              "ticks": ""
             }
            },
            "type": "parcoords"
           }
          ],
          "pie": [
           {
            "automargin": true,
            "type": "pie"
           }
          ],
          "scatter": [
           {
            "fillpattern": {
             "fillmode": "overlay",
             "size": 10,
             "solidity": 0.2
            },
            "type": "scatter"
           }
          ],
          "scatter3d": [
           {
            "line": {
             "colorbar": {
              "outlinewidth": 0,
              "ticks": ""
             }
            },
            "marker": {
             "colorbar": {
              "outlinewidth": 0,
              "ticks": ""
             }
            },
            "type": "scatter3d"
           }
          ],
          "scattercarpet": [
           {
            "marker": {
             "colorbar": {
              "outlinewidth": 0,
              "ticks": ""
             }
            },
            "type": "scattercarpet"
           }
          ],
          "scattergeo": [
           {
            "marker": {
             "colorbar": {
              "outlinewidth": 0,
              "ticks": ""
             }
            },
            "type": "scattergeo"
           }
          ],
          "scattergl": [
           {
            "marker": {
             "colorbar": {
              "outlinewidth": 0,
              "ticks": ""
             }
            },
            "type": "scattergl"
           }
          ],
          "scattermapbox": [
           {
            "marker": {
             "colorbar": {
              "outlinewidth": 0,
              "ticks": ""
             }
            },
            "type": "scattermapbox"
           }
          ],
          "scatterpolar": [
           {
            "marker": {
             "colorbar": {
              "outlinewidth": 0,
              "ticks": ""
             }
            },
            "type": "scatterpolar"
           }
          ],
          "scatterpolargl": [
           {
            "marker": {
             "colorbar": {
              "outlinewidth": 0,
              "ticks": ""
             }
            },
            "type": "scatterpolargl"
           }
          ],
          "scatterternary": [
           {
            "marker": {
             "colorbar": {
              "outlinewidth": 0,
              "ticks": ""
             }
            },
            "type": "scatterternary"
           }
          ],
          "surface": [
           {
            "colorbar": {
             "outlinewidth": 0,
             "ticks": ""
            },
            "colorscale": [
             [
              0,
              "#0d0887"
             ],
             [
              0.1111111111111111,
              "#46039f"
             ],
             [
              0.2222222222222222,
              "#7201a8"
             ],
             [
              0.3333333333333333,
              "#9c179e"
             ],
             [
              0.4444444444444444,
              "#bd3786"
             ],
             [
              0.5555555555555556,
              "#d8576b"
             ],
             [
              0.6666666666666666,
              "#ed7953"
             ],
             [
              0.7777777777777778,
              "#fb9f3a"
             ],
             [
              0.8888888888888888,
              "#fdca26"
             ],
             [
              1,
              "#f0f921"
             ]
            ],
            "type": "surface"
           }
          ],
          "table": [
           {
            "cells": {
             "fill": {
              "color": "#EBF0F8"
             },
             "line": {
              "color": "white"
             }
            },
            "header": {
             "fill": {
              "color": "#C8D4E3"
             },
             "line": {
              "color": "white"
             }
            },
            "type": "table"
           }
          ]
         },
         "layout": {
          "annotationdefaults": {
           "arrowcolor": "#2a3f5f",
           "arrowhead": 0,
           "arrowwidth": 1
          },
          "autotypenumbers": "strict",
          "coloraxis": {
           "colorbar": {
            "outlinewidth": 0,
            "ticks": ""
           }
          },
          "colorscale": {
           "diverging": [
            [
             0,
             "#8e0152"
            ],
            [
             0.1,
             "#c51b7d"
            ],
            [
             0.2,
             "#de77ae"
            ],
            [
             0.3,
             "#f1b6da"
            ],
            [
             0.4,
             "#fde0ef"
            ],
            [
             0.5,
             "#f7f7f7"
            ],
            [
             0.6,
             "#e6f5d0"
            ],
            [
             0.7,
             "#b8e186"
            ],
            [
             0.8,
             "#7fbc41"
            ],
            [
             0.9,
             "#4d9221"
            ],
            [
             1,
             "#276419"
            ]
           ],
           "sequential": [
            [
             0,
             "#0d0887"
            ],
            [
             0.1111111111111111,
             "#46039f"
            ],
            [
             0.2222222222222222,
             "#7201a8"
            ],
            [
             0.3333333333333333,
             "#9c179e"
            ],
            [
             0.4444444444444444,
             "#bd3786"
            ],
            [
             0.5555555555555556,
             "#d8576b"
            ],
            [
             0.6666666666666666,
             "#ed7953"
            ],
            [
             0.7777777777777778,
             "#fb9f3a"
            ],
            [
             0.8888888888888888,
             "#fdca26"
            ],
            [
             1,
             "#f0f921"
            ]
           ],
           "sequentialminus": [
            [
             0,
             "#0d0887"
            ],
            [
             0.1111111111111111,
             "#46039f"
            ],
            [
             0.2222222222222222,
             "#7201a8"
            ],
            [
             0.3333333333333333,
             "#9c179e"
            ],
            [
             0.4444444444444444,
             "#bd3786"
            ],
            [
             0.5555555555555556,
             "#d8576b"
            ],
            [
             0.6666666666666666,
             "#ed7953"
            ],
            [
             0.7777777777777778,
             "#fb9f3a"
            ],
            [
             0.8888888888888888,
             "#fdca26"
            ],
            [
             1,
             "#f0f921"
            ]
           ]
          },
          "colorway": [
           "#636efa",
           "#EF553B",
           "#00cc96",
           "#ab63fa",
           "#FFA15A",
           "#19d3f3",
           "#FF6692",
           "#B6E880",
           "#FF97FF",
           "#FECB52"
          ],
          "font": {
           "color": "#2a3f5f"
          },
          "geo": {
           "bgcolor": "white",
           "lakecolor": "white",
           "landcolor": "#E5ECF6",
           "showlakes": true,
           "showland": true,
           "subunitcolor": "white"
          },
          "hoverlabel": {
           "align": "left"
          },
          "hovermode": "closest",
          "mapbox": {
           "style": "light"
          },
          "paper_bgcolor": "white",
          "plot_bgcolor": "#E5ECF6",
          "polar": {
           "angularaxis": {
            "gridcolor": "white",
            "linecolor": "white",
            "ticks": ""
           },
           "bgcolor": "#E5ECF6",
           "radialaxis": {
            "gridcolor": "white",
            "linecolor": "white",
            "ticks": ""
           }
          },
          "scene": {
           "xaxis": {
            "backgroundcolor": "#E5ECF6",
            "gridcolor": "white",
            "gridwidth": 2,
            "linecolor": "white",
            "showbackground": true,
            "ticks": "",
            "zerolinecolor": "white"
           },
           "yaxis": {
            "backgroundcolor": "#E5ECF6",
            "gridcolor": "white",
            "gridwidth": 2,
            "linecolor": "white",
            "showbackground": true,
            "ticks": "",
            "zerolinecolor": "white"
           },
           "zaxis": {
            "backgroundcolor": "#E5ECF6",
            "gridcolor": "white",
            "gridwidth": 2,
            "linecolor": "white",
            "showbackground": true,
            "ticks": "",
            "zerolinecolor": "white"
           }
          },
          "shapedefaults": {
           "line": {
            "color": "#2a3f5f"
           }
          },
          "ternary": {
           "aaxis": {
            "gridcolor": "white",
            "linecolor": "white",
            "ticks": ""
           },
           "baxis": {
            "gridcolor": "white",
            "linecolor": "white",
            "ticks": ""
           },
           "bgcolor": "#E5ECF6",
           "caxis": {
            "gridcolor": "white",
            "linecolor": "white",
            "ticks": ""
           }
          },
          "title": {
           "x": 0.05
          },
          "xaxis": {
           "automargin": true,
           "gridcolor": "white",
           "linecolor": "white",
           "ticks": "",
           "title": {
            "standoff": 15
           },
           "zerolinecolor": "white",
           "zerolinewidth": 2
          },
          "yaxis": {
           "automargin": true,
           "gridcolor": "white",
           "linecolor": "white",
           "ticks": "",
           "title": {
            "standoff": 15
           },
           "zerolinecolor": "white",
           "zerolinewidth": 2
          }
         }
        },
        "title": {
         "text": "Hyperparameter Importances"
        },
        "xaxis": {
         "title": {
          "text": "Hyperparameter Importance"
         }
        },
        "yaxis": {
         "title": {
          "text": "Hyperparameter"
         }
        }
       }
      }
     },
     "metadata": {},
     "output_type": "display_data"
    }
   ],
   "source": [
    "optuna.visualization.plot_param_importances(study_agglomerative)"
   ]
  },
  {
   "cell_type": "code",
   "execution_count": 192,
   "metadata": {},
   "outputs": [
    {
     "data": {
      "application/vnd.plotly.v1+json": {
       "config": {
        "plotlyServerURL": "https://plot.ly"
       },
       "data": [
        {
         "marker": {
          "color": [
           0,
           1,
           2,
           3,
           4,
           5,
           6,
           7,
           8,
           9,
           10,
           11,
           12,
           13,
           14,
           15,
           16,
           17,
           18,
           19,
           20,
           21,
           22,
           23,
           24,
           25,
           26,
           27,
           28,
           29,
           30,
           31,
           32,
           33,
           34,
           35,
           36,
           37,
           38,
           39,
           40,
           41,
           42,
           43,
           44,
           45,
           46,
           47,
           48,
           49,
           50,
           51,
           52,
           53,
           54,
           55,
           56,
           57,
           58,
           59,
           60,
           61,
           62,
           63,
           64,
           65,
           66,
           67,
           68,
           69,
           70,
           71,
           72,
           73,
           74,
           75,
           76,
           77,
           78,
           79,
           80,
           81,
           82,
           83,
           84,
           85,
           86,
           87,
           88,
           89,
           90,
           91,
           92,
           93,
           94,
           95,
           96,
           97,
           98,
           99
          ],
          "colorbar": {
           "title": {
            "text": "Trial"
           },
           "x": 1,
           "xpad": 40
          },
          "colorscale": [
           [
            0,
            "rgb(247,251,255)"
           ],
           [
            0.125,
            "rgb(222,235,247)"
           ],
           [
            0.25,
            "rgb(198,219,239)"
           ],
           [
            0.375,
            "rgb(158,202,225)"
           ],
           [
            0.5,
            "rgb(107,174,214)"
           ],
           [
            0.625,
            "rgb(66,146,198)"
           ],
           [
            0.75,
            "rgb(33,113,181)"
           ],
           [
            0.875,
            "rgb(8,81,156)"
           ],
           [
            1,
            "rgb(8,48,107)"
           ]
          ],
          "line": {
           "color": "Grey",
           "width": 0.5
          },
          "showscale": true
         },
         "mode": "markers",
         "name": "Feasible Trial",
         "showlegend": false,
         "type": "scatter",
         "x": [
          true,
          false,
          "auto",
          true,
          true,
          "auto",
          true,
          false,
          "auto",
          "auto",
          true,
          true,
          true,
          true,
          true,
          true,
          false,
          true,
          true,
          false,
          true,
          true,
          true,
          true,
          true,
          true,
          true,
          true,
          "auto",
          false,
          true,
          true,
          true,
          true,
          true,
          true,
          "auto",
          "auto",
          "auto",
          "auto",
          "auto",
          "auto",
          "auto",
          "auto",
          "auto",
          "auto",
          "auto",
          "auto",
          "auto",
          "auto",
          "auto",
          "auto",
          "auto",
          "auto",
          "auto",
          "auto",
          "auto",
          false,
          "auto",
          "auto",
          "auto",
          "auto",
          "auto",
          "auto",
          "auto",
          false,
          "auto",
          "auto",
          "auto",
          "auto",
          false,
          "auto",
          "auto",
          "auto",
          "auto",
          "auto",
          "auto",
          "auto",
          "auto",
          "auto",
          "auto",
          "auto",
          "auto",
          "auto",
          "auto",
          "auto",
          false,
          "auto",
          "auto",
          "auto",
          true,
          "auto",
          "auto",
          "auto",
          "auto",
          "auto",
          "auto",
          "auto",
          true,
          "auto"
         ],
         "xaxis": "x",
         "y": [
          0.709556971388603,
          0.5276973991090959,
          0.5908363119493621,
          0.5908363119493621,
          0.7831926916181345,
          0.6954029412296819,
          0.6260733930416466,
          0.7499844444401701,
          0.7322637691203263,
          0.7376755756706729,
          0.7831926916181345,
          0.7831926916181345,
          0.7344264576312831,
          0.6862244215181689,
          0.7831926916181345,
          0.6862244215181689,
          0.7344264576312831,
          0.7831926916181345,
          0.734124404053533,
          0.7831926916181345,
          0.7344264576312831,
          0.7831926916181345,
          0.7831926916181345,
          0.7344264576312831,
          0.7831926916181345,
          0.7344264576312831,
          0.7775923995398956,
          0.7407247741841596,
          0.7383737431630678,
          0.709556971388603,
          0.7831926916181345,
          0.7831926916181345,
          0.7831926916181345,
          0.7344264576312831,
          0.7841728549555228,
          0.5908363119493621,
          0.7841728549555228,
          0.5896452577636889,
          0.7841728549555228,
          0.7841728549555228,
          0.7211788446923862,
          0.7841728549555228,
          0.7841728549555228,
          0.7841728549555228,
          0.7428546065515418,
          0.7841728549555228,
          0.7428546065515418,
          0.5908363119493621,
          0.7841728549555228,
          0.7242392447652056,
          0.703870481170782,
          0.7841728549555228,
          0.7841728549555228,
          0.7841728549555228,
          0.7841728549555228,
          0.7428546065515418,
          0.7841728549555228,
          0.734124404053533,
          0.7841728549555228,
          0.7841728549555228,
          0.7033833352759951,
          0.7841728549555228,
          0.7841728549555228,
          0.7841728549555228,
          0.7841728549555228,
          0.7242392447652056,
          0.7841728549555228,
          0.7831926916181345,
          0.7416380111084565,
          0.7499844444401701,
          0.7841728549555228,
          0.7841728549555228,
          0.7841728549555228,
          0.7841728549555228,
          0.7428546065515418,
          0.5908363119493621,
          0.7831926916181345,
          0.7841728549555228,
          0.734124404053533,
          0.7841728549555228,
          0.7455016458138733,
          0.7841728549555228,
          0.7841728549555228,
          0.7841728549555228,
          0.7841728549555228,
          0.7831926916181345,
          0.7321940627091988,
          0.7428546065515418,
          0.7831926916181345,
          0.5908363119493621,
          0.7841728549555228,
          0.7841728549555228,
          0.7841728549555228,
          0.7841728549555228,
          0.7841728549555228,
          0.7841728549555228,
          0.7428546065515418,
          0.7455016458138733,
          0.7416380111084565,
          0.7119794682091839
         ],
         "yaxis": "y"
        },
        {
         "marker": {
          "color": [
           0,
           1,
           2,
           3,
           4,
           5,
           6,
           7,
           8,
           9,
           10,
           11,
           12,
           13,
           14,
           15,
           16,
           17,
           18,
           19,
           20,
           21,
           22,
           23,
           24,
           25,
           26,
           27,
           28,
           29,
           30,
           31,
           32,
           33,
           34,
           35,
           36,
           37,
           38,
           39,
           40,
           41,
           42,
           43,
           44,
           45,
           46,
           47,
           48,
           49,
           50,
           51,
           52,
           53,
           54,
           55,
           56,
           57,
           58,
           59,
           60,
           61,
           62,
           63,
           64,
           65,
           66,
           67,
           68,
           69,
           70,
           71,
           72,
           73,
           74,
           75,
           76,
           77,
           78,
           79,
           80,
           81,
           82,
           83,
           84,
           85,
           86,
           87,
           88,
           89,
           90,
           91,
           92,
           93,
           94,
           95,
           96,
           97,
           98,
           99
          ],
          "colorbar": {
           "title": {
            "text": "Trial"
           },
           "x": 1,
           "xpad": 40
          },
          "colorscale": [
           [
            0,
            "rgb(247,251,255)"
           ],
           [
            0.125,
            "rgb(222,235,247)"
           ],
           [
            0.25,
            "rgb(198,219,239)"
           ],
           [
            0.375,
            "rgb(158,202,225)"
           ],
           [
            0.5,
            "rgb(107,174,214)"
           ],
           [
            0.625,
            "rgb(66,146,198)"
           ],
           [
            0.75,
            "rgb(33,113,181)"
           ],
           [
            0.875,
            "rgb(8,81,156)"
           ],
           [
            1,
            "rgb(8,48,107)"
           ]
          ],
          "line": {
           "color": "Grey",
           "width": 0.5
          },
          "showscale": false
         },
         "mode": "markers",
         "name": "Feasible Trial",
         "showlegend": false,
         "type": "scatter",
         "x": [
          "ward",
          "average",
          "average",
          "average",
          "single",
          "complete",
          "single",
          "ward",
          "ward",
          "complete",
          "single",
          "single",
          "single",
          "single",
          "single",
          "single",
          "single",
          "single",
          "complete",
          "single",
          "single",
          "single",
          "single",
          "single",
          "single",
          "single",
          "average",
          "ward",
          "complete",
          "ward",
          "single",
          "single",
          "single",
          "single",
          "average",
          "average",
          "average",
          "average",
          "average",
          "average",
          "average",
          "average",
          "average",
          "average",
          "average",
          "average",
          "average",
          "average",
          "average",
          "average",
          "average",
          "average",
          "average",
          "average",
          "average",
          "average",
          "average",
          "complete",
          "average",
          "average",
          "ward",
          "average",
          "average",
          "average",
          "average",
          "average",
          "average",
          "average",
          "complete",
          "ward",
          "average",
          "average",
          "average",
          "average",
          "average",
          "average",
          "average",
          "average",
          "complete",
          "average",
          "average",
          "average",
          "average",
          "average",
          "average",
          "average",
          "ward",
          "average",
          "average",
          "average",
          "average",
          "average",
          "average",
          "average",
          "average",
          "average",
          "average",
          "average",
          "complete",
          "average"
         ],
         "xaxis": "x2",
         "y": [
          0.709556971388603,
          0.5276973991090959,
          0.5908363119493621,
          0.5908363119493621,
          0.7831926916181345,
          0.6954029412296819,
          0.6260733930416466,
          0.7499844444401701,
          0.7322637691203263,
          0.7376755756706729,
          0.7831926916181345,
          0.7831926916181345,
          0.7344264576312831,
          0.6862244215181689,
          0.7831926916181345,
          0.6862244215181689,
          0.7344264576312831,
          0.7831926916181345,
          0.734124404053533,
          0.7831926916181345,
          0.7344264576312831,
          0.7831926916181345,
          0.7831926916181345,
          0.7344264576312831,
          0.7831926916181345,
          0.7344264576312831,
          0.7775923995398956,
          0.7407247741841596,
          0.7383737431630678,
          0.709556971388603,
          0.7831926916181345,
          0.7831926916181345,
          0.7831926916181345,
          0.7344264576312831,
          0.7841728549555228,
          0.5908363119493621,
          0.7841728549555228,
          0.5896452577636889,
          0.7841728549555228,
          0.7841728549555228,
          0.7211788446923862,
          0.7841728549555228,
          0.7841728549555228,
          0.7841728549555228,
          0.7428546065515418,
          0.7841728549555228,
          0.7428546065515418,
          0.5908363119493621,
          0.7841728549555228,
          0.7242392447652056,
          0.703870481170782,
          0.7841728549555228,
          0.7841728549555228,
          0.7841728549555228,
          0.7841728549555228,
          0.7428546065515418,
          0.7841728549555228,
          0.734124404053533,
          0.7841728549555228,
          0.7841728549555228,
          0.7033833352759951,
          0.7841728549555228,
          0.7841728549555228,
          0.7841728549555228,
          0.7841728549555228,
          0.7242392447652056,
          0.7841728549555228,
          0.7831926916181345,
          0.7416380111084565,
          0.7499844444401701,
          0.7841728549555228,
          0.7841728549555228,
          0.7841728549555228,
          0.7841728549555228,
          0.7428546065515418,
          0.5908363119493621,
          0.7831926916181345,
          0.7841728549555228,
          0.734124404053533,
          0.7841728549555228,
          0.7455016458138733,
          0.7841728549555228,
          0.7841728549555228,
          0.7841728549555228,
          0.7841728549555228,
          0.7831926916181345,
          0.7321940627091988,
          0.7428546065515418,
          0.7831926916181345,
          0.5908363119493621,
          0.7841728549555228,
          0.7841728549555228,
          0.7841728549555228,
          0.7841728549555228,
          0.7841728549555228,
          0.7841728549555228,
          0.7428546065515418,
          0.7455016458138733,
          0.7416380111084565,
          0.7119794682091839
         ],
         "yaxis": "y2"
        },
        {
         "marker": {
          "color": [
           1,
           2,
           3,
           4,
           5,
           6,
           9,
           10,
           11,
           12,
           13,
           14,
           15,
           16,
           17,
           18,
           19,
           20,
           21,
           22,
           23,
           24,
           25,
           26,
           28,
           30,
           31,
           32,
           33,
           34,
           35,
           36,
           37,
           38,
           39,
           40,
           41,
           42,
           43,
           44,
           45,
           46,
           47,
           48,
           49,
           50,
           51,
           52,
           53,
           54,
           55,
           56,
           57,
           58,
           59,
           61,
           62,
           63,
           64,
           65,
           66,
           67,
           68,
           70,
           71,
           72,
           73,
           74,
           75,
           76,
           77,
           78,
           79,
           80,
           81,
           82,
           83,
           84,
           85,
           87,
           88,
           89,
           90,
           91,
           92,
           93,
           94,
           95,
           96,
           97,
           98,
           99
          ],
          "colorbar": {
           "title": {
            "text": "Trial"
           },
           "x": 1,
           "xpad": 40
          },
          "colorscale": [
           [
            0,
            "rgb(247,251,255)"
           ],
           [
            0.125,
            "rgb(222,235,247)"
           ],
           [
            0.25,
            "rgb(198,219,239)"
           ],
           [
            0.375,
            "rgb(158,202,225)"
           ],
           [
            0.5,
            "rgb(107,174,214)"
           ],
           [
            0.625,
            "rgb(66,146,198)"
           ],
           [
            0.75,
            "rgb(33,113,181)"
           ],
           [
            0.875,
            "rgb(8,81,156)"
           ],
           [
            1,
            "rgb(8,48,107)"
           ]
          ],
          "line": {
           "color": "Grey",
           "width": 0.5
          },
          "showscale": false
         },
         "mode": "markers",
         "name": "Feasible Trial",
         "showlegend": false,
         "type": "scatter",
         "x": [
          "cosine",
          "cosine",
          "cosine",
          "manhattan",
          "l1",
          "manhattan",
          "euclidean",
          "manhattan",
          "manhattan",
          "l2",
          "manhattan",
          "manhattan",
          "manhattan",
          "euclidean",
          "l1",
          "l2",
          "manhattan",
          "manhattan",
          "manhattan",
          "manhattan",
          "manhattan",
          "manhattan",
          "manhattan",
          "l2",
          "euclidean",
          "l1",
          "manhattan",
          "manhattan",
          "manhattan",
          "manhattan",
          "cosine",
          "manhattan",
          "cosine",
          "manhattan",
          "l1",
          "l1",
          "l1",
          "l1",
          "l1",
          "l1",
          "l1",
          "l1",
          "cosine",
          "l1",
          "euclidean",
          "l2",
          "l1",
          "l1",
          "l1",
          "l1",
          "l1",
          "manhattan",
          "euclidean",
          "l1",
          "manhattan",
          "l1",
          "l1",
          "l1",
          "l1",
          "l2",
          "manhattan",
          "manhattan",
          "l1",
          "manhattan",
          "l1",
          "l1",
          "l1",
          "l1",
          "cosine",
          "manhattan",
          "l1",
          "euclidean",
          "manhattan",
          "l2",
          "l1",
          "l1",
          "l1",
          "l1",
          "l1",
          "manhattan",
          "l1",
          "cosine",
          "l1",
          "l1",
          "l1",
          "l1",
          "l1",
          "manhattan",
          "l1",
          "euclidean",
          "manhattan",
          "l1"
         ],
         "xaxis": "x3",
         "y": [
          0.5276973991090959,
          0.5908363119493621,
          0.5908363119493621,
          0.7831926916181345,
          0.6954029412296819,
          0.6260733930416466,
          0.7376755756706729,
          0.7831926916181345,
          0.7831926916181345,
          0.7344264576312831,
          0.6862244215181689,
          0.7831926916181345,
          0.6862244215181689,
          0.7344264576312831,
          0.7831926916181345,
          0.734124404053533,
          0.7831926916181345,
          0.7344264576312831,
          0.7831926916181345,
          0.7831926916181345,
          0.7344264576312831,
          0.7831926916181345,
          0.7344264576312831,
          0.7775923995398956,
          0.7383737431630678,
          0.7831926916181345,
          0.7831926916181345,
          0.7831926916181345,
          0.7344264576312831,
          0.7841728549555228,
          0.5908363119493621,
          0.7841728549555228,
          0.5896452577636889,
          0.7841728549555228,
          0.7841728549555228,
          0.7211788446923862,
          0.7841728549555228,
          0.7841728549555228,
          0.7841728549555228,
          0.7428546065515418,
          0.7841728549555228,
          0.7428546065515418,
          0.5908363119493621,
          0.7841728549555228,
          0.7242392447652056,
          0.703870481170782,
          0.7841728549555228,
          0.7841728549555228,
          0.7841728549555228,
          0.7841728549555228,
          0.7428546065515418,
          0.7841728549555228,
          0.734124404053533,
          0.7841728549555228,
          0.7841728549555228,
          0.7841728549555228,
          0.7841728549555228,
          0.7841728549555228,
          0.7841728549555228,
          0.7242392447652056,
          0.7841728549555228,
          0.7831926916181345,
          0.7416380111084565,
          0.7841728549555228,
          0.7841728549555228,
          0.7841728549555228,
          0.7841728549555228,
          0.7428546065515418,
          0.5908363119493621,
          0.7831926916181345,
          0.7841728549555228,
          0.734124404053533,
          0.7841728549555228,
          0.7455016458138733,
          0.7841728549555228,
          0.7841728549555228,
          0.7841728549555228,
          0.7841728549555228,
          0.7831926916181345,
          0.7428546065515418,
          0.7831926916181345,
          0.5908363119493621,
          0.7841728549555228,
          0.7841728549555228,
          0.7841728549555228,
          0.7841728549555228,
          0.7841728549555228,
          0.7841728549555228,
          0.7428546065515418,
          0.7455016458138733,
          0.7416380111084565,
          0.7119794682091839
         ],
         "yaxis": "y3"
        },
        {
         "marker": {
          "color": [
           0,
           1,
           2,
           3,
           4,
           5,
           6,
           7,
           8,
           9,
           10,
           11,
           12,
           13,
           14,
           15,
           16,
           17,
           18,
           19,
           20,
           21,
           22,
           23,
           24,
           25,
           26,
           27,
           28,
           29,
           30,
           31,
           32,
           33,
           34,
           35,
           36,
           37,
           38,
           39,
           40,
           41,
           42,
           43,
           44,
           45,
           46,
           47,
           48,
           49,
           50,
           51,
           52,
           53,
           54,
           55,
           56,
           57,
           58,
           59,
           60,
           61,
           62,
           63,
           64,
           65,
           66,
           67,
           68,
           69,
           70,
           71,
           72,
           73,
           74,
           75,
           76,
           77,
           78,
           79,
           80,
           81,
           82,
           83,
           84,
           85,
           86,
           87,
           88,
           89,
           90,
           91,
           92,
           93,
           94,
           95,
           96,
           97,
           98,
           99
          ],
          "colorbar": {
           "title": {
            "text": "Trial"
           },
           "x": 1,
           "xpad": 40
          },
          "colorscale": [
           [
            0,
            "rgb(247,251,255)"
           ],
           [
            0.125,
            "rgb(222,235,247)"
           ],
           [
            0.25,
            "rgb(198,219,239)"
           ],
           [
            0.375,
            "rgb(158,202,225)"
           ],
           [
            0.5,
            "rgb(107,174,214)"
           ],
           [
            0.625,
            "rgb(66,146,198)"
           ],
           [
            0.75,
            "rgb(33,113,181)"
           ],
           [
            0.875,
            "rgb(8,81,156)"
           ],
           [
            1,
            "rgb(8,48,107)"
           ]
          ],
          "line": {
           "color": "Grey",
           "width": 0.5
          },
          "showscale": false
         },
         "mode": "markers",
         "name": "Feasible Trial",
         "showlegend": false,
         "type": "scatter",
         "x": [
          6,
          7,
          3,
          3,
          2,
          7,
          7,
          2,
          5,
          5,
          2,
          2,
          3,
          4,
          2,
          4,
          3,
          2,
          4,
          2,
          3,
          2,
          2,
          3,
          2,
          3,
          2,
          4,
          6,
          6,
          2,
          2,
          2,
          3,
          3,
          3,
          3,
          4,
          3,
          3,
          5,
          3,
          3,
          3,
          4,
          3,
          4,
          3,
          3,
          4,
          5,
          3,
          3,
          3,
          3,
          4,
          3,
          4,
          3,
          3,
          7,
          3,
          3,
          3,
          3,
          4,
          3,
          2,
          3,
          2,
          3,
          3,
          3,
          3,
          4,
          3,
          2,
          3,
          4,
          3,
          3,
          3,
          3,
          3,
          3,
          2,
          3,
          4,
          2,
          3,
          3,
          3,
          3,
          3,
          3,
          3,
          4,
          3,
          3,
          6
         ],
         "xaxis": "x4",
         "y": [
          0.709556971388603,
          0.5276973991090959,
          0.5908363119493621,
          0.5908363119493621,
          0.7831926916181345,
          0.6954029412296819,
          0.6260733930416466,
          0.7499844444401701,
          0.7322637691203263,
          0.7376755756706729,
          0.7831926916181345,
          0.7831926916181345,
          0.7344264576312831,
          0.6862244215181689,
          0.7831926916181345,
          0.6862244215181689,
          0.7344264576312831,
          0.7831926916181345,
          0.734124404053533,
          0.7831926916181345,
          0.7344264576312831,
          0.7831926916181345,
          0.7831926916181345,
          0.7344264576312831,
          0.7831926916181345,
          0.7344264576312831,
          0.7775923995398956,
          0.7407247741841596,
          0.7383737431630678,
          0.709556971388603,
          0.7831926916181345,
          0.7831926916181345,
          0.7831926916181345,
          0.7344264576312831,
          0.7841728549555228,
          0.5908363119493621,
          0.7841728549555228,
          0.5896452577636889,
          0.7841728549555228,
          0.7841728549555228,
          0.7211788446923862,
          0.7841728549555228,
          0.7841728549555228,
          0.7841728549555228,
          0.7428546065515418,
          0.7841728549555228,
          0.7428546065515418,
          0.5908363119493621,
          0.7841728549555228,
          0.7242392447652056,
          0.703870481170782,
          0.7841728549555228,
          0.7841728549555228,
          0.7841728549555228,
          0.7841728549555228,
          0.7428546065515418,
          0.7841728549555228,
          0.734124404053533,
          0.7841728549555228,
          0.7841728549555228,
          0.7033833352759951,
          0.7841728549555228,
          0.7841728549555228,
          0.7841728549555228,
          0.7841728549555228,
          0.7242392447652056,
          0.7841728549555228,
          0.7831926916181345,
          0.7416380111084565,
          0.7499844444401701,
          0.7841728549555228,
          0.7841728549555228,
          0.7841728549555228,
          0.7841728549555228,
          0.7428546065515418,
          0.5908363119493621,
          0.7831926916181345,
          0.7841728549555228,
          0.734124404053533,
          0.7841728549555228,
          0.7455016458138733,
          0.7841728549555228,
          0.7841728549555228,
          0.7841728549555228,
          0.7841728549555228,
          0.7831926916181345,
          0.7321940627091988,
          0.7428546065515418,
          0.7831926916181345,
          0.5908363119493621,
          0.7841728549555228,
          0.7841728549555228,
          0.7841728549555228,
          0.7841728549555228,
          0.7841728549555228,
          0.7841728549555228,
          0.7428546065515418,
          0.7455016458138733,
          0.7416380111084565,
          0.7119794682091839
         ],
         "yaxis": "y4"
        }
       ],
       "layout": {
        "template": {
         "data": {
          "bar": [
           {
            "error_x": {
             "color": "#2a3f5f"
            },
            "error_y": {
             "color": "#2a3f5f"
            },
            "marker": {
             "line": {
              "color": "#E5ECF6",
              "width": 0.5
             },
             "pattern": {
              "fillmode": "overlay",
              "size": 10,
              "solidity": 0.2
             }
            },
            "type": "bar"
           }
          ],
          "barpolar": [
           {
            "marker": {
             "line": {
              "color": "#E5ECF6",
              "width": 0.5
             },
             "pattern": {
              "fillmode": "overlay",
              "size": 10,
              "solidity": 0.2
             }
            },
            "type": "barpolar"
           }
          ],
          "carpet": [
           {
            "aaxis": {
             "endlinecolor": "#2a3f5f",
             "gridcolor": "white",
             "linecolor": "white",
             "minorgridcolor": "white",
             "startlinecolor": "#2a3f5f"
            },
            "baxis": {
             "endlinecolor": "#2a3f5f",
             "gridcolor": "white",
             "linecolor": "white",
             "minorgridcolor": "white",
             "startlinecolor": "#2a3f5f"
            },
            "type": "carpet"
           }
          ],
          "choropleth": [
           {
            "colorbar": {
             "outlinewidth": 0,
             "ticks": ""
            },
            "type": "choropleth"
           }
          ],
          "contour": [
           {
            "colorbar": {
             "outlinewidth": 0,
             "ticks": ""
            },
            "colorscale": [
             [
              0,
              "#0d0887"
             ],
             [
              0.1111111111111111,
              "#46039f"
             ],
             [
              0.2222222222222222,
              "#7201a8"
             ],
             [
              0.3333333333333333,
              "#9c179e"
             ],
             [
              0.4444444444444444,
              "#bd3786"
             ],
             [
              0.5555555555555556,
              "#d8576b"
             ],
             [
              0.6666666666666666,
              "#ed7953"
             ],
             [
              0.7777777777777778,
              "#fb9f3a"
             ],
             [
              0.8888888888888888,
              "#fdca26"
             ],
             [
              1,
              "#f0f921"
             ]
            ],
            "type": "contour"
           }
          ],
          "contourcarpet": [
           {
            "colorbar": {
             "outlinewidth": 0,
             "ticks": ""
            },
            "type": "contourcarpet"
           }
          ],
          "heatmap": [
           {
            "colorbar": {
             "outlinewidth": 0,
             "ticks": ""
            },
            "colorscale": [
             [
              0,
              "#0d0887"
             ],
             [
              0.1111111111111111,
              "#46039f"
             ],
             [
              0.2222222222222222,
              "#7201a8"
             ],
             [
              0.3333333333333333,
              "#9c179e"
             ],
             [
              0.4444444444444444,
              "#bd3786"
             ],
             [
              0.5555555555555556,
              "#d8576b"
             ],
             [
              0.6666666666666666,
              "#ed7953"
             ],
             [
              0.7777777777777778,
              "#fb9f3a"
             ],
             [
              0.8888888888888888,
              "#fdca26"
             ],
             [
              1,
              "#f0f921"
             ]
            ],
            "type": "heatmap"
           }
          ],
          "heatmapgl": [
           {
            "colorbar": {
             "outlinewidth": 0,
             "ticks": ""
            },
            "colorscale": [
             [
              0,
              "#0d0887"
             ],
             [
              0.1111111111111111,
              "#46039f"
             ],
             [
              0.2222222222222222,
              "#7201a8"
             ],
             [
              0.3333333333333333,
              "#9c179e"
             ],
             [
              0.4444444444444444,
              "#bd3786"
             ],
             [
              0.5555555555555556,
              "#d8576b"
             ],
             [
              0.6666666666666666,
              "#ed7953"
             ],
             [
              0.7777777777777778,
              "#fb9f3a"
             ],
             [
              0.8888888888888888,
              "#fdca26"
             ],
             [
              1,
              "#f0f921"
             ]
            ],
            "type": "heatmapgl"
           }
          ],
          "histogram": [
           {
            "marker": {
             "pattern": {
              "fillmode": "overlay",
              "size": 10,
              "solidity": 0.2
             }
            },
            "type": "histogram"
           }
          ],
          "histogram2d": [
           {
            "colorbar": {
             "outlinewidth": 0,
             "ticks": ""
            },
            "colorscale": [
             [
              0,
              "#0d0887"
             ],
             [
              0.1111111111111111,
              "#46039f"
             ],
             [
              0.2222222222222222,
              "#7201a8"
             ],
             [
              0.3333333333333333,
              "#9c179e"
             ],
             [
              0.4444444444444444,
              "#bd3786"
             ],
             [
              0.5555555555555556,
              "#d8576b"
             ],
             [
              0.6666666666666666,
              "#ed7953"
             ],
             [
              0.7777777777777778,
              "#fb9f3a"
             ],
             [
              0.8888888888888888,
              "#fdca26"
             ],
             [
              1,
              "#f0f921"
             ]
            ],
            "type": "histogram2d"
           }
          ],
          "histogram2dcontour": [
           {
            "colorbar": {
             "outlinewidth": 0,
             "ticks": ""
            },
            "colorscale": [
             [
              0,
              "#0d0887"
             ],
             [
              0.1111111111111111,
              "#46039f"
             ],
             [
              0.2222222222222222,
              "#7201a8"
             ],
             [
              0.3333333333333333,
              "#9c179e"
             ],
             [
              0.4444444444444444,
              "#bd3786"
             ],
             [
              0.5555555555555556,
              "#d8576b"
             ],
             [
              0.6666666666666666,
              "#ed7953"
             ],
             [
              0.7777777777777778,
              "#fb9f3a"
             ],
             [
              0.8888888888888888,
              "#fdca26"
             ],
             [
              1,
              "#f0f921"
             ]
            ],
            "type": "histogram2dcontour"
           }
          ],
          "mesh3d": [
           {
            "colorbar": {
             "outlinewidth": 0,
             "ticks": ""
            },
            "type": "mesh3d"
           }
          ],
          "parcoords": [
           {
            "line": {
             "colorbar": {
              "outlinewidth": 0,
              "ticks": ""
             }
            },
            "type": "parcoords"
           }
          ],
          "pie": [
           {
            "automargin": true,
            "type": "pie"
           }
          ],
          "scatter": [
           {
            "fillpattern": {
             "fillmode": "overlay",
             "size": 10,
             "solidity": 0.2
            },
            "type": "scatter"
           }
          ],
          "scatter3d": [
           {
            "line": {
             "colorbar": {
              "outlinewidth": 0,
              "ticks": ""
             }
            },
            "marker": {
             "colorbar": {
              "outlinewidth": 0,
              "ticks": ""
             }
            },
            "type": "scatter3d"
           }
          ],
          "scattercarpet": [
           {
            "marker": {
             "colorbar": {
              "outlinewidth": 0,
              "ticks": ""
             }
            },
            "type": "scattercarpet"
           }
          ],
          "scattergeo": [
           {
            "marker": {
             "colorbar": {
              "outlinewidth": 0,
              "ticks": ""
             }
            },
            "type": "scattergeo"
           }
          ],
          "scattergl": [
           {
            "marker": {
             "colorbar": {
              "outlinewidth": 0,
              "ticks": ""
             }
            },
            "type": "scattergl"
           }
          ],
          "scattermapbox": [
           {
            "marker": {
             "colorbar": {
              "outlinewidth": 0,
              "ticks": ""
             }
            },
            "type": "scattermapbox"
           }
          ],
          "scatterpolar": [
           {
            "marker": {
             "colorbar": {
              "outlinewidth": 0,
              "ticks": ""
             }
            },
            "type": "scatterpolar"
           }
          ],
          "scatterpolargl": [
           {
            "marker": {
             "colorbar": {
              "outlinewidth": 0,
              "ticks": ""
             }
            },
            "type": "scatterpolargl"
           }
          ],
          "scatterternary": [
           {
            "marker": {
             "colorbar": {
              "outlinewidth": 0,
              "ticks": ""
             }
            },
            "type": "scatterternary"
           }
          ],
          "surface": [
           {
            "colorbar": {
             "outlinewidth": 0,
             "ticks": ""
            },
            "colorscale": [
             [
              0,
              "#0d0887"
             ],
             [
              0.1111111111111111,
              "#46039f"
             ],
             [
              0.2222222222222222,
              "#7201a8"
             ],
             [
              0.3333333333333333,
              "#9c179e"
             ],
             [
              0.4444444444444444,
              "#bd3786"
             ],
             [
              0.5555555555555556,
              "#d8576b"
             ],
             [
              0.6666666666666666,
              "#ed7953"
             ],
             [
              0.7777777777777778,
              "#fb9f3a"
             ],
             [
              0.8888888888888888,
              "#fdca26"
             ],
             [
              1,
              "#f0f921"
             ]
            ],
            "type": "surface"
           }
          ],
          "table": [
           {
            "cells": {
             "fill": {
              "color": "#EBF0F8"
             },
             "line": {
              "color": "white"
             }
            },
            "header": {
             "fill": {
              "color": "#C8D4E3"
             },
             "line": {
              "color": "white"
             }
            },
            "type": "table"
           }
          ]
         },
         "layout": {
          "annotationdefaults": {
           "arrowcolor": "#2a3f5f",
           "arrowhead": 0,
           "arrowwidth": 1
          },
          "autotypenumbers": "strict",
          "coloraxis": {
           "colorbar": {
            "outlinewidth": 0,
            "ticks": ""
           }
          },
          "colorscale": {
           "diverging": [
            [
             0,
             "#8e0152"
            ],
            [
             0.1,
             "#c51b7d"
            ],
            [
             0.2,
             "#de77ae"
            ],
            [
             0.3,
             "#f1b6da"
            ],
            [
             0.4,
             "#fde0ef"
            ],
            [
             0.5,
             "#f7f7f7"
            ],
            [
             0.6,
             "#e6f5d0"
            ],
            [
             0.7,
             "#b8e186"
            ],
            [
             0.8,
             "#7fbc41"
            ],
            [
             0.9,
             "#4d9221"
            ],
            [
             1,
             "#276419"
            ]
           ],
           "sequential": [
            [
             0,
             "#0d0887"
            ],
            [
             0.1111111111111111,
             "#46039f"
            ],
            [
             0.2222222222222222,
             "#7201a8"
            ],
            [
             0.3333333333333333,
             "#9c179e"
            ],
            [
             0.4444444444444444,
             "#bd3786"
            ],
            [
             0.5555555555555556,
             "#d8576b"
            ],
            [
             0.6666666666666666,
             "#ed7953"
            ],
            [
             0.7777777777777778,
             "#fb9f3a"
            ],
            [
             0.8888888888888888,
             "#fdca26"
            ],
            [
             1,
             "#f0f921"
            ]
           ],
           "sequentialminus": [
            [
             0,
             "#0d0887"
            ],
            [
             0.1111111111111111,
             "#46039f"
            ],
            [
             0.2222222222222222,
             "#7201a8"
            ],
            [
             0.3333333333333333,
             "#9c179e"
            ],
            [
             0.4444444444444444,
             "#bd3786"
            ],
            [
             0.5555555555555556,
             "#d8576b"
            ],
            [
             0.6666666666666666,
             "#ed7953"
            ],
            [
             0.7777777777777778,
             "#fb9f3a"
            ],
            [
             0.8888888888888888,
             "#fdca26"
            ],
            [
             1,
             "#f0f921"
            ]
           ]
          },
          "colorway": [
           "#636efa",
           "#EF553B",
           "#00cc96",
           "#ab63fa",
           "#FFA15A",
           "#19d3f3",
           "#FF6692",
           "#B6E880",
           "#FF97FF",
           "#FECB52"
          ],
          "font": {
           "color": "#2a3f5f"
          },
          "geo": {
           "bgcolor": "white",
           "lakecolor": "white",
           "landcolor": "#E5ECF6",
           "showlakes": true,
           "showland": true,
           "subunitcolor": "white"
          },
          "hoverlabel": {
           "align": "left"
          },
          "hovermode": "closest",
          "mapbox": {
           "style": "light"
          },
          "paper_bgcolor": "white",
          "plot_bgcolor": "#E5ECF6",
          "polar": {
           "angularaxis": {
            "gridcolor": "white",
            "linecolor": "white",
            "ticks": ""
           },
           "bgcolor": "#E5ECF6",
           "radialaxis": {
            "gridcolor": "white",
            "linecolor": "white",
            "ticks": ""
           }
          },
          "scene": {
           "xaxis": {
            "backgroundcolor": "#E5ECF6",
            "gridcolor": "white",
            "gridwidth": 2,
            "linecolor": "white",
            "showbackground": true,
            "ticks": "",
            "zerolinecolor": "white"
           },
           "yaxis": {
            "backgroundcolor": "#E5ECF6",
            "gridcolor": "white",
            "gridwidth": 2,
            "linecolor": "white",
            "showbackground": true,
            "ticks": "",
            "zerolinecolor": "white"
           },
           "zaxis": {
            "backgroundcolor": "#E5ECF6",
            "gridcolor": "white",
            "gridwidth": 2,
            "linecolor": "white",
            "showbackground": true,
            "ticks": "",
            "zerolinecolor": "white"
           }
          },
          "shapedefaults": {
           "line": {
            "color": "#2a3f5f"
           }
          },
          "ternary": {
           "aaxis": {
            "gridcolor": "white",
            "linecolor": "white",
            "ticks": ""
           },
           "baxis": {
            "gridcolor": "white",
            "linecolor": "white",
            "ticks": ""
           },
           "bgcolor": "#E5ECF6",
           "caxis": {
            "gridcolor": "white",
            "linecolor": "white",
            "ticks": ""
           }
          },
          "title": {
           "x": 0.05
          },
          "xaxis": {
           "automargin": true,
           "gridcolor": "white",
           "linecolor": "white",
           "ticks": "",
           "title": {
            "standoff": 15
           },
           "zerolinecolor": "white",
           "zerolinewidth": 2
          },
          "yaxis": {
           "automargin": true,
           "gridcolor": "white",
           "linecolor": "white",
           "ticks": "",
           "title": {
            "standoff": 15
           },
           "zerolinecolor": "white",
           "zerolinewidth": 2
          }
         }
        },
        "title": {
         "text": "Slice Plot"
        },
        "width": 1200,
        "xaxis": {
         "anchor": "y",
         "categoryarray": [
          "auto",
          true,
          false
         ],
         "categoryorder": "array",
         "domain": [
          0,
          0.2125
         ],
         "title": {
          "text": "compute_full_tree"
         },
         "type": "category"
        },
        "xaxis2": {
         "anchor": "y2",
         "categoryarray": [
          "ward",
          "complete",
          "average",
          "single"
         ],
         "categoryorder": "array",
         "domain": [
          0.2625,
          0.475
         ],
         "title": {
          "text": "linkage"
         },
         "type": "category"
        },
        "xaxis3": {
         "anchor": "y3",
         "categoryarray": [
          "euclidean",
          "l1",
          "l2",
          "manhattan",
          "cosine"
         ],
         "categoryorder": "array",
         "domain": [
          0.525,
          0.7375
         ],
         "title": {
          "text": "metric"
         },
         "type": "category"
        },
        "xaxis4": {
         "anchor": "y4",
         "domain": [
          0.7875,
          1
         ],
         "title": {
          "text": "n_clusters"
         }
        },
        "yaxis": {
         "anchor": "x",
         "domain": [
          0,
          1
         ],
         "title": {
          "text": "Objective Value"
         }
        },
        "yaxis2": {
         "anchor": "x2",
         "domain": [
          0,
          1
         ],
         "matches": "y",
         "showticklabels": false
        },
        "yaxis3": {
         "anchor": "x3",
         "domain": [
          0,
          1
         ],
         "matches": "y",
         "showticklabels": false
        },
        "yaxis4": {
         "anchor": "x4",
         "domain": [
          0,
          1
         ],
         "matches": "y",
         "showticklabels": false
        }
       }
      }
     },
     "metadata": {},
     "output_type": "display_data"
    }
   ],
   "source": [
    "optuna.visualization.plot_slice(study_agglomerative)"
   ]
  },
  {
   "cell_type": "markdown",
   "metadata": {},
   "source": [
    "### Mean-Shift"
   ]
  },
  {
   "cell_type": "code",
   "execution_count": 193,
   "metadata": {},
   "outputs": [
    {
     "data": {
      "text/plain": [
       "array([0, 0, 1, ..., 0, 0, 0], dtype=int64)"
      ]
     },
     "execution_count": 193,
     "metadata": {},
     "output_type": "execute_result"
    }
   ],
   "source": [
    "meanshift = MeanShift(**study_meanshift.best_params).fit(df)\n",
    "labels = meanshift.labels_\n",
    "labels"
   ]
  },
  {
   "cell_type": "code",
   "execution_count": 194,
   "metadata": {},
   "outputs": [
    {
     "data": {
      "text/html": [
       "<div>\n",
       "<style scoped>\n",
       "    .dataframe tbody tr th:only-of-type {\n",
       "        vertical-align: middle;\n",
       "    }\n",
       "\n",
       "    .dataframe tbody tr th {\n",
       "        vertical-align: top;\n",
       "    }\n",
       "\n",
       "    .dataframe thead th {\n",
       "        text-align: right;\n",
       "    }\n",
       "</style>\n",
       "<table border=\"1\" class=\"dataframe\">\n",
       "  <thead>\n",
       "    <tr style=\"text-align: right;\">\n",
       "      <th></th>\n",
       "      <th>euexfreq</th>\n",
       "      <th>eugenhth</th>\n",
       "      <th>eufastfdfrq</th>\n",
       "      <th>eudietsoda</th>\n",
       "      <th>euwgt</th>\n",
       "      <th>euhgt</th>\n",
       "      <th>Clusters</th>\n",
       "    </tr>\n",
       "  </thead>\n",
       "  <tbody>\n",
       "    <tr>\n",
       "      <th>0</th>\n",
       "      <td>0</td>\n",
       "      <td>1</td>\n",
       "      <td>0</td>\n",
       "      <td>0</td>\n",
       "      <td>77.11</td>\n",
       "      <td>1.52</td>\n",
       "      <td>0</td>\n",
       "    </tr>\n",
       "    <tr>\n",
       "      <th>1</th>\n",
       "      <td>0</td>\n",
       "      <td>2</td>\n",
       "      <td>1</td>\n",
       "      <td>0</td>\n",
       "      <td>58.06</td>\n",
       "      <td>1.60</td>\n",
       "      <td>0</td>\n",
       "    </tr>\n",
       "    <tr>\n",
       "      <th>2</th>\n",
       "      <td>0</td>\n",
       "      <td>5</td>\n",
       "      <td>0</td>\n",
       "      <td>0</td>\n",
       "      <td>122.47</td>\n",
       "      <td>1.57</td>\n",
       "      <td>1</td>\n",
       "    </tr>\n",
       "    <tr>\n",
       "      <th>3</th>\n",
       "      <td>5</td>\n",
       "      <td>4</td>\n",
       "      <td>0</td>\n",
       "      <td>0</td>\n",
       "      <td>95.25</td>\n",
       "      <td>1.75</td>\n",
       "      <td>0</td>\n",
       "    </tr>\n",
       "    <tr>\n",
       "      <th>4</th>\n",
       "      <td>2</td>\n",
       "      <td>3</td>\n",
       "      <td>3</td>\n",
       "      <td>1</td>\n",
       "      <td>99.79</td>\n",
       "      <td>1.80</td>\n",
       "      <td>0</td>\n",
       "    </tr>\n",
       "    <tr>\n",
       "      <th>...</th>\n",
       "      <td>...</td>\n",
       "      <td>...</td>\n",
       "      <td>...</td>\n",
       "      <td>...</td>\n",
       "      <td>...</td>\n",
       "      <td>...</td>\n",
       "      <td>...</td>\n",
       "    </tr>\n",
       "    <tr>\n",
       "      <th>10552</th>\n",
       "      <td>5</td>\n",
       "      <td>3</td>\n",
       "      <td>0</td>\n",
       "      <td>0</td>\n",
       "      <td>67.59</td>\n",
       "      <td>1.57</td>\n",
       "      <td>0</td>\n",
       "    </tr>\n",
       "    <tr>\n",
       "      <th>10553</th>\n",
       "      <td>2</td>\n",
       "      <td>2</td>\n",
       "      <td>3</td>\n",
       "      <td>2</td>\n",
       "      <td>81.65</td>\n",
       "      <td>1.73</td>\n",
       "      <td>0</td>\n",
       "    </tr>\n",
       "    <tr>\n",
       "      <th>10554</th>\n",
       "      <td>2</td>\n",
       "      <td>1</td>\n",
       "      <td>4</td>\n",
       "      <td>0</td>\n",
       "      <td>64.41</td>\n",
       "      <td>1.70</td>\n",
       "      <td>0</td>\n",
       "    </tr>\n",
       "    <tr>\n",
       "      <th>10555</th>\n",
       "      <td>1</td>\n",
       "      <td>1</td>\n",
       "      <td>3</td>\n",
       "      <td>1</td>\n",
       "      <td>76.20</td>\n",
       "      <td>1.80</td>\n",
       "      <td>0</td>\n",
       "    </tr>\n",
       "    <tr>\n",
       "      <th>10556</th>\n",
       "      <td>3</td>\n",
       "      <td>1</td>\n",
       "      <td>0</td>\n",
       "      <td>0</td>\n",
       "      <td>63.50</td>\n",
       "      <td>1.68</td>\n",
       "      <td>0</td>\n",
       "    </tr>\n",
       "  </tbody>\n",
       "</table>\n",
       "<p>10557 rows × 7 columns</p>\n",
       "</div>"
      ],
      "text/plain": [
       "       euexfreq  eugenhth  eufastfdfrq  eudietsoda   euwgt  euhgt  Clusters\n",
       "0             0         1            0           0   77.11   1.52         0\n",
       "1             0         2            1           0   58.06   1.60         0\n",
       "2             0         5            0           0  122.47   1.57         1\n",
       "3             5         4            0           0   95.25   1.75         0\n",
       "4             2         3            3           1   99.79   1.80         0\n",
       "...         ...       ...          ...         ...     ...    ...       ...\n",
       "10552         5         3            0           0   67.59   1.57         0\n",
       "10553         2         2            3           2   81.65   1.73         0\n",
       "10554         2         1            4           0   64.41   1.70         0\n",
       "10555         1         1            3           1   76.20   1.80         0\n",
       "10556         3         1            0           0   63.50   1.68         0\n",
       "\n",
       "[10557 rows x 7 columns]"
      ]
     },
     "execution_count": 194,
     "metadata": {},
     "output_type": "execute_result"
    }
   ],
   "source": [
    "df_meanshift = df.copy()\n",
    "df_meanshift['Clusters'] = labels\n",
    "df_meanshift"
   ]
  },
  {
   "cell_type": "code",
   "execution_count": 195,
   "metadata": {},
   "outputs": [
    {
     "data": {
      "application/vnd.plotly.v1+json": {
       "config": {
        "plotlyServerURL": "https://plot.ly"
       },
       "data": [
        {
         "mode": "markers",
         "name": "Objective Value",
         "type": "scatter",
         "x": [
          0,
          1,
          2,
          3,
          4,
          5,
          6,
          7,
          8,
          9,
          10,
          11,
          12,
          13,
          14,
          15,
          16,
          17,
          18,
          19
         ],
         "y": [
          0.6840113812045326,
          0.6299361493769005,
          0.5609212185920923,
          0.7885092500475094,
          null,
          0.7795916754637263,
          0.6340413015108063,
          0.6675397979412031,
          0.787797988401072,
          null,
          0.7881973784582591,
          0.7881973784582591,
          0.7881973784582591,
          0.7885092500475094,
          0.7886922301105387,
          0.7684383378061606,
          0.7886922301105387,
          0.7382399329147299,
          0.787797988401072,
          0.7886922301105387
         ]
        },
        {
         "mode": "lines",
         "name": "Best Value",
         "type": "scatter",
         "x": [
          0,
          1,
          2,
          3,
          4,
          5,
          6,
          7,
          8,
          9,
          10,
          11,
          12,
          13,
          14,
          15,
          16,
          17,
          18,
          19
         ],
         "y": [
          0.6840113812045326,
          0.6840113812045326,
          0.6840113812045326,
          0.7885092500475094,
          0.7885092500475094,
          0.7885092500475094,
          0.7885092500475094,
          0.7885092500475094,
          0.7885092500475094,
          0.7885092500475094,
          0.7885092500475094,
          0.7885092500475094,
          0.7885092500475094,
          0.7885092500475094,
          0.7886922301105387,
          0.7886922301105387,
          0.7886922301105387,
          0.7886922301105387,
          0.7886922301105387,
          0.7886922301105387
         ]
        },
        {
         "marker": {
          "color": "#cccccc"
         },
         "mode": "markers",
         "name": "Infeasible Trial",
         "showlegend": false,
         "type": "scatter",
         "x": [],
         "y": []
        }
       ],
       "layout": {
        "template": {
         "data": {
          "bar": [
           {
            "error_x": {
             "color": "#2a3f5f"
            },
            "error_y": {
             "color": "#2a3f5f"
            },
            "marker": {
             "line": {
              "color": "#E5ECF6",
              "width": 0.5
             },
             "pattern": {
              "fillmode": "overlay",
              "size": 10,
              "solidity": 0.2
             }
            },
            "type": "bar"
           }
          ],
          "barpolar": [
           {
            "marker": {
             "line": {
              "color": "#E5ECF6",
              "width": 0.5
             },
             "pattern": {
              "fillmode": "overlay",
              "size": 10,
              "solidity": 0.2
             }
            },
            "type": "barpolar"
           }
          ],
          "carpet": [
           {
            "aaxis": {
             "endlinecolor": "#2a3f5f",
             "gridcolor": "white",
             "linecolor": "white",
             "minorgridcolor": "white",
             "startlinecolor": "#2a3f5f"
            },
            "baxis": {
             "endlinecolor": "#2a3f5f",
             "gridcolor": "white",
             "linecolor": "white",
             "minorgridcolor": "white",
             "startlinecolor": "#2a3f5f"
            },
            "type": "carpet"
           }
          ],
          "choropleth": [
           {
            "colorbar": {
             "outlinewidth": 0,
             "ticks": ""
            },
            "type": "choropleth"
           }
          ],
          "contour": [
           {
            "colorbar": {
             "outlinewidth": 0,
             "ticks": ""
            },
            "colorscale": [
             [
              0,
              "#0d0887"
             ],
             [
              0.1111111111111111,
              "#46039f"
             ],
             [
              0.2222222222222222,
              "#7201a8"
             ],
             [
              0.3333333333333333,
              "#9c179e"
             ],
             [
              0.4444444444444444,
              "#bd3786"
             ],
             [
              0.5555555555555556,
              "#d8576b"
             ],
             [
              0.6666666666666666,
              "#ed7953"
             ],
             [
              0.7777777777777778,
              "#fb9f3a"
             ],
             [
              0.8888888888888888,
              "#fdca26"
             ],
             [
              1,
              "#f0f921"
             ]
            ],
            "type": "contour"
           }
          ],
          "contourcarpet": [
           {
            "colorbar": {
             "outlinewidth": 0,
             "ticks": ""
            },
            "type": "contourcarpet"
           }
          ],
          "heatmap": [
           {
            "colorbar": {
             "outlinewidth": 0,
             "ticks": ""
            },
            "colorscale": [
             [
              0,
              "#0d0887"
             ],
             [
              0.1111111111111111,
              "#46039f"
             ],
             [
              0.2222222222222222,
              "#7201a8"
             ],
             [
              0.3333333333333333,
              "#9c179e"
             ],
             [
              0.4444444444444444,
              "#bd3786"
             ],
             [
              0.5555555555555556,
              "#d8576b"
             ],
             [
              0.6666666666666666,
              "#ed7953"
             ],
             [
              0.7777777777777778,
              "#fb9f3a"
             ],
             [
              0.8888888888888888,
              "#fdca26"
             ],
             [
              1,
              "#f0f921"
             ]
            ],
            "type": "heatmap"
           }
          ],
          "heatmapgl": [
           {
            "colorbar": {
             "outlinewidth": 0,
             "ticks": ""
            },
            "colorscale": [
             [
              0,
              "#0d0887"
             ],
             [
              0.1111111111111111,
              "#46039f"
             ],
             [
              0.2222222222222222,
              "#7201a8"
             ],
             [
              0.3333333333333333,
              "#9c179e"
             ],
             [
              0.4444444444444444,
              "#bd3786"
             ],
             [
              0.5555555555555556,
              "#d8576b"
             ],
             [
              0.6666666666666666,
              "#ed7953"
             ],
             [
              0.7777777777777778,
              "#fb9f3a"
             ],
             [
              0.8888888888888888,
              "#fdca26"
             ],
             [
              1,
              "#f0f921"
             ]
            ],
            "type": "heatmapgl"
           }
          ],
          "histogram": [
           {
            "marker": {
             "pattern": {
              "fillmode": "overlay",
              "size": 10,
              "solidity": 0.2
             }
            },
            "type": "histogram"
           }
          ],
          "histogram2d": [
           {
            "colorbar": {
             "outlinewidth": 0,
             "ticks": ""
            },
            "colorscale": [
             [
              0,
              "#0d0887"
             ],
             [
              0.1111111111111111,
              "#46039f"
             ],
             [
              0.2222222222222222,
              "#7201a8"
             ],
             [
              0.3333333333333333,
              "#9c179e"
             ],
             [
              0.4444444444444444,
              "#bd3786"
             ],
             [
              0.5555555555555556,
              "#d8576b"
             ],
             [
              0.6666666666666666,
              "#ed7953"
             ],
             [
              0.7777777777777778,
              "#fb9f3a"
             ],
             [
              0.8888888888888888,
              "#fdca26"
             ],
             [
              1,
              "#f0f921"
             ]
            ],
            "type": "histogram2d"
           }
          ],
          "histogram2dcontour": [
           {
            "colorbar": {
             "outlinewidth": 0,
             "ticks": ""
            },
            "colorscale": [
             [
              0,
              "#0d0887"
             ],
             [
              0.1111111111111111,
              "#46039f"
             ],
             [
              0.2222222222222222,
              "#7201a8"
             ],
             [
              0.3333333333333333,
              "#9c179e"
             ],
             [
              0.4444444444444444,
              "#bd3786"
             ],
             [
              0.5555555555555556,
              "#d8576b"
             ],
             [
              0.6666666666666666,
              "#ed7953"
             ],
             [
              0.7777777777777778,
              "#fb9f3a"
             ],
             [
              0.8888888888888888,
              "#fdca26"
             ],
             [
              1,
              "#f0f921"
             ]
            ],
            "type": "histogram2dcontour"
           }
          ],
          "mesh3d": [
           {
            "colorbar": {
             "outlinewidth": 0,
             "ticks": ""
            },
            "type": "mesh3d"
           }
          ],
          "parcoords": [
           {
            "line": {
             "colorbar": {
              "outlinewidth": 0,
              "ticks": ""
             }
            },
            "type": "parcoords"
           }
          ],
          "pie": [
           {
            "automargin": true,
            "type": "pie"
           }
          ],
          "scatter": [
           {
            "fillpattern": {
             "fillmode": "overlay",
             "size": 10,
             "solidity": 0.2
            },
            "type": "scatter"
           }
          ],
          "scatter3d": [
           {
            "line": {
             "colorbar": {
              "outlinewidth": 0,
              "ticks": ""
             }
            },
            "marker": {
             "colorbar": {
              "outlinewidth": 0,
              "ticks": ""
             }
            },
            "type": "scatter3d"
           }
          ],
          "scattercarpet": [
           {
            "marker": {
             "colorbar": {
              "outlinewidth": 0,
              "ticks": ""
             }
            },
            "type": "scattercarpet"
           }
          ],
          "scattergeo": [
           {
            "marker": {
             "colorbar": {
              "outlinewidth": 0,
              "ticks": ""
             }
            },
            "type": "scattergeo"
           }
          ],
          "scattergl": [
           {
            "marker": {
             "colorbar": {
              "outlinewidth": 0,
              "ticks": ""
             }
            },
            "type": "scattergl"
           }
          ],
          "scattermapbox": [
           {
            "marker": {
             "colorbar": {
              "outlinewidth": 0,
              "ticks": ""
             }
            },
            "type": "scattermapbox"
           }
          ],
          "scatterpolar": [
           {
            "marker": {
             "colorbar": {
              "outlinewidth": 0,
              "ticks": ""
             }
            },
            "type": "scatterpolar"
           }
          ],
          "scatterpolargl": [
           {
            "marker": {
             "colorbar": {
              "outlinewidth": 0,
              "ticks": ""
             }
            },
            "type": "scatterpolargl"
           }
          ],
          "scatterternary": [
           {
            "marker": {
             "colorbar": {
              "outlinewidth": 0,
              "ticks": ""
             }
            },
            "type": "scatterternary"
           }
          ],
          "surface": [
           {
            "colorbar": {
             "outlinewidth": 0,
             "ticks": ""
            },
            "colorscale": [
             [
              0,
              "#0d0887"
             ],
             [
              0.1111111111111111,
              "#46039f"
             ],
             [
              0.2222222222222222,
              "#7201a8"
             ],
             [
              0.3333333333333333,
              "#9c179e"
             ],
             [
              0.4444444444444444,
              "#bd3786"
             ],
             [
              0.5555555555555556,
              "#d8576b"
             ],
             [
              0.6666666666666666,
              "#ed7953"
             ],
             [
              0.7777777777777778,
              "#fb9f3a"
             ],
             [
              0.8888888888888888,
              "#fdca26"
             ],
             [
              1,
              "#f0f921"
             ]
            ],
            "type": "surface"
           }
          ],
          "table": [
           {
            "cells": {
             "fill": {
              "color": "#EBF0F8"
             },
             "line": {
              "color": "white"
             }
            },
            "header": {
             "fill": {
              "color": "#C8D4E3"
             },
             "line": {
              "color": "white"
             }
            },
            "type": "table"
           }
          ]
         },
         "layout": {
          "annotationdefaults": {
           "arrowcolor": "#2a3f5f",
           "arrowhead": 0,
           "arrowwidth": 1
          },
          "autotypenumbers": "strict",
          "coloraxis": {
           "colorbar": {
            "outlinewidth": 0,
            "ticks": ""
           }
          },
          "colorscale": {
           "diverging": [
            [
             0,
             "#8e0152"
            ],
            [
             0.1,
             "#c51b7d"
            ],
            [
             0.2,
             "#de77ae"
            ],
            [
             0.3,
             "#f1b6da"
            ],
            [
             0.4,
             "#fde0ef"
            ],
            [
             0.5,
             "#f7f7f7"
            ],
            [
             0.6,
             "#e6f5d0"
            ],
            [
             0.7,
             "#b8e186"
            ],
            [
             0.8,
             "#7fbc41"
            ],
            [
             0.9,
             "#4d9221"
            ],
            [
             1,
             "#276419"
            ]
           ],
           "sequential": [
            [
             0,
             "#0d0887"
            ],
            [
             0.1111111111111111,
             "#46039f"
            ],
            [
             0.2222222222222222,
             "#7201a8"
            ],
            [
             0.3333333333333333,
             "#9c179e"
            ],
            [
             0.4444444444444444,
             "#bd3786"
            ],
            [
             0.5555555555555556,
             "#d8576b"
            ],
            [
             0.6666666666666666,
             "#ed7953"
            ],
            [
             0.7777777777777778,
             "#fb9f3a"
            ],
            [
             0.8888888888888888,
             "#fdca26"
            ],
            [
             1,
             "#f0f921"
            ]
           ],
           "sequentialminus": [
            [
             0,
             "#0d0887"
            ],
            [
             0.1111111111111111,
             "#46039f"
            ],
            [
             0.2222222222222222,
             "#7201a8"
            ],
            [
             0.3333333333333333,
             "#9c179e"
            ],
            [
             0.4444444444444444,
             "#bd3786"
            ],
            [
             0.5555555555555556,
             "#d8576b"
            ],
            [
             0.6666666666666666,
             "#ed7953"
            ],
            [
             0.7777777777777778,
             "#fb9f3a"
            ],
            [
             0.8888888888888888,
             "#fdca26"
            ],
            [
             1,
             "#f0f921"
            ]
           ]
          },
          "colorway": [
           "#636efa",
           "#EF553B",
           "#00cc96",
           "#ab63fa",
           "#FFA15A",
           "#19d3f3",
           "#FF6692",
           "#B6E880",
           "#FF97FF",
           "#FECB52"
          ],
          "font": {
           "color": "#2a3f5f"
          },
          "geo": {
           "bgcolor": "white",
           "lakecolor": "white",
           "landcolor": "#E5ECF6",
           "showlakes": true,
           "showland": true,
           "subunitcolor": "white"
          },
          "hoverlabel": {
           "align": "left"
          },
          "hovermode": "closest",
          "mapbox": {
           "style": "light"
          },
          "paper_bgcolor": "white",
          "plot_bgcolor": "#E5ECF6",
          "polar": {
           "angularaxis": {
            "gridcolor": "white",
            "linecolor": "white",
            "ticks": ""
           },
           "bgcolor": "#E5ECF6",
           "radialaxis": {
            "gridcolor": "white",
            "linecolor": "white",
            "ticks": ""
           }
          },
          "scene": {
           "xaxis": {
            "backgroundcolor": "#E5ECF6",
            "gridcolor": "white",
            "gridwidth": 2,
            "linecolor": "white",
            "showbackground": true,
            "ticks": "",
            "zerolinecolor": "white"
           },
           "yaxis": {
            "backgroundcolor": "#E5ECF6",
            "gridcolor": "white",
            "gridwidth": 2,
            "linecolor": "white",
            "showbackground": true,
            "ticks": "",
            "zerolinecolor": "white"
           },
           "zaxis": {
            "backgroundcolor": "#E5ECF6",
            "gridcolor": "white",
            "gridwidth": 2,
            "linecolor": "white",
            "showbackground": true,
            "ticks": "",
            "zerolinecolor": "white"
           }
          },
          "shapedefaults": {
           "line": {
            "color": "#2a3f5f"
           }
          },
          "ternary": {
           "aaxis": {
            "gridcolor": "white",
            "linecolor": "white",
            "ticks": ""
           },
           "baxis": {
            "gridcolor": "white",
            "linecolor": "white",
            "ticks": ""
           },
           "bgcolor": "#E5ECF6",
           "caxis": {
            "gridcolor": "white",
            "linecolor": "white",
            "ticks": ""
           }
          },
          "title": {
           "x": 0.05
          },
          "xaxis": {
           "automargin": true,
           "gridcolor": "white",
           "linecolor": "white",
           "ticks": "",
           "title": {
            "standoff": 15
           },
           "zerolinecolor": "white",
           "zerolinewidth": 2
          },
          "yaxis": {
           "automargin": true,
           "gridcolor": "white",
           "linecolor": "white",
           "ticks": "",
           "title": {
            "standoff": 15
           },
           "zerolinecolor": "white",
           "zerolinewidth": 2
          }
         }
        },
        "title": {
         "text": "Optimization History Plot"
        },
        "xaxis": {
         "title": {
          "text": "Trial"
         }
        },
        "yaxis": {
         "title": {
          "text": "Objective Value"
         }
        }
       }
      }
     },
     "metadata": {},
     "output_type": "display_data"
    }
   ],
   "source": [
    "optuna.visualization.plot_optimization_history(study_meanshift)"
   ]
  },
  {
   "cell_type": "code",
   "execution_count": 196,
   "metadata": {},
   "outputs": [
    {
     "name": "stderr",
     "output_type": "stream",
     "text": [
      "[W 2024-10-29 15:07:37,538] Trial 4 is omitted in visualization because its objective value is inf or nan.\n",
      "[W 2024-10-29 15:07:37,539] Trial 9 is omitted in visualization because its objective value is inf or nan.\n"
     ]
    },
    {
     "data": {
      "application/vnd.plotly.v1+json": {
       "config": {
        "plotlyServerURL": "https://plot.ly"
       },
       "data": [
        {
         "cliponaxis": false,
         "hovertemplate": [
          "min_bin_freq (IntDistribution): 0.010322225605205152<extra></extra>",
          "bin_seeding (CategoricalDistribution): 0.038506846401648524<extra></extra>",
          "bandwidth (FloatDistribution): 0.11378966669125216<extra></extra>",
          "cluster_all (CategoricalDistribution): 0.8373812613018942<extra></extra>"
         ],
         "name": "Objective Value",
         "orientation": "h",
         "text": [
          "0.01",
          "0.04",
          "0.11",
          "0.84"
         ],
         "textposition": "outside",
         "type": "bar",
         "x": [
          0.010322225605205152,
          0.038506846401648524,
          0.11378966669125216,
          0.8373812613018942
         ],
         "y": [
          "min_bin_freq",
          "bin_seeding",
          "bandwidth",
          "cluster_all"
         ]
        }
       ],
       "layout": {
        "template": {
         "data": {
          "bar": [
           {
            "error_x": {
             "color": "#2a3f5f"
            },
            "error_y": {
             "color": "#2a3f5f"
            },
            "marker": {
             "line": {
              "color": "#E5ECF6",
              "width": 0.5
             },
             "pattern": {
              "fillmode": "overlay",
              "size": 10,
              "solidity": 0.2
             }
            },
            "type": "bar"
           }
          ],
          "barpolar": [
           {
            "marker": {
             "line": {
              "color": "#E5ECF6",
              "width": 0.5
             },
             "pattern": {
              "fillmode": "overlay",
              "size": 10,
              "solidity": 0.2
             }
            },
            "type": "barpolar"
           }
          ],
          "carpet": [
           {
            "aaxis": {
             "endlinecolor": "#2a3f5f",
             "gridcolor": "white",
             "linecolor": "white",
             "minorgridcolor": "white",
             "startlinecolor": "#2a3f5f"
            },
            "baxis": {
             "endlinecolor": "#2a3f5f",
             "gridcolor": "white",
             "linecolor": "white",
             "minorgridcolor": "white",
             "startlinecolor": "#2a3f5f"
            },
            "type": "carpet"
           }
          ],
          "choropleth": [
           {
            "colorbar": {
             "outlinewidth": 0,
             "ticks": ""
            },
            "type": "choropleth"
           }
          ],
          "contour": [
           {
            "colorbar": {
             "outlinewidth": 0,
             "ticks": ""
            },
            "colorscale": [
             [
              0,
              "#0d0887"
             ],
             [
              0.1111111111111111,
              "#46039f"
             ],
             [
              0.2222222222222222,
              "#7201a8"
             ],
             [
              0.3333333333333333,
              "#9c179e"
             ],
             [
              0.4444444444444444,
              "#bd3786"
             ],
             [
              0.5555555555555556,
              "#d8576b"
             ],
             [
              0.6666666666666666,
              "#ed7953"
             ],
             [
              0.7777777777777778,
              "#fb9f3a"
             ],
             [
              0.8888888888888888,
              "#fdca26"
             ],
             [
              1,
              "#f0f921"
             ]
            ],
            "type": "contour"
           }
          ],
          "contourcarpet": [
           {
            "colorbar": {
             "outlinewidth": 0,
             "ticks": ""
            },
            "type": "contourcarpet"
           }
          ],
          "heatmap": [
           {
            "colorbar": {
             "outlinewidth": 0,
             "ticks": ""
            },
            "colorscale": [
             [
              0,
              "#0d0887"
             ],
             [
              0.1111111111111111,
              "#46039f"
             ],
             [
              0.2222222222222222,
              "#7201a8"
             ],
             [
              0.3333333333333333,
              "#9c179e"
             ],
             [
              0.4444444444444444,
              "#bd3786"
             ],
             [
              0.5555555555555556,
              "#d8576b"
             ],
             [
              0.6666666666666666,
              "#ed7953"
             ],
             [
              0.7777777777777778,
              "#fb9f3a"
             ],
             [
              0.8888888888888888,
              "#fdca26"
             ],
             [
              1,
              "#f0f921"
             ]
            ],
            "type": "heatmap"
           }
          ],
          "heatmapgl": [
           {
            "colorbar": {
             "outlinewidth": 0,
             "ticks": ""
            },
            "colorscale": [
             [
              0,
              "#0d0887"
             ],
             [
              0.1111111111111111,
              "#46039f"
             ],
             [
              0.2222222222222222,
              "#7201a8"
             ],
             [
              0.3333333333333333,
              "#9c179e"
             ],
             [
              0.4444444444444444,
              "#bd3786"
             ],
             [
              0.5555555555555556,
              "#d8576b"
             ],
             [
              0.6666666666666666,
              "#ed7953"
             ],
             [
              0.7777777777777778,
              "#fb9f3a"
             ],
             [
              0.8888888888888888,
              "#fdca26"
             ],
             [
              1,
              "#f0f921"
             ]
            ],
            "type": "heatmapgl"
           }
          ],
          "histogram": [
           {
            "marker": {
             "pattern": {
              "fillmode": "overlay",
              "size": 10,
              "solidity": 0.2
             }
            },
            "type": "histogram"
           }
          ],
          "histogram2d": [
           {
            "colorbar": {
             "outlinewidth": 0,
             "ticks": ""
            },
            "colorscale": [
             [
              0,
              "#0d0887"
             ],
             [
              0.1111111111111111,
              "#46039f"
             ],
             [
              0.2222222222222222,
              "#7201a8"
             ],
             [
              0.3333333333333333,
              "#9c179e"
             ],
             [
              0.4444444444444444,
              "#bd3786"
             ],
             [
              0.5555555555555556,
              "#d8576b"
             ],
             [
              0.6666666666666666,
              "#ed7953"
             ],
             [
              0.7777777777777778,
              "#fb9f3a"
             ],
             [
              0.8888888888888888,
              "#fdca26"
             ],
             [
              1,
              "#f0f921"
             ]
            ],
            "type": "histogram2d"
           }
          ],
          "histogram2dcontour": [
           {
            "colorbar": {
             "outlinewidth": 0,
             "ticks": ""
            },
            "colorscale": [
             [
              0,
              "#0d0887"
             ],
             [
              0.1111111111111111,
              "#46039f"
             ],
             [
              0.2222222222222222,
              "#7201a8"
             ],
             [
              0.3333333333333333,
              "#9c179e"
             ],
             [
              0.4444444444444444,
              "#bd3786"
             ],
             [
              0.5555555555555556,
              "#d8576b"
             ],
             [
              0.6666666666666666,
              "#ed7953"
             ],
             [
              0.7777777777777778,
              "#fb9f3a"
             ],
             [
              0.8888888888888888,
              "#fdca26"
             ],
             [
              1,
              "#f0f921"
             ]
            ],
            "type": "histogram2dcontour"
           }
          ],
          "mesh3d": [
           {
            "colorbar": {
             "outlinewidth": 0,
             "ticks": ""
            },
            "type": "mesh3d"
           }
          ],
          "parcoords": [
           {
            "line": {
             "colorbar": {
              "outlinewidth": 0,
              "ticks": ""
             }
            },
            "type": "parcoords"
           }
          ],
          "pie": [
           {
            "automargin": true,
            "type": "pie"
           }
          ],
          "scatter": [
           {
            "fillpattern": {
             "fillmode": "overlay",
             "size": 10,
             "solidity": 0.2
            },
            "type": "scatter"
           }
          ],
          "scatter3d": [
           {
            "line": {
             "colorbar": {
              "outlinewidth": 0,
              "ticks": ""
             }
            },
            "marker": {
             "colorbar": {
              "outlinewidth": 0,
              "ticks": ""
             }
            },
            "type": "scatter3d"
           }
          ],
          "scattercarpet": [
           {
            "marker": {
             "colorbar": {
              "outlinewidth": 0,
              "ticks": ""
             }
            },
            "type": "scattercarpet"
           }
          ],
          "scattergeo": [
           {
            "marker": {
             "colorbar": {
              "outlinewidth": 0,
              "ticks": ""
             }
            },
            "type": "scattergeo"
           }
          ],
          "scattergl": [
           {
            "marker": {
             "colorbar": {
              "outlinewidth": 0,
              "ticks": ""
             }
            },
            "type": "scattergl"
           }
          ],
          "scattermapbox": [
           {
            "marker": {
             "colorbar": {
              "outlinewidth": 0,
              "ticks": ""
             }
            },
            "type": "scattermapbox"
           }
          ],
          "scatterpolar": [
           {
            "marker": {
             "colorbar": {
              "outlinewidth": 0,
              "ticks": ""
             }
            },
            "type": "scatterpolar"
           }
          ],
          "scatterpolargl": [
           {
            "marker": {
             "colorbar": {
              "outlinewidth": 0,
              "ticks": ""
             }
            },
            "type": "scatterpolargl"
           }
          ],
          "scatterternary": [
           {
            "marker": {
             "colorbar": {
              "outlinewidth": 0,
              "ticks": ""
             }
            },
            "type": "scatterternary"
           }
          ],
          "surface": [
           {
            "colorbar": {
             "outlinewidth": 0,
             "ticks": ""
            },
            "colorscale": [
             [
              0,
              "#0d0887"
             ],
             [
              0.1111111111111111,
              "#46039f"
             ],
             [
              0.2222222222222222,
              "#7201a8"
             ],
             [
              0.3333333333333333,
              "#9c179e"
             ],
             [
              0.4444444444444444,
              "#bd3786"
             ],
             [
              0.5555555555555556,
              "#d8576b"
             ],
             [
              0.6666666666666666,
              "#ed7953"
             ],
             [
              0.7777777777777778,
              "#fb9f3a"
             ],
             [
              0.8888888888888888,
              "#fdca26"
             ],
             [
              1,
              "#f0f921"
             ]
            ],
            "type": "surface"
           }
          ],
          "table": [
           {
            "cells": {
             "fill": {
              "color": "#EBF0F8"
             },
             "line": {
              "color": "white"
             }
            },
            "header": {
             "fill": {
              "color": "#C8D4E3"
             },
             "line": {
              "color": "white"
             }
            },
            "type": "table"
           }
          ]
         },
         "layout": {
          "annotationdefaults": {
           "arrowcolor": "#2a3f5f",
           "arrowhead": 0,
           "arrowwidth": 1
          },
          "autotypenumbers": "strict",
          "coloraxis": {
           "colorbar": {
            "outlinewidth": 0,
            "ticks": ""
           }
          },
          "colorscale": {
           "diverging": [
            [
             0,
             "#8e0152"
            ],
            [
             0.1,
             "#c51b7d"
            ],
            [
             0.2,
             "#de77ae"
            ],
            [
             0.3,
             "#f1b6da"
            ],
            [
             0.4,
             "#fde0ef"
            ],
            [
             0.5,
             "#f7f7f7"
            ],
            [
             0.6,
             "#e6f5d0"
            ],
            [
             0.7,
             "#b8e186"
            ],
            [
             0.8,
             "#7fbc41"
            ],
            [
             0.9,
             "#4d9221"
            ],
            [
             1,
             "#276419"
            ]
           ],
           "sequential": [
            [
             0,
             "#0d0887"
            ],
            [
             0.1111111111111111,
             "#46039f"
            ],
            [
             0.2222222222222222,
             "#7201a8"
            ],
            [
             0.3333333333333333,
             "#9c179e"
            ],
            [
             0.4444444444444444,
             "#bd3786"
            ],
            [
             0.5555555555555556,
             "#d8576b"
            ],
            [
             0.6666666666666666,
             "#ed7953"
            ],
            [
             0.7777777777777778,
             "#fb9f3a"
            ],
            [
             0.8888888888888888,
             "#fdca26"
            ],
            [
             1,
             "#f0f921"
            ]
           ],
           "sequentialminus": [
            [
             0,
             "#0d0887"
            ],
            [
             0.1111111111111111,
             "#46039f"
            ],
            [
             0.2222222222222222,
             "#7201a8"
            ],
            [
             0.3333333333333333,
             "#9c179e"
            ],
            [
             0.4444444444444444,
             "#bd3786"
            ],
            [
             0.5555555555555556,
             "#d8576b"
            ],
            [
             0.6666666666666666,
             "#ed7953"
            ],
            [
             0.7777777777777778,
             "#fb9f3a"
            ],
            [
             0.8888888888888888,
             "#fdca26"
            ],
            [
             1,
             "#f0f921"
            ]
           ]
          },
          "colorway": [
           "#636efa",
           "#EF553B",
           "#00cc96",
           "#ab63fa",
           "#FFA15A",
           "#19d3f3",
           "#FF6692",
           "#B6E880",
           "#FF97FF",
           "#FECB52"
          ],
          "font": {
           "color": "#2a3f5f"
          },
          "geo": {
           "bgcolor": "white",
           "lakecolor": "white",
           "landcolor": "#E5ECF6",
           "showlakes": true,
           "showland": true,
           "subunitcolor": "white"
          },
          "hoverlabel": {
           "align": "left"
          },
          "hovermode": "closest",
          "mapbox": {
           "style": "light"
          },
          "paper_bgcolor": "white",
          "plot_bgcolor": "#E5ECF6",
          "polar": {
           "angularaxis": {
            "gridcolor": "white",
            "linecolor": "white",
            "ticks": ""
           },
           "bgcolor": "#E5ECF6",
           "radialaxis": {
            "gridcolor": "white",
            "linecolor": "white",
            "ticks": ""
           }
          },
          "scene": {
           "xaxis": {
            "backgroundcolor": "#E5ECF6",
            "gridcolor": "white",
            "gridwidth": 2,
            "linecolor": "white",
            "showbackground": true,
            "ticks": "",
            "zerolinecolor": "white"
           },
           "yaxis": {
            "backgroundcolor": "#E5ECF6",
            "gridcolor": "white",
            "gridwidth": 2,
            "linecolor": "white",
            "showbackground": true,
            "ticks": "",
            "zerolinecolor": "white"
           },
           "zaxis": {
            "backgroundcolor": "#E5ECF6",
            "gridcolor": "white",
            "gridwidth": 2,
            "linecolor": "white",
            "showbackground": true,
            "ticks": "",
            "zerolinecolor": "white"
           }
          },
          "shapedefaults": {
           "line": {
            "color": "#2a3f5f"
           }
          },
          "ternary": {
           "aaxis": {
            "gridcolor": "white",
            "linecolor": "white",
            "ticks": ""
           },
           "baxis": {
            "gridcolor": "white",
            "linecolor": "white",
            "ticks": ""
           },
           "bgcolor": "#E5ECF6",
           "caxis": {
            "gridcolor": "white",
            "linecolor": "white",
            "ticks": ""
           }
          },
          "title": {
           "x": 0.05
          },
          "xaxis": {
           "automargin": true,
           "gridcolor": "white",
           "linecolor": "white",
           "ticks": "",
           "title": {
            "standoff": 15
           },
           "zerolinecolor": "white",
           "zerolinewidth": 2
          },
          "yaxis": {
           "automargin": true,
           "gridcolor": "white",
           "linecolor": "white",
           "ticks": "",
           "title": {
            "standoff": 15
           },
           "zerolinecolor": "white",
           "zerolinewidth": 2
          }
         }
        },
        "title": {
         "text": "Hyperparameter Importances"
        },
        "xaxis": {
         "title": {
          "text": "Hyperparameter Importance"
         }
        },
        "yaxis": {
         "title": {
          "text": "Hyperparameter"
         }
        }
       }
      }
     },
     "metadata": {},
     "output_type": "display_data"
    }
   ],
   "source": [
    "optuna.visualization.plot_param_importances(study_meanshift)"
   ]
  },
  {
   "cell_type": "code",
   "execution_count": 197,
   "metadata": {},
   "outputs": [
    {
     "name": "stderr",
     "output_type": "stream",
     "text": [
      "[W 2024-10-29 15:07:37,854] Trial 4 is omitted in visualization because its objective value is inf or nan.\n",
      "[W 2024-10-29 15:07:37,857] Trial 9 is omitted in visualization because its objective value is inf or nan.\n"
     ]
    },
    {
     "data": {
      "application/vnd.plotly.v1+json": {
       "config": {
        "plotlyServerURL": "https://plot.ly"
       },
       "data": [
        {
         "marker": {
          "color": [
           0,
           1,
           2,
           3,
           5,
           6,
           7,
           8,
           10,
           11,
           12,
           13,
           14,
           15,
           16,
           17,
           18,
           19
          ],
          "colorbar": {
           "title": {
            "text": "Trial"
           },
           "x": 1,
           "xpad": 40
          },
          "colorscale": [
           [
            0,
            "rgb(247,251,255)"
           ],
           [
            0.125,
            "rgb(222,235,247)"
           ],
           [
            0.25,
            "rgb(198,219,239)"
           ],
           [
            0.375,
            "rgb(158,202,225)"
           ],
           [
            0.5,
            "rgb(107,174,214)"
           ],
           [
            0.625,
            "rgb(66,146,198)"
           ],
           [
            0.75,
            "rgb(33,113,181)"
           ],
           [
            0.875,
            "rgb(8,81,156)"
           ],
           [
            1,
            "rgb(8,48,107)"
           ]
          ],
          "line": {
           "color": "Grey",
           "width": 0.5
          },
          "showscale": true
         },
         "mode": "markers",
         "name": "Feasible Trial",
         "showlegend": false,
         "type": "scatter",
         "x": [
          16,
          12,
          11,
          19,
          13,
          11,
          17,
          17,
          20,
          20,
          20,
          19,
          18,
          15,
          18,
          14,
          17,
          18
         ],
         "xaxis": "x",
         "y": [
          0.6840113812045326,
          0.6299361493769005,
          0.5609212185920923,
          0.7885092500475094,
          0.7795916754637263,
          0.6340413015108063,
          0.6675397979412031,
          0.787797988401072,
          0.7881973784582591,
          0.7881973784582591,
          0.7881973784582591,
          0.7885092500475094,
          0.7886922301105387,
          0.7684383378061606,
          0.7886922301105387,
          0.7382399329147299,
          0.787797988401072,
          0.7886922301105387
         ],
         "yaxis": "y"
        },
        {
         "marker": {
          "color": [
           0,
           1,
           2,
           3,
           5,
           6,
           7,
           8,
           10,
           11,
           12,
           13,
           14,
           15,
           16,
           17,
           18,
           19
          ],
          "colorbar": {
           "title": {
            "text": "Trial"
           },
           "x": 1,
           "xpad": 40
          },
          "colorscale": [
           [
            0,
            "rgb(247,251,255)"
           ],
           [
            0.125,
            "rgb(222,235,247)"
           ],
           [
            0.25,
            "rgb(198,219,239)"
           ],
           [
            0.375,
            "rgb(158,202,225)"
           ],
           [
            0.5,
            "rgb(107,174,214)"
           ],
           [
            0.625,
            "rgb(66,146,198)"
           ],
           [
            0.75,
            "rgb(33,113,181)"
           ],
           [
            0.875,
            "rgb(8,81,156)"
           ],
           [
            1,
            "rgb(8,48,107)"
           ]
          ],
          "line": {
           "color": "Grey",
           "width": 0.5
          },
          "showscale": false
         },
         "mode": "markers",
         "name": "Feasible Trial",
         "showlegend": false,
         "type": "scatter",
         "x": [
          false,
          false,
          true,
          false,
          true,
          false,
          true,
          false,
          false,
          false,
          false,
          false,
          false,
          false,
          false,
          false,
          false,
          false
         ],
         "xaxis": "x2",
         "y": [
          0.6840113812045326,
          0.6299361493769005,
          0.5609212185920923,
          0.7885092500475094,
          0.7795916754637263,
          0.6340413015108063,
          0.6675397979412031,
          0.787797988401072,
          0.7881973784582591,
          0.7881973784582591,
          0.7881973784582591,
          0.7885092500475094,
          0.7886922301105387,
          0.7684383378061606,
          0.7886922301105387,
          0.7382399329147299,
          0.787797988401072,
          0.7886922301105387
         ],
         "yaxis": "y2"
        },
        {
         "marker": {
          "color": [
           0,
           1,
           2,
           3,
           5,
           6,
           7,
           8,
           10,
           11,
           12,
           13,
           14,
           15,
           16,
           17,
           18,
           19
          ],
          "colorbar": {
           "title": {
            "text": "Trial"
           },
           "x": 1,
           "xpad": 40
          },
          "colorscale": [
           [
            0,
            "rgb(247,251,255)"
           ],
           [
            0.125,
            "rgb(222,235,247)"
           ],
           [
            0.25,
            "rgb(198,219,239)"
           ],
           [
            0.375,
            "rgb(158,202,225)"
           ],
           [
            0.5,
            "rgb(107,174,214)"
           ],
           [
            0.625,
            "rgb(66,146,198)"
           ],
           [
            0.75,
            "rgb(33,113,181)"
           ],
           [
            0.875,
            "rgb(8,81,156)"
           ],
           [
            1,
            "rgb(8,48,107)"
           ]
          ],
          "line": {
           "color": "Grey",
           "width": 0.5
          },
          "showscale": false
         },
         "mode": "markers",
         "name": "Feasible Trial",
         "showlegend": false,
         "type": "scatter",
         "x": [
          false,
          false,
          false,
          true,
          true,
          false,
          false,
          true,
          true,
          true,
          true,
          true,
          true,
          true,
          true,
          true,
          true,
          true
         ],
         "xaxis": "x3",
         "y": [
          0.6840113812045326,
          0.6299361493769005,
          0.5609212185920923,
          0.7885092500475094,
          0.7795916754637263,
          0.6340413015108063,
          0.6675397979412031,
          0.787797988401072,
          0.7881973784582591,
          0.7881973784582591,
          0.7881973784582591,
          0.7885092500475094,
          0.7886922301105387,
          0.7684383378061606,
          0.7886922301105387,
          0.7382399329147299,
          0.787797988401072,
          0.7886922301105387
         ],
         "yaxis": "y3"
        },
        {
         "marker": {
          "color": [
           0,
           1,
           2,
           3,
           5,
           6,
           7,
           8,
           10,
           11,
           12,
           13,
           14,
           15,
           16,
           17,
           18,
           19
          ],
          "colorbar": {
           "title": {
            "text": "Trial"
           },
           "x": 1,
           "xpad": 40
          },
          "colorscale": [
           [
            0,
            "rgb(247,251,255)"
           ],
           [
            0.125,
            "rgb(222,235,247)"
           ],
           [
            0.25,
            "rgb(198,219,239)"
           ],
           [
            0.375,
            "rgb(158,202,225)"
           ],
           [
            0.5,
            "rgb(107,174,214)"
           ],
           [
            0.625,
            "rgb(66,146,198)"
           ],
           [
            0.75,
            "rgb(33,113,181)"
           ],
           [
            0.875,
            "rgb(8,81,156)"
           ],
           [
            1,
            "rgb(8,48,107)"
           ]
          ],
          "line": {
           "color": "Grey",
           "width": 0.5
          },
          "showscale": false
         },
         "mode": "markers",
         "name": "Feasible Trial",
         "showlegend": false,
         "type": "scatter",
         "x": [
          100,
          40,
          100,
          120,
          20,
          30,
          130,
          30,
          150,
          150,
          150,
          130,
          70,
          60,
          70,
          70,
          50,
          80
         ],
         "xaxis": "x4",
         "y": [
          0.6840113812045326,
          0.6299361493769005,
          0.5609212185920923,
          0.7885092500475094,
          0.7795916754637263,
          0.6340413015108063,
          0.6675397979412031,
          0.787797988401072,
          0.7881973784582591,
          0.7881973784582591,
          0.7881973784582591,
          0.7885092500475094,
          0.7886922301105387,
          0.7684383378061606,
          0.7886922301105387,
          0.7382399329147299,
          0.787797988401072,
          0.7886922301105387
         ],
         "yaxis": "y4"
        }
       ],
       "layout": {
        "template": {
         "data": {
          "bar": [
           {
            "error_x": {
             "color": "#2a3f5f"
            },
            "error_y": {
             "color": "#2a3f5f"
            },
            "marker": {
             "line": {
              "color": "#E5ECF6",
              "width": 0.5
             },
             "pattern": {
              "fillmode": "overlay",
              "size": 10,
              "solidity": 0.2
             }
            },
            "type": "bar"
           }
          ],
          "barpolar": [
           {
            "marker": {
             "line": {
              "color": "#E5ECF6",
              "width": 0.5
             },
             "pattern": {
              "fillmode": "overlay",
              "size": 10,
              "solidity": 0.2
             }
            },
            "type": "barpolar"
           }
          ],
          "carpet": [
           {
            "aaxis": {
             "endlinecolor": "#2a3f5f",
             "gridcolor": "white",
             "linecolor": "white",
             "minorgridcolor": "white",
             "startlinecolor": "#2a3f5f"
            },
            "baxis": {
             "endlinecolor": "#2a3f5f",
             "gridcolor": "white",
             "linecolor": "white",
             "minorgridcolor": "white",
             "startlinecolor": "#2a3f5f"
            },
            "type": "carpet"
           }
          ],
          "choropleth": [
           {
            "colorbar": {
             "outlinewidth": 0,
             "ticks": ""
            },
            "type": "choropleth"
           }
          ],
          "contour": [
           {
            "colorbar": {
             "outlinewidth": 0,
             "ticks": ""
            },
            "colorscale": [
             [
              0,
              "#0d0887"
             ],
             [
              0.1111111111111111,
              "#46039f"
             ],
             [
              0.2222222222222222,
              "#7201a8"
             ],
             [
              0.3333333333333333,
              "#9c179e"
             ],
             [
              0.4444444444444444,
              "#bd3786"
             ],
             [
              0.5555555555555556,
              "#d8576b"
             ],
             [
              0.6666666666666666,
              "#ed7953"
             ],
             [
              0.7777777777777778,
              "#fb9f3a"
             ],
             [
              0.8888888888888888,
              "#fdca26"
             ],
             [
              1,
              "#f0f921"
             ]
            ],
            "type": "contour"
           }
          ],
          "contourcarpet": [
           {
            "colorbar": {
             "outlinewidth": 0,
             "ticks": ""
            },
            "type": "contourcarpet"
           }
          ],
          "heatmap": [
           {
            "colorbar": {
             "outlinewidth": 0,
             "ticks": ""
            },
            "colorscale": [
             [
              0,
              "#0d0887"
             ],
             [
              0.1111111111111111,
              "#46039f"
             ],
             [
              0.2222222222222222,
              "#7201a8"
             ],
             [
              0.3333333333333333,
              "#9c179e"
             ],
             [
              0.4444444444444444,
              "#bd3786"
             ],
             [
              0.5555555555555556,
              "#d8576b"
             ],
             [
              0.6666666666666666,
              "#ed7953"
             ],
             [
              0.7777777777777778,
              "#fb9f3a"
             ],
             [
              0.8888888888888888,
              "#fdca26"
             ],
             [
              1,
              "#f0f921"
             ]
            ],
            "type": "heatmap"
           }
          ],
          "heatmapgl": [
           {
            "colorbar": {
             "outlinewidth": 0,
             "ticks": ""
            },
            "colorscale": [
             [
              0,
              "#0d0887"
             ],
             [
              0.1111111111111111,
              "#46039f"
             ],
             [
              0.2222222222222222,
              "#7201a8"
             ],
             [
              0.3333333333333333,
              "#9c179e"
             ],
             [
              0.4444444444444444,
              "#bd3786"
             ],
             [
              0.5555555555555556,
              "#d8576b"
             ],
             [
              0.6666666666666666,
              "#ed7953"
             ],
             [
              0.7777777777777778,
              "#fb9f3a"
             ],
             [
              0.8888888888888888,
              "#fdca26"
             ],
             [
              1,
              "#f0f921"
             ]
            ],
            "type": "heatmapgl"
           }
          ],
          "histogram": [
           {
            "marker": {
             "pattern": {
              "fillmode": "overlay",
              "size": 10,
              "solidity": 0.2
             }
            },
            "type": "histogram"
           }
          ],
          "histogram2d": [
           {
            "colorbar": {
             "outlinewidth": 0,
             "ticks": ""
            },
            "colorscale": [
             [
              0,
              "#0d0887"
             ],
             [
              0.1111111111111111,
              "#46039f"
             ],
             [
              0.2222222222222222,
              "#7201a8"
             ],
             [
              0.3333333333333333,
              "#9c179e"
             ],
             [
              0.4444444444444444,
              "#bd3786"
             ],
             [
              0.5555555555555556,
              "#d8576b"
             ],
             [
              0.6666666666666666,
              "#ed7953"
             ],
             [
              0.7777777777777778,
              "#fb9f3a"
             ],
             [
              0.8888888888888888,
              "#fdca26"
             ],
             [
              1,
              "#f0f921"
             ]
            ],
            "type": "histogram2d"
           }
          ],
          "histogram2dcontour": [
           {
            "colorbar": {
             "outlinewidth": 0,
             "ticks": ""
            },
            "colorscale": [
             [
              0,
              "#0d0887"
             ],
             [
              0.1111111111111111,
              "#46039f"
             ],
             [
              0.2222222222222222,
              "#7201a8"
             ],
             [
              0.3333333333333333,
              "#9c179e"
             ],
             [
              0.4444444444444444,
              "#bd3786"
             ],
             [
              0.5555555555555556,
              "#d8576b"
             ],
             [
              0.6666666666666666,
              "#ed7953"
             ],
             [
              0.7777777777777778,
              "#fb9f3a"
             ],
             [
              0.8888888888888888,
              "#fdca26"
             ],
             [
              1,
              "#f0f921"
             ]
            ],
            "type": "histogram2dcontour"
           }
          ],
          "mesh3d": [
           {
            "colorbar": {
             "outlinewidth": 0,
             "ticks": ""
            },
            "type": "mesh3d"
           }
          ],
          "parcoords": [
           {
            "line": {
             "colorbar": {
              "outlinewidth": 0,
              "ticks": ""
             }
            },
            "type": "parcoords"
           }
          ],
          "pie": [
           {
            "automargin": true,
            "type": "pie"
           }
          ],
          "scatter": [
           {
            "fillpattern": {
             "fillmode": "overlay",
             "size": 10,
             "solidity": 0.2
            },
            "type": "scatter"
           }
          ],
          "scatter3d": [
           {
            "line": {
             "colorbar": {
              "outlinewidth": 0,
              "ticks": ""
             }
            },
            "marker": {
             "colorbar": {
              "outlinewidth": 0,
              "ticks": ""
             }
            },
            "type": "scatter3d"
           }
          ],
          "scattercarpet": [
           {
            "marker": {
             "colorbar": {
              "outlinewidth": 0,
              "ticks": ""
             }
            },
            "type": "scattercarpet"
           }
          ],
          "scattergeo": [
           {
            "marker": {
             "colorbar": {
              "outlinewidth": 0,
              "ticks": ""
             }
            },
            "type": "scattergeo"
           }
          ],
          "scattergl": [
           {
            "marker": {
             "colorbar": {
              "outlinewidth": 0,
              "ticks": ""
             }
            },
            "type": "scattergl"
           }
          ],
          "scattermapbox": [
           {
            "marker": {
             "colorbar": {
              "outlinewidth": 0,
              "ticks": ""
             }
            },
            "type": "scattermapbox"
           }
          ],
          "scatterpolar": [
           {
            "marker": {
             "colorbar": {
              "outlinewidth": 0,
              "ticks": ""
             }
            },
            "type": "scatterpolar"
           }
          ],
          "scatterpolargl": [
           {
            "marker": {
             "colorbar": {
              "outlinewidth": 0,
              "ticks": ""
             }
            },
            "type": "scatterpolargl"
           }
          ],
          "scatterternary": [
           {
            "marker": {
             "colorbar": {
              "outlinewidth": 0,
              "ticks": ""
             }
            },
            "type": "scatterternary"
           }
          ],
          "surface": [
           {
            "colorbar": {
             "outlinewidth": 0,
             "ticks": ""
            },
            "colorscale": [
             [
              0,
              "#0d0887"
             ],
             [
              0.1111111111111111,
              "#46039f"
             ],
             [
              0.2222222222222222,
              "#7201a8"
             ],
             [
              0.3333333333333333,
              "#9c179e"
             ],
             [
              0.4444444444444444,
              "#bd3786"
             ],
             [
              0.5555555555555556,
              "#d8576b"
             ],
             [
              0.6666666666666666,
              "#ed7953"
             ],
             [
              0.7777777777777778,
              "#fb9f3a"
             ],
             [
              0.8888888888888888,
              "#fdca26"
             ],
             [
              1,
              "#f0f921"
             ]
            ],
            "type": "surface"
           }
          ],
          "table": [
           {
            "cells": {
             "fill": {
              "color": "#EBF0F8"
             },
             "line": {
              "color": "white"
             }
            },
            "header": {
             "fill": {
              "color": "#C8D4E3"
             },
             "line": {
              "color": "white"
             }
            },
            "type": "table"
           }
          ]
         },
         "layout": {
          "annotationdefaults": {
           "arrowcolor": "#2a3f5f",
           "arrowhead": 0,
           "arrowwidth": 1
          },
          "autotypenumbers": "strict",
          "coloraxis": {
           "colorbar": {
            "outlinewidth": 0,
            "ticks": ""
           }
          },
          "colorscale": {
           "diverging": [
            [
             0,
             "#8e0152"
            ],
            [
             0.1,
             "#c51b7d"
            ],
            [
             0.2,
             "#de77ae"
            ],
            [
             0.3,
             "#f1b6da"
            ],
            [
             0.4,
             "#fde0ef"
            ],
            [
             0.5,
             "#f7f7f7"
            ],
            [
             0.6,
             "#e6f5d0"
            ],
            [
             0.7,
             "#b8e186"
            ],
            [
             0.8,
             "#7fbc41"
            ],
            [
             0.9,
             "#4d9221"
            ],
            [
             1,
             "#276419"
            ]
           ],
           "sequential": [
            [
             0,
             "#0d0887"
            ],
            [
             0.1111111111111111,
             "#46039f"
            ],
            [
             0.2222222222222222,
             "#7201a8"
            ],
            [
             0.3333333333333333,
             "#9c179e"
            ],
            [
             0.4444444444444444,
             "#bd3786"
            ],
            [
             0.5555555555555556,
             "#d8576b"
            ],
            [
             0.6666666666666666,
             "#ed7953"
            ],
            [
             0.7777777777777778,
             "#fb9f3a"
            ],
            [
             0.8888888888888888,
             "#fdca26"
            ],
            [
             1,
             "#f0f921"
            ]
           ],
           "sequentialminus": [
            [
             0,
             "#0d0887"
            ],
            [
             0.1111111111111111,
             "#46039f"
            ],
            [
             0.2222222222222222,
             "#7201a8"
            ],
            [
             0.3333333333333333,
             "#9c179e"
            ],
            [
             0.4444444444444444,
             "#bd3786"
            ],
            [
             0.5555555555555556,
             "#d8576b"
            ],
            [
             0.6666666666666666,
             "#ed7953"
            ],
            [
             0.7777777777777778,
             "#fb9f3a"
            ],
            [
             0.8888888888888888,
             "#fdca26"
            ],
            [
             1,
             "#f0f921"
            ]
           ]
          },
          "colorway": [
           "#636efa",
           "#EF553B",
           "#00cc96",
           "#ab63fa",
           "#FFA15A",
           "#19d3f3",
           "#FF6692",
           "#B6E880",
           "#FF97FF",
           "#FECB52"
          ],
          "font": {
           "color": "#2a3f5f"
          },
          "geo": {
           "bgcolor": "white",
           "lakecolor": "white",
           "landcolor": "#E5ECF6",
           "showlakes": true,
           "showland": true,
           "subunitcolor": "white"
          },
          "hoverlabel": {
           "align": "left"
          },
          "hovermode": "closest",
          "mapbox": {
           "style": "light"
          },
          "paper_bgcolor": "white",
          "plot_bgcolor": "#E5ECF6",
          "polar": {
           "angularaxis": {
            "gridcolor": "white",
            "linecolor": "white",
            "ticks": ""
           },
           "bgcolor": "#E5ECF6",
           "radialaxis": {
            "gridcolor": "white",
            "linecolor": "white",
            "ticks": ""
           }
          },
          "scene": {
           "xaxis": {
            "backgroundcolor": "#E5ECF6",
            "gridcolor": "white",
            "gridwidth": 2,
            "linecolor": "white",
            "showbackground": true,
            "ticks": "",
            "zerolinecolor": "white"
           },
           "yaxis": {
            "backgroundcolor": "#E5ECF6",
            "gridcolor": "white",
            "gridwidth": 2,
            "linecolor": "white",
            "showbackground": true,
            "ticks": "",
            "zerolinecolor": "white"
           },
           "zaxis": {
            "backgroundcolor": "#E5ECF6",
            "gridcolor": "white",
            "gridwidth": 2,
            "linecolor": "white",
            "showbackground": true,
            "ticks": "",
            "zerolinecolor": "white"
           }
          },
          "shapedefaults": {
           "line": {
            "color": "#2a3f5f"
           }
          },
          "ternary": {
           "aaxis": {
            "gridcolor": "white",
            "linecolor": "white",
            "ticks": ""
           },
           "baxis": {
            "gridcolor": "white",
            "linecolor": "white",
            "ticks": ""
           },
           "bgcolor": "#E5ECF6",
           "caxis": {
            "gridcolor": "white",
            "linecolor": "white",
            "ticks": ""
           }
          },
          "title": {
           "x": 0.05
          },
          "xaxis": {
           "automargin": true,
           "gridcolor": "white",
           "linecolor": "white",
           "ticks": "",
           "title": {
            "standoff": 15
           },
           "zerolinecolor": "white",
           "zerolinewidth": 2
          },
          "yaxis": {
           "automargin": true,
           "gridcolor": "white",
           "linecolor": "white",
           "ticks": "",
           "title": {
            "standoff": 15
           },
           "zerolinecolor": "white",
           "zerolinewidth": 2
          }
         }
        },
        "title": {
         "text": "Slice Plot"
        },
        "width": 1200,
        "xaxis": {
         "anchor": "y",
         "domain": [
          0,
          0.2125
         ],
         "title": {
          "text": "bandwidth"
         }
        },
        "xaxis2": {
         "anchor": "y2",
         "categoryarray": [
          true,
          false
         ],
         "categoryorder": "array",
         "domain": [
          0.2625,
          0.475
         ],
         "title": {
          "text": "bin_seeding"
         },
         "type": "category"
        },
        "xaxis3": {
         "anchor": "y3",
         "categoryarray": [
          true,
          false
         ],
         "categoryorder": "array",
         "domain": [
          0.525,
          0.7375
         ],
         "title": {
          "text": "cluster_all"
         },
         "type": "category"
        },
        "xaxis4": {
         "anchor": "y4",
         "domain": [
          0.7875,
          1
         ],
         "title": {
          "text": "min_bin_freq"
         }
        },
        "yaxis": {
         "anchor": "x",
         "domain": [
          0,
          1
         ],
         "title": {
          "text": "Objective Value"
         }
        },
        "yaxis2": {
         "anchor": "x2",
         "domain": [
          0,
          1
         ],
         "matches": "y",
         "showticklabels": false
        },
        "yaxis3": {
         "anchor": "x3",
         "domain": [
          0,
          1
         ],
         "matches": "y",
         "showticklabels": false
        },
        "yaxis4": {
         "anchor": "x4",
         "domain": [
          0,
          1
         ],
         "matches": "y",
         "showticklabels": false
        }
       }
      }
     },
     "metadata": {},
     "output_type": "display_data"
    }
   ],
   "source": [
    "optuna.visualization.plot_slice(study_meanshift)"
   ]
  },
  {
   "cell_type": "markdown",
   "metadata": {},
   "source": [
    "### Exportações das Bases com Clusters"
   ]
  },
  {
   "cell_type": "code",
   "execution_count": 198,
   "metadata": {},
   "outputs": [],
   "source": [
    "df_kmeans.to_excel('..\\dados\\df_kmeans.xlsx', index=False)\n",
    "df_dbscan.to_excel('..\\dados\\df_dbscan.xlsx', index=False)\n",
    "df_agglomerative.to_excel('..\\dados\\df_agglomerative.xlsx', index=False)\n",
    "df_meanshift.to_excel('..\\dados\\df_meanshift.xlsx', index=False)\n"
   ]
  }
 ],
 "metadata": {
  "kernelspec": {
   "display_name": "Python 3",
   "language": "python",
   "name": "python3"
  },
  "language_info": {
   "codemirror_mode": {
    "name": "ipython",
    "version": 3
   },
   "file_extension": ".py",
   "mimetype": "text/x-python",
   "name": "python",
   "nbconvert_exporter": "python",
   "pygments_lexer": "ipython3",
   "version": "3.11.5"
  }
 },
 "nbformat": 4,
 "nbformat_minor": 2
}
